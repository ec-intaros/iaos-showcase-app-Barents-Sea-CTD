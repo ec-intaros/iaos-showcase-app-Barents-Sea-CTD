{
 "cells": [
  {
   "cell_type": "markdown",
   "metadata": {},
   "source": [
    "INTAROS - IMR Dataset - Estimation workflow\n",
    "========================\n",
    "\n",
    "**authors**: D. Renard, F. Ors\n",
    "\n",
    "**date**: January 22nd 2019\n",
    "\n",
    "# Introduction\n",
    "\n",
    "This paper is meant to demonstrate how to implement an unitary workflow by (i) downloading data from IMR OpenDAP server and (ii) estimate the Temperature variable using **RGeostats** package. The different paths must be adapted according the system which is running this script.\n",
    "\n",
    "# Download data and create a CSV file\n",
    "\n",
    "First of all, we define the filtering parameters and then we launch the **download_data.py** Python command."
   ]
  },
  {
   "cell_type": "code",
   "execution_count": null,
   "metadata": {
    "attributes": {
     "": "",
     "classes": [],
     "id": ""
    }
   },
   "outputs": [],
   "source": [
    "# Paths to resources\n",
    "csv_file = file.path(getwd(),\"data/data.csv\")\n",
    "python = \"/opt/anaconda/bin/python\"\n",
    "pydown = file.path(getwd(),\"lib\",\"download_data.py\")\n",
    "\n",
    "# Filtering parameters\n",
    "date_lim = c(\"2001/04/01\",\"2001/06/30\")\n",
    "long_lim = c(-2,10)\n",
    "lat_lim = c(57,63)\n",
    "depth_lim = c(18,22)\n",
    "\n",
    "# Build Python command\n",
    "downcmd = paste(python, pydown,\n",
    "                \"--data_file\", csv_file,\n",
    "                \"--long_lim\",  paste(long_lim,  collapse=\" \"),\n",
    "                \"--lat_lim\",   paste(lat_lim,   collapse=\" \"),\n",
    "                \"--depth_lim\", paste(depth_lim, collapse=\" \"),\n",
    "                \"--date_lim\",  paste(date_lim,  collapse=\" \"),\n",
    "                \"--verbose 1 --show_time 0\",\n",
    "                sep=\" \")\n",
    "\n",
    "# Download filtered data and create CSV file\n",
    "cat(paste(\"Executing:\",downcmd,\"\\n\",sep=\" \"))\n",
    "output = system(downcmd)\n",
    "cat(\"Command output:<\",output,\">\\n\")"
   ]
  },
  {
   "cell_type": "markdown",
   "metadata": {},
   "source": [
    "# Estimate the Temperature variable from downloaded data\n",
    "\n",
    "Then estimate the Temperature variable by calling the **estimate.R** R script."
   ]
  },
  {
   "cell_type": "code",
   "execution_count": null,
   "metadata": {
    "attributes": {
     "": "",
     "classes": [],
     "id": ""
    }
   },
   "outputs": [],
   "source": [
    "# Path to resources\n",
    "csv_file = file.path(getwd(),\"data/data.csv\")\n",
    "restimate = file.path(getwd(),\"lib\",\"estimate.R\")\n",
    "\n",
    "# Additional Estimation parameters\n",
    "var = \"Temperature\"\n",
    "var_lim = c(1,10)\n",
    "mesh = 0.1\n",
    "vario_lag = 0.1\n",
    "vario_nlag = 20\n",
    "struct = c(1,3,12)\n",
    "\n",
    "# Override commandArgs function for sourcing the estimate.R script\n",
    "commandArgs <- function(...)\n",
    "{\n",
    "    c(csv_file,\n",
    "      paste(date_lim,  collapse=\",\"),\n",
    "      paste(long_lim,  collapse=\",\"),\n",
    "      paste(lat_lim,   collapse=\",\"),\n",
    "      paste(depth_lim, collapse=\",\"),\n",
    "      var,\n",
    "      paste(var_lim,   collapse=\",\"),\n",
    "      mesh,\n",
    "      vario_lag,\n",
    "      vario_nlag,\n",
    "      paste(struct,    collapse=\",\"))\n",
    "}\n",
    "\n",
    "# Estimate\n",
    "source(restimate)"
   ]
  }
 ],
 "metadata": {
  "kernelspec": {
   "display_name": "R",
   "language": "R",
   "name": "ir"
  },
  "language_info": {
   "codemirror_mode": "r",
   "file_extension": ".r",
   "mimetype": "text/x-r-source",
   "name": "R",
   "pygments_lexer": "r",
   "version": "3.3.2"
  }
 },
 "nbformat": 4,
 "nbformat_minor": 2
}
