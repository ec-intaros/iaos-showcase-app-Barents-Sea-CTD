{
 "cells": [
  {
   "cell_type": "markdown",
   "metadata": {},
   "source": [
    "# Barrents sea - CTD data processing\n",
    "\n",
    "## Introduction\n",
    "This Notebook provides guidance and support for data processing of CTD data, in particular by making use of the Geostatistical Library (RIntaros / RGeostats) for the modelisation of geostatistical relationships between variables, and to interpolate gridded data maps out of irregular CTD point measurements.\n",
    "\n",
    "The CTD data access point is configured for the OPeNDAP Hyrax server hosted at NODC: \n",
    "http://opendap1.nodc.no/opendap/physics/point/yearly/contents.html \n",
    "\n",
    "Note: for this server, the **.nc4** extension from the data access URLs is not supported.\n",
    "\n",
    "The multi-year selection for CTD campaigns at sea is supported via the **year** parameter in the *fetch_data(url, year)* function in *helpers.py*, and consequently all the *fetch_data(url, year)* function calls within the Notebook. \n",
    "\n",
    "Citation: refer to the EC INTAROS project (https://cordis.europa.eu/project/id/727890)."
   ]
  },
  {
   "cell_type": "markdown",
   "metadata": {},
   "source": [
    "# Exploratory Data Analysis"
   ]
  },
  {
   "cell_type": "code",
   "execution_count": 1,
   "metadata": {},
   "outputs": [],
   "source": [
    "# Import modules\n",
    "import pandas as pd\n",
    "import numpy as np\n",
    "import matplotlib.pyplot as plt\n",
    "import pprint\n",
    "import xarray as xr\n",
    "import os\n",
    "\n",
    "from helpers import *"
   ]
  },
  {
   "cell_type": "markdown",
   "metadata": {},
   "source": [
    "## Set-up"
   ]
  },
  {
   "cell_type": "markdown",
   "metadata": {},
   "source": [
    "### Server URL"
   ]
  },
  {
   "cell_type": "code",
   "execution_count": 2,
   "metadata": {},
   "outputs": [],
   "source": [
    "# Define URLs of servers  \n",
    "nodc_url = 'http://opendap1.nodc.no/opendap/physics/point/yearly/' # on NODC server\n",
    "\n",
    "server_url = nodc_url"
   ]
  },
  {
   "cell_type": "markdown",
   "metadata": {},
   "source": [
    "### Define Year and Platform Codes \n",
    "The information on **year** and **platforms** available on the server (the individual NetCDF files) must be known a priori "
   ]
  },
  {
   "cell_type": "code",
   "execution_count": 3,
   "metadata": {},
   "outputs": [],
   "source": [
    "year = 2003 # Define year of interest\n",
    "platform_codes = ['AA', 'GS', 'GT', 'HJ', 'JH'] # Define codes of platforms of interest"
   ]
  },
  {
   "cell_type": "markdown",
   "metadata": {},
   "source": [
    "## Retrieval of DDS info\n",
    "Access data using the dds info, to retrieve the dimensions of the data for each dimensions: 'TIME', 'LATITUDE', 'LONGITUDE', 'DEPTH', 'POSITION'"
   ]
  },
  {
   "cell_type": "code",
   "execution_count": 4,
   "metadata": {},
   "outputs": [
    {
     "name": "stdout",
     "output_type": "stream",
     "text": [
      "TIME: {'AA': 683, 'GS': 404, 'GT': 990, 'HJ': 178, 'JH': 949}\n",
      "DEPTH: {'AA': 2809, 'GS': 3683, 'GT': 2956, 'HJ': 789, 'JH': 3763}\n"
     ]
    }
   ],
   "source": [
    "# Get dds info, and assign max dimensions to TIME and DEPTH\n",
    "pc_dim_dict = {}\n",
    "time_stop_dict = {}\n",
    "depth_stop_dict = {}\n",
    "\n",
    "for pc in platform_codes:\n",
    "    \n",
    "    dds = f'{server_url}/58{pc}_CTD_{year}.nc.dds'\n",
    "        \n",
    "    pc_dim_dict[pc] = retrieveDDSinfo(dds)\n",
    "    \n",
    "    time_stop_dict[pc] = pc_dim_dict[pc]['TIME']\n",
    "    depth_stop_dict[pc] = pc_dim_dict[pc]['DEPTH']\n",
    "\n",
    "#pprint.pprint(pc_dim_dict)\n",
    "print('TIME:', time_stop_dict)\n",
    "print('DEPTH:', depth_stop_dict)"
   ]
  },
  {
   "cell_type": "markdown",
   "metadata": {},
   "source": [
    "## Visual Analysis: Load and Plot Positions only\n",
    "The objective of this section is to visualise the geograhical positions of the data for each platform, and to perform some filtering operations based on locations and time queries. This is possible using only the necessary information retrieved from the DDS. The key dimensions that are used for the position analysis are: 'TIME', 'LATITUDE', 'LONGITUDE'. "
   ]
  },
  {
   "cell_type": "markdown",
   "metadata": {},
   "source": [
    "### Create Position_Dict"
   ]
  },
  {
   "cell_type": "code",
   "execution_count": 5,
   "metadata": {},
   "outputs": [
    {
     "name": "stdout",
     "output_type": "stream",
     "text": [
      "Platform: AA. URL with Queries: http://opendap1.nodc.no/opendap/physics/point/yearly/58AA_CTD_2003.nc?TIME[0:1:683],LATITUDE[0:1:683],LONGITUDE[0:1:683]\n",
      "Platform: GS. URL with Queries: http://opendap1.nodc.no/opendap/physics/point/yearly/58GS_CTD_2003.nc?TIME[0:1:404],LATITUDE[0:1:404],LONGITUDE[0:1:404]\n",
      "Platform: GT. URL with Queries: http://opendap1.nodc.no/opendap/physics/point/yearly/58GT_CTD_2003.nc?TIME[0:1:990],LATITUDE[0:1:990],LONGITUDE[0:1:990]\n",
      "Platform: HJ. URL with Queries: http://opendap1.nodc.no/opendap/physics/point/yearly/58HJ_CTD_2003.nc?TIME[0:1:178],LATITUDE[0:1:178],LONGITUDE[0:1:178]\n",
      "Platform: JH. URL with Queries: http://opendap1.nodc.no/opendap/physics/point/yearly/58JH_CTD_2003.nc?TIME[0:1:949],LATITUDE[0:1:949],LONGITUDE[0:1:949]\n"
     ]
    }
   ],
   "source": [
    "position_dict = {}\n",
    "\n",
    "for pc in platform_codes:\n",
    "    \n",
    "    coords_str = getQueryString(pc_dim_dict[pc], keylist = ['TIME', 'LATITUDE', 'LONGITUDE']) # list the coordinates you want\n",
    "#     coords_str = 'LONGITUDE[0:1:683]'\n",
    "#     coords_str = ''\n",
    "    \n",
    "    fix_lab = f'58{pc}_CTD_{year}' # label to use for this campaign\n",
    "    \n",
    "    url = f'{server_url}{fix_lab}.nc?{coords_str}'; print(f'Platform: {pc}. URL with Queries:', url)\n",
    "    \n",
    "    remote_data, data_attr = fetch_data(url, year)\n",
    "    \n",
    "    position_dict[pc] = {'data': remote_data, \n",
    "                         'data_attr': data_attr}\n",
    "    \n",
    "#     print(f'{data_attr}\\n')\n",
    "    \n",
    "# display(position_dict)\n",
    "\n",
    "# print(pc_dim_dict)"
   ]
  },
  {
   "cell_type": "markdown",
   "metadata": {},
   "source": [
    "### Match and merge LAT, LONG and TIME of positions in a *position_df* dataframe\n",
    "Generate a pandas dataframe (*lonlat_df*) to store all locations (**Longitude** and **Latitude**) and respective **Time** for all platforms. "
   ]
  },
  {
   "cell_type": "code",
   "execution_count": 6,
   "metadata": {},
   "outputs": [
    {
     "name": "stdout",
     "output_type": "stream",
     "text": [
      "Platform AA: 684 measurement locations.\n"
     ]
    },
    {
     "data": {
      "text/html": [
       "<div>\n",
       "<style scoped>\n",
       "    .dataframe tbody tr th:only-of-type {\n",
       "        vertical-align: middle;\n",
       "    }\n",
       "\n",
       "    .dataframe tbody tr th {\n",
       "        vertical-align: top;\n",
       "    }\n",
       "\n",
       "    .dataframe thead th {\n",
       "        text-align: right;\n",
       "    }\n",
       "</style>\n",
       "<table border=\"1\" class=\"dataframe\">\n",
       "  <thead>\n",
       "    <tr style=\"text-align: right;\">\n",
       "      <th></th>\n",
       "      <th>Longitude</th>\n",
       "      <th>Latitude</th>\n",
       "      <th>Time</th>\n",
       "      <th>Platform</th>\n",
       "    </tr>\n",
       "  </thead>\n",
       "  <tbody>\n",
       "    <tr>\n",
       "      <th>679</th>\n",
       "      <td>9.7812</td>\n",
       "      <td>63.622799</td>\n",
       "      <td>2003-12-07 19:14:05</td>\n",
       "      <td>AA</td>\n",
       "    </tr>\n",
       "    <tr>\n",
       "      <th>680</th>\n",
       "      <td>11.1663</td>\n",
       "      <td>63.758301</td>\n",
       "      <td>2003-12-08 07:20:41</td>\n",
       "      <td>AA</td>\n",
       "    </tr>\n",
       "    <tr>\n",
       "      <th>681</th>\n",
       "      <td>10.3622</td>\n",
       "      <td>63.530300</td>\n",
       "      <td>2003-12-08 17:45:03</td>\n",
       "      <td>AA</td>\n",
       "    </tr>\n",
       "    <tr>\n",
       "      <th>682</th>\n",
       "      <td>10.9007</td>\n",
       "      <td>63.587700</td>\n",
       "      <td>2003-12-08 21:12:53</td>\n",
       "      <td>AA</td>\n",
       "    </tr>\n",
       "    <tr>\n",
       "      <th>683</th>\n",
       "      <td>11.0433</td>\n",
       "      <td>63.917198</td>\n",
       "      <td>2003-12-09 06:15:53</td>\n",
       "      <td>AA</td>\n",
       "    </tr>\n",
       "  </tbody>\n",
       "</table>\n",
       "</div>"
      ],
      "text/plain": [
       "     Longitude   Latitude                Time Platform\n",
       "679     9.7812  63.622799 2003-12-07 19:14:05       AA\n",
       "680    11.1663  63.758301 2003-12-08 07:20:41       AA\n",
       "681    10.3622  63.530300 2003-12-08 17:45:03       AA\n",
       "682    10.9007  63.587700 2003-12-08 21:12:53       AA\n",
       "683    11.0433  63.917198 2003-12-09 06:15:53       AA"
      ]
     },
     "metadata": {},
     "output_type": "display_data"
    },
    {
     "name": "stdout",
     "output_type": "stream",
     "text": [
      "Platform GS: 405 measurement locations.\n"
     ]
    },
    {
     "data": {
      "text/html": [
       "<div>\n",
       "<style scoped>\n",
       "    .dataframe tbody tr th:only-of-type {\n",
       "        vertical-align: middle;\n",
       "    }\n",
       "\n",
       "    .dataframe tbody tr th {\n",
       "        vertical-align: top;\n",
       "    }\n",
       "\n",
       "    .dataframe thead th {\n",
       "        text-align: right;\n",
       "    }\n",
       "</style>\n",
       "<table border=\"1\" class=\"dataframe\">\n",
       "  <thead>\n",
       "    <tr style=\"text-align: right;\">\n",
       "      <th></th>\n",
       "      <th>Longitude</th>\n",
       "      <th>Latitude</th>\n",
       "      <th>Time</th>\n",
       "      <th>Platform</th>\n",
       "    </tr>\n",
       "  </thead>\n",
       "  <tbody>\n",
       "    <tr>\n",
       "      <th>400</th>\n",
       "      <td>15.846300</td>\n",
       "      <td>68.271698</td>\n",
       "      <td>2003-12-12 11:53:50</td>\n",
       "      <td>GS</td>\n",
       "    </tr>\n",
       "    <tr>\n",
       "      <th>401</th>\n",
       "      <td>16.090700</td>\n",
       "      <td>68.362701</td>\n",
       "      <td>2003-12-12 15:59:43</td>\n",
       "      <td>GS</td>\n",
       "    </tr>\n",
       "    <tr>\n",
       "      <th>402</th>\n",
       "      <td>16.091000</td>\n",
       "      <td>68.368500</td>\n",
       "      <td>2003-12-12 16:25:28</td>\n",
       "      <td>GS</td>\n",
       "    </tr>\n",
       "    <tr>\n",
       "      <th>403</th>\n",
       "      <td>16.091999</td>\n",
       "      <td>68.376198</td>\n",
       "      <td>2003-12-12 16:56:06</td>\n",
       "      <td>GS</td>\n",
       "    </tr>\n",
       "    <tr>\n",
       "      <th>404</th>\n",
       "      <td>16.092300</td>\n",
       "      <td>68.384697</td>\n",
       "      <td>2003-12-12 17:34:18</td>\n",
       "      <td>GS</td>\n",
       "    </tr>\n",
       "  </tbody>\n",
       "</table>\n",
       "</div>"
      ],
      "text/plain": [
       "     Longitude   Latitude                Time Platform\n",
       "400  15.846300  68.271698 2003-12-12 11:53:50       GS\n",
       "401  16.090700  68.362701 2003-12-12 15:59:43       GS\n",
       "402  16.091000  68.368500 2003-12-12 16:25:28       GS\n",
       "403  16.091999  68.376198 2003-12-12 16:56:06       GS\n",
       "404  16.092300  68.384697 2003-12-12 17:34:18       GS"
      ]
     },
     "metadata": {},
     "output_type": "display_data"
    },
    {
     "name": "stdout",
     "output_type": "stream",
     "text": [
      "Platform GT: 991 measurement locations.\n"
     ]
    },
    {
     "data": {
      "text/html": [
       "<div>\n",
       "<style scoped>\n",
       "    .dataframe tbody tr th:only-of-type {\n",
       "        vertical-align: middle;\n",
       "    }\n",
       "\n",
       "    .dataframe tbody tr th {\n",
       "        vertical-align: top;\n",
       "    }\n",
       "\n",
       "    .dataframe thead th {\n",
       "        text-align: right;\n",
       "    }\n",
       "</style>\n",
       "<table border=\"1\" class=\"dataframe\">\n",
       "  <thead>\n",
       "    <tr style=\"text-align: right;\">\n",
       "      <th></th>\n",
       "      <th>Longitude</th>\n",
       "      <th>Latitude</th>\n",
       "      <th>Time</th>\n",
       "      <th>Platform</th>\n",
       "    </tr>\n",
       "  </thead>\n",
       "  <tbody>\n",
       "    <tr>\n",
       "      <th>986</th>\n",
       "      <td>0.5003</td>\n",
       "      <td>57.240501</td>\n",
       "      <td>2003-10-03 22:24:21</td>\n",
       "      <td>GT</td>\n",
       "    </tr>\n",
       "    <tr>\n",
       "      <th>987</th>\n",
       "      <td>0.4992</td>\n",
       "      <td>56.780300</td>\n",
       "      <td>2003-10-04 02:38:20</td>\n",
       "      <td>GT</td>\n",
       "    </tr>\n",
       "    <tr>\n",
       "      <th>988</th>\n",
       "      <td>-0.3618</td>\n",
       "      <td>56.744801</td>\n",
       "      <td>2003-10-04 10:01:20</td>\n",
       "      <td>GT</td>\n",
       "    </tr>\n",
       "    <tr>\n",
       "      <th>989</th>\n",
       "      <td>-0.5513</td>\n",
       "      <td>57.132500</td>\n",
       "      <td>2003-10-04 20:41:28</td>\n",
       "      <td>GT</td>\n",
       "    </tr>\n",
       "    <tr>\n",
       "      <th>990</th>\n",
       "      <td>-0.5153</td>\n",
       "      <td>57.690300</td>\n",
       "      <td>2003-10-05 02:31:28</td>\n",
       "      <td>GT</td>\n",
       "    </tr>\n",
       "  </tbody>\n",
       "</table>\n",
       "</div>"
      ],
      "text/plain": [
       "     Longitude   Latitude                Time Platform\n",
       "986     0.5003  57.240501 2003-10-03 22:24:21       GT\n",
       "987     0.4992  56.780300 2003-10-04 02:38:20       GT\n",
       "988    -0.3618  56.744801 2003-10-04 10:01:20       GT\n",
       "989    -0.5513  57.132500 2003-10-04 20:41:28       GT\n",
       "990    -0.5153  57.690300 2003-10-05 02:31:28       GT"
      ]
     },
     "metadata": {},
     "output_type": "display_data"
    },
    {
     "name": "stdout",
     "output_type": "stream",
     "text": [
      "Platform HJ: 179 measurement locations.\n"
     ]
    },
    {
     "data": {
      "text/html": [
       "<div>\n",
       "<style scoped>\n",
       "    .dataframe tbody tr th:only-of-type {\n",
       "        vertical-align: middle;\n",
       "    }\n",
       "\n",
       "    .dataframe tbody tr th {\n",
       "        vertical-align: top;\n",
       "    }\n",
       "\n",
       "    .dataframe thead th {\n",
       "        text-align: right;\n",
       "    }\n",
       "</style>\n",
       "<table border=\"1\" class=\"dataframe\">\n",
       "  <thead>\n",
       "    <tr style=\"text-align: right;\">\n",
       "      <th></th>\n",
       "      <th>Longitude</th>\n",
       "      <th>Latitude</th>\n",
       "      <th>Time</th>\n",
       "      <th>Platform</th>\n",
       "    </tr>\n",
       "  </thead>\n",
       "  <tbody>\n",
       "    <tr>\n",
       "      <th>174</th>\n",
       "      <td>12.2738</td>\n",
       "      <td>67.741798</td>\n",
       "      <td>2003-11-13 22:24:18</td>\n",
       "      <td>HJ</td>\n",
       "    </tr>\n",
       "    <tr>\n",
       "      <th>175</th>\n",
       "      <td>12.6193</td>\n",
       "      <td>67.946503</td>\n",
       "      <td>2003-11-14 00:25:53</td>\n",
       "      <td>HJ</td>\n",
       "    </tr>\n",
       "    <tr>\n",
       "      <th>176</th>\n",
       "      <td>10.4858</td>\n",
       "      <td>68.057503</td>\n",
       "      <td>2003-11-14 06:03:13</td>\n",
       "      <td>HJ</td>\n",
       "    </tr>\n",
       "    <tr>\n",
       "      <th>177</th>\n",
       "      <td>11.0522</td>\n",
       "      <td>68.175697</td>\n",
       "      <td>2003-11-14 09:56:47</td>\n",
       "      <td>HJ</td>\n",
       "    </tr>\n",
       "    <tr>\n",
       "      <th>178</th>\n",
       "      <td>12.4153</td>\n",
       "      <td>68.231300</td>\n",
       "      <td>2003-11-14 15:25:51</td>\n",
       "      <td>HJ</td>\n",
       "    </tr>\n",
       "  </tbody>\n",
       "</table>\n",
       "</div>"
      ],
      "text/plain": [
       "     Longitude   Latitude                Time Platform\n",
       "174    12.2738  67.741798 2003-11-13 22:24:18       HJ\n",
       "175    12.6193  67.946503 2003-11-14 00:25:53       HJ\n",
       "176    10.4858  68.057503 2003-11-14 06:03:13       HJ\n",
       "177    11.0522  68.175697 2003-11-14 09:56:47       HJ\n",
       "178    12.4153  68.231300 2003-11-14 15:25:51       HJ"
      ]
     },
     "metadata": {},
     "output_type": "display_data"
    },
    {
     "name": "stdout",
     "output_type": "stream",
     "text": [
      "Platform JH: 950 measurement locations.\n"
     ]
    },
    {
     "data": {
      "text/html": [
       "<div>\n",
       "<style scoped>\n",
       "    .dataframe tbody tr th:only-of-type {\n",
       "        vertical-align: middle;\n",
       "    }\n",
       "\n",
       "    .dataframe tbody tr th {\n",
       "        vertical-align: top;\n",
       "    }\n",
       "\n",
       "    .dataframe thead th {\n",
       "        text-align: right;\n",
       "    }\n",
       "</style>\n",
       "<table border=\"1\" class=\"dataframe\">\n",
       "  <thead>\n",
       "    <tr style=\"text-align: right;\">\n",
       "      <th></th>\n",
       "      <th>Longitude</th>\n",
       "      <th>Latitude</th>\n",
       "      <th>Time</th>\n",
       "      <th>Platform</th>\n",
       "    </tr>\n",
       "  </thead>\n",
       "  <tbody>\n",
       "    <tr>\n",
       "      <th>945</th>\n",
       "      <td>15.6965</td>\n",
       "      <td>71.253998</td>\n",
       "      <td>2003-12-17 11:01:51</td>\n",
       "      <td>JH</td>\n",
       "    </tr>\n",
       "    <tr>\n",
       "      <th>946</th>\n",
       "      <td>12.5057</td>\n",
       "      <td>71.252701</td>\n",
       "      <td>2003-12-17 22:14:57</td>\n",
       "      <td>JH</td>\n",
       "    </tr>\n",
       "    <tr>\n",
       "      <th>947</th>\n",
       "      <td>13.0053</td>\n",
       "      <td>71.751503</td>\n",
       "      <td>2003-12-18 03:03:55</td>\n",
       "      <td>JH</td>\n",
       "    </tr>\n",
       "    <tr>\n",
       "      <th>948</th>\n",
       "      <td>14.9853</td>\n",
       "      <td>71.743301</td>\n",
       "      <td>2003-12-18 07:15:07</td>\n",
       "      <td>JH</td>\n",
       "    </tr>\n",
       "    <tr>\n",
       "      <th>949</th>\n",
       "      <td>17.0693</td>\n",
       "      <td>71.751701</td>\n",
       "      <td>2003-12-18 11:53:00</td>\n",
       "      <td>JH</td>\n",
       "    </tr>\n",
       "  </tbody>\n",
       "</table>\n",
       "</div>"
      ],
      "text/plain": [
       "     Longitude   Latitude                Time Platform\n",
       "945    15.6965  71.253998 2003-12-17 11:01:51       JH\n",
       "946    12.5057  71.252701 2003-12-17 22:14:57       JH\n",
       "947    13.0053  71.751503 2003-12-18 03:03:55       JH\n",
       "948    14.9853  71.743301 2003-12-18 07:15:07       JH\n",
       "949    17.0693  71.751701 2003-12-18 11:53:00       JH"
      ]
     },
     "metadata": {},
     "output_type": "display_data"
    },
    {
     "name": "stdout",
     "output_type": "stream",
     "text": [
      "\n",
      "Merged dataframe with all platforms. Total of 3209 measurement locations\n"
     ]
    },
    {
     "data": {
      "text/html": [
       "<div>\n",
       "<style scoped>\n",
       "    .dataframe tbody tr th:only-of-type {\n",
       "        vertical-align: middle;\n",
       "    }\n",
       "\n",
       "    .dataframe tbody tr th {\n",
       "        vertical-align: top;\n",
       "    }\n",
       "\n",
       "    .dataframe thead th {\n",
       "        text-align: right;\n",
       "    }\n",
       "</style>\n",
       "<table border=\"1\" class=\"dataframe\">\n",
       "  <thead>\n",
       "    <tr style=\"text-align: right;\">\n",
       "      <th></th>\n",
       "      <th>Longitude</th>\n",
       "      <th>Latitude</th>\n",
       "      <th>Time</th>\n",
       "      <th>Platform</th>\n",
       "      <th>Index_ABS</th>\n",
       "    </tr>\n",
       "    <tr>\n",
       "      <th>Index_Relative</th>\n",
       "      <th></th>\n",
       "      <th></th>\n",
       "      <th></th>\n",
       "      <th></th>\n",
       "      <th></th>\n",
       "    </tr>\n",
       "  </thead>\n",
       "  <tbody>\n",
       "    <tr>\n",
       "      <th>0</th>\n",
       "      <td>4.6155</td>\n",
       "      <td>60.755299</td>\n",
       "      <td>2003-01-07 05:25:57</td>\n",
       "      <td>AA</td>\n",
       "      <td>0</td>\n",
       "    </tr>\n",
       "    <tr>\n",
       "      <th>1</th>\n",
       "      <td>4.4483</td>\n",
       "      <td>60.748299</td>\n",
       "      <td>2003-01-07 06:05:08</td>\n",
       "      <td>AA</td>\n",
       "      <td>1</td>\n",
       "    </tr>\n",
       "    <tr>\n",
       "      <th>2</th>\n",
       "      <td>4.2853</td>\n",
       "      <td>60.751499</td>\n",
       "      <td>2003-01-07 08:34:00</td>\n",
       "      <td>AA</td>\n",
       "      <td>2</td>\n",
       "    </tr>\n",
       "    <tr>\n",
       "      <th>3</th>\n",
       "      <td>4.1170</td>\n",
       "      <td>60.747799</td>\n",
       "      <td>2003-01-07 09:18:06</td>\n",
       "      <td>AA</td>\n",
       "      <td>3</td>\n",
       "    </tr>\n",
       "    <tr>\n",
       "      <th>4</th>\n",
       "      <td>3.9475</td>\n",
       "      <td>60.752201</td>\n",
       "      <td>2003-01-07 09:59:37</td>\n",
       "      <td>AA</td>\n",
       "      <td>4</td>\n",
       "    </tr>\n",
       "    <tr>\n",
       "      <th>...</th>\n",
       "      <td>...</td>\n",
       "      <td>...</td>\n",
       "      <td>...</td>\n",
       "      <td>...</td>\n",
       "      <td>...</td>\n",
       "    </tr>\n",
       "    <tr>\n",
       "      <th>945</th>\n",
       "      <td>15.6965</td>\n",
       "      <td>71.253998</td>\n",
       "      <td>2003-12-17 11:01:51</td>\n",
       "      <td>JH</td>\n",
       "      <td>3204</td>\n",
       "    </tr>\n",
       "    <tr>\n",
       "      <th>946</th>\n",
       "      <td>12.5057</td>\n",
       "      <td>71.252701</td>\n",
       "      <td>2003-12-17 22:14:57</td>\n",
       "      <td>JH</td>\n",
       "      <td>3205</td>\n",
       "    </tr>\n",
       "    <tr>\n",
       "      <th>947</th>\n",
       "      <td>13.0053</td>\n",
       "      <td>71.751503</td>\n",
       "      <td>2003-12-18 03:03:55</td>\n",
       "      <td>JH</td>\n",
       "      <td>3206</td>\n",
       "    </tr>\n",
       "    <tr>\n",
       "      <th>948</th>\n",
       "      <td>14.9853</td>\n",
       "      <td>71.743301</td>\n",
       "      <td>2003-12-18 07:15:07</td>\n",
       "      <td>JH</td>\n",
       "      <td>3207</td>\n",
       "    </tr>\n",
       "    <tr>\n",
       "      <th>949</th>\n",
       "      <td>17.0693</td>\n",
       "      <td>71.751701</td>\n",
       "      <td>2003-12-18 11:53:00</td>\n",
       "      <td>JH</td>\n",
       "      <td>3208</td>\n",
       "    </tr>\n",
       "  </tbody>\n",
       "</table>\n",
       "<p>3209 rows × 5 columns</p>\n",
       "</div>"
      ],
      "text/plain": [
       "                Longitude   Latitude                Time Platform  Index_ABS\n",
       "Index_Relative                                                              \n",
       "0                  4.6155  60.755299 2003-01-07 05:25:57       AA          0\n",
       "1                  4.4483  60.748299 2003-01-07 06:05:08       AA          1\n",
       "2                  4.2853  60.751499 2003-01-07 08:34:00       AA          2\n",
       "3                  4.1170  60.747799 2003-01-07 09:18:06       AA          3\n",
       "4                  3.9475  60.752201 2003-01-07 09:59:37       AA          4\n",
       "...                   ...        ...                 ...      ...        ...\n",
       "945               15.6965  71.253998 2003-12-17 11:01:51       JH       3204\n",
       "946               12.5057  71.252701 2003-12-17 22:14:57       JH       3205\n",
       "947               13.0053  71.751503 2003-12-18 03:03:55       JH       3206\n",
       "948               14.9853  71.743301 2003-12-18 07:15:07       JH       3207\n",
       "949               17.0693  71.751701 2003-12-18 11:53:00       JH       3208\n",
       "\n",
       "[3209 rows x 5 columns]"
      ]
     },
     "execution_count": 6,
     "metadata": {},
     "output_type": "execute_result"
    }
   ],
   "source": [
    "# Load locations (long & lat) and TIME of ALL measurements\n",
    "from datetime import datetime, timedelta\n",
    "start_date = datetime(1950, 1, 1)\n",
    "    \n",
    "position_df = pd.DataFrame() \n",
    "\n",
    "for key in position_dict.keys():\n",
    "    test = pd.DataFrame()\n",
    "    \n",
    "    test['Longitude'] = position_dict[key]['data']['LONGITUDE'].data.astype(float)\n",
    "    test['Latitude'] = position_dict[key]['data']['LATITUDE'].data.astype(float)\n",
    "    test['Time'] = position_dict[key]['data']['TIME'].data.astype(float)\n",
    "    test['Platform'] = key\n",
    "    \n",
    "    # Convert TIME from float to datetime\n",
    "    test['Time'] = [start_date + timedelta(t) for t in test.loc[:,'Time']]\n",
    "    length = len(test[test['Platform']==key])\n",
    "    print(f'Platform {key}: {length} measurement locations.')\n",
    "    display(test.tail())\n",
    "    \n",
    "    position_df = position_df.append(test) \n",
    "    \n",
    "position_df['Index_ABS'] = np.arange(0,len(position_df))\n",
    "position_df = position_df.rename_axis(\"Index_Relative\")\n",
    "\n",
    "print(f'\\nMerged dataframe with all platforms. Total of {len(position_df)} measurement locations')\n",
    "position_df"
   ]
  },
  {
   "cell_type": "code",
   "execution_count": null,
   "metadata": {},
   "outputs": [],
   "source": []
  },
  {
   "cell_type": "markdown",
   "metadata": {},
   "source": [
    "### Plot Positions\n",
    "Plot locations on an interactive plot. \n",
    "\n",
    "First, define the dataframe that you would like to plot to the **df_toPlot** variable."
   ]
  },
  {
   "cell_type": "code",
   "execution_count": 7,
   "metadata": {},
   "outputs": [],
   "source": [
    "df_toPlot = position_df"
   ]
  },
  {
   "cell_type": "markdown",
   "metadata": {},
   "source": [
    "Hoover your mouse on a location to see longitude and latitude information. All locations are showed in blue, and only filtered locations are shown in red."
   ]
  },
  {
   "cell_type": "code",
   "execution_count": 8,
   "metadata": {},
   "outputs": [
    {
     "data": {
      "text/html": [
       "\n",
       "    <div class=\"bk-root\">\n",
       "        <a href=\"https://bokeh.org\" target=\"_blank\" class=\"bk-logo bk-logo-small bk-logo-notebook\"></a>\n",
       "        <span id=\"1002\">Loading BokehJS ...</span>\n",
       "    </div>"
      ]
     },
     "metadata": {},
     "output_type": "display_data"
    },
    {
     "data": {
      "application/javascript": [
       "\n",
       "(function(root) {\n",
       "  function now() {\n",
       "    return new Date();\n",
       "  }\n",
       "\n",
       "  var force = true;\n",
       "\n",
       "  if (typeof root._bokeh_onload_callbacks === \"undefined\" || force === true) {\n",
       "    root._bokeh_onload_callbacks = [];\n",
       "    root._bokeh_is_loading = undefined;\n",
       "  }\n",
       "\n",
       "  var JS_MIME_TYPE = 'application/javascript';\n",
       "  var HTML_MIME_TYPE = 'text/html';\n",
       "  var EXEC_MIME_TYPE = 'application/vnd.bokehjs_exec.v0+json';\n",
       "  var CLASS_NAME = 'output_bokeh rendered_html';\n",
       "\n",
       "  /**\n",
       "   * Render data to the DOM node\n",
       "   */\n",
       "  function render(props, node) {\n",
       "    var script = document.createElement(\"script\");\n",
       "    node.appendChild(script);\n",
       "  }\n",
       "\n",
       "  /**\n",
       "   * Handle when an output is cleared or removed\n",
       "   */\n",
       "  function handleClearOutput(event, handle) {\n",
       "    var cell = handle.cell;\n",
       "\n",
       "    var id = cell.output_area._bokeh_element_id;\n",
       "    var server_id = cell.output_area._bokeh_server_id;\n",
       "    // Clean up Bokeh references\n",
       "    if (id != null && id in Bokeh.index) {\n",
       "      Bokeh.index[id].model.document.clear();\n",
       "      delete Bokeh.index[id];\n",
       "    }\n",
       "\n",
       "    if (server_id !== undefined) {\n",
       "      // Clean up Bokeh references\n",
       "      var cmd = \"from bokeh.io.state import curstate; print(curstate().uuid_to_server['\" + server_id + \"'].get_sessions()[0].document.roots[0]._id)\";\n",
       "      cell.notebook.kernel.execute(cmd, {\n",
       "        iopub: {\n",
       "          output: function(msg) {\n",
       "            var id = msg.content.text.trim();\n",
       "            if (id in Bokeh.index) {\n",
       "              Bokeh.index[id].model.document.clear();\n",
       "              delete Bokeh.index[id];\n",
       "            }\n",
       "          }\n",
       "        }\n",
       "      });\n",
       "      // Destroy server and session\n",
       "      var cmd = \"import bokeh.io.notebook as ion; ion.destroy_server('\" + server_id + \"')\";\n",
       "      cell.notebook.kernel.execute(cmd);\n",
       "    }\n",
       "  }\n",
       "\n",
       "  /**\n",
       "   * Handle when a new output is added\n",
       "   */\n",
       "  function handleAddOutput(event, handle) {\n",
       "    var output_area = handle.output_area;\n",
       "    var output = handle.output;\n",
       "\n",
       "    // limit handleAddOutput to display_data with EXEC_MIME_TYPE content only\n",
       "    if ((output.output_type != \"display_data\") || (!Object.prototype.hasOwnProperty.call(output.data, EXEC_MIME_TYPE))) {\n",
       "      return\n",
       "    }\n",
       "\n",
       "    var toinsert = output_area.element.find(\".\" + CLASS_NAME.split(' ')[0]);\n",
       "\n",
       "    if (output.metadata[EXEC_MIME_TYPE][\"id\"] !== undefined) {\n",
       "      toinsert[toinsert.length - 1].firstChild.textContent = output.data[JS_MIME_TYPE];\n",
       "      // store reference to embed id on output_area\n",
       "      output_area._bokeh_element_id = output.metadata[EXEC_MIME_TYPE][\"id\"];\n",
       "    }\n",
       "    if (output.metadata[EXEC_MIME_TYPE][\"server_id\"] !== undefined) {\n",
       "      var bk_div = document.createElement(\"div\");\n",
       "      bk_div.innerHTML = output.data[HTML_MIME_TYPE];\n",
       "      var script_attrs = bk_div.children[0].attributes;\n",
       "      for (var i = 0; i < script_attrs.length; i++) {\n",
       "        toinsert[toinsert.length - 1].firstChild.setAttribute(script_attrs[i].name, script_attrs[i].value);\n",
       "        toinsert[toinsert.length - 1].firstChild.textContent = bk_div.children[0].textContent\n",
       "      }\n",
       "      // store reference to server id on output_area\n",
       "      output_area._bokeh_server_id = output.metadata[EXEC_MIME_TYPE][\"server_id\"];\n",
       "    }\n",
       "  }\n",
       "\n",
       "  function register_renderer(events, OutputArea) {\n",
       "\n",
       "    function append_mime(data, metadata, element) {\n",
       "      // create a DOM node to render to\n",
       "      var toinsert = this.create_output_subarea(\n",
       "        metadata,\n",
       "        CLASS_NAME,\n",
       "        EXEC_MIME_TYPE\n",
       "      );\n",
       "      this.keyboard_manager.register_events(toinsert);\n",
       "      // Render to node\n",
       "      var props = {data: data, metadata: metadata[EXEC_MIME_TYPE]};\n",
       "      render(props, toinsert[toinsert.length - 1]);\n",
       "      element.append(toinsert);\n",
       "      return toinsert\n",
       "    }\n",
       "\n",
       "    /* Handle when an output is cleared or removed */\n",
       "    events.on('clear_output.CodeCell', handleClearOutput);\n",
       "    events.on('delete.Cell', handleClearOutput);\n",
       "\n",
       "    /* Handle when a new output is added */\n",
       "    events.on('output_added.OutputArea', handleAddOutput);\n",
       "\n",
       "    /**\n",
       "     * Register the mime type and append_mime function with output_area\n",
       "     */\n",
       "    OutputArea.prototype.register_mime_type(EXEC_MIME_TYPE, append_mime, {\n",
       "      /* Is output safe? */\n",
       "      safe: true,\n",
       "      /* Index of renderer in `output_area.display_order` */\n",
       "      index: 0\n",
       "    });\n",
       "  }\n",
       "\n",
       "  // register the mime type if in Jupyter Notebook environment and previously unregistered\n",
       "  if (root.Jupyter !== undefined) {\n",
       "    var events = require('base/js/events');\n",
       "    var OutputArea = require('notebook/js/outputarea').OutputArea;\n",
       "\n",
       "    if (OutputArea.prototype.mime_types().indexOf(EXEC_MIME_TYPE) == -1) {\n",
       "      register_renderer(events, OutputArea);\n",
       "    }\n",
       "  }\n",
       "\n",
       "  \n",
       "  if (typeof (root._bokeh_timeout) === \"undefined\" || force === true) {\n",
       "    root._bokeh_timeout = Date.now() + 5000;\n",
       "    root._bokeh_failed_load = false;\n",
       "  }\n",
       "\n",
       "  var NB_LOAD_WARNING = {'data': {'text/html':\n",
       "     \"<div style='background-color: #fdd'>\\n\"+\n",
       "     \"<p>\\n\"+\n",
       "     \"BokehJS does not appear to have successfully loaded. If loading BokehJS from CDN, this \\n\"+\n",
       "     \"may be due to a slow or bad network connection. Possible fixes:\\n\"+\n",
       "     \"</p>\\n\"+\n",
       "     \"<ul>\\n\"+\n",
       "     \"<li>re-rerun `output_notebook()` to attempt to load from CDN again, or</li>\\n\"+\n",
       "     \"<li>use INLINE resources instead, as so:</li>\\n\"+\n",
       "     \"</ul>\\n\"+\n",
       "     \"<code>\\n\"+\n",
       "     \"from bokeh.resources import INLINE\\n\"+\n",
       "     \"output_notebook(resources=INLINE)\\n\"+\n",
       "     \"</code>\\n\"+\n",
       "     \"</div>\"}};\n",
       "\n",
       "  function display_loaded() {\n",
       "    var el = document.getElementById(\"1002\");\n",
       "    if (el != null) {\n",
       "      el.textContent = \"BokehJS is loading...\";\n",
       "    }\n",
       "    if (root.Bokeh !== undefined) {\n",
       "      if (el != null) {\n",
       "        el.textContent = \"BokehJS \" + root.Bokeh.version + \" successfully loaded.\";\n",
       "      }\n",
       "    } else if (Date.now() < root._bokeh_timeout) {\n",
       "      setTimeout(display_loaded, 100)\n",
       "    }\n",
       "  }\n",
       "\n",
       "\n",
       "  function run_callbacks() {\n",
       "    try {\n",
       "      root._bokeh_onload_callbacks.forEach(function(callback) {\n",
       "        if (callback != null)\n",
       "          callback();\n",
       "      });\n",
       "    } finally {\n",
       "      delete root._bokeh_onload_callbacks\n",
       "    }\n",
       "    console.debug(\"Bokeh: all callbacks have finished\");\n",
       "  }\n",
       "\n",
       "  function load_libs(css_urls, js_urls, callback) {\n",
       "    if (css_urls == null) css_urls = [];\n",
       "    if (js_urls == null) js_urls = [];\n",
       "\n",
       "    root._bokeh_onload_callbacks.push(callback);\n",
       "    if (root._bokeh_is_loading > 0) {\n",
       "      console.debug(\"Bokeh: BokehJS is being loaded, scheduling callback at\", now());\n",
       "      return null;\n",
       "    }\n",
       "    if (js_urls == null || js_urls.length === 0) {\n",
       "      run_callbacks();\n",
       "      return null;\n",
       "    }\n",
       "    console.debug(\"Bokeh: BokehJS not loaded, scheduling load and callback at\", now());\n",
       "    root._bokeh_is_loading = css_urls.length + js_urls.length;\n",
       "\n",
       "    function on_load() {\n",
       "      root._bokeh_is_loading--;\n",
       "      if (root._bokeh_is_loading === 0) {\n",
       "        console.debug(\"Bokeh: all BokehJS libraries/stylesheets loaded\");\n",
       "        run_callbacks()\n",
       "      }\n",
       "    }\n",
       "\n",
       "    function on_error(url) {\n",
       "      console.error(\"failed to load \" + url);\n",
       "    }\n",
       "\n",
       "    for (let i = 0; i < css_urls.length; i++) {\n",
       "      const url = css_urls[i];\n",
       "      const element = document.createElement(\"link\");\n",
       "      element.onload = on_load;\n",
       "      element.onerror = on_error.bind(null, url);\n",
       "      element.rel = \"stylesheet\";\n",
       "      element.type = \"text/css\";\n",
       "      element.href = url;\n",
       "      console.debug(\"Bokeh: injecting link tag for BokehJS stylesheet: \", url);\n",
       "      document.body.appendChild(element);\n",
       "    }\n",
       "\n",
       "    const hashes = {\"https://cdn.bokeh.org/bokeh/release/bokeh-2.3.2.min.js\": \"XypntL49z55iwGVUW4qsEu83zKL3XEcz0MjuGOQ9SlaaQ68X/g+k1FcioZi7oQAc\", \"https://cdn.bokeh.org/bokeh/release/bokeh-tables-2.3.2.min.js\": \"bEsM86IHGDTLCS0Zod8a8WM6Y4+lafAL/eSiyQcuPzinmWNgNO2/olUF0Z2Dkn5i\", \"https://cdn.bokeh.org/bokeh/release/bokeh-widgets-2.3.2.min.js\": \"TX0gSQTdXTTeScqxj6PVQxTiRW8DOoGVwinyi1D3kxv7wuxQ02XkOxv0xwiypcAH\"};\n",
       "\n",
       "    for (let i = 0; i < js_urls.length; i++) {\n",
       "      const url = js_urls[i];\n",
       "      const element = document.createElement('script');\n",
       "      element.onload = on_load;\n",
       "      element.onerror = on_error.bind(null, url);\n",
       "      element.async = false;\n",
       "      element.src = url;\n",
       "      if (url in hashes) {\n",
       "        element.crossOrigin = \"anonymous\";\n",
       "        element.integrity = \"sha384-\" + hashes[url];\n",
       "      }\n",
       "      console.debug(\"Bokeh: injecting script tag for BokehJS library: \", url);\n",
       "      document.head.appendChild(element);\n",
       "    }\n",
       "  };\n",
       "\n",
       "  function inject_raw_css(css) {\n",
       "    const element = document.createElement(\"style\");\n",
       "    element.appendChild(document.createTextNode(css));\n",
       "    document.body.appendChild(element);\n",
       "  }\n",
       "\n",
       "  \n",
       "  var js_urls = [\"https://cdn.bokeh.org/bokeh/release/bokeh-2.3.2.min.js\", \"https://cdn.bokeh.org/bokeh/release/bokeh-widgets-2.3.2.min.js\", \"https://cdn.bokeh.org/bokeh/release/bokeh-tables-2.3.2.min.js\"];\n",
       "  var css_urls = [];\n",
       "  \n",
       "\n",
       "  var inline_js = [\n",
       "    function(Bokeh) {\n",
       "      Bokeh.set_log_level(\"info\");\n",
       "    },\n",
       "    function(Bokeh) {\n",
       "    \n",
       "    \n",
       "    }\n",
       "  ];\n",
       "\n",
       "  function run_inline_js() {\n",
       "    \n",
       "    if (root.Bokeh !== undefined || force === true) {\n",
       "      \n",
       "    for (var i = 0; i < inline_js.length; i++) {\n",
       "      inline_js[i].call(root, root.Bokeh);\n",
       "    }\n",
       "    if (force === true) {\n",
       "        display_loaded();\n",
       "      }} else if (Date.now() < root._bokeh_timeout) {\n",
       "      setTimeout(run_inline_js, 100);\n",
       "    } else if (!root._bokeh_failed_load) {\n",
       "      console.log(\"Bokeh: BokehJS failed to load within specified timeout.\");\n",
       "      root._bokeh_failed_load = true;\n",
       "    } else if (force !== true) {\n",
       "      var cell = $(document.getElementById(\"1002\")).parents('.cell').data().cell;\n",
       "      cell.output_area.append_execute_result(NB_LOAD_WARNING)\n",
       "    }\n",
       "\n",
       "  }\n",
       "\n",
       "  if (root._bokeh_is_loading === 0) {\n",
       "    console.debug(\"Bokeh: BokehJS loaded, going straight to plotting\");\n",
       "    run_inline_js();\n",
       "  } else {\n",
       "    load_libs(css_urls, js_urls, function() {\n",
       "      console.debug(\"Bokeh: BokehJS plotting callback run at\", now());\n",
       "      run_inline_js();\n",
       "    });\n",
       "  }\n",
       "}(window));"
      ],
      "application/vnd.bokehjs_load.v0+json": "\n(function(root) {\n  function now() {\n    return new Date();\n  }\n\n  var force = true;\n\n  if (typeof root._bokeh_onload_callbacks === \"undefined\" || force === true) {\n    root._bokeh_onload_callbacks = [];\n    root._bokeh_is_loading = undefined;\n  }\n\n  \n\n  \n  if (typeof (root._bokeh_timeout) === \"undefined\" || force === true) {\n    root._bokeh_timeout = Date.now() + 5000;\n    root._bokeh_failed_load = false;\n  }\n\n  var NB_LOAD_WARNING = {'data': {'text/html':\n     \"<div style='background-color: #fdd'>\\n\"+\n     \"<p>\\n\"+\n     \"BokehJS does not appear to have successfully loaded. If loading BokehJS from CDN, this \\n\"+\n     \"may be due to a slow or bad network connection. Possible fixes:\\n\"+\n     \"</p>\\n\"+\n     \"<ul>\\n\"+\n     \"<li>re-rerun `output_notebook()` to attempt to load from CDN again, or</li>\\n\"+\n     \"<li>use INLINE resources instead, as so:</li>\\n\"+\n     \"</ul>\\n\"+\n     \"<code>\\n\"+\n     \"from bokeh.resources import INLINE\\n\"+\n     \"output_notebook(resources=INLINE)\\n\"+\n     \"</code>\\n\"+\n     \"</div>\"}};\n\n  function display_loaded() {\n    var el = document.getElementById(\"1002\");\n    if (el != null) {\n      el.textContent = \"BokehJS is loading...\";\n    }\n    if (root.Bokeh !== undefined) {\n      if (el != null) {\n        el.textContent = \"BokehJS \" + root.Bokeh.version + \" successfully loaded.\";\n      }\n    } else if (Date.now() < root._bokeh_timeout) {\n      setTimeout(display_loaded, 100)\n    }\n  }\n\n\n  function run_callbacks() {\n    try {\n      root._bokeh_onload_callbacks.forEach(function(callback) {\n        if (callback != null)\n          callback();\n      });\n    } finally {\n      delete root._bokeh_onload_callbacks\n    }\n    console.debug(\"Bokeh: all callbacks have finished\");\n  }\n\n  function load_libs(css_urls, js_urls, callback) {\n    if (css_urls == null) css_urls = [];\n    if (js_urls == null) js_urls = [];\n\n    root._bokeh_onload_callbacks.push(callback);\n    if (root._bokeh_is_loading > 0) {\n      console.debug(\"Bokeh: BokehJS is being loaded, scheduling callback at\", now());\n      return null;\n    }\n    if (js_urls == null || js_urls.length === 0) {\n      run_callbacks();\n      return null;\n    }\n    console.debug(\"Bokeh: BokehJS not loaded, scheduling load and callback at\", now());\n    root._bokeh_is_loading = css_urls.length + js_urls.length;\n\n    function on_load() {\n      root._bokeh_is_loading--;\n      if (root._bokeh_is_loading === 0) {\n        console.debug(\"Bokeh: all BokehJS libraries/stylesheets loaded\");\n        run_callbacks()\n      }\n    }\n\n    function on_error(url) {\n      console.error(\"failed to load \" + url);\n    }\n\n    for (let i = 0; i < css_urls.length; i++) {\n      const url = css_urls[i];\n      const element = document.createElement(\"link\");\n      element.onload = on_load;\n      element.onerror = on_error.bind(null, url);\n      element.rel = \"stylesheet\";\n      element.type = \"text/css\";\n      element.href = url;\n      console.debug(\"Bokeh: injecting link tag for BokehJS stylesheet: \", url);\n      document.body.appendChild(element);\n    }\n\n    const hashes = {\"https://cdn.bokeh.org/bokeh/release/bokeh-2.3.2.min.js\": \"XypntL49z55iwGVUW4qsEu83zKL3XEcz0MjuGOQ9SlaaQ68X/g+k1FcioZi7oQAc\", \"https://cdn.bokeh.org/bokeh/release/bokeh-tables-2.3.2.min.js\": \"bEsM86IHGDTLCS0Zod8a8WM6Y4+lafAL/eSiyQcuPzinmWNgNO2/olUF0Z2Dkn5i\", \"https://cdn.bokeh.org/bokeh/release/bokeh-widgets-2.3.2.min.js\": \"TX0gSQTdXTTeScqxj6PVQxTiRW8DOoGVwinyi1D3kxv7wuxQ02XkOxv0xwiypcAH\"};\n\n    for (let i = 0; i < js_urls.length; i++) {\n      const url = js_urls[i];\n      const element = document.createElement('script');\n      element.onload = on_load;\n      element.onerror = on_error.bind(null, url);\n      element.async = false;\n      element.src = url;\n      if (url in hashes) {\n        element.crossOrigin = \"anonymous\";\n        element.integrity = \"sha384-\" + hashes[url];\n      }\n      console.debug(\"Bokeh: injecting script tag for BokehJS library: \", url);\n      document.head.appendChild(element);\n    }\n  };\n\n  function inject_raw_css(css) {\n    const element = document.createElement(\"style\");\n    element.appendChild(document.createTextNode(css));\n    document.body.appendChild(element);\n  }\n\n  \n  var js_urls = [\"https://cdn.bokeh.org/bokeh/release/bokeh-2.3.2.min.js\", \"https://cdn.bokeh.org/bokeh/release/bokeh-widgets-2.3.2.min.js\", \"https://cdn.bokeh.org/bokeh/release/bokeh-tables-2.3.2.min.js\"];\n  var css_urls = [];\n  \n\n  var inline_js = [\n    function(Bokeh) {\n      Bokeh.set_log_level(\"info\");\n    },\n    function(Bokeh) {\n    \n    \n    }\n  ];\n\n  function run_inline_js() {\n    \n    if (root.Bokeh !== undefined || force === true) {\n      \n    for (var i = 0; i < inline_js.length; i++) {\n      inline_js[i].call(root, root.Bokeh);\n    }\n    if (force === true) {\n        display_loaded();\n      }} else if (Date.now() < root._bokeh_timeout) {\n      setTimeout(run_inline_js, 100);\n    } else if (!root._bokeh_failed_load) {\n      console.log(\"Bokeh: BokehJS failed to load within specified timeout.\");\n      root._bokeh_failed_load = true;\n    } else if (force !== true) {\n      var cell = $(document.getElementById(\"1002\")).parents('.cell').data().cell;\n      cell.output_area.append_execute_result(NB_LOAD_WARNING)\n    }\n\n  }\n\n  if (root._bokeh_is_loading === 0) {\n    console.debug(\"Bokeh: BokehJS loaded, going straight to plotting\");\n    run_inline_js();\n  } else {\n    load_libs(css_urls, js_urls, function() {\n      console.debug(\"Bokeh: BokehJS plotting callback run at\", now());\n      run_inline_js();\n    });\n  }\n}(window));"
     },
     "metadata": {},
     "output_type": "display_data"
    },
    {
     "data": {
      "text/html": [
       "\n",
       "\n",
       "\n",
       "\n",
       "\n",
       "\n",
       "  <div class=\"bk-root\" id=\"a5ed9d4b-a12e-44fd-97cc-2fad1b38f924\" data-root-id=\"1004\"></div>\n"
      ]
     },
     "metadata": {},
     "output_type": "display_data"
    },
    {
     "data": {
      "application/javascript": [
       "(function(root) {\n",
       "  function embed_document(root) {\n",
       "    \n",
       "  var docs_json = {\"c8a70ec4-c433-4a8a-a1f5-35eb0be72918\":{\"defs\":[],\"roots\":{\"references\":[{\"attributes\":{\"below\":[{\"id\":\"1015\"}],\"center\":[{\"id\":\"1018\"},{\"id\":\"1022\"},{\"id\":\"1040\"}],\"height\":500,\"left\":[{\"id\":\"1019\"}],\"renderers\":[{\"id\":\"1029\"},{\"id\":\"1046\"},{\"id\":\"1064\"},{\"id\":\"1084\"},{\"id\":\"1106\"}],\"title\":{\"id\":\"1005\"},\"toolbar\":{\"id\":\"1023\"},\"width\":500,\"x_range\":{\"id\":\"1007\"},\"x_scale\":{\"id\":\"1011\"},\"y_range\":{\"id\":\"1009\"},\"y_scale\":{\"id\":\"1013\"}},\"id\":\"1004\",\"subtype\":\"Figure\",\"type\":\"Plot\"},{\"attributes\":{},\"id\":\"1058\",\"type\":\"Selection\"},{\"attributes\":{\"axis\":{\"id\":\"1015\"},\"ticker\":null},\"id\":\"1018\",\"type\":\"Grid\"},{\"attributes\":{\"fill_alpha\":{\"value\":0.1},\"fill_color\":{\"value\":\"white\"},\"line_alpha\":{\"value\":0.1},\"line_color\":{\"value\":\"orange\"},\"x\":{\"field\":\"Longitude\"},\"y\":{\"field\":\"Latitude\"}},\"id\":\"1105\",\"type\":\"Circle\"},{\"attributes\":{},\"id\":\"1124\",\"type\":\"Selection\"},{\"attributes\":{\"data_source\":{\"id\":\"1042\"},\"glyph\":{\"id\":\"1044\"},\"hover_glyph\":null,\"muted_glyph\":null,\"nonselection_glyph\":{\"id\":\"1045\"},\"view\":{\"id\":\"1047\"}},\"id\":\"1046\",\"type\":\"GlyphRenderer\"},{\"attributes\":{},\"id\":\"1020\",\"type\":\"BasicTicker\"},{\"attributes\":{\"active_multi\":null,\"tools\":[{\"id\":\"1003\"}]},\"id\":\"1023\",\"type\":\"Toolbar\"},{\"attributes\":{\"axis\":{\"id\":\"1019\"},\"dimension\":1,\"ticker\":null},\"id\":\"1022\",\"type\":\"Grid\"},{\"attributes\":{},\"id\":\"1057\",\"type\":\"UnionRenderers\"},{\"attributes\":{\"formatter\":{\"id\":\"1035\"},\"major_label_policy\":{\"id\":\"1037\"},\"ticker\":{\"id\":\"1020\"}},\"id\":\"1019\",\"type\":\"LinearAxis\"},{\"attributes\":{\"source\":{\"id\":\"1042\"}},\"id\":\"1047\",\"type\":\"CDSView\"},{\"attributes\":{},\"id\":\"1099\",\"type\":\"UnionRenderers\"},{\"attributes\":{\"label\":{\"value\":\"Platform HJ locations\"},\"renderers\":[{\"id\":\"1084\"}]},\"id\":\"1101\",\"type\":\"LegendItem\"},{\"attributes\":{},\"id\":\"1100\",\"type\":\"Selection\"},{\"attributes\":{\"fill_alpha\":{\"value\":0.1},\"fill_color\":{\"value\":\"white\"},\"line_alpha\":{\"value\":0.1},\"line_color\":{\"value\":\"blue\"},\"x\":{\"field\":\"Longitude\"},\"y\":{\"field\":\"Latitude\"}},\"id\":\"1045\",\"type\":\"Circle\"},{\"attributes\":{\"source\":{\"id\":\"1102\"}},\"id\":\"1107\",\"type\":\"CDSView\"},{\"attributes\":{\"fill_color\":{\"value\":\"white\"},\"line_color\":{\"value\":\"blue\"},\"x\":{\"field\":\"Longitude\"},\"y\":{\"field\":\"Latitude\"}},\"id\":\"1044\",\"type\":\"Circle\"},{\"attributes\":{\"label\":{\"value\":\"Platform GS locations\"},\"renderers\":[{\"id\":\"1046\"}]},\"id\":\"1059\",\"type\":\"LegendItem\"},{\"attributes\":{},\"id\":\"1038\",\"type\":\"UnionRenderers\"},{\"attributes\":{\"data\":{\"Index_ABS\":[1089,1090,1091,1092,1093,1094,1095,1096,1097,1098,1099,1100,1101,1102,1103,1104,1105,1106,1107,1108,1109,1110,1111,1112,1113,1114,1115,1116,1117,1118,1119,1120,1121,1122,1123,1124,1125,1126,1127,1128,1129,1130,1131,1132,1133,1134,1135,1136,1137,1138,1139,1140,1141,1142,1143,1144,1145,1146,1147,1148,1149,1150,1151,1152,1153,1154,1155,1156,1157,1158,1159,1160,1161,1162,1163,1164,1165,1166,1167,1168,1169,1170,1171,1172,1173,1174,1175,1176,1177,1178,1179,1180,1181,1182,1183,1184,1185,1186,1187,1188,1189,1190,1191,1192,1193,1194,1195,1196,1197,1198,1199,1200,1201,1202,1203,1204,1205,1206,1207,1208,1209,1210,1211,1212,1213,1214,1215,1216,1217,1218,1219,1220,1221,1222,1223,1224,1225,1226,1227,1228,1229,1230,1231,1232,1233,1234,1235,1236,1237,1238,1239,1240,1241,1242,1243,1244,1245,1246,1247,1248,1249,1250,1251,1252,1253,1254,1255,1256,1257,1258,1259,1260,1261,1262,1263,1264,1265,1266,1267,1268,1269,1270,1271,1272,1273,1274,1275,1276,1277,1278,1279,1280,1281,1282,1283,1284,1285,1286,1287,1288,1289,1290,1291,1292,1293,1294,1295,1296,1297,1298,1299,1300,1301,1302,1303,1304,1305,1306,1307,1308,1309,1310,1311,1312,1313,1314,1315,1316,1317,1318,1319,1320,1321,1322,1323,1324,1325,1326,1327,1328,1329,1330,1331,1332,1333,1334,1335,1336,1337,1338,1339,1340,1341,1342,1343,1344,1345,1346,1347,1348,1349,1350,1351,1352,1353,1354,1355,1356,1357,1358,1359,1360,1361,1362,1363,1364,1365,1366,1367,1368,1369,1370,1371,1372,1373,1374,1375,1376,1377,1378,1379,1380,1381,1382,1383,1384,1385,1386,1387,1388,1389,1390,1391,1392,1393,1394,1395,1396,1397,1398,1399,1400,1401,1402,1403,1404,1405,1406,1407,1408,1409,1410,1411,1412,1413,1414,1415,1416,1417,1418,1419,1420,1421,1422,1423,1424,1425,1426,1427,1428,1429,1430,1431,1432,1433,1434,1435,1436,1437,1438,1439,1440,1441,1442,1443,1444,1445,1446,1447,1448,1449,1450,1451,1452,1453,1454,1455,1456,1457,1458,1459,1460,1461,1462,1463,1464,1465,1466,1467,1468,1469,1470,1471,1472,1473,1474,1475,1476,1477,1478,1479,1480,1481,1482,1483,1484,1485,1486,1487,1488,1489,1490,1491,1492,1493,1494,1495,1496,1497,1498,1499,1500,1501,1502,1503,1504,1505,1506,1507,1508,1509,1510,1511,1512,1513,1514,1515,1516,1517,1518,1519,1520,1521,1522,1523,1524,1525,1526,1527,1528,1529,1530,1531,1532,1533,1534,1535,1536,1537,1538,1539,1540,1541,1542,1543,1544,1545,1546,1547,1548,1549,1550,1551,1552,1553,1554,1555,1556,1557,1558,1559,1560,1561,1562,1563,1564,1565,1566,1567,1568,1569,1570,1571,1572,1573,1574,1575,1576,1577,1578,1579,1580,1581,1582,1583,1584,1585,1586,1587,1588,1589,1590,1591,1592,1593,1594,1595,1596,1597,1598,1599,1600,1601,1602,1603,1604,1605,1606,1607,1608,1609,1610,1611,1612,1613,1614,1615,1616,1617,1618,1619,1620,1621,1622,1623,1624,1625,1626,1627,1628,1629,1630,1631,1632,1633,1634,1635,1636,1637,1638,1639,1640,1641,1642,1643,1644,1645,1646,1647,1648,1649,1650,1651,1652,1653,1654,1655,1656,1657,1658,1659,1660,1661,1662,1663,1664,1665,1666,1667,1668,1669,1670,1671,1672,1673,1674,1675,1676,1677,1678,1679,1680,1681,1682,1683,1684,1685,1686,1687,1688,1689,1690,1691,1692,1693,1694,1695,1696,1697,1698,1699,1700,1701,1702,1703,1704,1705,1706,1707,1708,1709,1710,1711,1712,1713,1714,1715,1716,1717,1718,1719,1720,1721,1722,1723,1724,1725,1726,1727,1728,1729,1730,1731,1732,1733,1734,1735,1736,1737,1738,1739,1740,1741,1742,1743,1744,1745,1746,1747,1748,1749,1750,1751,1752,1753,1754,1755,1756,1757,1758,1759,1760,1761,1762,1763,1764,1765,1766,1767,1768,1769,1770,1771,1772,1773,1774,1775,1776,1777,1778,1779,1780,1781,1782,1783,1784,1785,1786,1787,1788,1789,1790,1791,1792,1793,1794,1795,1796,1797,1798,1799,1800,1801,1802,1803,1804,1805,1806,1807,1808,1809,1810,1811,1812,1813,1814,1815,1816,1817,1818,1819,1820,1821,1822,1823,1824,1825,1826,1827,1828,1829,1830,1831,1832,1833,1834,1835,1836,1837,1838,1839,1840,1841,1842,1843,1844,1845,1846,1847,1848,1849,1850,1851,1852,1853,1854,1855,1856,1857,1858,1859,1860,1861,1862,1863,1864,1865,1866,1867,1868,1869,1870,1871,1872,1873,1874,1875,1876,1877,1878,1879,1880,1881,1882,1883,1884,1885,1886,1887,1888,1889,1890,1891,1892,1893,1894,1895,1896,1897,1898,1899,1900,1901,1902,1903,1904,1905,1906,1907,1908,1909,1910,1911,1912,1913,1914,1915,1916,1917,1918,1919,1920,1921,1922,1923,1924,1925,1926,1927,1928,1929,1930,1931,1932,1933,1934,1935,1936,1937,1938,1939,1940,1941,1942,1943,1944,1945,1946,1947,1948,1949,1950,1951,1952,1953,1954,1955,1956,1957,1958,1959,1960,1961,1962,1963,1964,1965,1966,1967,1968,1969,1970,1971,1972,1973,1974,1975,1976,1977,1978,1979,1980,1981,1982,1983,1984,1985,1986,1987,1988,1989,1990,1991,1992,1993,1994,1995,1996,1997,1998,1999,2000,2001,2002,2003,2004,2005,2006,2007,2008,2009,2010,2011,2012,2013,2014,2015,2016,2017,2018,2019,2020,2021,2022,2023,2024,2025,2026,2027,2028,2029,2030,2031,2032,2033,2034,2035,2036,2037,2038,2039,2040,2041,2042,2043,2044,2045,2046,2047,2048,2049,2050,2051,2052,2053,2054,2055,2056,2057,2058,2059,2060,2061,2062,2063,2064,2065,2066,2067,2068,2069,2070,2071,2072,2073,2074,2075,2076,2077,2078,2079],\"Index_Relative\":[0,1,2,3,4,5,6,7,8,9,10,11,12,13,14,15,16,17,18,19,20,21,22,23,24,25,26,27,28,29,30,31,32,33,34,35,36,37,38,39,40,41,42,43,44,45,46,47,48,49,50,51,52,53,54,55,56,57,58,59,60,61,62,63,64,65,66,67,68,69,70,71,72,73,74,75,76,77,78,79,80,81,82,83,84,85,86,87,88,89,90,91,92,93,94,95,96,97,98,99,100,101,102,103,104,105,106,107,108,109,110,111,112,113,114,115,116,117,118,119,120,121,122,123,124,125,126,127,128,129,130,131,132,133,134,135,136,137,138,139,140,141,142,143,144,145,146,147,148,149,150,151,152,153,154,155,156,157,158,159,160,161,162,163,164,165,166,167,168,169,170,171,172,173,174,175,176,177,178,179,180,181,182,183,184,185,186,187,188,189,190,191,192,193,194,195,196,197,198,199,200,201,202,203,204,205,206,207,208,209,210,211,212,213,214,215,216,217,218,219,220,221,222,223,224,225,226,227,228,229,230,231,232,233,234,235,236,237,238,239,240,241,242,243,244,245,246,247,248,249,250,251,252,253,254,255,256,257,258,259,260,261,262,263,264,265,266,267,268,269,270,271,272,273,274,275,276,277,278,279,280,281,282,283,284,285,286,287,288,289,290,291,292,293,294,295,296,297,298,299,300,301,302,303,304,305,306,307,308,309,310,311,312,313,314,315,316,317,318,319,320,321,322,323,324,325,326,327,328,329,330,331,332,333,334,335,336,337,338,339,340,341,342,343,344,345,346,347,348,349,350,351,352,353,354,355,356,357,358,359,360,361,362,363,364,365,366,367,368,369,370,371,372,373,374,375,376,377,378,379,380,381,382,383,384,385,386,387,388,389,390,391,392,393,394,395,396,397,398,399,400,401,402,403,404,405,406,407,408,409,410,411,412,413,414,415,416,417,418,419,420,421,422,423,424,425,426,427,428,429,430,431,432,433,434,435,436,437,438,439,440,441,442,443,444,445,446,447,448,449,450,451,452,453,454,455,456,457,458,459,460,461,462,463,464,465,466,467,468,469,470,471,472,473,474,475,476,477,478,479,480,481,482,483,484,485,486,487,488,489,490,491,492,493,494,495,496,497,498,499,500,501,502,503,504,505,506,507,508,509,510,511,512,513,514,515,516,517,518,519,520,521,522,523,524,525,526,527,528,529,530,531,532,533,534,535,536,537,538,539,540,541,542,543,544,545,546,547,548,549,550,551,552,553,554,555,556,557,558,559,560,561,562,563,564,565,566,567,568,569,570,571,572,573,574,575,576,577,578,579,580,581,582,583,584,585,586,587,588,589,590,591,592,593,594,595,596,597,598,599,600,601,602,603,604,605,606,607,608,609,610,611,612,613,614,615,616,617,618,619,620,621,622,623,624,625,626,627,628,629,630,631,632,633,634,635,636,637,638,639,640,641,642,643,644,645,646,647,648,649,650,651,652,653,654,655,656,657,658,659,660,661,662,663,664,665,666,667,668,669,670,671,672,673,674,675,676,677,678,679,680,681,682,683,684,685,686,687,688,689,690,691,692,693,694,695,696,697,698,699,700,701,702,703,704,705,706,707,708,709,710,711,712,713,714,715,716,717,718,719,720,721,722,723,724,725,726,727,728,729,730,731,732,733,734,735,736,737,738,739,740,741,742,743,744,745,746,747,748,749,750,751,752,753,754,755,756,757,758,759,760,761,762,763,764,765,766,767,768,769,770,771,772,773,774,775,776,777,778,779,780,781,782,783,784,785,786,787,788,789,790,791,792,793,794,795,796,797,798,799,800,801,802,803,804,805,806,807,808,809,810,811,812,813,814,815,816,817,818,819,820,821,822,823,824,825,826,827,828,829,830,831,832,833,834,835,836,837,838,839,840,841,842,843,844,845,846,847,848,849,850,851,852,853,854,855,856,857,858,859,860,861,862,863,864,865,866,867,868,869,870,871,872,873,874,875,876,877,878,879,880,881,882,883,884,885,886,887,888,889,890,891,892,893,894,895,896,897,898,899,900,901,902,903,904,905,906,907,908,909,910,911,912,913,914,915,916,917,918,919,920,921,922,923,924,925,926,927,928,929,930,931,932,933,934,935,936,937,938,939,940,941,942,943,944,945,946,947,948,949,950,951,952,953,954,955,956,957,958,959,960,961,962,963,964,965,966,967,968,969,970,971,972,973,974,975,976,977,978,979,980,981,982,983,984,985,986,987,988,989,990],\"Latitude\":{\"__ndarray__\":\"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\",\"dtype\":\"float64\",\"order\":\"little\",\"shape\":[991]},\"Longitude\":{\"__ndarray__\":\"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\",\"dtype\":\"float64\",\"order\":\"little\",\"shape\":[991]},\"Platform\":[\"GT\",\"GT\",\"GT\",\"GT\",\"GT\",\"GT\",\"GT\",\"GT\",\"GT\",\"GT\",\"GT\",\"GT\",\"GT\",\"GT\",\"GT\",\"GT\",\"GT\",\"GT\",\"GT\",\"GT\",\"GT\",\"GT\",\"GT\",\"GT\",\"GT\",\"GT\",\"GT\",\"GT\",\"GT\",\"GT\",\"GT\",\"GT\",\"GT\",\"GT\",\"GT\",\"GT\",\"GT\",\"GT\",\"GT\",\"GT\",\"GT\",\"GT\",\"GT\",\"GT\",\"GT\",\"GT\",\"GT\",\"GT\",\"GT\",\"GT\",\"GT\",\"GT\",\"GT\",\"GT\",\"GT\",\"GT\",\"GT\",\"GT\",\"GT\",\"GT\",\"GT\",\"GT\",\"GT\",\"GT\",\"GT\",\"GT\",\"GT\",\"GT\",\"GT\",\"GT\",\"GT\",\"GT\",\"GT\",\"GT\",\"GT\",\"GT\",\"GT\",\"GT\",\"GT\",\"GT\",\"GT\",\"GT\",\"GT\",\"GT\",\"GT\",\"GT\",\"GT\",\"GT\",\"GT\",\"GT\",\"GT\",\"GT\",\"GT\",\"GT\",\"GT\",\"GT\",\"GT\",\"GT\",\"GT\",\"GT\",\"GT\",\"GT\",\"GT\",\"GT\",\"GT\",\"GT\",\"GT\",\"GT\",\"GT\",\"GT\",\"GT\",\"GT\",\"GT\",\"GT\",\"GT\",\"GT\",\"GT\",\"GT\",\"GT\",\"GT\",\"GT\",\"GT\",\"GT\",\"GT\",\"GT\",\"GT\",\"GT\",\"GT\",\"GT\",\"GT\",\"GT\",\"GT\",\"GT\",\"GT\",\"GT\",\"GT\",\"GT\",\"GT\",\"GT\",\"GT\",\"GT\",\"GT\",\"GT\",\"GT\",\"GT\",\"GT\",\"GT\",\"GT\",\"GT\",\"GT\",\"GT\",\"GT\",\"GT\",\"GT\",\"GT\",\"GT\",\"GT\",\"GT\",\"GT\",\"GT\",\"GT\",\"GT\",\"GT\",\"GT\",\"GT\",\"GT\",\"GT\",\"GT\",\"GT\",\"GT\",\"GT\",\"GT\",\"GT\",\"GT\",\"GT\",\"GT\",\"GT\",\"GT\",\"GT\",\"GT\",\"GT\",\"GT\",\"GT\",\"GT\",\"GT\",\"GT\",\"GT\",\"GT\",\"GT\",\"GT\",\"GT\",\"GT\",\"GT\",\"GT\",\"GT\",\"GT\",\"GT\",\"GT\",\"GT\",\"GT\",\"GT\",\"GT\",\"GT\",\"GT\",\"GT\",\"GT\",\"GT\",\"GT\",\"GT\",\"GT\",\"GT\",\"GT\",\"GT\",\"GT\",\"GT\",\"GT\",\"GT\",\"GT\",\"GT\",\"GT\",\"GT\",\"GT\",\"GT\",\"GT\",\"GT\",\"GT\",\"GT\",\"GT\",\"GT\",\"GT\",\"GT\",\"GT\",\"GT\",\"GT\",\"GT\",\"GT\",\"GT\",\"GT\",\"GT\",\"GT\",\"GT\",\"GT\",\"GT\",\"GT\",\"GT\",\"GT\",\"GT\",\"GT\",\"GT\",\"GT\",\"GT\",\"GT\",\"GT\",\"GT\",\"GT\",\"GT\",\"GT\",\"GT\",\"GT\",\"GT\",\"GT\",\"GT\",\"GT\",\"GT\",\"GT\",\"GT\",\"GT\",\"GT\",\"GT\",\"GT\",\"GT\",\"GT\",\"GT\",\"GT\",\"GT\",\"GT\",\"GT\",\"GT\",\"GT\",\"GT\",\"GT\",\"GT\",\"GT\",\"GT\",\"GT\",\"GT\",\"GT\",\"GT\",\"GT\",\"GT\",\"GT\",\"GT\",\"GT\",\"GT\",\"GT\",\"GT\",\"GT\",\"GT\",\"GT\",\"GT\",\"GT\",\"GT\",\"GT\",\"GT\",\"GT\",\"GT\",\"GT\",\"GT\",\"GT\",\"GT\",\"GT\",\"GT\",\"GT\",\"GT\",\"GT\",\"GT\",\"GT\",\"GT\",\"GT\",\"GT\",\"GT\",\"GT\",\"GT\",\"GT\",\"GT\",\"GT\",\"GT\",\"GT\",\"GT\",\"GT\",\"GT\",\"GT\",\"GT\",\"GT\",\"GT\",\"GT\",\"GT\",\"GT\",\"GT\",\"GT\",\"GT\",\"GT\",\"GT\",\"GT\",\"GT\",\"GT\",\"GT\",\"GT\",\"GT\",\"GT\",\"GT\",\"GT\",\"GT\",\"GT\",\"GT\",\"GT\",\"GT\",\"GT\",\"GT\",\"GT\",\"GT\",\"GT\",\"GT\",\"GT\",\"GT\",\"GT\",\"GT\",\"GT\",\"GT\",\"GT\",\"GT\",\"GT\",\"GT\",\"GT\",\"GT\",\"GT\",\"GT\",\"GT\",\"GT\",\"GT\",\"GT\",\"GT\",\"GT\",\"GT\",\"GT\",\"GT\",\"GT\",\"GT\",\"GT\",\"GT\",\"GT\",\"GT\",\"GT\",\"GT\",\"GT\",\"GT\",\"GT\",\"GT\",\"GT\",\"GT\",\"GT\",\"GT\",\"GT\",\"GT\",\"GT\",\"GT\",\"GT\",\"GT\",\"GT\",\"GT\",\"GT\",\"GT\",\"GT\",\"GT\",\"GT\",\"GT\",\"GT\",\"GT\",\"GT\",\"GT\",\"GT\",\"GT\",\"GT\",\"GT\",\"GT\",\"GT\",\"GT\",\"GT\",\"GT\",\"GT\",\"GT\",\"GT\",\"GT\",\"GT\",\"GT\",\"GT\",\"GT\",\"GT\",\"GT\",\"GT\",\"GT\",\"GT\",\"GT\",\"GT\",\"GT\",\"GT\",\"GT\",\"GT\",\"GT\",\"GT\",\"GT\",\"GT\",\"GT\",\"GT\",\"GT\",\"GT\",\"GT\",\"GT\",\"GT\",\"GT\",\"GT\",\"GT\",\"GT\",\"GT\",\"GT\",\"GT\",\"GT\",\"GT\",\"GT\",\"GT\",\"GT\",\"GT\",\"GT\",\"GT\",\"GT\",\"GT\",\"GT\",\"GT\",\"GT\",\"GT\",\"GT\",\"GT\",\"GT\",\"GT\",\"GT\",\"GT\",\"GT\",\"GT\",\"GT\",\"GT\",\"GT\",\"GT\",\"GT\",\"GT\",\"GT\",\"GT\",\"GT\",\"GT\",\"GT\",\"GT\",\"GT\",\"GT\",\"GT\",\"GT\",\"GT\",\"GT\",\"GT\",\"GT\",\"GT\",\"GT\",\"GT\",\"GT\",\"GT\",\"GT\",\"GT\",\"GT\",\"GT\",\"GT\",\"GT\",\"GT\",\"GT\",\"GT\",\"GT\",\"GT\",\"GT\",\"GT\",\"GT\",\"GT\",\"GT\",\"GT\",\"GT\",\"GT\",\"GT\",\"GT\",\"GT\",\"GT\",\"GT\",\"GT\",\"GT\",\"GT\",\"GT\",\"GT\",\"GT\",\"GT\",\"GT\",\"GT\",\"GT\",\"GT\",\"GT\",\"GT\",\"GT\",\"GT\",\"GT\",\"GT\",\"GT\",\"GT\",\"GT\",\"GT\",\"GT\",\"GT\",\"GT\",\"GT\",\"GT\",\"GT\",\"GT\",\"GT\",\"GT\",\"GT\",\"GT\",\"GT\",\"GT\",\"GT\",\"GT\",\"GT\",\"GT\",\"GT\",\"GT\",\"GT\",\"GT\",\"GT\",\"GT\",\"GT\",\"GT\",\"GT\",\"GT\",\"GT\",\"GT\",\"GT\",\"GT\",\"GT\",\"GT\",\"GT\",\"GT\",\"GT\",\"GT\",\"GT\",\"GT\",\"GT\",\"GT\",\"GT\",\"GT\",\"GT\",\"GT\",\"GT\",\"GT\",\"GT\",\"GT\",\"GT\",\"GT\",\"GT\",\"GT\",\"GT\",\"GT\",\"GT\",\"GT\",\"GT\",\"GT\",\"GT\",\"GT\",\"GT\",\"GT\",\"GT\",\"GT\",\"GT\",\"GT\",\"GT\",\"GT\",\"GT\",\"GT\",\"GT\",\"GT\",\"GT\",\"GT\",\"GT\",\"GT\",\"GT\",\"GT\",\"GT\",\"GT\",\"GT\",\"GT\",\"GT\",\"GT\",\"GT\",\"GT\",\"GT\",\"GT\",\"GT\",\"GT\",\"GT\",\"GT\",\"GT\",\"GT\",\"GT\",\"GT\",\"GT\",\"GT\",\"GT\",\"GT\",\"GT\",\"GT\",\"GT\",\"GT\",\"GT\",\"GT\",\"GT\",\"GT\",\"GT\",\"GT\",\"GT\",\"GT\",\"GT\",\"GT\",\"GT\",\"GT\",\"GT\",\"GT\",\"GT\",\"GT\",\"GT\",\"GT\",\"GT\",\"GT\",\"GT\",\"GT\",\"GT\",\"GT\",\"GT\",\"GT\",\"GT\",\"GT\",\"GT\",\"GT\",\"GT\",\"GT\",\"GT\",\"GT\",\"GT\",\"GT\",\"GT\",\"GT\",\"GT\",\"GT\",\"GT\",\"GT\",\"GT\",\"GT\",\"GT\",\"GT\",\"GT\",\"GT\",\"GT\",\"GT\",\"GT\",\"GT\",\"GT\",\"GT\",\"GT\",\"GT\",\"GT\",\"GT\",\"GT\",\"GT\",\"GT\",\"GT\",\"GT\",\"GT\",\"GT\",\"GT\",\"GT\",\"GT\",\"GT\",\"GT\",\"GT\",\"GT\",\"GT\",\"GT\",\"GT\",\"GT\",\"GT\",\"GT\",\"GT\",\"GT\",\"GT\",\"GT\",\"GT\",\"GT\",\"GT\",\"GT\",\"GT\",\"GT\",\"GT\",\"GT\",\"GT\",\"GT\",\"GT\",\"GT\",\"GT\",\"GT\",\"GT\",\"GT\",\"GT\",\"GT\",\"GT\",\"GT\",\"GT\",\"GT\",\"GT\",\"GT\",\"GT\",\"GT\",\"GT\",\"GT\",\"GT\",\"GT\",\"GT\",\"GT\",\"GT\",\"GT\",\"GT\",\"GT\",\"GT\",\"GT\",\"GT\",\"GT\",\"GT\",\"GT\",\"GT\",\"GT\",\"GT\",\"GT\",\"GT\",\"GT\",\"GT\",\"GT\",\"GT\",\"GT\",\"GT\",\"GT\",\"GT\",\"GT\",\"GT\",\"GT\",\"GT\",\"GT\",\"GT\",\"GT\",\"GT\",\"GT\",\"GT\",\"GT\",\"GT\",\"GT\",\"GT\",\"GT\",\"GT\",\"GT\",\"GT\",\"GT\",\"GT\",\"GT\",\"GT\",\"GT\",\"GT\",\"GT\",\"GT\",\"GT\",\"GT\",\"GT\",\"GT\",\"GT\",\"GT\",\"GT\",\"GT\",\"GT\",\"GT\",\"GT\",\"GT\",\"GT\",\"GT\",\"GT\",\"GT\",\"GT\",\"GT\",\"GT\",\"GT\",\"GT\",\"GT\",\"GT\",\"GT\",\"GT\",\"GT\",\"GT\",\"GT\",\"GT\",\"GT\",\"GT\",\"GT\",\"GT\",\"GT\",\"GT\",\"GT\",\"GT\",\"GT\",\"GT\",\"GT\",\"GT\",\"GT\",\"GT\",\"GT\",\"GT\",\"GT\",\"GT\",\"GT\",\"GT\",\"GT\",\"GT\",\"GT\",\"GT\",\"GT\",\"GT\",\"GT\",\"GT\",\"GT\",\"GT\",\"GT\",\"GT\",\"GT\",\"GT\",\"GT\",\"GT\",\"GT\",\"GT\",\"GT\",\"GT\",\"GT\",\"GT\",\"GT\",\"GT\",\"GT\",\"GT\",\"GT\",\"GT\",\"GT\",\"GT\",\"GT\",\"GT\",\"GT\",\"GT\",\"GT\",\"GT\",\"GT\",\"GT\",\"GT\",\"GT\",\"GT\",\"GT\",\"GT\",\"GT\",\"GT\",\"GT\",\"GT\",\"GT\",\"GT\",\"GT\",\"GT\",\"GT\",\"GT\",\"GT\",\"GT\",\"GT\",\"GT\",\"GT\",\"GT\",\"GT\",\"GT\",\"GT\",\"GT\",\"GT\",\"GT\",\"GT\",\"GT\",\"GT\",\"GT\",\"GT\",\"GT\",\"GT\",\"GT\",\"GT\",\"GT\",\"GT\",\"GT\",\"GT\",\"GT\",\"GT\",\"GT\",\"GT\",\"GT\",\"GT\",\"GT\",\"GT\",\"GT\",\"GT\",\"GT\",\"GT\",\"GT\",\"GT\",\"GT\",\"GT\",\"GT\",\"GT\",\"GT\",\"GT\",\"GT\",\"GT\",\"GT\",\"GT\",\"GT\",\"GT\",\"GT\",\"GT\",\"GT\",\"GT\",\"GT\",\"GT\",\"GT\",\"GT\",\"GT\",\"GT\",\"GT\",\"GT\"],\"Time\":{\"__ndarray__\":\"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\",\"dtype\":\"float64\",\"order\":\"little\",\"shape\":[991]}},\"selected\":{\"id\":\"1078\"},\"selection_policy\":{\"id\":\"1077\"}},\"id\":\"1060\",\"type\":\"ColumnDataSource\"},{\"attributes\":{\"fill_alpha\":{\"value\":0.1},\"fill_color\":{\"value\":\"white\"},\"line_alpha\":{\"value\":0.1},\"x\":{\"field\":\"Longitude\"},\"y\":{\"field\":\"Latitude\"}},\"id\":\"1083\",\"type\":\"Circle\"},{\"attributes\":{\"data\":{\"Index_ABS\":[2080,2081,2082,2083,2084,2085,2086,2087,2088,2089,2090,2091,2092,2093,2094,2095,2096,2097,2098,2099,2100,2101,2102,2103,2104,2105,2106,2107,2108,2109,2110,2111,2112,2113,2114,2115,2116,2117,2118,2119,2120,2121,2122,2123,2124,2125,2126,2127,2128,2129,2130,2131,2132,2133,2134,2135,2136,2137,2138,2139,2140,2141,2142,2143,2144,2145,2146,2147,2148,2149,2150,2151,2152,2153,2154,2155,2156,2157,2158,2159,2160,2161,2162,2163,2164,2165,2166,2167,2168,2169,2170,2171,2172,2173,2174,2175,2176,2177,2178,2179,2180,2181,2182,2183,2184,2185,2186,2187,2188,2189,2190,2191,2192,2193,2194,2195,2196,2197,2198,2199,2200,2201,2202,2203,2204,2205,2206,2207,2208,2209,2210,2211,2212,2213,2214,2215,2216,2217,2218,2219,2220,2221,2222,2223,2224,2225,2226,2227,2228,2229,2230,2231,2232,2233,2234,2235,2236,2237,2238,2239,2240,2241,2242,2243,2244,2245,2246,2247,2248,2249,2250,2251,2252,2253,2254,2255,2256,2257,2258],\"Index_Relative\":[0,1,2,3,4,5,6,7,8,9,10,11,12,13,14,15,16,17,18,19,20,21,22,23,24,25,26,27,28,29,30,31,32,33,34,35,36,37,38,39,40,41,42,43,44,45,46,47,48,49,50,51,52,53,54,55,56,57,58,59,60,61,62,63,64,65,66,67,68,69,70,71,72,73,74,75,76,77,78,79,80,81,82,83,84,85,86,87,88,89,90,91,92,93,94,95,96,97,98,99,100,101,102,103,104,105,106,107,108,109,110,111,112,113,114,115,116,117,118,119,120,121,122,123,124,125,126,127,128,129,130,131,132,133,134,135,136,137,138,139,140,141,142,143,144,145,146,147,148,149,150,151,152,153,154,155,156,157,158,159,160,161,162,163,164,165,166,167,168,169,170,171,172,173,174,175,176,177,178],\"Latitude\":{\"__ndarray__\":\"AAAAYPcAVEAAAACgExhUQAAAAIDZAVRAAAAAAEYBVEAAAABg3AJUQAAAAKDoDFRAAAAAIGMOVEAAAAAAoxZUQAAAAMD3E1RAAAAA4AAaVEAAAACArBdUQAAAAEC0CFRAAAAAgPL8U0AAAABAcgVUQAAAAAD5DFRAAAAAgJwiVEAAAADgmi5UQAAAAEAIKFRAAAAAYBIrVEAAAAAAXTVUQAAAAIDHOVRAAAAAIFNJVEAAAADgHUNUQAAAAMB0S1RAAAAAIPsjVEAAAADASSRUQAAAAKCgIFRAAAAAwDseVEAAAAAgGAlUQAAAAKCZBVRAAAAA4AsDVEAAAACAjvxTQAAAACDA81NAAAAAYJHpU0AAAAAAbbpTQAAAAICFvlNAAAAA4KzGU0AAAADAFddTQAAAAIBq1FNAAAAAgFrjU0AAAAAgydVTQAAAAIBP0lNAAAAAgEawU0AAAAAgbLhTQAAAAKCUvVNAAAAAACKdU0AAAAAg/5VTQAAAAKBVg1NAAAAAYG1xU0AAAABAvYZTQAAAAODntlNAAAAAgEinU0AAAABAI55TQAAAAKCiX1NAAAAAQBFCU0AAAABAR05TQAAAACCnPFNAAAAAgEhbU0AAAADAMohTQAAAAKCHnVNAAAAAwH+AU0AAAAAAhm1TQAAAAOANXlNAAAAAAJxPU0AAAACA/b1RQAAAAACIqFFAAAAAINSWUUAAAACAvotRQAAAAEDGiFFAAAAAQMa8UUAAAADgLcBRQAAAAIDkrlFAAAAAAKOqUUAAAABA1qVRQAAAAGD1pVFAAAAAADKSUUAAAABgZIdRQAAAAGBbgVFAAAAAgFp/UUAAAACA0ItRQAAAAECtjVFAAAAA4NmQUUAAAABAFZRRQAAAAOANnlFAAAAAYAmNUUAAAAAAS4lRQAAAAGDjeVFAAAAAIG53UUAAAABg44FRQAAAAIAxg1FAAAAAwMF/UUAAAADA6n9RQAAAAOAvb1FAAAAAoGlmUUAAAACgy1tRQAAAACDUVlFAAAAAwNVqUUAAAAAg+29RQAAAAIAtZVFAAAAAgC1dUUAAAACgvVFRQAAAAABPV1FAAAAAINKbUUAAAADgAKJRQAAAACANnFFAAAAAQECXUUAAAABAKplRQAAAAECCklFAAAAA4J6MUUAAAAAgsIZRQAAAAMDRgFFAAAAAgOR6UUAAAACgtG9RQAAAAEBXW1FAAAAAAHpuUUAAAAAgfGFRQAAAAIBsW1FAAAAAgLBVUUAAAABgCVlRQAAAAABfYFFAAAAAoCVkUUAAAADgAj1RQAAAAOAvN1FAAAAAwHs6UUAAAACARkRRQAAAAOAETFFAAAAAAIFRUUAAAACgmVFRQAAAAACxUFFAAAAAgGpIUUAAAABgvDxRQAAAAMD+OlFAAAAAAFQ/UUAAAABAvR5RQAAAAOBNJlFAAAAAAKMaUUAAAABAVbRQQAAAAEBps1BAAAAAoJKuUEAAAACgRa5QQAAAAODQjlBAAAAAgDhuUEAAAADgnGFQQAAAAIA2V1BAAAAAwEJJUEAAAAAA+TBQQAAAAIAWHVBAAAAAwFQdUEAAAAAgYx5QQAAAAEAIIFBAAAAAQGckUEAAAABAtChQQAAAAMDK8U9AAAAAYDn0T0AAAADAN/hPQAAAAIBsQ1BAAAAA4HMtUEAAAAAgJh9QQAAAAGCYMFBAAAAA4PkiUEAAAAAgYzJQQAAAACAvTVBAAAAAoCFOUEAAAACADUtQQAAAACDURlBAAAAAAMxKUEAAAABAXlJQQAAAAECEYVBAAAAAoEx1UEAAAACgxntQQAAAAMBtfFBAAAAAQOZ2UEAAAADgzs9QQAAAAMBQ61BAAAAAoHnvUEAAAACAk/xQQAAAACCuA1FAAAAAoD4LUUAAAACgzQ5RQA==\",\"dtype\":\"float64\",\"order\":\"little\",\"shape\":[179]},\"Longitude\":{\"__ndarray__\":\"AAAAQBE2GUAAAAAA3gIgQAAAAAAgkiBAAAAAQNFRIkAAAAAAVEMlQAAAAOB61CNAAAAAgHxQJUAAAABggaQmQAAAAKC2gidAAAAAAFSDKEAAAACgq+0pQAAAAKBnEylAAAAAQGKwLkAAAAAAeCsvQAAAAABNxC9AAAAAwCcPLUAAAADASzcsQAAAAGBrGi9AAAAAQKS/L0AAAADgL1sxQAAAAOB4GTJAAAAAAJG+MUAAAADAnY8yQAAAAMCmqTVAAAAAALqqMUAAAABga/owQAAAAICw4S9AAAAAQK0JMEAAAAAAGx4xQAAAAAAt4jBAAAAAIMllMUAAAAAgt7ExQAAAAIBjDTJAAAAAAN4SM0AAAAAglcQ2QAAAAOA/1DdAAAAAIFoUOUAAAADg8s87QAAAAAB61jxAAAAAgOTiPEAAAADAr1M+QAAAAGB2/z1AAAAAYJgMQEAAAAAAkX5AQAAAAAC1BkFAAAAA4NnkQEAAAACA6S5AQAAAAOCB0z5AAAAAgLXVP0AAAADgTQpBQAAAAABE2kJAAAAAwDKkQ0AAAABAxOlDQAAAAADe+kBAAAAAAC36QEAAAADAfxBAQAAAAKAR1T1AAAAAwJj7PUAAAACgfrs7QAAAAKDE0DlAAAAAAN4SOkAAAACgIf47QAAAAABUEzpAAAAAIA87PEAAAADASUw6QAAAAIAU3jlAAAAAQGk/OUAAAACA2T05QAAAAGCaNzlAAAAAgM4oOUAAAABg8GU4QAAAAECvNDhAAAAAwECSOEAAAADgtSQ4QAAAAKD/MDdAAAAAgBtNN0AAAABA3z83QAAAAKAPSjdAAAAAgDYrN0AAAADgaBA3QAAAACD/ATdAAAAA4AuDNkAAAABgNEA2QAAAAACR3jRAAAAAYOMVNUAAAADgpVs1QAAAAIANrzVAAAAAQCrpNUAAAADAfb01QAAAAGAOXTVAAAAAwB4lNUAAAADAF2Y0QAAAAIAfYzRAAAAAILBiNEAAAABgmDw0QAAAAOD5DjRAAAAAAM65M0AAAADA7A4zQAAAAECb5TJAAAAAoDrxMkAAAAAAB18zQAAAAMDVJjNAAAAAAOBNM0AAAADAyLYyQAAAAMB/yDFAAAAAQGdEMUAAAACAJoIxQAAAAKCgyDFAAAAAQGdkMkAAAACA26gxQAAAAOA4VTFAAAAAYAfuMEAAAACgi6sxQAAAAEBAMzBAAAAAwCcfMUAAAACgRQYxQAAAAIBq/C9AAAAAYCCxMkAAAABgb4AyQAAAAGC6OTJAAAAAIDH4MUAAAACg3x4xQAAAAKB3zDBAAAAAQDc5MEAAAACguwYwQAAAAIA/RTBAAAAAwDKkMEAAAADAhicvQAAAAABoIi5AAAAAoIelLUAAAABA73grQAAAAKAImyxAAAAA4LWkLUAAAACgRfYrQAAAAOBRGClAAAAAwHYeKEAAAACgCDsrQAAAAKA1zSpAAAAAgE9eKkAAAAAAAsspQAAAAGCoFSpAAAAAwGK/KEAAAABgUucnQAAAAGCqIChAAAAAoNi/J0AAAAAAVAMnQAAAAOCz+SZAAAAAgBbZJkAAAACAUakmQAAAAKCpYiZAAAAAgAI6JkAAAADAXeslQAAAAKAY5CFAAAAAwI1GIkAAAABA8eMiQAAAAMD3cyFAAAAA4D+kIUAAAAAAZKwhQAAAAMDcFSNAAAAAIMuQI0AAAAAA1wMkQAAAACBuQyhAAAAAIEN8KEAAAACg354oQAAAAECZyihAAAAAAABAKUAAAACAT74pQAAAAEBO0ShAAAAAANMNKUAAAACgi1spQAAAAGCf6ylAAAAAYCtWKkAAAAAgg6AmQAAAAOCnBidAAAAAgC+MKEAAAADgFD0pQAAAAMC6+CRAAAAAALoaJkAAAABAotQoQA==\",\"dtype\":\"float64\",\"order\":\"little\",\"shape\":[179]},\"Platform\":[\"HJ\",\"HJ\",\"HJ\",\"HJ\",\"HJ\",\"HJ\",\"HJ\",\"HJ\",\"HJ\",\"HJ\",\"HJ\",\"HJ\",\"HJ\",\"HJ\",\"HJ\",\"HJ\",\"HJ\",\"HJ\",\"HJ\",\"HJ\",\"HJ\",\"HJ\",\"HJ\",\"HJ\",\"HJ\",\"HJ\",\"HJ\",\"HJ\",\"HJ\",\"HJ\",\"HJ\",\"HJ\",\"HJ\",\"HJ\",\"HJ\",\"HJ\",\"HJ\",\"HJ\",\"HJ\",\"HJ\",\"HJ\",\"HJ\",\"HJ\",\"HJ\",\"HJ\",\"HJ\",\"HJ\",\"HJ\",\"HJ\",\"HJ\",\"HJ\",\"HJ\",\"HJ\",\"HJ\",\"HJ\",\"HJ\",\"HJ\",\"HJ\",\"HJ\",\"HJ\",\"HJ\",\"HJ\",\"HJ\",\"HJ\",\"HJ\",\"HJ\",\"HJ\",\"HJ\",\"HJ\",\"HJ\",\"HJ\",\"HJ\",\"HJ\",\"HJ\",\"HJ\",\"HJ\",\"HJ\",\"HJ\",\"HJ\",\"HJ\",\"HJ\",\"HJ\",\"HJ\",\"HJ\",\"HJ\",\"HJ\",\"HJ\",\"HJ\",\"HJ\",\"HJ\",\"HJ\",\"HJ\",\"HJ\",\"HJ\",\"HJ\",\"HJ\",\"HJ\",\"HJ\",\"HJ\",\"HJ\",\"HJ\",\"HJ\",\"HJ\",\"HJ\",\"HJ\",\"HJ\",\"HJ\",\"HJ\",\"HJ\",\"HJ\",\"HJ\",\"HJ\",\"HJ\",\"HJ\",\"HJ\",\"HJ\",\"HJ\",\"HJ\",\"HJ\",\"HJ\",\"HJ\",\"HJ\",\"HJ\",\"HJ\",\"HJ\",\"HJ\",\"HJ\",\"HJ\",\"HJ\",\"HJ\",\"HJ\",\"HJ\",\"HJ\",\"HJ\",\"HJ\",\"HJ\",\"HJ\",\"HJ\",\"HJ\",\"HJ\",\"HJ\",\"HJ\",\"HJ\",\"HJ\",\"HJ\",\"HJ\",\"HJ\",\"HJ\",\"HJ\",\"HJ\",\"HJ\",\"HJ\",\"HJ\",\"HJ\",\"HJ\",\"HJ\",\"HJ\",\"HJ\",\"HJ\",\"HJ\",\"HJ\",\"HJ\",\"HJ\",\"HJ\",\"HJ\",\"HJ\",\"HJ\",\"HJ\",\"HJ\",\"HJ\",\"HJ\",\"HJ\",\"HJ\",\"HJ\",\"HJ\",\"HJ\",\"HJ\",\"HJ\",\"HJ\"],\"Time\":{\"__ndarray__\":\"AAD7t9zsbkIAAGGxBO1uQgAAV+Ef7W5CAACv9TXtbkIAALbYS+1uQgAAkBle7W5CAAAjznDtbkIAAJCah+1uQgAAJ0Kj7W5CAAAGo7PtbkIAANF9zO1uQgAAOVTe7W5CAACCkfjtbkIAAMQCDu5uQgAALykd7m5CAACi0DnubkIAAFEtTO5uQgAADiJo7m5CAAD3knzubkIAAPCbk+5uQgAAGOKi7m5CAACTprPubkIAAHN61+5uQgAAJSb87m5CAACYNzHvbkIAALXbQu9uQgAA7F1S725CAACgmG3vbkIAAInMoO9uQgAAdmC2725CAACJ6MXvbkIAAFra2u9uQgAAIbDt725CAACYvADwbkIAALGaQPBuQgAA0gJO8G5CAACnvl3wbkIAAPUVd/BuQgAAOW+J8G5CAAA6d5nwbkIAAOzayfBuQgAA4kDc8G5CAADEugfxbkIAAJEMG/FuQgAApIgs8W5CAAAqvWzxbkIAADrpgPFuQgAALuSW8W5CAABbi67xbkIAAIODyvFuQgAAjfb88W5CAAC7/xXybkIAALk6KPJuQgAA0DZq8m5CAAD3T4TybkIAANNIm/JuQgAARJ238m5CAABeXM/ybkIAAMbM8fJuQgAAOhGY825CAAAbp63zbkIAAIaLx/NuQgAACVrk825CAAC6XP7zbkIAAICUiQtvQgAAwsOpC29CAACL3ugLb0IAAOuRBwxvQgAAhksSDG9CAABxC3sMb0IAAKrNogxvQgAA0I7jDG9CAABA1AUNb0IAAMExJw1vQgAAs5xbDW9CAAABKYENb0IAAOvPxw1vQgAAjULvDW9CAAAldgUOb0IAAEWrHg5vQgAAnJI/Dm9CAAA4kFAOb0IAALjqdQ5vQgAAdLzEDm9CAACrStIOb0IAAI997Q5vQgAAM/H4Dm9CAACzzwgPb0IAAJ6YMQ9vQgAAWYhAD29CAADgcnQPb0IAAGDpvg9vQgAA+NvKD29CAACtVO0Pb0IAAL6D/Q9vQgAA0+0KEG9CAAAir3cQb0IAAJ09kRBvQgAAyiCfEG9CAAA+nKoQb0IAAINRvxBvQgAALY3oEG9CAABbuCURb0IAALwS9hFvQgAA2hIKEm9CAAAumRsSb0IAAMzXLxJvQgAABdxMEm9CAAD+9XUSb0IAAHkTjRJvQgAARZKcEm9CAADzCa4Sb0IAAOB+3RJvQgAAW5D2Em9CAAAhCDETb0IAALFUShNvQgAAgsleE29CAABlgZETb0IAAAS3oxNvQgAABV5VFG9CAADVmmEUb0IAABEeiRRvQgAAaVaZFG9CAABsRqYUb0IAAKdotxRvQgAA+yf+FG9CAABa5B4Vb0IAAI+5PBVvQgAAH8VLFW9CAAC+EloVb0IAAOLDehVvQgAAMEuMFW9CAACFpKEVb0IAAIET3BVvQgAACo0GFm9CAACtxx4Wb0IAAHCArBZvQgAAOmWyFm9CAAD6nrgWb0IAAP/VxxZvQgAANObwFm9CAAA0lxIXb0IAAJ5+LxdvQgAAslBEF29CAADUr08Xb0IAALVcdhdvQgAAzvbqF29CAACHXu0Xb0IAAMgs9xdvQgAANsf9F29CAAD+XgIYb0IAAACUBxhvQgAAV2hAGG9CAAADb1YYb0IAALx8ZxhvQgAAXqyuGG9CAACc9MMYb0IAAKL+1hhvQgAAWQUFGW9CAAAopBkZb0IAAJBENBlvQgAAk9NlGW9CAAAdImoZb0IAACGwbhlvQgAA2vl1GW9CAADmzXwZb0IAAFAzhRlvQgAAHe3aGW9CAAAFxvYZb0IAABPDBBpvQgAAPSYdGm9CAACRZSUab0IAAOOCjRpvQgAAJbbWGm9CAABKO+Yab0IAAE0l9BpvQgAAHcAaG29CAADjejUbb0IAAIMjWxtvQg==\",\"dtype\":\"float64\",\"order\":\"little\",\"shape\":[179]}},\"selected\":{\"id\":\"1100\"},\"selection_policy\":{\"id\":\"1099\"}},\"id\":\"1080\",\"type\":\"ColumnDataSource\"},{\"attributes\":{\"data_source\":{\"id\":\"1080\"},\"glyph\":{\"id\":\"1082\"},\"hover_glyph\":null,\"muted_glyph\":null,\"nonselection_glyph\":{\"id\":\"1083\"},\"view\":{\"id\":\"1085\"}},\"id\":\"1084\",\"type\":\"GlyphRenderer\"},{\"attributes\":{},\"id\":\"1034\",\"type\":\"AllLabels\"},{\"attributes\":{\"source\":{\"id\":\"1080\"}},\"id\":\"1085\",\"type\":\"CDSView\"},{\"attributes\":{},\"id\":\"1039\",\"type\":\"Selection\"},{\"attributes\":{\"fill_color\":{\"value\":\"white\"},\"x\":{\"field\":\"Longitude\"},\"y\":{\"field\":\"Latitude\"}},\"id\":\"1082\",\"type\":\"Circle\"},{\"attributes\":{},\"id\":\"1009\",\"type\":\"DataRange1d\"},{\"attributes\":{\"source\":{\"id\":\"1025\"}},\"id\":\"1030\",\"type\":\"CDSView\"},{\"attributes\":{},\"id\":\"1007\",\"type\":\"DataRange1d\"},{\"attributes\":{\"data\":{\"Index_ABS\":[684,685,686,687,688,689,690,691,692,693,694,695,696,697,698,699,700,701,702,703,704,705,706,707,708,709,710,711,712,713,714,715,716,717,718,719,720,721,722,723,724,725,726,727,728,729,730,731,732,733,734,735,736,737,738,739,740,741,742,743,744,745,746,747,748,749,750,751,752,753,754,755,756,757,758,759,760,761,762,763,764,765,766,767,768,769,770,771,772,773,774,775,776,777,778,779,780,781,782,783,784,785,786,787,788,789,790,791,792,793,794,795,796,797,798,799,800,801,802,803,804,805,806,807,808,809,810,811,812,813,814,815,816,817,818,819,820,821,822,823,824,825,826,827,828,829,830,831,832,833,834,835,836,837,838,839,840,841,842,843,844,845,846,847,848,849,850,851,852,853,854,855,856,857,858,859,860,861,862,863,864,865,866,867,868,869,870,871,872,873,874,875,876,877,878,879,880,881,882,883,884,885,886,887,888,889,890,891,892,893,894,895,896,897,898,899,900,901,902,903,904,905,906,907,908,909,910,911,912,913,914,915,916,917,918,919,920,921,922,923,924,925,926,927,928,929,930,931,932,933,934,935,936,937,938,939,940,941,942,943,944,945,946,947,948,949,950,951,952,953,954,955,956,957,958,959,960,961,962,963,964,965,966,967,968,969,970,971,972,973,974,975,976,977,978,979,980,981,982,983,984,985,986,987,988,989,990,991,992,993,994,995,996,997,998,999,1000,1001,1002,1003,1004,1005,1006,1007,1008,1009,1010,1011,1012,1013,1014,1015,1016,1017,1018,1019,1020,1021,1022,1023,1024,1025,1026,1027,1028,1029,1030,1031,1032,1033,1034,1035,1036,1037,1038,1039,1040,1041,1042,1043,1044,1045,1046,1047,1048,1049,1050,1051,1052,1053,1054,1055,1056,1057,1058,1059,1060,1061,1062,1063,1064,1065,1066,1067,1068,1069,1070,1071,1072,1073,1074,1075,1076,1077,1078,1079,1080,1081,1082,1083,1084,1085,1086,1087,1088],\"Index_Relative\":[0,1,2,3,4,5,6,7,8,9,10,11,12,13,14,15,16,17,18,19,20,21,22,23,24,25,26,27,28,29,30,31,32,33,34,35,36,37,38,39,40,41,42,43,44,45,46,47,48,49,50,51,52,53,54,55,56,57,58,59,60,61,62,63,64,65,66,67,68,69,70,71,72,73,74,75,76,77,78,79,80,81,82,83,84,85,86,87,88,89,90,91,92,93,94,95,96,97,98,99,100,101,102,103,104,105,106,107,108,109,110,111,112,113,114,115,116,117,118,119,120,121,122,123,124,125,126,127,128,129,130,131,132,133,134,135,136,137,138,139,140,141,142,143,144,145,146,147,148,149,150,151,152,153,154,155,156,157,158,159,160,161,162,163,164,165,166,167,168,169,170,171,172,173,174,175,176,177,178,179,180,181,182,183,184,185,186,187,188,189,190,191,192,193,194,195,196,197,198,199,200,201,202,203,204,205,206,207,208,209,210,211,212,213,214,215,216,217,218,219,220,221,222,223,224,225,226,227,228,229,230,231,232,233,234,235,236,237,238,239,240,241,242,243,244,245,246,247,248,249,250,251,252,253,254,255,256,257,258,259,260,261,262,263,264,265,266,267,268,269,270,271,272,273,274,275,276,277,278,279,280,281,282,283,284,285,286,287,288,289,290,291,292,293,294,295,296,297,298,299,300,301,302,303,304,305,306,307,308,309,310,311,312,313,314,315,316,317,318,319,320,321,322,323,324,325,326,327,328,329,330,331,332,333,334,335,336,337,338,339,340,341,342,343,344,345,346,347,348,349,350,351,352,353,354,355,356,357,358,359,360,361,362,363,364,365,366,367,368,369,370,371,372,373,374,375,376,377,378,379,380,381,382,383,384,385,386,387,388,389,390,391,392,393,394,395,396,397,398,399,400,401,402,403,404],\"Latitude\":{\"__ndarray__\":\"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\",\"dtype\":\"float64\",\"order\":\"little\",\"shape\":[405]},\"Longitude\":{\"__ndarray__\":\"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\",\"dtype\":\"float64\",\"order\":\"little\",\"shape\":[405]},\"Platform\":[\"GS\",\"GS\",\"GS\",\"GS\",\"GS\",\"GS\",\"GS\",\"GS\",\"GS\",\"GS\",\"GS\",\"GS\",\"GS\",\"GS\",\"GS\",\"GS\",\"GS\",\"GS\",\"GS\",\"GS\",\"GS\",\"GS\",\"GS\",\"GS\",\"GS\",\"GS\",\"GS\",\"GS\",\"GS\",\"GS\",\"GS\",\"GS\",\"GS\",\"GS\",\"GS\",\"GS\",\"GS\",\"GS\",\"GS\",\"GS\",\"GS\",\"GS\",\"GS\",\"GS\",\"GS\",\"GS\",\"GS\",\"GS\",\"GS\",\"GS\",\"GS\",\"GS\",\"GS\",\"GS\",\"GS\",\"GS\",\"GS\",\"GS\",\"GS\",\"GS\",\"GS\",\"GS\",\"GS\",\"GS\",\"GS\",\"GS\",\"GS\",\"GS\",\"GS\",\"GS\",\"GS\",\"GS\",\"GS\",\"GS\",\"GS\",\"GS\",\"GS\",\"GS\",\"GS\",\"GS\",\"GS\",\"GS\",\"GS\",\"GS\",\"GS\",\"GS\",\"GS\",\"GS\",\"GS\",\"GS\",\"GS\",\"GS\",\"GS\",\"GS\",\"GS\",\"GS\",\"GS\",\"GS\",\"GS\",\"GS\",\"GS\",\"GS\",\"GS\",\"GS\",\"GS\",\"GS\",\"GS\",\"GS\",\"GS\",\"GS\",\"GS\",\"GS\",\"GS\",\"GS\",\"GS\",\"GS\",\"GS\",\"GS\",\"GS\",\"GS\",\"GS\",\"GS\",\"GS\",\"GS\",\"GS\",\"GS\",\"GS\",\"GS\",\"GS\",\"GS\",\"GS\",\"GS\",\"GS\",\"GS\",\"GS\",\"GS\",\"GS\",\"GS\",\"GS\",\"GS\",\"GS\",\"GS\",\"GS\",\"GS\",\"GS\",\"GS\",\"GS\",\"GS\",\"GS\",\"GS\",\"GS\",\"GS\",\"GS\",\"GS\",\"GS\",\"GS\",\"GS\",\"GS\",\"GS\",\"GS\",\"GS\",\"GS\",\"GS\",\"GS\",\"GS\",\"GS\",\"GS\",\"GS\",\"GS\",\"GS\",\"GS\",\"GS\",\"GS\",\"GS\",\"GS\",\"GS\",\"GS\",\"GS\",\"GS\",\"GS\",\"GS\",\"GS\",\"GS\",\"GS\",\"GS\",\"GS\",\"GS\",\"GS\",\"GS\",\"GS\",\"GS\",\"GS\",\"GS\",\"GS\",\"GS\",\"GS\",\"GS\",\"GS\",\"GS\",\"GS\",\"GS\",\"GS\",\"GS\",\"GS\",\"GS\",\"GS\",\"GS\",\"GS\",\"GS\",\"GS\",\"GS\",\"GS\",\"GS\",\"GS\",\"GS\",\"GS\",\"GS\",\"GS\",\"GS\",\"GS\",\"GS\",\"GS\",\"GS\",\"GS\",\"GS\",\"GS\",\"GS\",\"GS\",\"GS\",\"GS\",\"GS\",\"GS\",\"GS\",\"GS\",\"GS\",\"GS\",\"GS\",\"GS\",\"GS\",\"GS\",\"GS\",\"GS\",\"GS\",\"GS\",\"GS\",\"GS\",\"GS\",\"GS\",\"GS\",\"GS\",\"GS\",\"GS\",\"GS\",\"GS\",\"GS\",\"GS\",\"GS\",\"GS\",\"GS\",\"GS\",\"GS\",\"GS\",\"GS\",\"GS\",\"GS\",\"GS\",\"GS\",\"GS\",\"GS\",\"GS\",\"GS\",\"GS\",\"GS\",\"GS\",\"GS\",\"GS\",\"GS\",\"GS\",\"GS\",\"GS\",\"GS\",\"GS\",\"GS\",\"GS\",\"GS\",\"GS\",\"GS\",\"GS\",\"GS\",\"GS\",\"GS\",\"GS\",\"GS\",\"GS\",\"GS\",\"GS\",\"GS\",\"GS\",\"GS\",\"GS\",\"GS\",\"GS\",\"GS\",\"GS\",\"GS\",\"GS\",\"GS\",\"GS\",\"GS\",\"GS\",\"GS\",\"GS\",\"GS\",\"GS\",\"GS\",\"GS\",\"GS\",\"GS\",\"GS\",\"GS\",\"GS\",\"GS\",\"GS\",\"GS\",\"GS\",\"GS\",\"GS\",\"GS\",\"GS\",\"GS\",\"GS\",\"GS\",\"GS\",\"GS\",\"GS\",\"GS\",\"GS\",\"GS\",\"GS\",\"GS\",\"GS\",\"GS\",\"GS\",\"GS\",\"GS\",\"GS\",\"GS\",\"GS\",\"GS\",\"GS\",\"GS\",\"GS\",\"GS\",\"GS\",\"GS\",\"GS\",\"GS\",\"GS\",\"GS\",\"GS\",\"GS\",\"GS\",\"GS\",\"GS\",\"GS\",\"GS\",\"GS\",\"GS\",\"GS\",\"GS\",\"GS\",\"GS\",\"GS\",\"GS\",\"GS\",\"GS\",\"GS\",\"GS\",\"GS\",\"GS\",\"GS\",\"GS\",\"GS\",\"GS\",\"GS\",\"GS\",\"GS\",\"GS\",\"GS\",\"GS\",\"GS\",\"GS\",\"GS\",\"GS\",\"GS\",\"GS\",\"GS\",\"GS\",\"GS\",\"GS\",\"GS\",\"GS\",\"GS\",\"GS\",\"GS\"],\"Time\":{\"__ndarray__\":\"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\",\"dtype\":\"float64\",\"order\":\"little\",\"shape\":[405]}},\"selected\":{\"id\":\"1058\"},\"selection_policy\":{\"id\":\"1057\"}},\"id\":\"1042\",\"type\":\"ColumnDataSource\"},{\"attributes\":{},\"id\":\"1035\",\"type\":\"BasicTickFormatter\"},{\"attributes\":{\"text\":\"Mouse over the dots\"},\"id\":\"1005\",\"type\":\"Title\"},{\"attributes\":{\"label\":{\"value\":\"Platform GT locations\"},\"renderers\":[{\"id\":\"1064\"}]},\"id\":\"1079\",\"type\":\"LegendItem\"},{\"attributes\":{\"data_source\":{\"id\":\"1060\"},\"glyph\":{\"id\":\"1062\"},\"hover_glyph\":null,\"muted_glyph\":null,\"nonselection_glyph\":{\"id\":\"1063\"},\"view\":{\"id\":\"1065\"}},\"id\":\"1064\",\"type\":\"GlyphRenderer\"},{\"attributes\":{\"label\":{\"value\":\"Platform AA locations\"},\"renderers\":[{\"id\":\"1029\"}]},\"id\":\"1041\",\"type\":\"LegendItem\"},{\"attributes\":{},\"id\":\"1123\",\"type\":\"UnionRenderers\"},{\"attributes\":{\"label\":{\"value\":\"Platform JH locations\"},\"renderers\":[{\"id\":\"1106\"}]},\"id\":\"1125\",\"type\":\"LegendItem\"},{\"attributes\":{},\"id\":\"1077\",\"type\":\"UnionRenderers\"},{\"attributes\":{\"data_source\":{\"id\":\"1025\"},\"glyph\":{\"id\":\"1027\"},\"hover_glyph\":null,\"muted_glyph\":null,\"nonselection_glyph\":{\"id\":\"1028\"},\"view\":{\"id\":\"1030\"}},\"id\":\"1029\",\"type\":\"GlyphRenderer\"},{\"attributes\":{},\"id\":\"1032\",\"type\":\"BasicTickFormatter\"},{\"attributes\":{},\"id\":\"1078\",\"type\":\"Selection\"},{\"attributes\":{\"data\":{\"Index_ABS\":[0,1,2,3,4,5,6,7,8,9,10,11,12,13,14,15,16,17,18,19,20,21,22,23,24,25,26,27,28,29,30,31,32,33,34,35,36,37,38,39,40,41,42,43,44,45,46,47,48,49,50,51,52,53,54,55,56,57,58,59,60,61,62,63,64,65,66,67,68,69,70,71,72,73,74,75,76,77,78,79,80,81,82,83,84,85,86,87,88,89,90,91,92,93,94,95,96,97,98,99,100,101,102,103,104,105,106,107,108,109,110,111,112,113,114,115,116,117,118,119,120,121,122,123,124,125,126,127,128,129,130,131,132,133,134,135,136,137,138,139,140,141,142,143,144,145,146,147,148,149,150,151,152,153,154,155,156,157,158,159,160,161,162,163,164,165,166,167,168,169,170,171,172,173,174,175,176,177,178,179,180,181,182,183,184,185,186,187,188,189,190,191,192,193,194,195,196,197,198,199,200,201,202,203,204,205,206,207,208,209,210,211,212,213,214,215,216,217,218,219,220,221,222,223,224,225,226,227,228,229,230,231,232,233,234,235,236,237,238,239,240,241,242,243,244,245,246,247,248,249,250,251,252,253,254,255,256,257,258,259,260,261,262,263,264,265,266,267,268,269,270,271,272,273,274,275,276,277,278,279,280,281,282,283,284,285,286,287,288,289,290,291,292,293,294,295,296,297,298,299,300,301,302,303,304,305,306,307,308,309,310,311,312,313,314,315,316,317,318,319,320,321,322,323,324,325,326,327,328,329,330,331,332,333,334,335,336,337,338,339,340,341,342,343,344,345,346,347,348,349,350,351,352,353,354,355,356,357,358,359,360,361,362,363,364,365,366,367,368,369,370,371,372,373,374,375,376,377,378,379,380,381,382,383,384,385,386,387,388,389,390,391,392,393,394,395,396,397,398,399,400,401,402,403,404,405,406,407,408,409,410,411,412,413,414,415,416,417,418,419,420,421,422,423,424,425,426,427,428,429,430,431,432,433,434,435,436,437,438,439,440,441,442,443,444,445,446,447,448,449,450,451,452,453,454,455,456,457,458,459,460,461,462,463,464,465,466,467,468,469,470,471,472,473,474,475,476,477,478,479,480,481,482,483,484,485,486,487,488,489,490,491,492,493,494,495,496,497,498,499,500,501,502,503,504,505,506,507,508,509,510,511,512,513,514,515,516,517,518,519,520,521,522,523,524,525,526,527,528,529,530,531,532,533,534,535,536,537,538,539,540,541,542,543,544,545,546,547,548,549,550,551,552,553,554,555,556,557,558,559,560,561,562,563,564,565,566,567,568,569,570,571,572,573,574,575,576,577,578,579,580,581,582,583,584,585,586,587,588,589,590,591,592,593,594,595,596,597,598,599,600,601,602,603,604,605,606,607,608,609,610,611,612,613,614,615,616,617,618,619,620,621,622,623,624,625,626,627,628,629,630,631,632,633,634,635,636,637,638,639,640,641,642,643,644,645,646,647,648,649,650,651,652,653,654,655,656,657,658,659,660,661,662,663,664,665,666,667,668,669,670,671,672,673,674,675,676,677,678,679,680,681,682,683],\"Index_Relative\":[0,1,2,3,4,5,6,7,8,9,10,11,12,13,14,15,16,17,18,19,20,21,22,23,24,25,26,27,28,29,30,31,32,33,34,35,36,37,38,39,40,41,42,43,44,45,46,47,48,49,50,51,52,53,54,55,56,57,58,59,60,61,62,63,64,65,66,67,68,69,70,71,72,73,74,75,76,77,78,79,80,81,82,83,84,85,86,87,88,89,90,91,92,93,94,95,96,97,98,99,100,101,102,103,104,105,106,107,108,109,110,111,112,113,114,115,116,117,118,119,120,121,122,123,124,125,126,127,128,129,130,131,132,133,134,135,136,137,138,139,140,141,142,143,144,145,146,147,148,149,150,151,152,153,154,155,156,157,158,159,160,161,162,163,164,165,166,167,168,169,170,171,172,173,174,175,176,177,178,179,180,181,182,183,184,185,186,187,188,189,190,191,192,193,194,195,196,197,198,199,200,201,202,203,204,205,206,207,208,209,210,211,212,213,214,215,216,217,218,219,220,221,222,223,224,225,226,227,228,229,230,231,232,233,234,235,236,237,238,239,240,241,242,243,244,245,246,247,248,249,250,251,252,253,254,255,256,257,258,259,260,261,262,263,264,265,266,267,268,269,270,271,272,273,274,275,276,277,278,279,280,281,282,283,284,285,286,287,288,289,290,291,292,293,294,295,296,297,298,299,300,301,302,303,304,305,306,307,308,309,310,311,312,313,314,315,316,317,318,319,320,321,322,323,324,325,326,327,328,329,330,331,332,333,334,335,336,337,338,339,340,341,342,343,344,345,346,347,348,349,350,351,352,353,354,355,356,357,358,359,360,361,362,363,364,365,366,367,368,369,370,371,372,373,374,375,376,377,378,379,380,381,382,383,384,385,386,387,388,389,390,391,392,393,394,395,396,397,398,399,400,401,402,403,404,405,406,407,408,409,410,411,412,413,414,415,416,417,418,419,420,421,422,423,424,425,426,427,428,429,430,431,432,433,434,435,436,437,438,439,440,441,442,443,444,445,446,447,448,449,450,451,452,453,454,455,456,457,458,459,460,461,462,463,464,465,466,467,468,469,470,471,472,473,474,475,476,477,478,479,480,481,482,483,484,485,486,487,488,489,490,491,492,493,494,495,496,497,498,499,500,501,502,503,504,505,506,507,508,509,510,511,512,513,514,515,516,517,518,519,520,521,522,523,524,525,526,527,528,529,530,531,532,533,534,535,536,537,538,539,540,541,542,543,544,545,546,547,548,549,550,551,552,553,554,555,556,557,558,559,560,561,562,563,564,565,566,567,568,569,570,571,572,573,574,575,576,577,578,579,580,581,582,583,584,585,586,587,588,589,590,591,592,593,594,595,596,597,598,599,600,601,602,603,604,605,606,607,608,609,610,611,612,613,614,615,616,617,618,619,620,621,622,623,624,625,626,627,628,629,630,631,632,633,634,635,636,637,638,639,640,641,642,643,644,645,646,647,648,649,650,651,652,653,654,655,656,657,658,659,660,661,662,663,664,665,666,667,668,669,670,671,672,673,674,675,676,677,678,679,680,681,682,683],\"Latitude\":{\"__ndarray__\":\"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\",\"dtype\":\"float64\",\"order\":\"little\",\"shape\":[684]},\"Longitude\":{\"__ndarray__\":\"AAAAoEV2EkAAAAAgD8sRQAAAAKAlJBFAAAAA4M53EEAAAADgepQPQAAAAGBLSA5AAAAAwHLoDEAAAACAT54LQAAAAODrQApAAAAAQEfyCEAAAABAUHwHQAAAAMCfGgZAAAAAgJXDBEAAAADAWyACQAAAAMBCrf4/AAAAgErq9j8AAABgZDvtPwAAAIAmwuI/AAAA4K4l0D8AAACAQWC1PwAAAOCs+tC/AAAAYI/C3b8AAAAAxY/lvwAAAGDKMghAAAAAIOtiBEAAAABAe4PvvwAAAOBoAOW/AAAAILsn178AAACAvp96PwAAAEBAE9U/AAAAAC2y5T8AAAAAVg7wPwAAAADeAvU/AAAAYDSA+j8AAACgmRkAQAAAACDb+QFAAAAAAGgiBEAAAACgqQIGQAAAAMBLNwdAAAAAIPaXCEAAAACggtEJQAAAAGDV5wpAAAAAgARFDEAAAACAwnUNQAAAAMBdyw5AAAAAIHwhEEAAAACAjLkQQAAAAKDPVRFAAAAAQC7/EUAAAABACKwSQAAAAGC6SRNAAAAAIDa8E0AAAADg8h8UQAAAAKBDKyBAAAAAgNAzIEAAAAAAj1MgQAAAAKCAZiBAAAAAgGiRIEAAAABgIqwgQAAAACDrwiBAAAAAAPDWIEAAAACAg+8gQAAAACDyASFAAAAA4JEcIUAAAADAFbseQAAAACBczx9AAAAAIC+dHkAAAACASmodQAAAAKBw/RtAAAAAINKvGkAAAAAAzlkZQAAAAEDqBBhAAAAAQCxUF0AAAABAZwQZQAAAACAmExdAAAAAoDysFkAAAAAgMcgUQAAAAIAdeBhAAAAAwG30FkAAAABgMpUSQAAAAIA9yhJAAAAAQAP4EUAAAAAAiDQRQAAAAEBprxBAAAAAoIkwD0AAAACAhVoNQAAAAMBkKgtAAAAA4LUECUAAAAAgsp0HQAAAAEAMAgVAAAAAIDEIBkAAAACABnAHQAAAAGBW/QNAAAAAgM6IAEAAAAAAhsn8PwAAAGBrmvk/AAAAYA4t8j8AAABgAG/lPwAAACD2l80/AAAAYI/Czb8AAABAeVjmvwAAAMBrCfK/AAAAYLx0978AAAAgas0DQAAAAKCZmQNAAAAAwEu3DEAAAABgzN0OQAAAAKBFthBAAAAAQMQxCUAAAACghwUGQAAAAEDREQZAAAAAYCv2BEAAAADAqs/0PwAAAKCZmfM/AAAAgFrT6D8AAACAH2P0PwAAAICTGOo/AAAAoDysFEAAAADgTSIVQAAAAIA26xRAAAAAAP6UFEAAAACASH8UQAAAACDiWBRAAAAAQIssFEAAAACgoPgTQAAAAAD+1BNAAAAA4PupE0AAAADgmiYUQAAAACCDwBNAAAAAQGJQE0AAAAAA4K0SQAAAAMDDAhJAAAAAILJdEUAAAADgWsIQQAAAAOCaJhBAAAAAQHnYDkAAAACAMXcNQAAAAGDlUAxAAAAAIGz4CkAAAABgzN0JQAAAAKBDiwhAAAAAQF46B0AAAADAjQYGQAAAACDdJARAAAAAgM4IAkAAAAAgMQgAQAAAAGC8dPo/AAAAwEkM9T8AAABAQBPwPwAAACAGgeU/AAAAANej1D8AAADgTWJQPwAAAMDDQtW/AAAAQPjC5L8AAAAgnl7vvwAAAMBJDPW/AAAAwBcm+r8AAACASur+vwAAAOC84wHAAAAAYNO8AMAAAADgpZv/vwAAAIDC9f2/AAAA4CQG+78AAAAA3gLxvwAAAGDsL9u/AAAAQEVHyj8AAABgEoPqPwAAAKBliPc/AAAAQMSxAEAAAACgAbwFQAAAAEDEsQpAAAAAoEW2D0AAAABguF4SQAAAAGAy1RRAAAAAwGsJF0AAAABgukkZQAAAAMDuiRtAAAAAwH2dHkAAAACAuWsdQAAAAIC3ABxAAAAAILm8GkAAAACglGUZQAAAAECJARhAAAAA4JqmFkAAAAAgNrwUQAAAAOBawhJAAAAAgOQyEUAAAABgqDUPQAAAAGAQWA1AAAAAAL4wC0AAAAAgL90HQAAAAGCBBARAAAAA4CSGAEAAAABA1sX8PwAAAOClm/k/AAAAIFMF8j8AAADA91PlPwAAAOCzWc0/AAAA4HoUzr8AAABgImzmvwAAAMD1KPK/AAAAIDhn978AAABA30/9vwAAAOAi2/q/AAAAgErq978AAAAAk6nsvwAAAGDjpdO/AAAAoEfh0j8AAADAILDsPwAAACC5/Pc/AAAAQPjCAEAAAABAyIcFQAAAAGA7XwpAAAAAYMoyD0AAAACAavwRQAAAAAAkaBRAAAAAIGXZFkAAAADgnjwZQAAAAADXoxtAAAAAIA8LHkAAAABg8AUdQAAAAODO9xtAAAAAwELtGkAAAADgrHoYQAAAAEBpLxZAAAAAwBfmE0AAAACgkI8RQAAAAIBTdA5AAAAAwOW/CUAAAABgvPQEQAAAAMBLNwBAAAAAgOkm9z8AAABAGsDrPwAAAAD3ddA/AAAAoEfh0r8AAACgA+fsvwAAAOAUHeO/AAAAAJOpyr8AAABgVFLHPwAAAODgC+E/AAAAIKkT8j8AAABgiGP7PwAAACAUPwJAAAAAgGxnBkAAAACgqQIGQAAAAKDEoAVAAAAAYJHtAEAAAADAyqH4PwAAAICnNyVAAAAAwJ96L0AAAADgK9UxQAAAAKCZmTFAAAAAADRhMUAAAACgbvIwQAAAAODQYjBAAAAAwEuHMEAAAADAw6IwQAAAAGC62TBAAAAAYPw4LkAAAADgit0tQAAAAGAAjy1AAAAAQDX+LEAAAADAn/oqQAAAAGB9bitAAAAAYE2zK0AAAAAAZvcrQAAAAOAiOyxAAAAAYCeALEAAAADgvs4sQAAAAACqcSpAAAAAQKL0KUAAAACgtqIpQAAAAICsSylAAAAA4A3eKEAAAAAAnJMmQAAAAGAADydAAAAAANNtJ0AAAABgqPUnQAAAAODididAAAAA4CLbJkAAAABApD8mQAAAAAAbniVAAAAAAPBWJkAAAACArrYmQAAAAEBOMSdAAAAAYGQ7J0AAAACgCsYmQAAAACBuQyZAAAAAANPNJUAAAADgX1YlQAAAAABCbyVAAAAAQBqgJUAAAACATz4lQAAAAGC6qSRAAAAAYFRSJEAAAAAghcsjQAAAACAWKiNAAAAAwMiWIUAAAABARWciQAAAAODnCiNAAAAAAH+qI0AAAABA4RokQAAAAGAQeCRAAAAAoIDmJEAAAAAAj1MkQAAAAOCVsiNAAAAAQPMOI0AAAABApH8iQAAAAGDlECJAAAAAIJW0IUAAAADAZrUgQAAAAMCvQyBAAAAAAH9qHkAAAABAM/MfQAAAAKCbxCBAAAAAwAddIUAAAABgofYhQAAAAOBhgSJAAAAAwDCZIUAAAADgEhIhQAAAAAArhyBAAAAAwKZ5H0AAAAAA9/UdQAAAAOACiRxAAAAAYEL+GkAAAAAgJlMZQAAAAACq8RdAAAAAoCN5GUAAAADAne8aQAAAAADVeBxAAAAAAPVKHUAAAABgiCMeQAAAAGA5NB9AAAAA4AszIEAAAABgF3ceQAAAAMD1qB1AAAAAoMSgHEAAAABAgHcbQAAAAOAdZxpAAAAAwG30GEAAAABAKmkXQAAAAAAAABZAAAAAQLSIF0AAAADAe/IYQAAAACBlmRlAAAAAACRoGkAAAADgmiYbQAAAAKAT0BtAAAAAAIrfGEAAAABAQNMXQAAAACB+zBZAAAAAAH+qFUAAAADA6jMUQAAAACAEVhFAAAAAoMTgEkAAAAAAzO4TQAAAACDdJBVAAAAAoDoBFkAAAACgIc4WQAAAAAB2IBVAAAAA4EjuE0AAAABAA3gSQAAAACDi2BFAAAAAgHUxEUAAAABAN4kQQAAAAEAIrBBAAAAAYGZmEUAAAADg8h8SQAAAAKA8rBBAAAAAAIFVEUAAAAAgKP4RQAAAAGBW/QdAAAAAAGb3A0AAAADgTWJAPwAAAABE+u8/AAAAAG8BBEAAAABggQQIQAAAAKDUCQxAAAAAAJH+D0AAAADAQAISQAAAAOBYVxNAAAAAgEj/EUAAAABAUPwPQAAAAKA6ARBAAAAAQOoEEkAAAACgEeUTQAAAAKDt/BNAAAAA4AIJFkAAAACgTBUWQAAAAMDDAhRAAAAAYDQAEkAAAACgvQEQQAAAAAArBwxAAAAAINv5B0AAAAAgbPgDQAAAAABvAQBAAAAAoIcFAEAAAABApgoEQAAAAEAMAghAAAAAQMgHDEAAAACAtwAQQAAAAMAV+xFAAAAAoKD4E0AAAACgI/kTQAAAAEC//RFAAAAAoE4AEEAAAAAgbPgLQAAAACDb+QdAAAAAAJoIBEAAAABgEgMAQAAAAEAMAgBAAAAA4E8NBEAAAAAA5wwIQAAAAEDh+gtAAAAAYCv2D0AAAADAfwgSQAAAAKAYBAxAAAAAAJH+B0AAAADAYv8DQAAAAEDREQBAAAAAIP32/z8AAADgiv0DQAAAAACaCAhAAAAAACsHDEAAAADg8HQSQAAAACCMyhFAAAAAwOweEUAAAACgD3oQQAAAAMCGpw9AAAAA4OtADkAAAABgke0MQAAAAMAwmQtAAAAAIFg5CkAAAACA0t4IQAAAAIDbaAdAAAAA4OkVBkAAAAAgg8AEQAAAAIAkFwJAAAAAwEKt/j8AAADgfD/5PwAAAODw9PY/AAAAwPdT7T8AAABgEoPiPwAAAKBMFdA/AAAAADQRtr8AAADA0yvRvwAAAIA9Ct+/AAAAgD0K5b8AAADgkVzGPwAAAEDheuI/AAAAgD81CkAAAABAXnoQQAAAAICcIhRAAAAAoCO5E0AAAACgTFUTQAAAAOCaphJAAAAAAAAAEkAAAACAtVURQAAAAOAbvBBAAAAAoMQgEEAAAABgS8gOQAAAACBseA1AAAAAwIhSDEAAAABg1ecKQAAAAGBkuwlAAAAA4LWECEAAAADAZCoHQAAAAKB++wVAAAAAAIEVBEAAAACAwvUBQAAAAOBW7P8/AAAAYLx0+j8AAACgTBX1PwAAAACKH/A/AAAAwNqK5T8AAACAcRvVPwAAAIBPHoa/AAAAgEi/1b8AAADAN/jkvwAAAABxrO+/AAAAYIY49b8AAACgpE76vwAAAGAJ+f6/AAAAoIvbAcAAAACAU3TEPwAAACA6kvU/AAAA4FbsEEAAAAAggwARQAAAAKAlZBBAAAAAALVmEEAAAABgyjINQAAAAACBVRjAAAAAYDJVGMAAAABALFQYwAAAACCpUxjAAAAAQCxUGMAAAAAA/lQYwAAAAECNVxjAAAAAAKNSGMAAAADgelQYwAAAAMDMzBjAAAAAwEACF8AAAADgTWIVwAAAAEB5uCHAAAAAYIHEJ8AAAABgKWsnwAAAAEDNuyfAAAAAgJVDGMAAAABgsf8TwAAAACCDABPAAAAAYG/wE8AAAABgQv4QwAAAAMD1qArAAAAAoIcFCMAAAADAhqcEwAAAAIA/NQPAAAAAgK62AcAAAABgDq0AwAAAAID7OgHAAAAAoIJRAsAAAADA9Sj/vwAAAGAZ4vy/AAAAAClc+b8AAADgFB3lPwAAAEDheuY/AAAAgNcS6D8AAADgehTqPwAAAGBmZuw/AAAAIN0ktj8AAACAhVrvvwAAAOANvuS/AAAAQCNK478AAAAgBFbivwAAAOB46eC/AAAA4GgAAkAAAADgUVggQAAAACDdRCBAAAAAQKI0IEAAAACg3TMgQAAAACB1wiBAAAAAYGTbIEAAAACgbpIgQAAAAEBeOhVAAAAAQF46FUAAAAAAIj0WQAAAAAB4ixVAAAAAgJziFUAAAAAA12MVQAAAAABNRBVAAAAAQOpEFUAAAADAv6wUQAAAAMC/rBRAAAAAACncFEAAAABg8AUVQAAAAMB9XRRAAAAAgIw5FEAAAACgIzkUQAAAACA4JxRAAAAAgNk9IkAAAAAAAGAiQAAAAOA0jyJAAAAAoO+HI0AAAADAyqEjQAAAAOBNoiNAAAAAAKoRJEAAAADg3sAkQAAAAECZqiJAAAAAIEO8IkAAAADAhiciQAAAAODQoiRAAAAAgJM4JUAAAACAAlolQAAAAIDXEiVAAAAAAJzzJUAAAADAnW8lQAAAAIA/1SRAAAAAYCu2I0AAAAAAkR4jQAAAACDHGiNAAAAAQHkYI0AAAADAzEwiQAAAAKCyDCJAAAAAgP3lIUAAAACA+Q8hQAAAAACaCCFAAAAAINvZIEAAAABgW7EfQAAAAIA/tR9AAAAAQGIQIEAAAABAtvMeQAAAAMAZER5AAAAA4HjpHUAAAAAAJGgeQAAAAEAu/x1AAAAAQAM4HEAAAADgrHobQAAAAGDecRlAAAAAACK9F0AAAADgSG4XQAAAAEAs1BdAAAAAQIA3GkAAAABgiCMYQAAAACDUGhdAAAAAQGnvFUAAAADgx9gVQAAAAGC6SRZAAAAAYESpFUAAAADgzvcUQAAAAOBW7BNAAAAAACCSEkAAAACAaBESQAAAAGCzqhNAAAAAoPixFEAAAACgEWURQAAAAAAHnxBAAAAAQGAlE0AAAABgBaMZQAAAAGDjRSBAAAAAwB6FIEAAAACggEYhQAAAAGAZIhdAAAAA4L5OGEAAAABg/BgZQAAAAACz+xlAAAAAIFOFGkAAAABgK3YXQAAAAEBeehdAAAAAwMxMGEAAAAAAhgkZQAAAAKCbxBdAAAAAYLw0FkAAAABAiywaQAAAAIDyMBpAAAAAoL1BGkAAAABAN4kaQAAAAAAkKBNAAAAAIOKYE0AAAAAA000UQAAAAAAt8hRAAAAA4CulFUAAAACg+lwVQAAAAIA/dRVAAAAAoPrcFUAAAAAAeEsWQAAAAOAEtBdAAAAAgOLHGUAAAACAxykbQAAAAKARZRRAAAAA4B1nFUAAAABgMtUVQAAAAEAVDBZAAAAAgLcAFkAAAABgb/AVQAAAAICKThZAAAAA4NlsFkAAAADgo3AWQAAAACA45xZAAAAAIOTDFkAAAAAAiLQWQAAAAADOmRZAAAAAgEi/GUAAAAAAS1kbQAAAAMDBFxxAAAAAAPkgHEAAAACgvUEcQAAAACDdJBhAAAAAAKNSHEAAAACgJWQdQAAAAAArBx9AAAAAQF46HkAAAADgeOkbQAAAAAAJyh5AAAAAYFY9IEAAAABgumkgQAAAAMAMESFAAAAAQCppH0AAAADAe3IfQAAAAOBReCFAAAAAoJn5IEAAAACA+Y8jQAAAAEAlVSZAAAAAQHK5JEAAAACAKM0lQAAAAGArFiZA\",\"dtype\":\"float64\",\"order\":\"little\",\"shape\":[684]},\"Platform\":[\"AA\",\"AA\",\"AA\",\"AA\",\"AA\",\"AA\",\"AA\",\"AA\",\"AA\",\"AA\",\"AA\",\"AA\",\"AA\",\"AA\",\"AA\",\"AA\",\"AA\",\"AA\",\"AA\",\"AA\",\"AA\",\"AA\",\"AA\",\"AA\",\"AA\",\"AA\",\"AA\",\"AA\",\"AA\",\"AA\",\"AA\",\"AA\",\"AA\",\"AA\",\"AA\",\"AA\",\"AA\",\"AA\",\"AA\",\"AA\",\"AA\",\"AA\",\"AA\",\"AA\",\"AA\",\"AA\",\"AA\",\"AA\",\"AA\",\"AA\",\"AA\",\"AA\",\"AA\",\"AA\",\"AA\",\"AA\",\"AA\",\"AA\",\"AA\",\"AA\",\"AA\",\"AA\",\"AA\",\"AA\",\"AA\",\"AA\",\"AA\",\"AA\",\"AA\",\"AA\",\"AA\",\"AA\",\"AA\",\"AA\",\"AA\",\"AA\",\"AA\",\"AA\",\"AA\",\"AA\",\"AA\",\"AA\",\"AA\",\"AA\",\"AA\",\"AA\",\"AA\",\"AA\",\"AA\",\"AA\",\"AA\",\"AA\",\"AA\",\"AA\",\"AA\",\"AA\",\"AA\",\"AA\",\"AA\",\"AA\",\"AA\",\"AA\",\"AA\",\"AA\",\"AA\",\"AA\",\"AA\",\"AA\",\"AA\",\"AA\",\"AA\",\"AA\",\"AA\",\"AA\",\"AA\",\"AA\",\"AA\",\"AA\",\"AA\",\"AA\",\"AA\",\"AA\",\"AA\",\"AA\",\"AA\",\"AA\",\"AA\",\"AA\",\"AA\",\"AA\",\"AA\",\"AA\",\"AA\",\"AA\",\"AA\",\"AA\",\"AA\",\"AA\",\"AA\",\"AA\",\"AA\",\"AA\",\"AA\",\"AA\",\"AA\",\"AA\",\"AA\",\"AA\",\"AA\",\"AA\",\"AA\",\"AA\",\"AA\",\"AA\",\"AA\",\"AA\",\"AA\",\"AA\",\"AA\",\"AA\",\"AA\",\"AA\",\"AA\",\"AA\",\"AA\",\"AA\",\"AA\",\"AA\",\"AA\",\"AA\",\"AA\",\"AA\",\"AA\",\"AA\",\"AA\",\"AA\",\"AA\",\"AA\",\"AA\",\"AA\",\"AA\",\"AA\",\"AA\",\"AA\",\"AA\",\"AA\",\"AA\",\"AA\",\"AA\",\"AA\",\"AA\",\"AA\",\"AA\",\"AA\",\"AA\",\"AA\",\"AA\",\"AA\",\"AA\",\"AA\",\"AA\",\"AA\",\"AA\",\"AA\",\"AA\",\"AA\",\"AA\",\"AA\",\"AA\",\"AA\",\"AA\",\"AA\",\"AA\",\"AA\",\"AA\",\"AA\",\"AA\",\"AA\",\"AA\",\"AA\",\"AA\",\"AA\",\"AA\",\"AA\",\"AA\",\"AA\",\"AA\",\"AA\",\"AA\",\"AA\",\"AA\",\"AA\",\"AA\",\"AA\",\"AA\",\"AA\",\"AA\",\"AA\",\"AA\",\"AA\",\"AA\",\"AA\",\"AA\",\"AA\",\"AA\",\"AA\",\"AA\",\"AA\",\"AA\",\"AA\",\"AA\",\"AA\",\"AA\",\"AA\",\"AA\",\"AA\",\"AA\",\"AA\",\"AA\",\"AA\",\"AA\",\"AA\",\"AA\",\"AA\",\"AA\",\"AA\",\"AA\",\"AA\",\"AA\",\"AA\",\"AA\",\"AA\",\"AA\",\"AA\",\"AA\",\"AA\",\"AA\",\"AA\",\"AA\",\"AA\",\"AA\",\"AA\",\"AA\",\"AA\",\"AA\",\"AA\",\"AA\",\"AA\",\"AA\",\"AA\",\"AA\",\"AA\",\"AA\",\"AA\",\"AA\",\"AA\",\"AA\",\"AA\",\"AA\",\"AA\",\"AA\",\"AA\",\"AA\",\"AA\",\"AA\",\"AA\",\"AA\",\"AA\",\"AA\",\"AA\",\"AA\",\"AA\",\"AA\",\"AA\",\"AA\",\"AA\",\"AA\",\"AA\",\"AA\",\"AA\",\"AA\",\"AA\",\"AA\",\"AA\",\"AA\",\"AA\",\"AA\",\"AA\",\"AA\",\"AA\",\"AA\",\"AA\",\"AA\",\"AA\",\"AA\",\"AA\",\"AA\",\"AA\",\"AA\",\"AA\",\"AA\",\"AA\",\"AA\",\"AA\",\"AA\",\"AA\",\"AA\",\"AA\",\"AA\",\"AA\",\"AA\",\"AA\",\"AA\",\"AA\",\"AA\",\"AA\",\"AA\",\"AA\",\"AA\",\"AA\",\"AA\",\"AA\",\"AA\",\"AA\",\"AA\",\"AA\",\"AA\",\"AA\",\"AA\",\"AA\",\"AA\",\"AA\",\"AA\",\"AA\",\"AA\",\"AA\",\"AA\",\"AA\",\"AA\",\"AA\",\"AA\",\"AA\",\"AA\",\"AA\",\"AA\",\"AA\",\"AA\",\"AA\",\"AA\",\"AA\",\"AA\",\"AA\",\"AA\",\"AA\",\"AA\",\"AA\",\"AA\",\"AA\",\"AA\",\"AA\",\"AA\",\"AA\",\"AA\",\"AA\",\"AA\",\"AA\",\"AA\",\"AA\",\"AA\",\"AA\",\"AA\",\"AA\",\"AA\",\"AA\",\"AA\",\"AA\",\"AA\",\"AA\",\"AA\",\"AA\",\"AA\",\"AA\",\"AA\",\"AA\",\"AA\",\"AA\",\"AA\",\"AA\",\"AA\",\"AA\",\"AA\",\"AA\",\"AA\",\"AA\",\"AA\",\"AA\",\"AA\",\"AA\",\"AA\",\"AA\",\"AA\",\"AA\",\"AA\",\"AA\",\"AA\",\"AA\",\"AA\",\"AA\",\"AA\",\"AA\",\"AA\",\"AA\",\"AA\",\"AA\",\"AA\",\"AA\",\"AA\",\"AA\",\"AA\",\"AA\",\"AA\",\"AA\",\"AA\",\"AA\",\"AA\",\"AA\",\"AA\",\"AA\",\"AA\",\"AA\",\"AA\",\"AA\",\"AA\",\"AA\",\"AA\",\"AA\",\"AA\",\"AA\",\"AA\",\"AA\",\"AA\",\"AA\",\"AA\",\"AA\",\"AA\",\"AA\",\"AA\",\"AA\",\"AA\",\"AA\",\"AA\",\"AA\",\"AA\",\"AA\",\"AA\",\"AA\",\"AA\",\"AA\",\"AA\",\"AA\",\"AA\",\"AA\",\"AA\",\"AA\",\"AA\",\"AA\",\"AA\",\"AA\",\"AA\",\"AA\",\"AA\",\"AA\",\"AA\",\"AA\",\"AA\",\"AA\",\"AA\",\"AA\",\"AA\",\"AA\",\"AA\",\"AA\",\"AA\",\"AA\",\"AA\",\"AA\",\"AA\",\"AA\",\"AA\",\"AA\",\"AA\",\"AA\",\"AA\",\"AA\",\"AA\",\"AA\",\"AA\",\"AA\",\"AA\",\"AA\",\"AA\",\"AA\",\"AA\",\"AA\",\"AA\",\"AA\",\"AA\",\"AA\",\"AA\",\"AA\",\"AA\",\"AA\",\"AA\",\"AA\",\"AA\",\"AA\",\"AA\",\"AA\",\"AA\",\"AA\",\"AA\",\"AA\",\"AA\",\"AA\",\"AA\",\"AA\",\"AA\",\"AA\",\"AA\",\"AA\",\"AA\",\"AA\",\"AA\",\"AA\",\"AA\",\"AA\",\"AA\",\"AA\",\"AA\",\"AA\",\"AA\",\"AA\",\"AA\",\"AA\",\"AA\",\"AA\",\"AA\",\"AA\",\"AA\",\"AA\",\"AA\",\"AA\",\"AA\",\"AA\",\"AA\",\"AA\",\"AA\",\"AA\",\"AA\",\"AA\",\"AA\",\"AA\",\"AA\",\"AA\",\"AA\",\"AA\",\"AA\",\"AA\",\"AA\",\"AA\",\"AA\",\"AA\",\"AA\",\"AA\",\"AA\",\"AA\",\"AA\",\"AA\",\"AA\",\"AA\",\"AA\",\"AA\",\"AA\",\"AA\",\"AA\",\"AA\",\"AA\",\"AA\",\"AA\",\"AA\",\"AA\",\"AA\",\"AA\",\"AA\",\"AA\",\"AA\",\"AA\",\"AA\",\"AA\",\"AA\",\"AA\",\"AA\",\"AA\",\"AA\",\"AA\",\"AA\",\"AA\",\"AA\",\"AA\",\"AA\",\"AA\",\"AA\",\"AA\",\"AA\",\"AA\",\"AA\",\"AA\",\"AA\",\"AA\",\"AA\",\"AA\",\"AA\",\"AA\",\"AA\",\"AA\",\"AA\",\"AA\",\"AA\",\"AA\",\"AA\",\"AA\",\"AA\",\"AA\",\"AA\",\"AA\",\"AA\",\"AA\",\"AA\",\"AA\",\"AA\",\"AA\",\"AA\",\"AA\",\"AA\"],\"Time\":{\"__ndarray__\":\"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\",\"dtype\":\"float64\",\"order\":\"little\",\"shape\":[684]}},\"selected\":{\"id\":\"1039\"},\"selection_policy\":{\"id\":\"1038\"}},\"id\":\"1025\",\"type\":\"ColumnDataSource\"},{\"attributes\":{\"source\":{\"id\":\"1060\"}},\"id\":\"1065\",\"type\":\"CDSView\"},{\"attributes\":{\"data_source\":{\"id\":\"1102\"},\"glyph\":{\"id\":\"1104\"},\"hover_glyph\":null,\"muted_glyph\":null,\"nonselection_glyph\":{\"id\":\"1105\"},\"view\":{\"id\":\"1107\"}},\"id\":\"1106\",\"type\":\"GlyphRenderer\"},{\"attributes\":{},\"id\":\"1011\",\"type\":\"LinearScale\"},{\"attributes\":{\"fill_color\":{\"value\":\"white\"},\"line_color\":{\"value\":\"red\"},\"x\":{\"field\":\"Longitude\"},\"y\":{\"field\":\"Latitude\"}},\"id\":\"1027\",\"type\":\"Circle\"},{\"attributes\":{\"fill_alpha\":{\"value\":0.1},\"fill_color\":{\"value\":\"white\"},\"line_alpha\":{\"value\":0.1},\"line_color\":{\"value\":\"red\"},\"x\":{\"field\":\"Longitude\"},\"y\":{\"field\":\"Latitude\"}},\"id\":\"1028\",\"type\":\"Circle\"},{\"attributes\":{},\"id\":\"1016\",\"type\":\"BasicTicker\"},{\"attributes\":{\"fill_alpha\":{\"value\":0.1},\"fill_color\":{\"value\":\"white\"},\"line_alpha\":{\"value\":0.1},\"line_color\":{\"value\":\"green\"},\"x\":{\"field\":\"Longitude\"},\"y\":{\"field\":\"Latitude\"}},\"id\":\"1063\",\"type\":\"Circle\"},{\"attributes\":{\"data\":{\"Index_ABS\":[2259,2260,2261,2262,2263,2264,2265,2266,2267,2268,2269,2270,2271,2272,2273,2274,2275,2276,2277,2278,2279,2280,2281,2282,2283,2284,2285,2286,2287,2288,2289,2290,2291,2292,2293,2294,2295,2296,2297,2298,2299,2300,2301,2302,2303,2304,2305,2306,2307,2308,2309,2310,2311,2312,2313,2314,2315,2316,2317,2318,2319,2320,2321,2322,2323,2324,2325,2326,2327,2328,2329,2330,2331,2332,2333,2334,2335,2336,2337,2338,2339,2340,2341,2342,2343,2344,2345,2346,2347,2348,2349,2350,2351,2352,2353,2354,2355,2356,2357,2358,2359,2360,2361,2362,2363,2364,2365,2366,2367,2368,2369,2370,2371,2372,2373,2374,2375,2376,2377,2378,2379,2380,2381,2382,2383,2384,2385,2386,2387,2388,2389,2390,2391,2392,2393,2394,2395,2396,2397,2398,2399,2400,2401,2402,2403,2404,2405,2406,2407,2408,2409,2410,2411,2412,2413,2414,2415,2416,2417,2418,2419,2420,2421,2422,2423,2424,2425,2426,2427,2428,2429,2430,2431,2432,2433,2434,2435,2436,2437,2438,2439,2440,2441,2442,2443,2444,2445,2446,2447,2448,2449,2450,2451,2452,2453,2454,2455,2456,2457,2458,2459,2460,2461,2462,2463,2464,2465,2466,2467,2468,2469,2470,2471,2472,2473,2474,2475,2476,2477,2478,2479,2480,2481,2482,2483,2484,2485,2486,2487,2488,2489,2490,2491,2492,2493,2494,2495,2496,2497,2498,2499,2500,2501,2502,2503,2504,2505,2506,2507,2508,2509,2510,2511,2512,2513,2514,2515,2516,2517,2518,2519,2520,2521,2522,2523,2524,2525,2526,2527,2528,2529,2530,2531,2532,2533,2534,2535,2536,2537,2538,2539,2540,2541,2542,2543,2544,2545,2546,2547,2548,2549,2550,2551,2552,2553,2554,2555,2556,2557,2558,2559,2560,2561,2562,2563,2564,2565,2566,2567,2568,2569,2570,2571,2572,2573,2574,2575,2576,2577,2578,2579,2580,2581,2582,2583,2584,2585,2586,2587,2588,2589,2590,2591,2592,2593,2594,2595,2596,2597,2598,2599,2600,2601,2602,2603,2604,2605,2606,2607,2608,2609,2610,2611,2612,2613,2614,2615,2616,2617,2618,2619,2620,2621,2622,2623,2624,2625,2626,2627,2628,2629,2630,2631,2632,2633,2634,2635,2636,2637,2638,2639,2640,2641,2642,2643,2644,2645,2646,2647,2648,2649,2650,2651,2652,2653,2654,2655,2656,2657,2658,2659,2660,2661,2662,2663,2664,2665,2666,2667,2668,2669,2670,2671,2672,2673,2674,2675,2676,2677,2678,2679,2680,2681,2682,2683,2684,2685,2686,2687,2688,2689,2690,2691,2692,2693,2694,2695,2696,2697,2698,2699,2700,2701,2702,2703,2704,2705,2706,2707,2708,2709,2710,2711,2712,2713,2714,2715,2716,2717,2718,2719,2720,2721,2722,2723,2724,2725,2726,2727,2728,2729,2730,2731,2732,2733,2734,2735,2736,2737,2738,2739,2740,2741,2742,2743,2744,2745,2746,2747,2748,2749,2750,2751,2752,2753,2754,2755,2756,2757,2758,2759,2760,2761,2762,2763,2764,2765,2766,2767,2768,2769,2770,2771,2772,2773,2774,2775,2776,2777,2778,2779,2780,2781,2782,2783,2784,2785,2786,2787,2788,2789,2790,2791,2792,2793,2794,2795,2796,2797,2798,2799,2800,2801,2802,2803,2804,2805,2806,2807,2808,2809,2810,2811,2812,2813,2814,2815,2816,2817,2818,2819,2820,2821,2822,2823,2824,2825,2826,2827,2828,2829,2830,2831,2832,2833,2834,2835,2836,2837,2838,2839,2840,2841,2842,2843,2844,2845,2846,2847,2848,2849,2850,2851,2852,2853,2854,2855,2856,2857,2858,2859,2860,2861,2862,2863,2864,2865,2866,2867,2868,2869,2870,2871,2872,2873,2874,2875,2876,2877,2878,2879,2880,2881,2882,2883,2884,2885,2886,2887,2888,2889,2890,2891,2892,2893,2894,2895,2896,2897,2898,2899,2900,2901,2902,2903,2904,2905,2906,2907,2908,2909,2910,2911,2912,2913,2914,2915,2916,2917,2918,2919,2920,2921,2922,2923,2924,2925,2926,2927,2928,2929,2930,2931,2932,2933,2934,2935,2936,2937,2938,2939,2940,2941,2942,2943,2944,2945,2946,2947,2948,2949,2950,2951,2952,2953,2954,2955,2956,2957,2958,2959,2960,2961,2962,2963,2964,2965,2966,2967,2968,2969,2970,2971,2972,2973,2974,2975,2976,2977,2978,2979,2980,2981,2982,2983,2984,2985,2986,2987,2988,2989,2990,2991,2992,2993,2994,2995,2996,2997,2998,2999,3000,3001,3002,3003,3004,3005,3006,3007,3008,3009,3010,3011,3012,3013,3014,3015,3016,3017,3018,3019,3020,3021,3022,3023,3024,3025,3026,3027,3028,3029,3030,3031,3032,3033,3034,3035,3036,3037,3038,3039,3040,3041,3042,3043,3044,3045,3046,3047,3048,3049,3050,3051,3052,3053,3054,3055,3056,3057,3058,3059,3060,3061,3062,3063,3064,3065,3066,3067,3068,3069,3070,3071,3072,3073,3074,3075,3076,3077,3078,3079,3080,3081,3082,3083,3084,3085,3086,3087,3088,3089,3090,3091,3092,3093,3094,3095,3096,3097,3098,3099,3100,3101,3102,3103,3104,3105,3106,3107,3108,3109,3110,3111,3112,3113,3114,3115,3116,3117,3118,3119,3120,3121,3122,3123,3124,3125,3126,3127,3128,3129,3130,3131,3132,3133,3134,3135,3136,3137,3138,3139,3140,3141,3142,3143,3144,3145,3146,3147,3148,3149,3150,3151,3152,3153,3154,3155,3156,3157,3158,3159,3160,3161,3162,3163,3164,3165,3166,3167,3168,3169,3170,3171,3172,3173,3174,3175,3176,3177,3178,3179,3180,3181,3182,3183,3184,3185,3186,3187,3188,3189,3190,3191,3192,3193,3194,3195,3196,3197,3198,3199,3200,3201,3202,3203,3204,3205,3206,3207,3208],\"Index_Relative\":[0,1,2,3,4,5,6,7,8,9,10,11,12,13,14,15,16,17,18,19,20,21,22,23,24,25,26,27,28,29,30,31,32,33,34,35,36,37,38,39,40,41,42,43,44,45,46,47,48,49,50,51,52,53,54,55,56,57,58,59,60,61,62,63,64,65,66,67,68,69,70,71,72,73,74,75,76,77,78,79,80,81,82,83,84,85,86,87,88,89,90,91,92,93,94,95,96,97,98,99,100,101,102,103,104,105,106,107,108,109,110,111,112,113,114,115,116,117,118,119,120,121,122,123,124,125,126,127,128,129,130,131,132,133,134,135,136,137,138,139,140,141,142,143,144,145,146,147,148,149,150,151,152,153,154,155,156,157,158,159,160,161,162,163,164,165,166,167,168,169,170,171,172,173,174,175,176,177,178,179,180,181,182,183,184,185,186,187,188,189,190,191,192,193,194,195,196,197,198,199,200,201,202,203,204,205,206,207,208,209,210,211,212,213,214,215,216,217,218,219,220,221,222,223,224,225,226,227,228,229,230,231,232,233,234,235,236,237,238,239,240,241,242,243,244,245,246,247,248,249,250,251,252,253,254,255,256,257,258,259,260,261,262,263,264,265,266,267,268,269,270,271,272,273,274,275,276,277,278,279,280,281,282,283,284,285,286,287,288,289,290,291,292,293,294,295,296,297,298,299,300,301,302,303,304,305,306,307,308,309,310,311,312,313,314,315,316,317,318,319,320,321,322,323,324,325,326,327,328,329,330,331,332,333,334,335,336,337,338,339,340,341,342,343,344,345,346,347,348,349,350,351,352,353,354,355,356,357,358,359,360,361,362,363,364,365,366,367,368,369,370,371,372,373,374,375,376,377,378,379,380,381,382,383,384,385,386,387,388,389,390,391,392,393,394,395,396,397,398,399,400,401,402,403,404,405,406,407,408,409,410,411,412,413,414,415,416,417,418,419,420,421,422,423,424,425,426,427,428,429,430,431,432,433,434,435,436,437,438,439,440,441,442,443,444,445,446,447,448,449,450,451,452,453,454,455,456,457,458,459,460,461,462,463,464,465,466,467,468,469,470,471,472,473,474,475,476,477,478,479,480,481,482,483,484,485,486,487,488,489,490,491,492,493,494,495,496,497,498,499,500,501,502,503,504,505,506,507,508,509,510,511,512,513,514,515,516,517,518,519,520,521,522,523,524,525,526,527,528,529,530,531,532,533,534,535,536,537,538,539,540,541,542,543,544,545,546,547,548,549,550,551,552,553,554,555,556,557,558,559,560,561,562,563,564,565,566,567,568,569,570,571,572,573,574,575,576,577,578,579,580,581,582,583,584,585,586,587,588,589,590,591,592,593,594,595,596,597,598,599,600,601,602,603,604,605,606,607,608,609,610,611,612,613,614,615,616,617,618,619,620,621,622,623,624,625,626,627,628,629,630,631,632,633,634,635,636,637,638,639,640,641,642,643,644,645,646,647,648,649,650,651,652,653,654,655,656,657,658,659,660,661,662,663,664,665,666,667,668,669,670,671,672,673,674,675,676,677,678,679,680,681,682,683,684,685,686,687,688,689,690,691,692,693,694,695,696,697,698,699,700,701,702,703,704,705,706,707,708,709,710,711,712,713,714,715,716,717,718,719,720,721,722,723,724,725,726,727,728,729,730,731,732,733,734,735,736,737,738,739,740,741,742,743,744,745,746,747,748,749,750,751,752,753,754,755,756,757,758,759,760,761,762,763,764,765,766,767,768,769,770,771,772,773,774,775,776,777,778,779,780,781,782,783,784,785,786,787,788,789,790,791,792,793,794,795,796,797,798,799,800,801,802,803,804,805,806,807,808,809,810,811,812,813,814,815,816,817,818,819,820,821,822,823,824,825,826,827,828,829,830,831,832,833,834,835,836,837,838,839,840,841,842,843,844,845,846,847,848,849,850,851,852,853,854,855,856,857,858,859,860,861,862,863,864,865,866,867,868,869,870,871,872,873,874,875,876,877,878,879,880,881,882,883,884,885,886,887,888,889,890,891,892,893,894,895,896,897,898,899,900,901,902,903,904,905,906,907,908,909,910,911,912,913,914,915,916,917,918,919,920,921,922,923,924,925,926,927,928,929,930,931,932,933,934,935,936,937,938,939,940,941,942,943,944,945,946,947,948,949],\"Latitude\":{\"__ndarray__\":\"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\",\"dtype\":\"float64\",\"order\":\"little\",\"shape\":[950]},\"Longitude\":{\"__ndarray__\":\"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\",\"dtype\":\"float64\",\"order\":\"little\",\"shape\":[950]},\"Platform\":[\"JH\",\"JH\",\"JH\",\"JH\",\"JH\",\"JH\",\"JH\",\"JH\",\"JH\",\"JH\",\"JH\",\"JH\",\"JH\",\"JH\",\"JH\",\"JH\",\"JH\",\"JH\",\"JH\",\"JH\",\"JH\",\"JH\",\"JH\",\"JH\",\"JH\",\"JH\",\"JH\",\"JH\",\"JH\",\"JH\",\"JH\",\"JH\",\"JH\",\"JH\",\"JH\",\"JH\",\"JH\",\"JH\",\"JH\",\"JH\",\"JH\",\"JH\",\"JH\",\"JH\",\"JH\",\"JH\",\"JH\",\"JH\",\"JH\",\"JH\",\"JH\",\"JH\",\"JH\",\"JH\",\"JH\",\"JH\",\"JH\",\"JH\",\"JH\",\"JH\",\"JH\",\"JH\",\"JH\",\"JH\",\"JH\",\"JH\",\"JH\",\"JH\",\"JH\",\"JH\",\"JH\",\"JH\",\"JH\",\"JH\",\"JH\",\"JH\",\"JH\",\"JH\",\"JH\",\"JH\",\"JH\",\"JH\",\"JH\",\"JH\",\"JH\",\"JH\",\"JH\",\"JH\",\"JH\",\"JH\",\"JH\",\"JH\",\"JH\",\"JH\",\"JH\",\"JH\",\"JH\",\"JH\",\"JH\",\"JH\",\"JH\",\"JH\",\"JH\",\"JH\",\"JH\",\"JH\",\"JH\",\"JH\",\"JH\",\"JH\",\"JH\",\"JH\",\"JH\",\"JH\",\"JH\",\"JH\",\"JH\",\"JH\",\"JH\",\"JH\",\"JH\",\"JH\",\"JH\",\"JH\",\"JH\",\"JH\",\"JH\",\"JH\",\"JH\",\"JH\",\"JH\",\"JH\",\"JH\",\"JH\",\"JH\",\"JH\",\"JH\",\"JH\",\"JH\",\"JH\",\"JH\",\"JH\",\"JH\",\"JH\",\"JH\",\"JH\",\"JH\",\"JH\",\"JH\",\"JH\",\"JH\",\"JH\",\"JH\",\"JH\",\"JH\",\"JH\",\"JH\",\"JH\",\"JH\",\"JH\",\"JH\",\"JH\",\"JH\",\"JH\",\"JH\",\"JH\",\"JH\",\"JH\",\"JH\",\"JH\",\"JH\",\"JH\",\"JH\",\"JH\",\"JH\",\"JH\",\"JH\",\"JH\",\"JH\",\"JH\",\"JH\",\"JH\",\"JH\",\"JH\",\"JH\",\"JH\",\"JH\",\"JH\",\"JH\",\"JH\",\"JH\",\"JH\",\"JH\",\"JH\",\"JH\",\"JH\",\"JH\",\"JH\",\"JH\",\"JH\",\"JH\",\"JH\",\"JH\",\"JH\",\"JH\",\"JH\",\"JH\",\"JH\",\"JH\",\"JH\",\"JH\",\"JH\",\"JH\",\"JH\",\"JH\",\"JH\",\"JH\",\"JH\",\"JH\",\"JH\",\"JH\",\"JH\",\"JH\",\"JH\",\"JH\",\"JH\",\"JH\",\"JH\",\"JH\",\"JH\",\"JH\",\"JH\",\"JH\",\"JH\",\"JH\",\"JH\",\"JH\",\"JH\",\"JH\",\"JH\",\"JH\",\"JH\",\"JH\",\"JH\",\"JH\",\"JH\",\"JH\",\"JH\",\"JH\",\"JH\",\"JH\",\"JH\",\"JH\",\"JH\",\"JH\",\"JH\",\"JH\",\"JH\",\"JH\",\"JH\",\"JH\",\"JH\",\"JH\",\"JH\",\"JH\",\"JH\",\"JH\",\"JH\",\"JH\",\"JH\",\"JH\",\"JH\",\"JH\",\"JH\",\"JH\",\"JH\",\"JH\",\"JH\",\"JH\",\"JH\",\"JH\",\"JH\",\"JH\",\"JH\",\"JH\",\"JH\",\"JH\",\"JH\",\"JH\",\"JH\",\"JH\",\"JH\",\"JH\",\"JH\",\"JH\",\"JH\",\"JH\",\"JH\",\"JH\",\"JH\",\"JH\",\"JH\",\"JH\",\"JH\",\"JH\",\"JH\",\"JH\",\"JH\",\"JH\",\"JH\",\"JH\",\"JH\",\"JH\",\"JH\",\"JH\",\"JH\",\"JH\",\"JH\",\"JH\",\"JH\",\"JH\",\"JH\",\"JH\",\"JH\",\"JH\",\"JH\",\"JH\",\"JH\",\"JH\",\"JH\",\"JH\",\"JH\",\"JH\",\"JH\",\"JH\",\"JH\",\"JH\",\"JH\",\"JH\",\"JH\",\"JH\",\"JH\",\"JH\",\"JH\",\"JH\",\"JH\",\"JH\",\"JH\",\"JH\",\"JH\",\"JH\",\"JH\",\"JH\",\"JH\",\"JH\",\"JH\",\"JH\",\"JH\",\"JH\",\"JH\",\"JH\",\"JH\",\"JH\",\"JH\",\"JH\",\"JH\",\"JH\",\"JH\",\"JH\",\"JH\",\"JH\",\"JH\",\"JH\",\"JH\",\"JH\",\"JH\",\"JH\",\"JH\",\"JH\",\"JH\",\"JH\",\"JH\",\"JH\",\"JH\",\"JH\",\"JH\",\"JH\",\"JH\",\"JH\",\"JH\",\"JH\",\"JH\",\"JH\",\"JH\",\"JH\",\"JH\",\"JH\",\"JH\",\"JH\",\"JH\",\"JH\",\"JH\",\"JH\",\"JH\",\"JH\",\"JH\",\"JH\",\"JH\",\"JH\",\"JH\",\"JH\",\"JH\",\"JH\",\"JH\",\"JH\",\"JH\",\"JH\",\"JH\",\"JH\",\"JH\",\"JH\",\"JH\",\"JH\",\"JH\",\"JH\",\"JH\",\"JH\",\"JH\",\"JH\",\"JH\",\"JH\",\"JH\",\"JH\",\"JH\",\"JH\",\"JH\",\"JH\",\"JH\",\"JH\",\"JH\",\"JH\",\"JH\",\"JH\",\"JH\",\"JH\",\"JH\",\"JH\",\"JH\",\"JH\",\"JH\",\"JH\",\"JH\",\"JH\",\"JH\",\"JH\",\"JH\",\"JH\",\"JH\",\"JH\",\"JH\",\"JH\",\"JH\",\"JH\",\"JH\",\"JH\",\"JH\",\"JH\",\"JH\",\"JH\",\"JH\",\"JH\",\"JH\",\"JH\",\"JH\",\"JH\",\"JH\",\"JH\",\"JH\",\"JH\",\"JH\",\"JH\",\"JH\",\"JH\",\"JH\",\"JH\",\"JH\",\"JH\",\"JH\",\"JH\",\"JH\",\"JH\",\"JH\",\"JH\",\"JH\",\"JH\",\"JH\",\"JH\",\"JH\",\"JH\",\"JH\",\"JH\",\"JH\",\"JH\",\"JH\",\"JH\",\"JH\",\"JH\",\"JH\",\"JH\",\"JH\",\"JH\",\"JH\",\"JH\",\"JH\",\"JH\",\"JH\",\"JH\",\"JH\",\"JH\",\"JH\",\"JH\",\"JH\",\"JH\",\"JH\",\"JH\",\"JH\",\"JH\",\"JH\",\"JH\",\"JH\",\"JH\",\"JH\",\"JH\",\"JH\",\"JH\",\"JH\",\"JH\",\"JH\",\"JH\",\"JH\",\"JH\",\"JH\",\"JH\",\"JH\",\"JH\",\"JH\",\"JH\",\"JH\",\"JH\",\"JH\",\"JH\",\"JH\",\"JH\",\"JH\",\"JH\",\"JH\",\"JH\",\"JH\",\"JH\",\"JH\",\"JH\",\"JH\",\"JH\",\"JH\",\"JH\",\"JH\",\"JH\",\"JH\",\"JH\",\"JH\",\"JH\",\"JH\",\"JH\",\"JH\",\"JH\",\"JH\",\"JH\",\"JH\",\"JH\",\"JH\",\"JH\",\"JH\",\"JH\",\"JH\",\"JH\",\"JH\",\"JH\",\"JH\",\"JH\",\"JH\",\"JH\",\"JH\",\"JH\",\"JH\",\"JH\",\"JH\",\"JH\",\"JH\",\"JH\",\"JH\",\"JH\",\"JH\",\"JH\",\"JH\",\"JH\",\"JH\",\"JH\",\"JH\",\"JH\",\"JH\",\"JH\",\"JH\",\"JH\",\"JH\",\"JH\",\"JH\",\"JH\",\"JH\",\"JH\",\"JH\",\"JH\",\"JH\",\"JH\",\"JH\",\"JH\",\"JH\",\"JH\",\"JH\",\"JH\",\"JH\",\"JH\",\"JH\",\"JH\",\"JH\",\"JH\",\"JH\",\"JH\",\"JH\",\"JH\",\"JH\",\"JH\",\"JH\",\"JH\",\"JH\",\"JH\",\"JH\",\"JH\",\"JH\",\"JH\",\"JH\",\"JH\",\"JH\",\"JH\",\"JH\",\"JH\",\"JH\",\"JH\",\"JH\",\"JH\",\"JH\",\"JH\",\"JH\",\"JH\",\"JH\",\"JH\",\"JH\",\"JH\",\"JH\",\"JH\",\"JH\",\"JH\",\"JH\",\"JH\",\"JH\",\"JH\",\"JH\",\"JH\",\"JH\",\"JH\",\"JH\",\"JH\",\"JH\",\"JH\",\"JH\",\"JH\",\"JH\",\"JH\",\"JH\",\"JH\",\"JH\",\"JH\",\"JH\",\"JH\",\"JH\",\"JH\",\"JH\",\"JH\",\"JH\",\"JH\",\"JH\",\"JH\",\"JH\",\"JH\",\"JH\",\"JH\",\"JH\",\"JH\",\"JH\",\"JH\",\"JH\",\"JH\",\"JH\",\"JH\",\"JH\",\"JH\",\"JH\",\"JH\",\"JH\",\"JH\",\"JH\",\"JH\",\"JH\",\"JH\",\"JH\",\"JH\",\"JH\",\"JH\",\"JH\",\"JH\",\"JH\",\"JH\",\"JH\",\"JH\",\"JH\",\"JH\",\"JH\",\"JH\",\"JH\",\"JH\",\"JH\",\"JH\",\"JH\",\"JH\",\"JH\",\"JH\",\"JH\",\"JH\",\"JH\",\"JH\",\"JH\",\"JH\",\"JH\",\"JH\",\"JH\",\"JH\",\"JH\",\"JH\",\"JH\",\"JH\",\"JH\",\"JH\",\"JH\",\"JH\",\"JH\",\"JH\",\"JH\",\"JH\",\"JH\",\"JH\",\"JH\",\"JH\",\"JH\",\"JH\",\"JH\",\"JH\",\"JH\",\"JH\",\"JH\",\"JH\",\"JH\",\"JH\",\"JH\",\"JH\",\"JH\",\"JH\",\"JH\",\"JH\",\"JH\",\"JH\",\"JH\",\"JH\",\"JH\",\"JH\",\"JH\",\"JH\",\"JH\",\"JH\",\"JH\",\"JH\",\"JH\",\"JH\",\"JH\",\"JH\",\"JH\",\"JH\",\"JH\",\"JH\",\"JH\",\"JH\",\"JH\",\"JH\",\"JH\",\"JH\",\"JH\",\"JH\",\"JH\",\"JH\",\"JH\",\"JH\",\"JH\",\"JH\",\"JH\",\"JH\",\"JH\",\"JH\",\"JH\",\"JH\",\"JH\",\"JH\",\"JH\",\"JH\",\"JH\",\"JH\",\"JH\",\"JH\",\"JH\",\"JH\",\"JH\",\"JH\",\"JH\",\"JH\",\"JH\",\"JH\",\"JH\",\"JH\",\"JH\",\"JH\",\"JH\",\"JH\",\"JH\",\"JH\",\"JH\",\"JH\",\"JH\",\"JH\",\"JH\",\"JH\",\"JH\",\"JH\",\"JH\",\"JH\",\"JH\",\"JH\",\"JH\",\"JH\",\"JH\",\"JH\",\"JH\",\"JH\",\"JH\",\"JH\",\"JH\",\"JH\",\"JH\",\"JH\",\"JH\",\"JH\",\"JH\",\"JH\",\"JH\",\"JH\",\"JH\",\"JH\",\"JH\",\"JH\",\"JH\",\"JH\",\"JH\",\"JH\",\"JH\",\"JH\",\"JH\",\"JH\",\"JH\",\"JH\",\"JH\",\"JH\",\"JH\",\"JH\",\"JH\",\"JH\",\"JH\",\"JH\",\"JH\",\"JH\",\"JH\",\"JH\",\"JH\",\"JH\",\"JH\",\"JH\",\"JH\",\"JH\",\"JH\",\"JH\",\"JH\",\"JH\",\"JH\",\"JH\",\"JH\",\"JH\",\"JH\",\"JH\",\"JH\",\"JH\",\"JH\",\"JH\",\"JH\",\"JH\",\"JH\",\"JH\",\"JH\",\"JH\",\"JH\",\"JH\",\"JH\",\"JH\",\"JH\",\"JH\",\"JH\",\"JH\",\"JH\",\"JH\",\"JH\",\"JH\",\"JH\",\"JH\",\"JH\",\"JH\",\"JH\"],\"Time\":{\"__ndarray__\":\"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\",\"dtype\":\"float64\",\"order\":\"little\",\"shape\":[950]}},\"selected\":{\"id\":\"1124\"},\"selection_policy\":{\"id\":\"1123\"}},\"id\":\"1102\",\"type\":\"ColumnDataSource\"},{\"attributes\":{},\"id\":\"1037\",\"type\":\"AllLabels\"},{\"attributes\":{},\"id\":\"1013\",\"type\":\"LinearScale\"},{\"attributes\":{\"fill_color\":{\"value\":\"white\"},\"line_color\":{\"value\":\"green\"},\"x\":{\"field\":\"Longitude\"},\"y\":{\"field\":\"Latitude\"}},\"id\":\"1062\",\"type\":\"Circle\"},{\"attributes\":{\"fill_color\":{\"value\":\"white\"},\"line_color\":{\"value\":\"orange\"},\"x\":{\"field\":\"Longitude\"},\"y\":{\"field\":\"Latitude\"}},\"id\":\"1104\",\"type\":\"Circle\"},{\"attributes\":{\"callback\":null,\"tooltips\":[[\"index\",\"$index\"],[\"(x,y)\",\"($x, $y)\"],[\"Platform\",\"@Platform\"]]},\"id\":\"1003\",\"type\":\"HoverTool\"},{\"attributes\":{\"items\":[{\"id\":\"1041\"},{\"id\":\"1059\"},{\"id\":\"1079\"},{\"id\":\"1101\"},{\"id\":\"1125\"}],\"location\":\"bottom_right\"},\"id\":\"1040\",\"type\":\"Legend\"},{\"attributes\":{\"formatter\":{\"id\":\"1032\"},\"major_label_policy\":{\"id\":\"1034\"},\"ticker\":{\"id\":\"1016\"}},\"id\":\"1015\",\"type\":\"LinearAxis\"}],\"root_ids\":[\"1004\"]},\"title\":\"Bokeh Application\",\"version\":\"2.3.2\"}};\n",
       "  var render_items = [{\"docid\":\"c8a70ec4-c433-4a8a-a1f5-35eb0be72918\",\"root_ids\":[\"1004\"],\"roots\":{\"1004\":\"a5ed9d4b-a12e-44fd-97cc-2fad1b38f924\"}}];\n",
       "  root.Bokeh.embed.embed_items_notebook(docs_json, render_items);\n",
       "\n",
       "  }\n",
       "  if (root.Bokeh !== undefined) {\n",
       "    embed_document(root);\n",
       "  } else {\n",
       "    var attempts = 0;\n",
       "    var timer = setInterval(function(root) {\n",
       "      if (root.Bokeh !== undefined) {\n",
       "        clearInterval(timer);\n",
       "        embed_document(root);\n",
       "      } else {\n",
       "        attempts++;\n",
       "        if (attempts > 100) {\n",
       "          clearInterval(timer);\n",
       "          console.log(\"Bokeh: ERROR: Unable to run BokehJS code because BokehJS library is missing\");\n",
       "        }\n",
       "      }\n",
       "    }, 10, root)\n",
       "  }\n",
       "})(window);"
      ],
      "application/vnd.bokehjs_exec.v0+json": ""
     },
     "metadata": {
      "application/vnd.bokehjs_exec.v0+json": {
       "id": "1004"
      }
     },
     "output_type": "display_data"
    }
   ],
   "source": [
    "from bokeh.plotting import figure, output_file, show, ColumnDataSource\n",
    "from bokeh.models import HoverTool\n",
    "from bokeh.io import output_notebook\n",
    "\n",
    "output_notebook() # necessary to show the plot \n",
    "\n",
    "hover = HoverTool(\n",
    "        tooltips=[\n",
    "            (\"index\", \"$index\"),\n",
    "            (\"(x,y)\", \"($x, $y)\"),\n",
    "            (\"Platform\", \"@Platform\"),            \n",
    "        ]\n",
    "    )\n",
    "\n",
    "p = figure(plot_width=500, plot_height=500, tools=[hover],\n",
    "           title=\"Mouse over the dots\")\n",
    "\n",
    "# p.square('Longitude', 'Latitude', size=6, color='grey', fill_color='white', source=df_toPlot, legend_label=\"All locations\")\n",
    "p.circle('Longitude', 'Latitude', size=4, color='red', fill_color='white', source=df_toPlot[df_toPlot['Platform']=='AA'], legend_label=\"Platform AA locations\")\n",
    "p.circle('Longitude', 'Latitude', size=4, color='blue', fill_color='white', source=df_toPlot[df_toPlot['Platform']=='GS'], legend_label=\"Platform GS locations\")\n",
    "p.circle('Longitude', 'Latitude', size=4, color='green', fill_color='white', source=df_toPlot[df_toPlot['Platform']=='GT'], legend_label=\"Platform GT locations\")\n",
    "p.circle('Longitude', 'Latitude', size=4, color='black', fill_color='white', source=df_toPlot[df_toPlot['Platform']=='HJ'], legend_label=\"Platform HJ locations\")\n",
    "p.circle('Longitude', 'Latitude', size=4, color='orange', fill_color='white', source=df_toPlot[df_toPlot['Platform']=='JH'], legend_label=\"Platform JH locations\")\n",
    "\n",
    "# Add area\n",
    "# p.quad(left=bbox[0], right=bbox[1], top=bbox[3], bottom=bbox[2], legend_label=\"Bounding Box\", fill_color='grey', fill_alpha=0.0, line_color=\"black\")\n",
    "\n",
    "p.legend.location = \"bottom_right\"\n",
    "show(p)"
   ]
  },
  {
   "cell_type": "markdown",
   "metadata": {},
   "source": [
    "Based on the plotting above, some decisions could be made on bounding box of interest, platform, etc. "
   ]
  },
  {
   "cell_type": "markdown",
   "metadata": {},
   "source": [
    "## Filter Positions (based on *position_df*)\n",
    "This section shows a few examples of data filtering by using the 'LATITUDE', 'LONGITUDE' and 'TIME' dimensions. The following filters are included:\n",
    "* filter by bounding box (BBOX)\n",
    "* filter by BBOX and customised time range "
   ]
  },
  {
   "cell_type": "markdown",
   "metadata": {},
   "source": [
    "### Filter by BBOX"
   ]
  },
  {
   "cell_type": "code",
   "execution_count": 9,
   "metadata": {},
   "outputs": [],
   "source": [
    "# Now apply the arctic bounding box in the format: minLong - maxLong; minLat - maxLat (eg 30W - 60E; 50N - 80 N) \n",
    "bbox_dict = {}\n",
    "\n",
    "bbox_dict['BBOX=ALL'] = [-20, 70, 40, 90] \n",
    "bbox_dict['BBOX=Arctic'] = [-30, 60, 50, 80]  \n",
    "bbox_dict['BBOX=North Sea'] = [-5, 15, 50, 60]\n",
    "\n",
    "bbox_key = 'BBOX=North Sea'; assert bbox_key in bbox_dict.keys(), 'Key error, please check.' \n",
    "bbox = bbox_dict[bbox_key]"
   ]
  },
  {
   "cell_type": "code",
   "execution_count": 10,
   "metadata": {},
   "outputs": [
    {
     "name": "stdout",
     "output_type": "stream",
     "text": [
      "Year: 2003\n",
      "BBOX: BBOX=North Sea\n",
      "Selected positions (out of available positions): 564 out of 3209.\n"
     ]
    },
    {
     "data": {
      "text/html": [
       "<div>\n",
       "<style scoped>\n",
       "    .dataframe tbody tr th:only-of-type {\n",
       "        vertical-align: middle;\n",
       "    }\n",
       "\n",
       "    .dataframe tbody tr th {\n",
       "        vertical-align: top;\n",
       "    }\n",
       "\n",
       "    .dataframe thead th {\n",
       "        text-align: right;\n",
       "    }\n",
       "</style>\n",
       "<table border=\"1\" class=\"dataframe\">\n",
       "  <thead>\n",
       "    <tr style=\"text-align: right;\">\n",
       "      <th></th>\n",
       "      <th>Longitude</th>\n",
       "      <th>Latitude</th>\n",
       "      <th>Time</th>\n",
       "      <th>Platform</th>\n",
       "      <th>Index_ABS</th>\n",
       "    </tr>\n",
       "    <tr>\n",
       "      <th>Index_Relative</th>\n",
       "      <th></th>\n",
       "      <th></th>\n",
       "      <th></th>\n",
       "      <th></th>\n",
       "      <th></th>\n",
       "    </tr>\n",
       "  </thead>\n",
       "  <tbody>\n",
       "    <tr>\n",
       "      <th>25</th>\n",
       "      <td>-0.9848</td>\n",
       "      <td>59.284801</td>\n",
       "      <td>2003-01-12 19:55:32</td>\n",
       "      <td>AA</td>\n",
       "      <td>25</td>\n",
       "    </tr>\n",
       "    <tr>\n",
       "      <th>26</th>\n",
       "      <td>-0.6563</td>\n",
       "      <td>59.284801</td>\n",
       "      <td>2003-01-12 21:10:15</td>\n",
       "      <td>AA</td>\n",
       "      <td>26</td>\n",
       "    </tr>\n",
       "    <tr>\n",
       "      <th>27</th>\n",
       "      <td>-0.3618</td>\n",
       "      <td>59.284801</td>\n",
       "      <td>2003-01-12 22:13:23</td>\n",
       "      <td>AA</td>\n",
       "      <td>27</td>\n",
       "    </tr>\n",
       "    <tr>\n",
       "      <th>28</th>\n",
       "      <td>0.0065</td>\n",
       "      <td>59.281700</td>\n",
       "      <td>2003-01-12 23:30:54</td>\n",
       "      <td>AA</td>\n",
       "      <td>28</td>\n",
       "    </tr>\n",
       "    <tr>\n",
       "      <th>29</th>\n",
       "      <td>0.3293</td>\n",
       "      <td>59.284698</td>\n",
       "      <td>2003-01-13 00:56:57</td>\n",
       "      <td>AA</td>\n",
       "      <td>29</td>\n",
       "    </tr>\n",
       "    <tr>\n",
       "      <th>...</th>\n",
       "      <td>...</td>\n",
       "      <td>...</td>\n",
       "      <td>...</td>\n",
       "      <td>...</td>\n",
       "      <td>...</td>\n",
       "    </tr>\n",
       "    <tr>\n",
       "      <th>986</th>\n",
       "      <td>0.5003</td>\n",
       "      <td>57.240501</td>\n",
       "      <td>2003-10-03 22:24:21</td>\n",
       "      <td>GT</td>\n",
       "      <td>2075</td>\n",
       "    </tr>\n",
       "    <tr>\n",
       "      <th>987</th>\n",
       "      <td>0.4992</td>\n",
       "      <td>56.780300</td>\n",
       "      <td>2003-10-04 02:38:20</td>\n",
       "      <td>GT</td>\n",
       "      <td>2076</td>\n",
       "    </tr>\n",
       "    <tr>\n",
       "      <th>988</th>\n",
       "      <td>-0.3618</td>\n",
       "      <td>56.744801</td>\n",
       "      <td>2003-10-04 10:01:20</td>\n",
       "      <td>GT</td>\n",
       "      <td>2077</td>\n",
       "    </tr>\n",
       "    <tr>\n",
       "      <th>989</th>\n",
       "      <td>-0.5513</td>\n",
       "      <td>57.132500</td>\n",
       "      <td>2003-10-04 20:41:28</td>\n",
       "      <td>GT</td>\n",
       "      <td>2078</td>\n",
       "    </tr>\n",
       "    <tr>\n",
       "      <th>990</th>\n",
       "      <td>-0.5153</td>\n",
       "      <td>57.690300</td>\n",
       "      <td>2003-10-05 02:31:28</td>\n",
       "      <td>GT</td>\n",
       "      <td>2079</td>\n",
       "    </tr>\n",
       "  </tbody>\n",
       "</table>\n",
       "<p>564 rows × 5 columns</p>\n",
       "</div>"
      ],
      "text/plain": [
       "                Longitude   Latitude                Time Platform  Index_ABS\n",
       "Index_Relative                                                              \n",
       "25                -0.9848  59.284801 2003-01-12 19:55:32       AA         25\n",
       "26                -0.6563  59.284801 2003-01-12 21:10:15       AA         26\n",
       "27                -0.3618  59.284801 2003-01-12 22:13:23       AA         27\n",
       "28                 0.0065  59.281700 2003-01-12 23:30:54       AA         28\n",
       "29                 0.3293  59.284698 2003-01-13 00:56:57       AA         29\n",
       "...                   ...        ...                 ...      ...        ...\n",
       "986                0.5003  57.240501 2003-10-03 22:24:21       GT       2075\n",
       "987                0.4992  56.780300 2003-10-04 02:38:20       GT       2076\n",
       "988               -0.3618  56.744801 2003-10-04 10:01:20       GT       2077\n",
       "989               -0.5513  57.132500 2003-10-04 20:41:28       GT       2078\n",
       "990               -0.5153  57.690300 2003-10-05 02:31:28       GT       2079\n",
       "\n",
       "[564 rows x 5 columns]"
      ]
     },
     "metadata": {},
     "output_type": "display_data"
    }
   ],
   "source": [
    "# Now remove the ouliers outside bbox\n",
    "position_df_bbox = position_df[(position_df.loc[:,'Longitude'] >= bbox[0]) & \n",
    "                               (position_df.loc[:,'Longitude'] <= bbox[1]) & \n",
    "                               (position_df.loc[:,'Latitude'] >= bbox[2]) & \n",
    "                               (position_df.loc[:,'Latitude'] <= bbox[3])]\n",
    "print('Year:', year)\n",
    "print('BBOX:', bbox_key)\n",
    "\n",
    "sel_outof_all = f'{len(position_df_bbox)} out of {len(position_df)}.'\n",
    "print(f'Selected positions (out of available positions): {sel_outof_all}')\n",
    "display(position_df_bbox)\n",
    "#print(position_df_bbox.index) # You can use the display(data[var].data[:][position_df_bbox.index]) to select the physical variables values of only those points within specific bbox"
   ]
  },
  {
   "cell_type": "markdown",
   "metadata": {},
   "source": [
    "### Filter by BBOX and Time Range"
   ]
  },
  {
   "cell_type": "code",
   "execution_count": 11,
   "metadata": {},
   "outputs": [
    {
     "name": "stdout",
     "output_type": "stream",
     "text": [
      "Time Filter: 2003-01-01 - 2003-01-31\n"
     ]
    },
    {
     "data": {
      "text/html": [
       "<div>\n",
       "<style scoped>\n",
       "    .dataframe tbody tr th:only-of-type {\n",
       "        vertical-align: middle;\n",
       "    }\n",
       "\n",
       "    .dataframe tbody tr th {\n",
       "        vertical-align: top;\n",
       "    }\n",
       "\n",
       "    .dataframe thead th {\n",
       "        text-align: right;\n",
       "    }\n",
       "</style>\n",
       "<table border=\"1\" class=\"dataframe\">\n",
       "  <thead>\n",
       "    <tr style=\"text-align: right;\">\n",
       "      <th></th>\n",
       "      <th>Longitude</th>\n",
       "      <th>Latitude</th>\n",
       "      <th>Time</th>\n",
       "      <th>Platform</th>\n",
       "      <th>Index_ABS</th>\n",
       "    </tr>\n",
       "    <tr>\n",
       "      <th>Index_Relative</th>\n",
       "      <th></th>\n",
       "      <th></th>\n",
       "      <th></th>\n",
       "      <th></th>\n",
       "      <th></th>\n",
       "    </tr>\n",
       "  </thead>\n",
       "  <tbody>\n",
       "    <tr>\n",
       "      <th>25</th>\n",
       "      <td>-0.9848</td>\n",
       "      <td>59.284801</td>\n",
       "      <td>2003-01-12 19:55:32</td>\n",
       "      <td>AA</td>\n",
       "      <td>25</td>\n",
       "    </tr>\n",
       "    <tr>\n",
       "      <th>26</th>\n",
       "      <td>-0.6563</td>\n",
       "      <td>59.284801</td>\n",
       "      <td>2003-01-12 21:10:15</td>\n",
       "      <td>AA</td>\n",
       "      <td>26</td>\n",
       "    </tr>\n",
       "    <tr>\n",
       "      <th>27</th>\n",
       "      <td>-0.3618</td>\n",
       "      <td>59.284801</td>\n",
       "      <td>2003-01-12 22:13:23</td>\n",
       "      <td>AA</td>\n",
       "      <td>27</td>\n",
       "    </tr>\n",
       "    <tr>\n",
       "      <th>28</th>\n",
       "      <td>0.0065</td>\n",
       "      <td>59.281700</td>\n",
       "      <td>2003-01-12 23:30:54</td>\n",
       "      <td>AA</td>\n",
       "      <td>28</td>\n",
       "    </tr>\n",
       "    <tr>\n",
       "      <th>29</th>\n",
       "      <td>0.3293</td>\n",
       "      <td>59.284698</td>\n",
       "      <td>2003-01-13 00:56:57</td>\n",
       "      <td>AA</td>\n",
       "      <td>29</td>\n",
       "    </tr>\n",
       "    <tr>\n",
       "      <th>...</th>\n",
       "      <td>...</td>\n",
       "      <td>...</td>\n",
       "      <td>...</td>\n",
       "      <td>...</td>\n",
       "      <td>...</td>\n",
       "    </tr>\n",
       "    <tr>\n",
       "      <th>107</th>\n",
       "      <td>4.1780</td>\n",
       "      <td>58.313202</td>\n",
       "      <td>2003-01-26 19:55:12</td>\n",
       "      <td>AA</td>\n",
       "      <td>107</td>\n",
       "    </tr>\n",
       "    <tr>\n",
       "      <th>108</th>\n",
       "      <td>3.1493</td>\n",
       "      <td>59.717300</td>\n",
       "      <td>2003-01-27 07:44:14</td>\n",
       "      <td>AA</td>\n",
       "      <td>108</td>\n",
       "    </tr>\n",
       "    <tr>\n",
       "      <th>109</th>\n",
       "      <td>2.7527</td>\n",
       "      <td>59.630299</td>\n",
       "      <td>2003-01-27 10:41:34</td>\n",
       "      <td>AA</td>\n",
       "      <td>109</td>\n",
       "    </tr>\n",
       "    <tr>\n",
       "      <th>115</th>\n",
       "      <td>1.2742</td>\n",
       "      <td>59.701698</td>\n",
       "      <td>2003-01-28 17:59:37</td>\n",
       "      <td>AA</td>\n",
       "      <td>115</td>\n",
       "    </tr>\n",
       "    <tr>\n",
       "      <th>116</th>\n",
       "      <td>0.8155</td>\n",
       "      <td>59.667198</td>\n",
       "      <td>2003-01-28 20:30:07</td>\n",
       "      <td>AA</td>\n",
       "      <td>116</td>\n",
       "    </tr>\n",
       "  </tbody>\n",
       "</table>\n",
       "<p>87 rows × 5 columns</p>\n",
       "</div>"
      ],
      "text/plain": [
       "                Longitude   Latitude                Time Platform  Index_ABS\n",
       "Index_Relative                                                              \n",
       "25                -0.9848  59.284801 2003-01-12 19:55:32       AA         25\n",
       "26                -0.6563  59.284801 2003-01-12 21:10:15       AA         26\n",
       "27                -0.3618  59.284801 2003-01-12 22:13:23       AA         27\n",
       "28                 0.0065  59.281700 2003-01-12 23:30:54       AA         28\n",
       "29                 0.3293  59.284698 2003-01-13 00:56:57       AA         29\n",
       "...                   ...        ...                 ...      ...        ...\n",
       "107                4.1780  58.313202 2003-01-26 19:55:12       AA        107\n",
       "108                3.1493  59.717300 2003-01-27 07:44:14       AA        108\n",
       "109                2.7527  59.630299 2003-01-27 10:41:34       AA        109\n",
       "115                1.2742  59.701698 2003-01-28 17:59:37       AA        115\n",
       "116                0.8155  59.667198 2003-01-28 20:30:07       AA        116\n",
       "\n",
       "[87 rows x 5 columns]"
      ]
     },
     "metadata": {},
     "output_type": "display_data"
    }
   ],
   "source": [
    "# Define start and end date in the format [day,month,year]\n",
    "\"\"\"\n",
    "# time range test for GT\n",
    "time_start = [1,9,2003] # for GT\n",
    "time_end = [30,9,2003] # for GT\n",
    "\"\"\"\n",
    "# time range test for AA\n",
    "time_start = [1,1,2003] # for AA\n",
    "time_end = [31,1,2003] # for AA\n",
    "\n",
    "time_start = datetime(time_start[2], time_start[1], time_start[0])\n",
    "time_end = datetime(time_end[2], time_end[1], time_end[0])\n",
    "\n",
    "time_filter_str = f'{time_start.strftime(\"%Y-%m-%d\")} - {time_end.strftime(\"%Y-%m-%d\")}'\n",
    "print(f'Time Filter: {time_filter_str}')\n",
    "\n",
    "position_df_bbox_timerange = position_df_bbox.loc[(position_df_bbox['Time']>=time_start) & \n",
    "                                                  (position_df_bbox['Time']<=time_end)]\n",
    "display(position_df_bbox_timerange)"
   ]
  },
  {
   "cell_type": "markdown",
   "metadata": {},
   "source": [
    "### Define Filtered Dataframe (*df_toPlot*)\n",
    "Define:\n",
    "* the filtered dataframe to use for the analysis (eg *position_df_bbox*, *position_df_bbox_timerange*) to the **df_toPlot** variable.\n",
    "* the list of indices to the variable **index** for the filtered data "
   ]
  },
  {
   "cell_type": "code",
   "execution_count": 12,
   "metadata": {},
   "outputs": [
    {
     "name": "stdout",
     "output_type": "stream",
     "text": [
      "BBOX: BBOX=North Sea\n",
      "Selected positions (out of available positions): 87 out of 3209.\n"
     ]
    },
    {
     "data": {
      "text/html": [
       "<div>\n",
       "<style scoped>\n",
       "    .dataframe tbody tr th:only-of-type {\n",
       "        vertical-align: middle;\n",
       "    }\n",
       "\n",
       "    .dataframe tbody tr th {\n",
       "        vertical-align: top;\n",
       "    }\n",
       "\n",
       "    .dataframe thead th {\n",
       "        text-align: right;\n",
       "    }\n",
       "</style>\n",
       "<table border=\"1\" class=\"dataframe\">\n",
       "  <thead>\n",
       "    <tr style=\"text-align: right;\">\n",
       "      <th></th>\n",
       "      <th>Longitude</th>\n",
       "      <th>Latitude</th>\n",
       "      <th>Time</th>\n",
       "      <th>Platform</th>\n",
       "      <th>Index_ABS</th>\n",
       "    </tr>\n",
       "    <tr>\n",
       "      <th>Index_Relative</th>\n",
       "      <th></th>\n",
       "      <th></th>\n",
       "      <th></th>\n",
       "      <th></th>\n",
       "      <th></th>\n",
       "    </tr>\n",
       "  </thead>\n",
       "  <tbody>\n",
       "    <tr>\n",
       "      <th>25</th>\n",
       "      <td>-0.9848</td>\n",
       "      <td>59.284801</td>\n",
       "      <td>2003-01-12 19:55:32</td>\n",
       "      <td>AA</td>\n",
       "      <td>25</td>\n",
       "    </tr>\n",
       "    <tr>\n",
       "      <th>26</th>\n",
       "      <td>-0.6563</td>\n",
       "      <td>59.284801</td>\n",
       "      <td>2003-01-12 21:10:15</td>\n",
       "      <td>AA</td>\n",
       "      <td>26</td>\n",
       "    </tr>\n",
       "    <tr>\n",
       "      <th>27</th>\n",
       "      <td>-0.3618</td>\n",
       "      <td>59.284801</td>\n",
       "      <td>2003-01-12 22:13:23</td>\n",
       "      <td>AA</td>\n",
       "      <td>27</td>\n",
       "    </tr>\n",
       "    <tr>\n",
       "      <th>28</th>\n",
       "      <td>0.0065</td>\n",
       "      <td>59.281700</td>\n",
       "      <td>2003-01-12 23:30:54</td>\n",
       "      <td>AA</td>\n",
       "      <td>28</td>\n",
       "    </tr>\n",
       "    <tr>\n",
       "      <th>29</th>\n",
       "      <td>0.3293</td>\n",
       "      <td>59.284698</td>\n",
       "      <td>2003-01-13 00:56:57</td>\n",
       "      <td>AA</td>\n",
       "      <td>29</td>\n",
       "    </tr>\n",
       "    <tr>\n",
       "      <th>...</th>\n",
       "      <td>...</td>\n",
       "      <td>...</td>\n",
       "      <td>...</td>\n",
       "      <td>...</td>\n",
       "      <td>...</td>\n",
       "    </tr>\n",
       "    <tr>\n",
       "      <th>107</th>\n",
       "      <td>4.1780</td>\n",
       "      <td>58.313202</td>\n",
       "      <td>2003-01-26 19:55:12</td>\n",
       "      <td>AA</td>\n",
       "      <td>107</td>\n",
       "    </tr>\n",
       "    <tr>\n",
       "      <th>108</th>\n",
       "      <td>3.1493</td>\n",
       "      <td>59.717300</td>\n",
       "      <td>2003-01-27 07:44:14</td>\n",
       "      <td>AA</td>\n",
       "      <td>108</td>\n",
       "    </tr>\n",
       "    <tr>\n",
       "      <th>109</th>\n",
       "      <td>2.7527</td>\n",
       "      <td>59.630299</td>\n",
       "      <td>2003-01-27 10:41:34</td>\n",
       "      <td>AA</td>\n",
       "      <td>109</td>\n",
       "    </tr>\n",
       "    <tr>\n",
       "      <th>115</th>\n",
       "      <td>1.2742</td>\n",
       "      <td>59.701698</td>\n",
       "      <td>2003-01-28 17:59:37</td>\n",
       "      <td>AA</td>\n",
       "      <td>115</td>\n",
       "    </tr>\n",
       "    <tr>\n",
       "      <th>116</th>\n",
       "      <td>0.8155</td>\n",
       "      <td>59.667198</td>\n",
       "      <td>2003-01-28 20:30:07</td>\n",
       "      <td>AA</td>\n",
       "      <td>116</td>\n",
       "    </tr>\n",
       "  </tbody>\n",
       "</table>\n",
       "<p>87 rows × 5 columns</p>\n",
       "</div>"
      ],
      "text/plain": [
       "                Longitude   Latitude                Time Platform  Index_ABS\n",
       "Index_Relative                                                              \n",
       "25                -0.9848  59.284801 2003-01-12 19:55:32       AA         25\n",
       "26                -0.6563  59.284801 2003-01-12 21:10:15       AA         26\n",
       "27                -0.3618  59.284801 2003-01-12 22:13:23       AA         27\n",
       "28                 0.0065  59.281700 2003-01-12 23:30:54       AA         28\n",
       "29                 0.3293  59.284698 2003-01-13 00:56:57       AA         29\n",
       "...                   ...        ...                 ...      ...        ...\n",
       "107                4.1780  58.313202 2003-01-26 19:55:12       AA        107\n",
       "108                3.1493  59.717300 2003-01-27 07:44:14       AA        108\n",
       "109                2.7527  59.630299 2003-01-27 10:41:34       AA        109\n",
       "115                1.2742  59.701698 2003-01-28 17:59:37       AA        115\n",
       "116                0.8155  59.667198 2003-01-28 20:30:07       AA        116\n",
       "\n",
       "[87 rows x 5 columns]"
      ]
     },
     "metadata": {},
     "output_type": "display_data"
    }
   ],
   "source": [
    "# Define dataframe to plot based on one of the previously defined filters\n",
    "df_toPlot = position_df_bbox_timerange\n",
    "print('BBOX:', bbox_key)\n",
    "\n",
    "sel_outof_all = f'{len(df_toPlot)} out of {len(position_df)}.'\n",
    "print(f'Selected positions (out of available positions): {sel_outof_all}')\n",
    "\n",
    "display(df_toPlot)"
   ]
  },
  {
   "cell_type": "markdown",
   "metadata": {},
   "source": [
    "# Data Processing: Load and Plot selected Data (Variables within DEPTH range)\n",
    "\n",
    "This section enables accessing data of **only the selected variable** and **within a specified DEPTH range**, to avoid fetching unnecessary data and minimise data volume.\n",
    "\n",
    "The list of variables need to be specified in the *vars_sel* variable. The four variables that are available in this dataset are: \n",
    "* **PRES**: Sea Water Pressure\n",
    "* **TEMP**: Sea Water Temperature\n",
    "* **PSAL**: Sea Water Practical Salinity\n",
    "* **CNDC**: Sea Water Electrical Conductivity \n",
    "\n",
    "The depth range must also be defined. For some limitations to the DAP syntax, at least one range boundary needs to correspond to one of the two extremes. For example, in a data array of 100 elements starting from 0 to 99, the following scenarios are possible:\n",
    "* select the first 20 elements, corresponding to the values range 0 - 19 --> ```[first:1:intermediate] (eg [0:1:19])``` work\n",
    "* select the last 20 elements, corresponsing to the values range 80 - 99 --> ```[intermediate:1:last] (eg [80:1:99])``` work\n",
    "* select the intermediate 60-80 elements, corresponsing to the values range 60 - 79 --> ```[intermediate_1:1:intermediate_2] (eg [80:1:89])``` does NOT work"
   ]
  },
  {
   "cell_type": "markdown",
   "metadata": {},
   "source": [
    "## Test 1"
   ]
  },
  {
   "cell_type": "markdown",
   "metadata": {},
   "source": [
    "### Define Parameters"
   ]
  },
  {
   "cell_type": "code",
   "execution_count": 13,
   "metadata": {},
   "outputs": [],
   "source": [
    "# Available variables\n",
    "vars_main = ['PRES', 'TEMP', 'PSAL', 'CNDC'] \n",
    "\n",
    "# Define the selection of variables to use for the analysis (PS use brakets also with only one var, eg ['TEMP'])\n",
    "vars_sel = ['TEMP']; assert all([elem in vars_main for elem in vars_sel])"
   ]
  },
  {
   "cell_type": "code",
   "execution_count": 14,
   "metadata": {},
   "outputs": [],
   "source": [
    "# Define Platform Code\n",
    "pc = 'AA'; assert pc in position_dict.keys(); # platform code"
   ]
  },
  {
   "cell_type": "code",
   "execution_count": 15,
   "metadata": {},
   "outputs": [
    {
     "name": "stdout",
     "output_type": "stream",
     "text": [
      "[25, 26, 27, 28, 29, 30, 31, 32, 33, 34, 35, 36, 37, 38, 39, 40, 41, 42, 43, 44, 45, 46, 47, 48, 49, 50, 51, 52, 53, 54, 55, 56, 57, 58, 59, 60, 61, 62, 63, 64, 65, 66, 67, 68, 69, 70, 71, 72, 73, 74, 75, 76, 77, 78, 79, 80, 81, 82, 83, 84, 85, 86, 87, 88, 89, 90, 91, 92, 93, 94, 95, 96, 97, 98, 99, 100, 101, 102, 103, 104, 105, 106, 107, 108, 109, 115, 116]\n"
     ]
    }
   ],
   "source": [
    "# Extract list of indices for the selected data\n",
    "index = df_toPlot[df_toPlot['Platform']==pc].index.tolist()\n",
    "print(index)"
   ]
  },
  {
   "cell_type": "code",
   "execution_count": 47,
   "metadata": {},
   "outputs": [],
   "source": [
    "# Define DEPTH\n",
    "depth1 = 0\n",
    "depth2 = 30\n",
    "depth = depth2"
   ]
  },
  {
   "cell_type": "markdown",
   "metadata": {},
   "source": [
    "### Create **data_dict** dictionary \n",
    "Once variables are defined, the DEPTH range must be defined. \n",
    "\n",
    "**INSERT BELOW** the desired DEPTH range (in meters) in the two fields of hte following cell, noting that: \n",
    "* ***metadata[pc]['depth_m_v1']***: either this is equal to the lower bound (ie index=0)\n",
    "* ***metadata[pc]['depth_m_v2']***: or is equal to the upper bound (ie index=-1)\n",
    "\n",
    "Once the variables and DEPTH range are defined, data and their attributes are read iteratively for each platform, and saved into a dictionary *data_dict* which contains:\n",
    "* the actual data, loaded into an **xarray** for data handling, analysis and visualisation\n",
    "* the campaign's main attributes: platform code & name, data type, title, instrument, longitude & latitude, and vertical min & max)  "
   ]
  },
  {
   "cell_type": "code",
   "execution_count": 48,
   "metadata": {},
   "outputs": [
    {
     "name": "stdout",
     "output_type": "stream",
     "text": [
      "{'depth_abs_v1': 0,\n",
      " 'depth_abs_v2': 2809,\n",
      " 'depth_m_v1': 0,\n",
      " 'depth_m_v2': 30,\n",
      " 'depth_newindex4xr_v1': 0,\n",
      " 'depth_newindex4xr_v2': 30,\n",
      " 'depth_newindex_v1': 0,\n",
      " 'depth_newindex_v2': 30,\n",
      " 'vmin': 0}\n",
      "AA DEPTH range of interest (adjusted with vmin): 0 - 30\n",
      "Platform AA URL: http://opendap1.nodc.no/opendap/physics/point/yearly/58AA_CTD_2003.nc?TIME[0:1:683],LATITUDE[0:1:683],LONGITUDE[0:1:683],TEMP[0:1:683][0:1:30]\n",
      "['58AA' 'H\\\\303\\\\245kon Mosby' '2003' 'OceanSITES vertical profile'\n",
      " 'Arctic Ocean - In Situ Observation Copernicus' 'CTD Seabird' '0.000'\n",
      " '2811.000' '-11.884' '17.833' '53.996' '69.999']\n",
      "\n",
      "Checking the existing campaigns in the dictionary: ['AA']\n"
     ]
    }
   ],
   "source": [
    "data_dict = {}\n",
    "metadata = {}\n",
    "\n",
    "metadata[pc] = {}\n",
    "\n",
    "v_min = int(float(position_dict[pc]['data_attr'][6]))\n",
    "metadata[pc]['vmin'] = v_min\n",
    "metadata[pc]['depth_abs_v1'] = 0 # this is fixed\n",
    "metadata[pc]['depth_abs_v2'] = pc_dim_dict[pc]['DEPTH'] # this is fixed\n",
    "\n",
    "# ==============================================================================\n",
    "\"\"\"\n",
    "Define here the DEPTH range of your selection, in meters. Note that either:\n",
    "- 'depth_m_v1' is equal to the lower bound (ie index=0), or \n",
    "- 'depth_m_v2' is equal to the upper bound (ie index=-1)\n",
    "\"\"\"\n",
    "metadata[pc]['depth_m_v1'] = 0\n",
    "metadata[pc]['depth_m_v2'] = depth2 #pc_dim_dict[pc]['DEPTH'] \n",
    "# ==============================================================================\n",
    "\n",
    "# assert metadata[pc]['depth_m_v1'] < metadata[pc]['depth_m_v2'], 'ERROR: the lower bound must be lower than the higher bound' \n",
    "# assert metadata[pc]['depth_m_v1'] == 0 or metadata[pc]['depth_m_v2'] == pc_dim_dict[pc]['DEPTH'], 'ERROR: one of the two values must be equal to one of the lower/upper bounds'\n",
    "\n",
    "#     print(f'DEPTH range of interest (meters): {metadata[pc][\"depth_m_v1\"]} - {metadata[pc][\"depth_m_v2\"]}')\n",
    "\n",
    "# the start and stop values are adjusted based on the vmin value\n",
    "if metadata[pc]['vmin'] == 1: \n",
    "    if metadata[pc]['depth_m_v1'] == 0: # \n",
    "        metadata[pc]['depth_newindex_v1'] = metadata[pc]['depth_m_v1'] # the same\n",
    "        metadata[pc]['depth_newindex_v2'] = metadata[pc]['depth_m_v2'] # the same, so I have the right size. When I shift and add the nan, I get rid of further element on the right\n",
    "        metadata[pc]['depth_newindex4xr_v2'] = metadata[pc]['depth_m_v2']# - 1\n",
    "\n",
    "    elif metadata[pc]['depth_m_v1'] != 0: \n",
    "        metadata[pc]['depth_newindex_v1'] = metadata[pc]['depth_m_v1'] - 1 # start one element before\n",
    "        metadata[pc]['depth_newindex_v2'] = metadata[pc]['depth_m_v2'] - 1 # last element is excluded, ie stop one element before. But then I'll have to remoove one element\n",
    "        metadata[pc]['depth_newindex4xr_v2'] = metadata[pc]['depth_m_v2'] - metadata[pc]['depth_m_v1'] - 1 \n",
    "\n",
    "else:\n",
    "    metadata[pc]['depth_newindex_v1'] = metadata[pc]['depth_m_v1']\n",
    "    metadata[pc]['depth_newindex_v2'] = metadata[pc]['depth_m_v2']\n",
    "\n",
    "    if metadata[pc]['depth_m_v1'] == 0: # \n",
    "        metadata[pc]['depth_newindex4xr_v2'] = metadata[pc]['depth_m_v2']\n",
    "\n",
    "    elif metadata[pc]['depth_m_v1'] != 0: \n",
    "        metadata[pc]['depth_newindex4xr_v2'] = metadata[pc]['depth_m_v2'] - metadata[pc]['depth_m_v1']\n",
    "\n",
    "metadata[pc]['depth_newindex4xr_v1'] = 0\n",
    "\n",
    "pprint.pprint(metadata[pc])\n",
    "print(f'{pc} DEPTH range of interest (adjusted with vmin): {metadata[pc][\"depth_newindex_v1\"]} - {metadata[pc][\"depth_newindex_v2\"]}')\n",
    "\n",
    "fix_lab = f'58{pc}_CTD_{year}' # platform_codes and year are defined at the beginning of the notebook \n",
    "\n",
    "# Get coordinates (needed for keeping hte correct structure, and for plotting) \n",
    "coords_str = getQueryString(pc_dim_dict[pc], keylist = ['TIME', 'LATITUDE', 'LONGITUDE']) # list the coordinates you want\n",
    "\n",
    "# Extract TIME and DEPTH dimension for queries \n",
    "time_dims = getQuery(pc, start=0, stop=pc_dim_dict[pc]['TIME'])\n",
    "depth_dims = getQuery(pc, start=metadata[pc]['depth_newindex_v1'], stop=metadata[pc]['depth_newindex_v2'])#; print(depth_dims)\n",
    "\n",
    "# join TIME and DEPTH for Variables\n",
    "var_str_ALL = []\n",
    "for var in vars_sel: var_str_ALL = np.append(var_str_ALL, f'{var}{time_dims}{depth_dims}')\n",
    "queries_vars = ','.join(var_str_ALL)\n",
    "\n",
    "# Build url and url with queries (url_q)\n",
    "url = f'{server_url}{fix_lab}.nc?{coords_str}' \n",
    "url_q = f'{url},{queries_vars}'; print(f'Platform {pc} URL:', url_q)\n",
    "\n",
    "remote_data, data_attr = fetch_data(url_q, year)\n",
    "\n",
    "data_dict[pc] = {'data': remote_data, \n",
    "                 'data_attr': data_attr}\n",
    "\n",
    "print(f'{data_attr}\\n')\n",
    "\n",
    "# display(data_dict)\n",
    "print(f'Checking the existing campaigns in the dictionary: {list(data_dict.keys())}')"
   ]
  },
  {
   "cell_type": "markdown",
   "metadata": {},
   "source": [
    "### Create Overview Dataframe with Platforms' Attributes\n",
    "An overview dataframe overview_df is then generated to show the detailed information about each campaign at sea: platform code & name, data type, title, instrument, longitude & latitude, and vertical min & max)."
   ]
  },
  {
   "cell_type": "code",
   "execution_count": 49,
   "metadata": {},
   "outputs": [
    {
     "data": {
      "text/html": [
       "<div>\n",
       "<style scoped>\n",
       "    .dataframe tbody tr th:only-of-type {\n",
       "        vertical-align: middle;\n",
       "    }\n",
       "\n",
       "    .dataframe tbody tr th {\n",
       "        vertical-align: top;\n",
       "    }\n",
       "\n",
       "    .dataframe thead th {\n",
       "        text-align: right;\n",
       "    }\n",
       "</style>\n",
       "<table border=\"1\" class=\"dataframe\">\n",
       "  <thead>\n",
       "    <tr style=\"text-align: right;\">\n",
       "      <th></th>\n",
       "      <th>Platform_code</th>\n",
       "      <th>Platform_name</th>\n",
       "      <th>Year</th>\n",
       "      <th>Data_type</th>\n",
       "      <th>Title</th>\n",
       "      <th>Instrument</th>\n",
       "      <th>Vertical_min</th>\n",
       "      <th>Vertical_max</th>\n",
       "      <th>Lon_min</th>\n",
       "      <th>Lon_max</th>\n",
       "      <th>Lat_min</th>\n",
       "      <th>Lat_max</th>\n",
       "    </tr>\n",
       "  </thead>\n",
       "  <tbody>\n",
       "    <tr>\n",
       "      <th>AA</th>\n",
       "      <td>58AA</td>\n",
       "      <td>H\\303\\245kon Mosby</td>\n",
       "      <td>2003.0</td>\n",
       "      <td>OceanSITES vertical profile</td>\n",
       "      <td>Arctic Ocean - In Situ Observation Copernicus</td>\n",
       "      <td>CTD Seabird</td>\n",
       "      <td>0.0</td>\n",
       "      <td>2811.0</td>\n",
       "      <td>-11.884</td>\n",
       "      <td>17.833</td>\n",
       "      <td>53.996</td>\n",
       "      <td>69.999</td>\n",
       "    </tr>\n",
       "  </tbody>\n",
       "</table>\n",
       "</div>"
      ],
      "text/plain": [
       "   Platform_code       Platform_name    Year                    Data_type  \\\n",
       "AA          58AA  H\\303\\245kon Mosby  2003.0  OceanSITES vertical profile   \n",
       "\n",
       "                                            Title   Instrument  Vertical_min  \\\n",
       "AA  Arctic Ocean - In Situ Observation Copernicus  CTD Seabird           0.0   \n",
       "\n",
       "    Vertical_max  Lon_min  Lon_max  Lat_min  Lat_max  \n",
       "AA        2811.0  -11.884   17.833   53.996   69.999  "
      ]
     },
     "execution_count": 49,
     "metadata": {},
     "output_type": "execute_result"
    }
   ],
   "source": [
    "# Create database with the selected campaigns & years\n",
    "overview_df = pd.DataFrame()\n",
    "overview_df = getAttributes(overview_df, data_dict)\n",
    "overview_df"
   ]
  },
  {
   "cell_type": "code",
   "execution_count": 50,
   "metadata": {},
   "outputs": [
    {
     "name": "stdout",
     "output_type": "stream",
     "text": [
      "AA ['TIME', 'LATITUDE', 'LONGITUDE', 'TEMP']\n",
      "\n",
      "Printing DEPTH range for analyis:\n",
      " - Pl. AA; Available DEPTH range: 0 - 30 meters.\n"
     ]
    }
   ],
   "source": [
    "# Extract / define the variables to use for the analysis\n",
    "for key in data_dict.keys():\n",
    "    print(key, list(data_dict[key]['data'].variables))\n",
    "    \n",
    "print('\\nPrinting DEPTH range for analyis:')\n",
    "assert len(np.unique([metadata[k][\"depth_m_v1\"] for k in metadata.keys()])==1)\n",
    "assert len(np.unique([metadata[k][\"depth_m_v2\"] for k in metadata.keys()])==1)\n",
    "\n",
    "for k in metadata.keys():\n",
    "    print(f' - Pl. {k}; Available DEPTH range: {metadata[k][\"depth_m_v1\"]} - {metadata[k][\"depth_m_v2\"]} meters.')"
   ]
  },
  {
   "cell_type": "code",
   "execution_count": 51,
   "metadata": {},
   "outputs": [
    {
     "data": {
      "text/plain": [
       "{}"
      ]
     },
     "execution_count": 51,
     "metadata": {},
     "output_type": "execute_result"
    }
   ],
   "source": [
    "# Generate vmin dictionary (needed to avoid doing the vmin adjustment more than once)\n",
    "vmin_dict = {}\n",
    "\n",
    "# select only those platforms where vmin == 1\n",
    "vmin_pc = overview_df[overview_df['Vertical_min'] == 1.0].index\n",
    "\n",
    "for i in vmin_pc:\n",
    "    vmin_dict[i] = {}\n",
    "    \n",
    "    for v in vars_sel:\n",
    "        vmin_dict[i][v] = False\n",
    "\n",
    "vmin_dict   "
   ]
  },
  {
   "cell_type": "markdown",
   "metadata": {},
   "source": [
    "### Data Filtering by DEPTH\n",
    "This section allows filtering the xarray data using the selected DEPTH, as well as the data previously filtered based on BBOX and time range (Filtered Position section)\n",
    "\n",
    "The output of this operation is a *filtered_xarr* xarray dataset, containing one variable at the specified DEPTH. "
   ]
  },
  {
   "cell_type": "markdown",
   "metadata": {},
   "source": [
    "#### Data filtered by BBOX and One Variable"
   ]
  },
  {
   "cell_type": "code",
   "execution_count": 52,
   "metadata": {},
   "outputs": [
    {
     "name": "stdout",
     "output_type": "stream",
     "text": [
      "Platform: AA - Vertical min = 0.0\n"
     ]
    },
    {
     "data": {
      "text/html": [
       "<div><svg style=\"position: absolute; width: 0; height: 0; overflow: hidden\">\n",
       "<defs>\n",
       "<symbol id=\"icon-database\" viewBox=\"0 0 32 32\">\n",
       "<path d=\"M16 0c-8.837 0-16 2.239-16 5v4c0 2.761 7.163 5 16 5s16-2.239 16-5v-4c0-2.761-7.163-5-16-5z\"></path>\n",
       "<path d=\"M16 17c-8.837 0-16-2.239-16-5v6c0 2.761 7.163 5 16 5s16-2.239 16-5v-6c0 2.761-7.163 5-16 5z\"></path>\n",
       "<path d=\"M16 26c-8.837 0-16-2.239-16-5v6c0 2.761 7.163 5 16 5s16-2.239 16-5v-6c0 2.761-7.163 5-16 5z\"></path>\n",
       "</symbol>\n",
       "<symbol id=\"icon-file-text2\" viewBox=\"0 0 32 32\">\n",
       "<path d=\"M28.681 7.159c-0.694-0.947-1.662-2.053-2.724-3.116s-2.169-2.030-3.116-2.724c-1.612-1.182-2.393-1.319-2.841-1.319h-15.5c-1.378 0-2.5 1.121-2.5 2.5v27c0 1.378 1.122 2.5 2.5 2.5h23c1.378 0 2.5-1.122 2.5-2.5v-19.5c0-0.448-0.137-1.23-1.319-2.841zM24.543 5.457c0.959 0.959 1.712 1.825 2.268 2.543h-4.811v-4.811c0.718 0.556 1.584 1.309 2.543 2.268zM28 29.5c0 0.271-0.229 0.5-0.5 0.5h-23c-0.271 0-0.5-0.229-0.5-0.5v-27c0-0.271 0.229-0.5 0.5-0.5 0 0 15.499-0 15.5 0v7c0 0.552 0.448 1 1 1h7v19.5z\"></path>\n",
       "<path d=\"M23 26h-14c-0.552 0-1-0.448-1-1s0.448-1 1-1h14c0.552 0 1 0.448 1 1s-0.448 1-1 1z\"></path>\n",
       "<path d=\"M23 22h-14c-0.552 0-1-0.448-1-1s0.448-1 1-1h14c0.552 0 1 0.448 1 1s-0.448 1-1 1z\"></path>\n",
       "<path d=\"M23 18h-14c-0.552 0-1-0.448-1-1s0.448-1 1-1h14c0.552 0 1 0.448 1 1s-0.448 1-1 1z\"></path>\n",
       "</symbol>\n",
       "</defs>\n",
       "</svg>\n",
       "<style>/* CSS stylesheet for displaying xarray objects in jupyterlab.\n",
       " *\n",
       " */\n",
       "\n",
       ":root {\n",
       "  --xr-font-color0: var(--jp-content-font-color0, rgba(0, 0, 0, 1));\n",
       "  --xr-font-color2: var(--jp-content-font-color2, rgba(0, 0, 0, 0.54));\n",
       "  --xr-font-color3: var(--jp-content-font-color3, rgba(0, 0, 0, 0.38));\n",
       "  --xr-border-color: var(--jp-border-color2, #e0e0e0);\n",
       "  --xr-disabled-color: var(--jp-layout-color3, #bdbdbd);\n",
       "  --xr-background-color: var(--jp-layout-color0, white);\n",
       "  --xr-background-color-row-even: var(--jp-layout-color1, white);\n",
       "  --xr-background-color-row-odd: var(--jp-layout-color2, #eeeeee);\n",
       "}\n",
       "\n",
       "html[theme=dark],\n",
       "body.vscode-dark {\n",
       "  --xr-font-color0: rgba(255, 255, 255, 1);\n",
       "  --xr-font-color2: rgba(255, 255, 255, 0.54);\n",
       "  --xr-font-color3: rgba(255, 255, 255, 0.38);\n",
       "  --xr-border-color: #1F1F1F;\n",
       "  --xr-disabled-color: #515151;\n",
       "  --xr-background-color: #111111;\n",
       "  --xr-background-color-row-even: #111111;\n",
       "  --xr-background-color-row-odd: #313131;\n",
       "}\n",
       "\n",
       ".xr-wrap {\n",
       "  display: block;\n",
       "  min-width: 300px;\n",
       "  max-width: 700px;\n",
       "}\n",
       "\n",
       ".xr-text-repr-fallback {\n",
       "  /* fallback to plain text repr when CSS is not injected (untrusted notebook) */\n",
       "  display: none;\n",
       "}\n",
       "\n",
       ".xr-header {\n",
       "  padding-top: 6px;\n",
       "  padding-bottom: 6px;\n",
       "  margin-bottom: 4px;\n",
       "  border-bottom: solid 1px var(--xr-border-color);\n",
       "}\n",
       "\n",
       ".xr-header > div,\n",
       ".xr-header > ul {\n",
       "  display: inline;\n",
       "  margin-top: 0;\n",
       "  margin-bottom: 0;\n",
       "}\n",
       "\n",
       ".xr-obj-type,\n",
       ".xr-array-name {\n",
       "  margin-left: 2px;\n",
       "  margin-right: 10px;\n",
       "}\n",
       "\n",
       ".xr-obj-type {\n",
       "  color: var(--xr-font-color2);\n",
       "}\n",
       "\n",
       ".xr-sections {\n",
       "  padding-left: 0 !important;\n",
       "  display: grid;\n",
       "  grid-template-columns: 150px auto auto 1fr 20px 20px;\n",
       "}\n",
       "\n",
       ".xr-section-item {\n",
       "  display: contents;\n",
       "}\n",
       "\n",
       ".xr-section-item input {\n",
       "  display: none;\n",
       "}\n",
       "\n",
       ".xr-section-item input + label {\n",
       "  color: var(--xr-disabled-color);\n",
       "}\n",
       "\n",
       ".xr-section-item input:enabled + label {\n",
       "  cursor: pointer;\n",
       "  color: var(--xr-font-color2);\n",
       "}\n",
       "\n",
       ".xr-section-item input:enabled + label:hover {\n",
       "  color: var(--xr-font-color0);\n",
       "}\n",
       "\n",
       ".xr-section-summary {\n",
       "  grid-column: 1;\n",
       "  color: var(--xr-font-color2);\n",
       "  font-weight: 500;\n",
       "}\n",
       "\n",
       ".xr-section-summary > span {\n",
       "  display: inline-block;\n",
       "  padding-left: 0.5em;\n",
       "}\n",
       "\n",
       ".xr-section-summary-in:disabled + label {\n",
       "  color: var(--xr-font-color2);\n",
       "}\n",
       "\n",
       ".xr-section-summary-in + label:before {\n",
       "  display: inline-block;\n",
       "  content: '►';\n",
       "  font-size: 11px;\n",
       "  width: 15px;\n",
       "  text-align: center;\n",
       "}\n",
       "\n",
       ".xr-section-summary-in:disabled + label:before {\n",
       "  color: var(--xr-disabled-color);\n",
       "}\n",
       "\n",
       ".xr-section-summary-in:checked + label:before {\n",
       "  content: '▼';\n",
       "}\n",
       "\n",
       ".xr-section-summary-in:checked + label > span {\n",
       "  display: none;\n",
       "}\n",
       "\n",
       ".xr-section-summary,\n",
       ".xr-section-inline-details {\n",
       "  padding-top: 4px;\n",
       "  padding-bottom: 4px;\n",
       "}\n",
       "\n",
       ".xr-section-inline-details {\n",
       "  grid-column: 2 / -1;\n",
       "}\n",
       "\n",
       ".xr-section-details {\n",
       "  display: none;\n",
       "  grid-column: 1 / -1;\n",
       "  margin-bottom: 5px;\n",
       "}\n",
       "\n",
       ".xr-section-summary-in:checked ~ .xr-section-details {\n",
       "  display: contents;\n",
       "}\n",
       "\n",
       ".xr-array-wrap {\n",
       "  grid-column: 1 / -1;\n",
       "  display: grid;\n",
       "  grid-template-columns: 20px auto;\n",
       "}\n",
       "\n",
       ".xr-array-wrap > label {\n",
       "  grid-column: 1;\n",
       "  vertical-align: top;\n",
       "}\n",
       "\n",
       ".xr-preview {\n",
       "  color: var(--xr-font-color3);\n",
       "}\n",
       "\n",
       ".xr-array-preview,\n",
       ".xr-array-data {\n",
       "  padding: 0 5px !important;\n",
       "  grid-column: 2;\n",
       "}\n",
       "\n",
       ".xr-array-data,\n",
       ".xr-array-in:checked ~ .xr-array-preview {\n",
       "  display: none;\n",
       "}\n",
       "\n",
       ".xr-array-in:checked ~ .xr-array-data,\n",
       ".xr-array-preview {\n",
       "  display: inline-block;\n",
       "}\n",
       "\n",
       ".xr-dim-list {\n",
       "  display: inline-block !important;\n",
       "  list-style: none;\n",
       "  padding: 0 !important;\n",
       "  margin: 0;\n",
       "}\n",
       "\n",
       ".xr-dim-list li {\n",
       "  display: inline-block;\n",
       "  padding: 0;\n",
       "  margin: 0;\n",
       "}\n",
       "\n",
       ".xr-dim-list:before {\n",
       "  content: '(';\n",
       "}\n",
       "\n",
       ".xr-dim-list:after {\n",
       "  content: ')';\n",
       "}\n",
       "\n",
       ".xr-dim-list li:not(:last-child):after {\n",
       "  content: ',';\n",
       "  padding-right: 5px;\n",
       "}\n",
       "\n",
       ".xr-has-index {\n",
       "  font-weight: bold;\n",
       "}\n",
       "\n",
       ".xr-var-list,\n",
       ".xr-var-item {\n",
       "  display: contents;\n",
       "}\n",
       "\n",
       ".xr-var-item > div,\n",
       ".xr-var-item label,\n",
       ".xr-var-item > .xr-var-name span {\n",
       "  background-color: var(--xr-background-color-row-even);\n",
       "  margin-bottom: 0;\n",
       "}\n",
       "\n",
       ".xr-var-item > .xr-var-name:hover span {\n",
       "  padding-right: 5px;\n",
       "}\n",
       "\n",
       ".xr-var-list > li:nth-child(odd) > div,\n",
       ".xr-var-list > li:nth-child(odd) > label,\n",
       ".xr-var-list > li:nth-child(odd) > .xr-var-name span {\n",
       "  background-color: var(--xr-background-color-row-odd);\n",
       "}\n",
       "\n",
       ".xr-var-name {\n",
       "  grid-column: 1;\n",
       "}\n",
       "\n",
       ".xr-var-dims {\n",
       "  grid-column: 2;\n",
       "}\n",
       "\n",
       ".xr-var-dtype {\n",
       "  grid-column: 3;\n",
       "  text-align: right;\n",
       "  color: var(--xr-font-color2);\n",
       "}\n",
       "\n",
       ".xr-var-preview {\n",
       "  grid-column: 4;\n",
       "}\n",
       "\n",
       ".xr-var-name,\n",
       ".xr-var-dims,\n",
       ".xr-var-dtype,\n",
       ".xr-preview,\n",
       ".xr-attrs dt {\n",
       "  white-space: nowrap;\n",
       "  overflow: hidden;\n",
       "  text-overflow: ellipsis;\n",
       "  padding-right: 10px;\n",
       "}\n",
       "\n",
       ".xr-var-name:hover,\n",
       ".xr-var-dims:hover,\n",
       ".xr-var-dtype:hover,\n",
       ".xr-attrs dt:hover {\n",
       "  overflow: visible;\n",
       "  width: auto;\n",
       "  z-index: 1;\n",
       "}\n",
       "\n",
       ".xr-var-attrs,\n",
       ".xr-var-data {\n",
       "  display: none;\n",
       "  background-color: var(--xr-background-color) !important;\n",
       "  padding-bottom: 5px !important;\n",
       "}\n",
       "\n",
       ".xr-var-attrs-in:checked ~ .xr-var-attrs,\n",
       ".xr-var-data-in:checked ~ .xr-var-data {\n",
       "  display: block;\n",
       "}\n",
       "\n",
       ".xr-var-data > table {\n",
       "  float: right;\n",
       "}\n",
       "\n",
       ".xr-var-name span,\n",
       ".xr-var-data,\n",
       ".xr-attrs {\n",
       "  padding-left: 25px !important;\n",
       "}\n",
       "\n",
       ".xr-attrs,\n",
       ".xr-var-attrs,\n",
       ".xr-var-data {\n",
       "  grid-column: 1 / -1;\n",
       "}\n",
       "\n",
       "dl.xr-attrs {\n",
       "  padding: 0;\n",
       "  margin: 0;\n",
       "  display: grid;\n",
       "  grid-template-columns: 125px auto;\n",
       "}\n",
       "\n",
       ".xr-attrs dt,\n",
       ".xr-attrs dd {\n",
       "  padding: 0;\n",
       "  margin: 0;\n",
       "  float: left;\n",
       "  padding-right: 10px;\n",
       "  width: auto;\n",
       "}\n",
       "\n",
       ".xr-attrs dt {\n",
       "  font-weight: normal;\n",
       "  grid-column: 1;\n",
       "}\n",
       "\n",
       ".xr-attrs dt:hover span {\n",
       "  display: inline-block;\n",
       "  background: var(--xr-background-color);\n",
       "  padding-right: 10px;\n",
       "}\n",
       "\n",
       ".xr-attrs dd {\n",
       "  grid-column: 2;\n",
       "  white-space: pre-wrap;\n",
       "  word-break: break-all;\n",
       "}\n",
       "\n",
       ".xr-icon-database,\n",
       ".xr-icon-file-text2 {\n",
       "  display: inline-block;\n",
       "  vertical-align: middle;\n",
       "  width: 1em;\n",
       "  height: 1.5em !important;\n",
       "  stroke-width: 0;\n",
       "  stroke: currentColor;\n",
       "  fill: currentColor;\n",
       "}\n",
       "</style><pre class='xr-text-repr-fallback'>&lt;xarray.Dataset&gt;\n",
       "Dimensions:    (DEPTH: 31, LATITUDE: 87, LONGITUDE: 87, TIME: 87)\n",
       "Coordinates:\n",
       "  * TIME       (TIME) float64 1.937e+04 1.937e+04 ... 1.939e+04 1.939e+04\n",
       "  * LATITUDE   (LATITUDE) float32 59.28 59.28 59.28 59.28 ... 59.63 59.7 59.67\n",
       "  * LONGITUDE  (LONGITUDE) float32 -0.9848 -0.6563 -0.3618 ... 1.274 0.8155\n",
       "Dimensions without coordinates: DEPTH\n",
       "Data variables:\n",
       "    TEMP       (TIME, DEPTH) float64 8.094 8.089 8.088 ... 7.508 7.508 7.508\n",
       "Attributes: (12/152)\n",
       "    _NCProperties:                  version=1|netcdflibversion=4.4.1|hdf5libv...\n",
       "    title:                          Arctic Ocean - In Situ Observation Copern...\n",
       "    qc_manual:                      Recommendations for in-situ data Near Rea...\n",
       "    contact:                        cmems-service@imr.no\n",
       "    format_version:                 1.4\n",
       "    distribution_statement:         These data follow Copernicus standards; t...\n",
       "    ...                             ...\n",
       "    CNDC_DM._FillValue:              \n",
       "    CNDC_DM.conventions:            Copernicus Marine In Situ reference table 1\n",
       "    CNDC_DM.flag_values:            R, A, D\n",
       "    CNDC_DM.flag_meanings:          real-time adjusted-in-real-time delayed-mode\n",
       "    CNDC_DM.long_name:              Electrical conductivity method of data pr...\n",
       "    CNDC_DM.string_length:          2810</pre><div class='xr-wrap' hidden><div class='xr-header'><div class='xr-obj-type'>xarray.Dataset</div></div><ul class='xr-sections'><li class='xr-section-item'><input id='section-52a17e94-b638-4fd5-a6ea-b2e0870b1d71' class='xr-section-summary-in' type='checkbox' disabled ><label for='section-52a17e94-b638-4fd5-a6ea-b2e0870b1d71' class='xr-section-summary'  title='Expand/collapse section'>Dimensions:</label><div class='xr-section-inline-details'><ul class='xr-dim-list'><li><span>DEPTH</span>: 31</li><li><span class='xr-has-index'>LATITUDE</span>: 87</li><li><span class='xr-has-index'>LONGITUDE</span>: 87</li><li><span class='xr-has-index'>TIME</span>: 87</li></ul></div><div class='xr-section-details'></div></li><li class='xr-section-item'><input id='section-e94c353e-902c-4ac1-9f1e-f1907e0e817f' class='xr-section-summary-in' type='checkbox'  checked><label for='section-e94c353e-902c-4ac1-9f1e-f1907e0e817f' class='xr-section-summary' >Coordinates: <span>(3)</span></label><div class='xr-section-inline-details'></div><div class='xr-section-details'><ul class='xr-var-list'><li class='xr-var-item'><div class='xr-var-name'><span class='xr-has-index'>TIME</span></div><div class='xr-var-dims'>(TIME)</div><div class='xr-var-dtype'>float64</div><div class='xr-var-preview xr-preview'>1.937e+04 1.937e+04 ... 1.939e+04</div><input id='attrs-89ebcb32-4679-4c94-856f-10926a21bb37' class='xr-var-attrs-in' type='checkbox' ><label for='attrs-89ebcb32-4679-4c94-856f-10926a21bb37' title='Show/Hide attributes'><svg class='icon xr-icon-file-text2'><use xlink:href='#icon-file-text2'></use></svg></label><input id='data-bb81fa24-8079-465c-b259-8cd77d471934' class='xr-var-data-in' type='checkbox'><label for='data-bb81fa24-8079-465c-b259-8cd77d471934' title='Show/Hide data repr'><svg class='icon xr-icon-database'><use xlink:href='#icon-database'></use></svg></label><div class='xr-var-attrs'><dl class='xr-attrs'><dt><span>long_name :</span></dt><dd>Time</dd><dt><span>standard_name :</span></dt><dd>time</dd><dt><span>units :</span></dt><dd>days since 1950-01-01T00:00:00Z</dd><dt><span>valid_min :</span></dt><dd>-90000.0</dd><dt><span>valid_max :</span></dt><dd>90000.0</dd><dt><span>axis :</span></dt><dd>T</dd><dt><span>QC_indicator :</span></dt><dd>1</dd><dt><span>uncertainty :</span></dt><dd></dd><dt><span>comment :</span></dt><dd></dd><dt><span>ancillary_variables :</span></dt><dd>TIME_QC</dd><dt><span>calendar :</span></dt><dd>standard</dd></dl></div><div class='xr-var-data'><pre>array([19369.830231, 19369.882118, 19369.925961, 19369.979792, 19370.039549,\n",
       "       19370.089861, 19370.148576, 19370.195069, 19370.25397 , 19370.392292,\n",
       "       19370.426343, 19370.515162, 19370.551829, 19370.59066 , 19370.614942,\n",
       "       19370.676157, 19371.464363, 19371.497338, 19371.527361, 19371.559618,\n",
       "       19371.591944, 19371.617963, 19371.643866, 19371.673299, 19371.70353 ,\n",
       "       19371.734792, 19371.760926, 19371.781817, 19376.16647 , 19376.192917,\n",
       "       19376.223819, 19376.25316 , 19376.301065, 19376.334977, 19376.374387,\n",
       "       19376.398229, 19376.426551, 19376.45544 , 19376.483785, 19376.739988,\n",
       "       19376.915926, 19376.977465, 19377.032824, 19377.096817, 19377.162685,\n",
       "       19377.228669, 19377.295995, 19377.347905, 19377.525903, 19377.631042,\n",
       "       19377.76125 , 19377.866562, 19378.303947, 19378.411389, 19378.698831,\n",
       "       19379.247222, 19379.302512, 19379.386991, 19379.426979, 19379.501366,\n",
       "       19379.535729, 19379.616644, 19380.325671, 19380.440671, 19380.585046,\n",
       "       19380.728877, 19380.76566 , 19380.824028, 19380.884063, 19380.922153,\n",
       "       19380.951134, 19381.016215, 19381.081505, 19381.145891, 19381.218206,\n",
       "       19381.29169 , 19381.355382, 19381.407153, 19383.328762, 19383.481528,\n",
       "       19383.63669 , 19383.732801, 19383.83    , 19384.322384, 19384.445532,\n",
       "       19385.749734, 19385.854248])</pre></div></li><li class='xr-var-item'><div class='xr-var-name'><span class='xr-has-index'>LATITUDE</span></div><div class='xr-var-dims'>(LATITUDE)</div><div class='xr-var-dtype'>float32</div><div class='xr-var-preview xr-preview'>59.28 59.28 59.28 ... 59.7 59.67</div><input id='attrs-e15ed8f5-c01e-472d-ae4f-41114b6fcdf4' class='xr-var-attrs-in' type='checkbox' ><label for='attrs-e15ed8f5-c01e-472d-ae4f-41114b6fcdf4' title='Show/Hide attributes'><svg class='icon xr-icon-file-text2'><use xlink:href='#icon-file-text2'></use></svg></label><input id='data-ebf0fa37-6965-41c8-86e3-3bd87d26ea80' class='xr-var-data-in' type='checkbox'><label for='data-ebf0fa37-6965-41c8-86e3-3bd87d26ea80' title='Show/Hide data repr'><svg class='icon xr-icon-database'><use xlink:href='#icon-database'></use></svg></label><div class='xr-var-attrs'><dl class='xr-attrs'><dt><span>axis :</span></dt><dd>Y</dd><dt><span>QC_indicator :</span></dt><dd>1</dd><dt><span>uncertainty :</span></dt><dd> </dd><dt><span>comment :</span></dt><dd> </dd><dt><span>ancillary_variables :</span></dt><dd>POSITION_QC</dd><dt><span>standard_name :</span></dt><dd>latitude</dd><dt><span>long_name :</span></dt><dd>Latitude of each location</dd><dt><span>units :</span></dt><dd>degree_north</dd><dt><span>valid_min :</span></dt><dd>-90.0</dd><dt><span>valid_max :</span></dt><dd>90.0</dd></dl></div><div class='xr-var-data'><pre>array([59.2848, 59.2848, 59.2848, 59.2817, 59.2847, 59.2838, 59.2822, 59.2822,\n",
       "       59.2838, 59.284 , 59.2845, 59.282 , 59.2837, 59.2827, 59.2873, 59.283 ,\n",
       "       59.2835, 59.2832, 59.283 , 59.2862, 59.2892, 59.2883, 59.2847, 59.2832,\n",
       "       59.2833, 59.2843, 59.2827, 59.284 , 58.0505, 57.9838, 57.9158, 57.8513,\n",
       "       57.7353, 57.6497, 57.5468, 57.482 , 57.3987, 57.316 , 57.234 , 57.4025,\n",
       "       57.0015, 57.0028, 56.9998, 57.0017, 57.0013, 57.0002, 56.9993, 56.8817,\n",
       "       56.6763, 56.7793, 57.0013, 56.9988, 57.1848, 57.226 , 57.8382, 57.0007,\n",
       "       57.1302, 57.0007, 56.8708, 57.0035, 57.0013, 57.0007, 57.8965, 57.7373,\n",
       "       57.266 , 56.9208, 56.9998, 57.0023, 56.9998, 56.9997, 57.0013, 57.0005,\n",
       "       56.9993, 56.9988, 56.9993, 57.0002, 57.0013, 57.0023, 58.2035, 58.6983,\n",
       "       58.7132, 58.4902, 58.3132, 59.7173, 59.6303, 59.7017, 59.6672],\n",
       "      dtype=float32)</pre></div></li><li class='xr-var-item'><div class='xr-var-name'><span class='xr-has-index'>LONGITUDE</span></div><div class='xr-var-dims'>(LONGITUDE)</div><div class='xr-var-dtype'>float32</div><div class='xr-var-preview xr-preview'>-0.9848 -0.6563 ... 1.274 0.8155</div><input id='attrs-e22a1d08-995a-4fcc-97ff-c87755809289' class='xr-var-attrs-in' type='checkbox' ><label for='attrs-e22a1d08-995a-4fcc-97ff-c87755809289' title='Show/Hide attributes'><svg class='icon xr-icon-file-text2'><use xlink:href='#icon-file-text2'></use></svg></label><input id='data-6fe01466-e4b8-4e2a-b12f-1091b1ac72f2' class='xr-var-data-in' type='checkbox'><label for='data-6fe01466-e4b8-4e2a-b12f-1091b1ac72f2' title='Show/Hide data repr'><svg class='icon xr-icon-database'><use xlink:href='#icon-database'></use></svg></label><div class='xr-var-attrs'><dl class='xr-attrs'><dt><span>axis :</span></dt><dd>X</dd><dt><span>QC_indicator :</span></dt><dd>1</dd><dt><span>uncertainty :</span></dt><dd> </dd><dt><span>comment :</span></dt><dd> </dd><dt><span>ancillary_variables :</span></dt><dd>POSITION_QC</dd><dt><span>standard_name :</span></dt><dd>longitude</dd><dt><span>long_name :</span></dt><dd>Longitude of each location</dd><dt><span>units :</span></dt><dd>degree_east</dd><dt><span>valid_min :</span></dt><dd>-180.0</dd><dt><span>valid_max :</span></dt><dd>180.0</dd></dl></div><div class='xr-var-data'><pre>array([-9.8480e-01, -6.5630e-01, -3.6180e-01,  6.5000e-03,  3.2930e-01,\n",
       "        6.7800e-01,  1.0035e+00,  1.3132e+00,  1.6563e+00,  2.0125e+00,\n",
       "        2.2470e+00,  2.5168e+00,  2.7513e+00,  2.9020e+00,  3.0742e+00,\n",
       "        3.2273e+00,  3.3632e+00,  3.5337e+00,  3.6825e+00,  3.8493e+00,\n",
       "        4.0327e+00,  4.1812e+00,  4.3338e+00,  4.4992e+00,  4.6680e+00,\n",
       "        4.8220e+00,  4.9338e+00,  5.0312e+00,  8.0845e+00,  8.1012e+00,\n",
       "        8.1632e+00,  8.2002e+00,  8.2840e+00,  8.3362e+00,  8.3807e+00,\n",
       "        8.4198e+00,  8.4678e+00,  8.5038e+00,  8.5558e+00,  7.6827e+00,\n",
       "        7.9525e+00,  7.6535e+00,  7.3538e+00,  6.9975e+00,  6.6717e+00,\n",
       "        6.3377e+00,  6.0048e+00,  5.8322e+00,  6.2543e+00,  5.7687e+00,\n",
       "        5.6682e+00,  5.1955e+00,  6.1173e+00,  5.7387e+00,  4.6457e+00,\n",
       "        4.6975e+00,  4.4922e+00,  4.3013e+00,  4.1713e+00,  3.8987e+00,\n",
       "        3.6692e+00,  3.3957e+00,  3.1273e+00,  2.9520e+00,  2.6260e+00,\n",
       "        2.7540e+00,  2.9297e+00,  2.4987e+00,  2.0668e+00,  1.7992e+00,\n",
       "        1.6002e+00,  1.1360e+00,  6.6980e-01,  2.3120e-01, -2.3250e-01,\n",
       "       -6.9830e-01, -1.1273e+00, -1.4660e+00,  2.4753e+00,  2.4500e+00,\n",
       "        3.5895e+00,  3.8583e+00,  4.1780e+00,  3.1493e+00,  2.7527e+00,\n",
       "        1.2742e+00,  8.1550e-01], dtype=float32)</pre></div></li></ul></div></li><li class='xr-section-item'><input id='section-587f953e-2194-45c7-94dd-8f4d42a3d795' class='xr-section-summary-in' type='checkbox'  checked><label for='section-587f953e-2194-45c7-94dd-8f4d42a3d795' class='xr-section-summary' >Data variables: <span>(1)</span></label><div class='xr-section-inline-details'></div><div class='xr-section-details'><ul class='xr-var-list'><li class='xr-var-item'><div class='xr-var-name'><span>TEMP</span></div><div class='xr-var-dims'>(TIME, DEPTH)</div><div class='xr-var-dtype'>float64</div><div class='xr-var-preview xr-preview'>8.094 8.089 8.088 ... 7.508 7.508</div><input id='attrs-607cc1c7-c1a8-45e5-a49a-8f68384f177f' class='xr-var-attrs-in' type='checkbox' ><label for='attrs-607cc1c7-c1a8-45e5-a49a-8f68384f177f' title='Show/Hide attributes'><svg class='icon xr-icon-file-text2'><use xlink:href='#icon-file-text2'></use></svg></label><input id='data-7dcbb367-cb94-4631-94b6-c4355cd0cfeb' class='xr-var-data-in' type='checkbox'><label for='data-7dcbb367-cb94-4631-94b6-c4355cd0cfeb' title='Show/Hide data repr'><svg class='icon xr-icon-database'><use xlink:href='#icon-database'></use></svg></label><div class='xr-var-attrs'><dl class='xr-attrs'><dt><span>standard_name :</span></dt><dd>sea_water_temperature</dd><dt><span>long_name :</span></dt><dd>Sea temperature</dd><dt><span>units :</span></dt><dd>degrees_C</dd><dt><span>valid_min :</span></dt><dd>-2500</dd><dt><span>valid_max :</span></dt><dd>40000</dd><dt><span>ancillary_variables :</span></dt><dd>TEMP_QC TEMP_DM</dd><dt><span>data_mode :</span></dt><dd>M</dd></dl></div><div class='xr-var-data'><pre>array([[8.094, 8.089, 8.088, ..., 8.098, 8.095, 8.095],\n",
       "       [7.567, 7.568, 7.568, ..., 7.571, 7.571, 7.571],\n",
       "       [7.359, 7.353, 7.354, ..., 7.353, 7.353, 7.353],\n",
       "       ...,\n",
       "       [7.898, 7.896, 7.898, ..., 7.868, 7.87 , 7.871],\n",
       "       [7.651, 7.652, 7.653, ..., 7.663, 7.662, 7.662],\n",
       "       [7.489, 7.489, 7.489, ..., 7.508, 7.508, 7.508]])</pre></div></li></ul></div></li><li class='xr-section-item'><input id='section-0efb6d81-d4c4-40aa-b148-a6b37bceefc1' class='xr-section-summary-in' type='checkbox'  ><label for='section-0efb6d81-d4c4-40aa-b148-a6b37bceefc1' class='xr-section-summary' >Attributes: <span>(152)</span></label><div class='xr-section-inline-details'></div><div class='xr-section-details'><dl class='xr-attrs'><dt><span>_NCProperties :</span></dt><dd>version=1|netcdflibversion=4.4.1|hdf5libversion=1.8.18</dd><dt><span>title :</span></dt><dd>Arctic Ocean - In Situ Observation Copernicus</dd><dt><span>qc_manual :</span></dt><dd>Recommendations for in-situ data Near Real Time Quality Control https://doi.org/10.13155/36230</dd><dt><span>contact :</span></dt><dd>cmems-service@imr.no</dd><dt><span>format_version :</span></dt><dd>1.4</dd><dt><span>distribution_statement :</span></dt><dd>These data follow Copernicus standards; they are public and free of charge. User assumes all risk for use of data. User must display citation in any publication or product using data. User must contact PI prior to any commercial use of data.</dd><dt><span>citation :</span></dt><dd>These data were collected and made freely available by the Copernicus project and the programs that contribute to it </dd><dt><span>naming_authority :</span></dt><dd>Copernicus Marine In Situ</dd><dt><span>data_assembly_center :</span></dt><dd>IMR</dd><dt><span>update_interval :</span></dt><dd>void</dd><dt><span>area :</span></dt><dd>Arctic Ocean</dd><dt><span>author :</span></dt><dd></dd><dt><span>Conventions :</span></dt><dd>CF-1.6 Copernicus-InSituTAC-FormatManual-1.41 Copernicus-InSituTAC-SRD-1.5 Copernicus-InSituTAC-ParametersList-3.2.0</dd><dt><span>data_mode :</span></dt><dd>M</dd><dt><span>comment :</span></dt><dd></dd><dt><span>history :</span></dt><dd></dd><dt><span>references :</span></dt><dd>http://marine.copernicus.eu http://www.marineinsitu.eu</dd><dt><span>netcdf_version :</span></dt><dd>netCDF-4 classic model</dd><dt><span>quality_index :</span></dt><dd>A</dd><dt><span>quality_control_indicator :</span></dt><dd>0</dd><dt><span>doi :</span></dt><dd></dd><dt><span>summary :</span></dt><dd></dd><dt><span>wmo_platform_code :</span></dt><dd></dd><dt><span>ices_platform_code :</span></dt><dd></dd><dt><span>site_code :</span></dt><dd></dd><dt><span>bottom_depth :</span></dt><dd></dd><dt><span>wmo_inst_type :</span></dt><dd></dd><dt><span>platform_code :</span></dt><dd>58AA</dd><dt><span>platform_name :</span></dt><dd>H\\303\\245kon Mosby</dd><dt><span>institution :</span></dt><dd>Institute of Marine Research (Norway)</dd><dt><span>institution_edmo_code :</span></dt><dd>1351</dd><dt><span>source :</span></dt><dd>research vessel</dd><dt><span>institution_references :</span></dt><dd>http://www.imr.no</dd><dt><span>institution_country :</span></dt><dd>Norway</dd><dt><span>source_platform_category_code :</span></dt><dd>31</dd><dt><span>pi_name :</span></dt><dd></dd><dt><span>data_type :</span></dt><dd>OceanSITES vertical profile</dd><dt><span>cdm_data_type :</span></dt><dd>profile</dd><dt><span>instrument :</span></dt><dd>CTD Seabird</dd><dt><span>id :</span></dt><dd>58AA_CTD_2003</dd><dt><span>time_coverage_start :</span></dt><dd>2003-01-07T05:25:57Z</dd><dt><span>time_coverage_end :</span></dt><dd>2003-12-09T06:15:53Z</dd><dt><span>last_date_observation :</span></dt><dd>2003-12-09T06:15:53Z</dd><dt><span>date_update :</span></dt><dd>2021-03-23T08:36:27Z</dd><dt><span>geospatial_lat_min :</span></dt><dd>53.996</dd><dt><span>geospatial_lat_max :</span></dt><dd>69.999</dd><dt><span>last_latitude_observation :</span></dt><dd>63.917</dd><dt><span>geospatial_lon_min :</span></dt><dd>-11.884</dd><dt><span>geospatial_lon_max :</span></dt><dd>17.833</dd><dt><span>last_longitude_observation :</span></dt><dd>11.043</dd><dt><span>geospatial_vertical_min :</span></dt><dd>0.000</dd><dt><span>geospatial_vertical_max :</span></dt><dd>2811.000</dd><dt><span>TIME_QC._FillValue :</span></dt><dd>-127</dd><dt><span>TIME_QC.conventions :</span></dt><dd>Copernicus Marine In Situ reference table 2</dd><dt><span>TIME_QC.valid_min :</span></dt><dd>0</dd><dt><span>TIME_QC.valid_max :</span></dt><dd>9</dd><dt><span>TIME_QC.flag_values :</span></dt><dd>[0, 1, 2, 3, 4, 5, 6, 7, 8, 9]</dd><dt><span>TIME_QC.flag_meanings :</span></dt><dd>no_qc_performed good_data probably_good_data bad_data_that_are_potentially_correctable bad_data value_changed not_used nominal_value interpolated_value missing_value</dd><dt><span>TIME_QC.long_name :</span></dt><dd>Time quality flag</dd><dt><span>POSITION_QC._FillValue :</span></dt><dd>-127</dd><dt><span>POSITION_QC.conventions :</span></dt><dd>Copernicus Marine In Situ reference table 2</dd><dt><span>POSITION_QC.valid_min :</span></dt><dd>0</dd><dt><span>POSITION_QC.valid_max :</span></dt><dd>9</dd><dt><span>POSITION_QC.flag_values :</span></dt><dd>[0, 1, 2, 3, 4, 5, 6, 7, 8, 9]</dd><dt><span>POSITION_QC.flag_meanings :</span></dt><dd>no_qc_performed good_data probably_good_data bad_data_that_are_potentially_correctable bad_data value_changed not_used nominal_value interpolated_value missing_value</dd><dt><span>POSITION_QC.long_name :</span></dt><dd>Position quality flag</dd><dt><span>DIRECTION._FillValue :</span></dt><dd> </dd><dt><span>DIRECTION.long_name :</span></dt><dd>Direction of the profiles</dd><dt><span>DIRECTION.conventions :</span></dt><dd>A: ascending profile, D: descending profile</dd><dt><span>DIRECTION.string_length :</span></dt><dd>684</dd><dt><span>PRES._FillValue :</span></dt><dd>9.96920997e+36</dd><dt><span>PRES.axis :</span></dt><dd>Z</dd><dt><span>PRES.uncertainty :</span></dt><dd> </dd><dt><span>PRES.comment :</span></dt><dd> </dd><dt><span>PRES.ancillary_variables :</span></dt><dd>PRES_QC</dd><dt><span>PRES.standard_name :</span></dt><dd>sea_water_pressure</dd><dt><span>PRES.long_name :</span></dt><dd>Sea pressure</dd><dt><span>PRES.units :</span></dt><dd>dbar</dd><dt><span>PRES.positive :</span></dt><dd>down</dd><dt><span>PRES.data_mode :</span></dt><dd>M</dd><dt><span>PRES_QC._FillValue :</span></dt><dd>-127</dd><dt><span>PRES_QC.conventions :</span></dt><dd>Copernicus Marine In Situ reference table 2</dd><dt><span>PRES_QC.valid_min :</span></dt><dd>0</dd><dt><span>PRES_QC.valid_max :</span></dt><dd>9</dd><dt><span>PRES_QC.flag_values :</span></dt><dd>[0, 1, 2, 3, 4, 5, 6, 7, 8, 9]</dd><dt><span>PRES_QC.flag_meanings :</span></dt><dd>no_qc_performed good_data probably_good_data bad_data_that_are_potentially_correctable bad_data value_changed not_used nominal_value interpolated_value missing_value</dd><dt><span>PRES_QC.long_name :</span></dt><dd>Sea pressure quality flag</dd><dt><span>PRES_DM._FillValue :</span></dt><dd> </dd><dt><span>PRES_DM.conventions :</span></dt><dd>Copernicus Marine In Situ reference table 1</dd><dt><span>PRES_DM.flag_values :</span></dt><dd>R, A, D</dd><dt><span>PRES_DM.flag_meanings :</span></dt><dd>real-time adjusted-in-real-time delayed-mode</dd><dt><span>PRES_DM.long_name :</span></dt><dd>Sea pressure method of data processing</dd><dt><span>PRES_DM.string_length :</span></dt><dd>2810</dd><dt><span>PSAL._FillValue :</span></dt><dd>-2147483647</dd><dt><span>PSAL.scale_factor :</span></dt><dd>0.001</dd><dt><span>PSAL.add_offset :</span></dt><dd>0.0</dd><dt><span>PSAL.standard_name :</span></dt><dd>sea_water_practical_salinity</dd><dt><span>PSAL.long_name :</span></dt><dd>Practical salinity</dd><dt><span>PSAL.units :</span></dt><dd>0.001</dd><dt><span>PSAL.valid_min :</span></dt><dd>2000</dd><dt><span>PSAL.valid_max :</span></dt><dd>41000</dd><dt><span>PSAL.ancillary_variables :</span></dt><dd>PSAL_QC PSAL_DM</dd><dt><span>PSAL.data_mode :</span></dt><dd>M</dd><dt><span>CNDC._FillValue :</span></dt><dd>-2147483647</dd><dt><span>CNDC.scale_factor :</span></dt><dd>0.001</dd><dt><span>CNDC.add_offset :</span></dt><dd>0.0</dd><dt><span>CNDC.standard_name :</span></dt><dd>sea_water_electrical_conductivity</dd><dt><span>CNDC.long_name :</span></dt><dd>Electrical conductivity</dd><dt><span>CNDC.units :</span></dt><dd>S m-1</dd><dt><span>CNDC.valid_min :</span></dt><dd>0</dd><dt><span>CNDC.valid_max :</span></dt><dd>50000</dd><dt><span>CNDC.ancillary_variables :</span></dt><dd>CNDC_QC CNDC_DM</dd><dt><span>CNDC.data_mode :</span></dt><dd>M</dd><dt><span>TEMP_QC._FillValue :</span></dt><dd>-127</dd><dt><span>TEMP_QC.conventions :</span></dt><dd>Copernicus Marine In Situ reference table 2</dd><dt><span>TEMP_QC.valid_min :</span></dt><dd>0</dd><dt><span>TEMP_QC.valid_max :</span></dt><dd>9</dd><dt><span>TEMP_QC.flag_values :</span></dt><dd>[0, 1, 2, 3, 4, 5, 6, 7, 8, 9]</dd><dt><span>TEMP_QC.flag_meanings :</span></dt><dd>no_qc_performed good_data probably_good_data bad_data_that_are_potentially_correctable bad_data value_changed not_used nominal_value interpolated_value missing_value</dd><dt><span>TEMP_QC.long_name :</span></dt><dd>Sea temperature quality flag</dd><dt><span>PSAL_QC._FillValue :</span></dt><dd>-127</dd><dt><span>PSAL_QC.conventions :</span></dt><dd>Copernicus Marine In Situ reference table 2</dd><dt><span>PSAL_QC.valid_min :</span></dt><dd>0</dd><dt><span>PSAL_QC.valid_max :</span></dt><dd>9</dd><dt><span>PSAL_QC.flag_values :</span></dt><dd>[0, 1, 2, 3, 4, 5, 6, 7, 8, 9]</dd><dt><span>PSAL_QC.flag_meanings :</span></dt><dd>no_qc_performed good_data probably_good_data bad_data_that_are_potentially_correctable bad_data value_changed not_used nominal_value interpolated_value missing_value</dd><dt><span>PSAL_QC.long_name :</span></dt><dd>Practical salinity quality flag</dd><dt><span>CNDC_QC._FillValue :</span></dt><dd>-127</dd><dt><span>CNDC_QC.conventions :</span></dt><dd>Copernicus Marine In Situ reference table 2</dd><dt><span>CNDC_QC.valid_min :</span></dt><dd>0</dd><dt><span>CNDC_QC.valid_max :</span></dt><dd>9</dd><dt><span>CNDC_QC.flag_values :</span></dt><dd>[0, 1, 2, 3, 4, 5, 6, 7, 8, 9]</dd><dt><span>CNDC_QC.flag_meanings :</span></dt><dd>no_qc_performed good_data probably_good_data bad_data_that_are_potentially_correctable bad_data value_changed not_used nominal_value interpolated_value missing_value</dd><dt><span>CNDC_QC.long_name :</span></dt><dd>Electrical conductivity quality flag</dd><dt><span>TEMP_DM._FillValue :</span></dt><dd> </dd><dt><span>TEMP_DM.conventions :</span></dt><dd>Copernicus Marine In Situ reference table 1</dd><dt><span>TEMP_DM.flag_values :</span></dt><dd>R, A, D</dd><dt><span>TEMP_DM.flag_meanings :</span></dt><dd>real-time adjusted-in-real-time delayed-mode</dd><dt><span>TEMP_DM.long_name :</span></dt><dd>Sea temperature method of data processing</dd><dt><span>TEMP_DM.string_length :</span></dt><dd>2810</dd><dt><span>PSAL_DM._FillValue :</span></dt><dd> </dd><dt><span>PSAL_DM.conventions :</span></dt><dd>Copernicus Marine In Situ reference table 1</dd><dt><span>PSAL_DM.flag_values :</span></dt><dd>R, A, D</dd><dt><span>PSAL_DM.flag_meanings :</span></dt><dd>real-time adjusted-in-real-time delayed-mode</dd><dt><span>PSAL_DM.long_name :</span></dt><dd>Practical salinity method of data processing</dd><dt><span>PSAL_DM.string_length :</span></dt><dd>2810</dd><dt><span>CNDC_DM._FillValue :</span></dt><dd> </dd><dt><span>CNDC_DM.conventions :</span></dt><dd>Copernicus Marine In Situ reference table 1</dd><dt><span>CNDC_DM.flag_values :</span></dt><dd>R, A, D</dd><dt><span>CNDC_DM.flag_meanings :</span></dt><dd>real-time adjusted-in-real-time delayed-mode</dd><dt><span>CNDC_DM.long_name :</span></dt><dd>Electrical conductivity method of data processing</dd><dt><span>CNDC_DM.string_length :</span></dt><dd>2810</dd></dl></div></li></ul></div></div>"
      ],
      "text/plain": [
       "<xarray.Dataset>\n",
       "Dimensions:    (DEPTH: 31, LATITUDE: 87, LONGITUDE: 87, TIME: 87)\n",
       "Coordinates:\n",
       "  * TIME       (TIME) float64 1.937e+04 1.937e+04 ... 1.939e+04 1.939e+04\n",
       "  * LATITUDE   (LATITUDE) float32 59.28 59.28 59.28 59.28 ... 59.63 59.7 59.67\n",
       "  * LONGITUDE  (LONGITUDE) float32 -0.9848 -0.6563 -0.3618 ... 1.274 0.8155\n",
       "Dimensions without coordinates: DEPTH\n",
       "Data variables:\n",
       "    TEMP       (TIME, DEPTH) float64 8.094 8.089 8.088 ... 7.508 7.508 7.508\n",
       "Attributes: (12/152)\n",
       "    _NCProperties:                  version=1|netcdflibversion=4.4.1|hdf5libv...\n",
       "    title:                          Arctic Ocean - In Situ Observation Copern...\n",
       "    qc_manual:                      Recommendations for in-situ data Near Rea...\n",
       "    contact:                        cmems-service@imr.no\n",
       "    format_version:                 1.4\n",
       "    distribution_statement:         These data follow Copernicus standards; t...\n",
       "    ...                             ...\n",
       "    CNDC_DM._FillValue:              \n",
       "    CNDC_DM.conventions:            Copernicus Marine In Situ reference table 1\n",
       "    CNDC_DM.flag_values:            R, A, D\n",
       "    CNDC_DM.flag_meanings:          real-time adjusted-in-real-time delayed-mode\n",
       "    CNDC_DM.long_name:              Electrical conductivity method of data pr...\n",
       "    CNDC_DM.string_length:          2810"
      ]
     },
     "metadata": {},
     "output_type": "display_data"
    }
   ],
   "source": [
    "# Generate a filtered xarray with one single VAR for selected Platform, for a certain DEPTH range\n",
    "\n",
    "if metadata[pc]['depth_m_v1']==0: align_and_nan = True\n",
    "else: align_and_nan = False\n",
    "check_alignment(data_dict, pc, var, align_and_nan, vmin_dict)\n",
    "\n",
    "filtered_xarr = filter_xarr_DEPTH(df_toPlot, \n",
    "                                  data_dict,\n",
    "                                  platform=pc,\n",
    "                                  depth_range=[depth1, depth2])\n",
    "display(filtered_xarr)"
   ]
  },
  {
   "cell_type": "markdown",
   "metadata": {},
   "source": [
    "### Plotting VAR vs TIME at specific DEPTH\n",
    "On the y-axis is shown the TIME of the measurement (in *float* format, which needs to be converted to *datetime* format), and on the x-axis is the DEPTH of the measurement."
   ]
  },
  {
   "cell_type": "code",
   "execution_count": 53,
   "metadata": {},
   "outputs": [
    {
     "name": "stdout",
     "output_type": "stream",
     "text": [
      "Var to plot: TEMP\n"
     ]
    },
    {
     "data": {
      "image/png": "[encoded data removed]",
      "text/plain": [
       "<Figure size 432x288 with 2 Axes>"
      ]
     },
     "metadata": {
      "needs_background": "light"
     },
     "output_type": "display_data"
    }
   ],
   "source": [
    "print(f\"Var to plot: {var}\")\n",
    "\n",
    "title = f'Platform={pc}, Var={var}\\nFilter: {bbox_key}; DepthRange: {depth1}-{depth2}m; \\nTimeRange={time_filter_str}\\nSel/All={sel_outof_all}'\n",
    "\n",
    "plotFilteredVar(filtered_xarr[var], title=title)"
   ]
  },
  {
   "cell_type": "markdown",
   "metadata": {},
   "source": [
    "To Recap:\n",
    "* ```data_dict[pc]['data']```: contains the xarray extracted from the url (ie from **0** to **depth2**, for ALL locations)\n",
    "* ```filtered_xarr```: contains the xarray filtered from ```data_dict[pc]['data']``` (ie from **depth1** to **depth2**, for filtered locations (BBOX and time_range))"
   ]
  },
  {
   "cell_type": "markdown",
   "metadata": {},
   "source": [
    "### Create Dataframe of Filtered XARRAY\n"
   ]
  },
  {
   "cell_type": "code",
   "execution_count": 54,
   "metadata": {},
   "outputs": [
    {
     "data": {
      "text/html": [
       "<div>\n",
       "<style scoped>\n",
       "    .dataframe tbody tr th:only-of-type {\n",
       "        vertical-align: middle;\n",
       "    }\n",
       "\n",
       "    .dataframe tbody tr th {\n",
       "        vertical-align: top;\n",
       "    }\n",
       "\n",
       "    .dataframe thead th {\n",
       "        text-align: right;\n",
       "    }\n",
       "</style>\n",
       "<table border=\"1\" class=\"dataframe\">\n",
       "  <thead>\n",
       "    <tr style=\"text-align: right;\">\n",
       "      <th></th>\n",
       "      <th>Longitude</th>\n",
       "      <th>Latitude</th>\n",
       "      <th>Time</th>\n",
       "      <th>Temperature</th>\n",
       "      <th>Depth</th>\n",
       "      <th>PlatformCode</th>\n",
       "    </tr>\n",
       "  </thead>\n",
       "  <tbody>\n",
       "    <tr>\n",
       "      <th>0</th>\n",
       "      <td>-0.9848</td>\n",
       "      <td>59.284801</td>\n",
       "      <td>19369.830231</td>\n",
       "      <td>8.094</td>\n",
       "      <td>0</td>\n",
       "      <td>AA</td>\n",
       "    </tr>\n",
       "    <tr>\n",
       "      <th>1</th>\n",
       "      <td>-0.6563</td>\n",
       "      <td>59.284801</td>\n",
       "      <td>19369.882118</td>\n",
       "      <td>7.567</td>\n",
       "      <td>0</td>\n",
       "      <td>AA</td>\n",
       "    </tr>\n",
       "    <tr>\n",
       "      <th>2</th>\n",
       "      <td>-0.3618</td>\n",
       "      <td>59.284801</td>\n",
       "      <td>19369.925961</td>\n",
       "      <td>7.359</td>\n",
       "      <td>0</td>\n",
       "      <td>AA</td>\n",
       "    </tr>\n",
       "    <tr>\n",
       "      <th>3</th>\n",
       "      <td>0.0065</td>\n",
       "      <td>59.281700</td>\n",
       "      <td>19369.979792</td>\n",
       "      <td>7.480</td>\n",
       "      <td>0</td>\n",
       "      <td>AA</td>\n",
       "    </tr>\n",
       "    <tr>\n",
       "      <th>4</th>\n",
       "      <td>0.3293</td>\n",
       "      <td>59.284698</td>\n",
       "      <td>19370.039549</td>\n",
       "      <td>7.527</td>\n",
       "      <td>0</td>\n",
       "      <td>AA</td>\n",
       "    </tr>\n",
       "    <tr>\n",
       "      <th>...</th>\n",
       "      <td>...</td>\n",
       "      <td>...</td>\n",
       "      <td>...</td>\n",
       "      <td>...</td>\n",
       "      <td>...</td>\n",
       "      <td>...</td>\n",
       "    </tr>\n",
       "    <tr>\n",
       "      <th>2692</th>\n",
       "      <td>4.1780</td>\n",
       "      <td>58.313202</td>\n",
       "      <td>19383.830000</td>\n",
       "      <td>7.209</td>\n",
       "      <td>30</td>\n",
       "      <td>AA</td>\n",
       "    </tr>\n",
       "    <tr>\n",
       "      <th>2693</th>\n",
       "      <td>3.1493</td>\n",
       "      <td>59.717300</td>\n",
       "      <td>19384.322384</td>\n",
       "      <td>8.947</td>\n",
       "      <td>30</td>\n",
       "      <td>AA</td>\n",
       "    </tr>\n",
       "    <tr>\n",
       "      <th>2694</th>\n",
       "      <td>2.7527</td>\n",
       "      <td>59.630299</td>\n",
       "      <td>19384.445532</td>\n",
       "      <td>7.871</td>\n",
       "      <td>30</td>\n",
       "      <td>AA</td>\n",
       "    </tr>\n",
       "    <tr>\n",
       "      <th>2695</th>\n",
       "      <td>1.2742</td>\n",
       "      <td>59.701698</td>\n",
       "      <td>19385.749734</td>\n",
       "      <td>7.662</td>\n",
       "      <td>30</td>\n",
       "      <td>AA</td>\n",
       "    </tr>\n",
       "    <tr>\n",
       "      <th>2696</th>\n",
       "      <td>0.8155</td>\n",
       "      <td>59.667198</td>\n",
       "      <td>19385.854248</td>\n",
       "      <td>7.508</td>\n",
       "      <td>30</td>\n",
       "      <td>AA</td>\n",
       "    </tr>\n",
       "  </tbody>\n",
       "</table>\n",
       "<p>2697 rows × 6 columns</p>\n",
       "</div>"
      ],
      "text/plain": [
       "      Longitude   Latitude          Time  Temperature  Depth PlatformCode\n",
       "0       -0.9848  59.284801  19369.830231        8.094      0           AA\n",
       "1       -0.6563  59.284801  19369.882118        7.567      0           AA\n",
       "2       -0.3618  59.284801  19369.925961        7.359      0           AA\n",
       "3        0.0065  59.281700  19369.979792        7.480      0           AA\n",
       "4        0.3293  59.284698  19370.039549        7.527      0           AA\n",
       "...         ...        ...           ...          ...    ...          ...\n",
       "2692     4.1780  58.313202  19383.830000        7.209     30           AA\n",
       "2693     3.1493  59.717300  19384.322384        8.947     30           AA\n",
       "2694     2.7527  59.630299  19384.445532        7.871     30           AA\n",
       "2695     1.2742  59.701698  19385.749734        7.662     30           AA\n",
       "2696     0.8155  59.667198  19385.854248        7.508     30           AA\n",
       "\n",
       "[2697 rows x 6 columns]"
      ]
     },
     "metadata": {},
     "output_type": "display_data"
    }
   ],
   "source": [
    "# Create dataframe with filtered data and columns ['LATITUDE', 'LONGITUDE', 'TIME', 'TEMP', 'DEPTH']\n",
    "filtered2csv_multiDepths = pd.DataFrame() \n",
    "\n",
    "for d in range(depth1, depth2+1):\n",
    "    \n",
    "    # Create temporary dataframe\n",
    "    temp = pd.DataFrame()\n",
    "    \n",
    "    data_depth_sel = data_dict[pc]['data'].isel(TIME=index,\n",
    "                                                LATITUDE=index,\n",
    "                                                LONGITUDE=index,\n",
    "                                                DEPTH=slice(d, d+1))\n",
    "    \n",
    "    for col in ['LONGITUDE', 'LATITUDE', 'TIME']:\n",
    "        temp[col.title()] = data_depth_sel[col].data.astype(float) \n",
    "    temp['Temperature'] = data_depth_sel['TEMP'].data.astype(float) \n",
    "    temp['Depth'] = d \n",
    "    temp['PlatformCode'] = pc \n",
    "    \n",
    "    filtered2csv_multiDepths = filtered2csv_multiDepths.append(temp, ignore_index=True)\n",
    "\n",
    "display(filtered2csv_multiDepths)"
   ]
  },
  {
   "cell_type": "markdown",
   "metadata": {},
   "source": [
    "### Export to CSV"
   ]
  },
  {
   "cell_type": "code",
   "execution_count": 55,
   "metadata": {},
   "outputs": [],
   "source": [
    "# Save dataframe to csv\n",
    "data_dir = os.path.join(os.getcwd(), 'data')\n",
    "if not os.path.exists(data_dir): os.mkdir(data_dir)\n",
    "    \n",
    "csvname = os.path.join(data_dir, f'filtered_{pc}_{var}_{depth1}-{depth2}m.csv')\n",
    "\n",
    "filtered2csv_multiDepths.to_csv(csvname, sep=',', header=True)"
   ]
  },
  {
   "cell_type": "markdown",
   "metadata": {},
   "source": [
    "## INTAROS - IMR Dataset - Case Study\n",
    "### Install R Kernel & Testing"
   ]
  },
  {
   "cell_type": "code",
   "execution_count": 56,
   "metadata": {},
   "outputs": [
    {
     "name": "stdout",
     "output_type": "stream",
     "text": [
      "Requirement already satisfied: rpy2 in /workspace/.conda_envs/env_intaros/lib/python3.7/site-packages (3.4.5)\n",
      "Requirement already satisfied: jinja2 in /workspace/.conda_envs/env_intaros/lib/python3.7/site-packages (from rpy2) (2.11.3)\n",
      "Requirement already satisfied: tzlocal in /workspace/.conda_envs/env_intaros/lib/python3.7/site-packages (from rpy2) (3.0)\n",
      "Requirement already satisfied: pytz in /workspace/.conda_envs/env_intaros/lib/python3.7/site-packages (from rpy2) (2021.1)\n",
      "Requirement already satisfied: cffi>=1.10.0 in /workspace/.conda_envs/env_intaros/lib/python3.7/site-packages (from rpy2) (1.14.5)\n",
      "Requirement already satisfied: pycparser in /workspace/.conda_envs/env_intaros/lib/python3.7/site-packages (from cffi>=1.10.0->rpy2) (2.20)\n",
      "Requirement already satisfied: MarkupSafe>=0.23 in /workspace/.conda_envs/env_intaros/lib/python3.7/site-packages (from jinja2->rpy2) (1.1.1)\n",
      "Requirement already satisfied: backports.zoneinfo in /workspace/.conda_envs/env_intaros/lib/python3.7/site-packages (from tzlocal->rpy2) (0.2.1)\n",
      "The rpy2.ipython extension is already loaded. To reload it, use:\n",
      "  %reload_ext rpy2.ipython\n"
     ]
    }
   ],
   "source": [
    "!pip install rpy2\n",
    "\n",
    "%load_ext rpy2.ipython"
   ]
  },
  {
   "cell_type": "markdown",
   "metadata": {},
   "source": [
    "### Definition of the environment\n",
    "\n",
    "The next cells have specific contents that the user must choose to run or to skip. Their order is important.\n",
    "\n",
    "- Loading the library **Intaros**"
   ]
  },
  {
   "cell_type": "code",
   "execution_count": 81,
   "metadata": {},
   "outputs": [],
   "source": [
    "%%R \n",
    "suppressWarnings(suppressPackageStartupMessages(library(RIntaros)))\n",
    "\n",
    "# Cleaning the workspace: this paragraph is not systematically performed.\n",
    "rm(list=ls())\n",
    "\n",
    "# Defining if the data set must be read or not from the CSV (flag.read)\n",
    "flag.read = FALSE"
   ]
  },
  {
   "cell_type": "markdown",
   "metadata": {},
   "source": [
    "### Loading Data\n",
    "\n",
    "First of all, we setup some environment variables (data file name and bounding box).\n",
    "The **flag_file** allows the user to store each generated graphic file as a **PNG** file in the **image_name** directory, instead of plotting them."
   ]
  },
  {
   "cell_type": "code",
   "execution_count": 83,
   "metadata": {
    "attributes": {
     "": "",
     "classes": [],
     "id": ""
    }
   },
   "outputs": [],
   "source": [
    "%%R \n",
    "# Setup OUR environment and datasets \n",
    "dir.name   = getwd()\n",
    "file.name  = 'filtered_AA_TEMP_0-30m.csv'\n",
    "data.name  = 'data'\n",
    "long_lim   = c(-5,15)\n",
    "lat_lim    = c(50,60)\n",
    "\n",
    "intaros.save.environ(long_lim = long_lim, lat_lim = lat_lim,\n",
    "                     flag_file = FALSE)#, image_name = file.path(dir.name,image.name))\n",
    "\n",
    "depth1 = 10\n",
    "depth2 = 20\n",
    "var = \"Temperature\""
   ]
  },
  {
   "cell_type": "markdown",
   "metadata": {},
   "source": [
    "Then we read the **CSV** file (taking the header line into account) and create the RGeostats Db. Finally we show the contents of the newly created Db (named **db0**)."
   ]
  },
  {
   "cell_type": "code",
   "execution_count": 84,
   "metadata": {},
   "outputs": [
    {
     "name": "stdout",
     "output_type": "stream",
     "text": [
      "\n",
      "Data Base Characteristics\n",
      "=========================\n",
      "\n",
      "Data Base Summary\n",
      "-----------------\n",
      "File is organized as a set of isolated points\n",
      "Space dimension              = 2\n",
      "Number of fields             = 7\n",
      "Maximum Number of attributes = 7\n",
      "Total number of samples      = 2697\n",
      "\n",
      "Variables\n",
      "---------\n",
      "Field =   1 - Name    =  rank - Locator =  NA\n",
      "Field =   2 - Name    =  X - Locator =  NA\n",
      "Field =   3 - Name    =  Longitude - Locator =  x1\n",
      "Field =   4 - Name    =  Latitude - Locator =  x2\n",
      "Field =   5 - Name    =  Time - Locator =  NA\n",
      "Field =   6 - Name    =  Temperature - Locator =  NA\n",
      "Field =   7 - Name    =  Depth - Locator =  NA\n"
     ]
    }
   ],
   "source": [
    "%%R \n",
    "if (flag.read || ! exists(\"db0\")) db0 = imr_read_csv(file.path(dir.name,data.name,file.name))\n",
    "db0"
   ]
  },
  {
   "cell_type": "markdown",
   "metadata": {},
   "source": [
    "### Dataset global statistics\n",
    "\n",
    "We first establish the time amplitude of the dataset, as well as a set of colors assigned to each year."
   ]
  },
  {
   "cell_type": "code",
   "execution_count": 85,
   "metadata": {
    "attributes": {
     "": "",
     "classes": [],
     "id": ""
    }
   },
   "outputs": [
    {
     "name": "stdout",
     "output_type": "stream",
     "text": [
      "The dataset period is: (2003-01-12 => 2003-01-28)"
     ]
    }
   ],
   "source": [
    "%%R\n",
    "years      = subyears = get_db_limits_year(db0)\n",
    "trimesters = subtrims = seq(1,4)\n",
    "colyears   = rg.colors(length(years))\n",
    "cat(build_title(\"The dataset period is:\",time2date(get_db_limits_time(db0))))"
   ]
  },
  {
   "cell_type": "markdown",
   "metadata": {},
   "source": [
    "Let us get some statistics on the information available"
   ]
  },
  {
   "cell_type": "code",
   "execution_count": 86,
   "metadata": {},
   "outputs": [
    {
     "name": "stdout",
     "output_type": "stream",
     "text": [
      "               Number   Minimum   Maximum      Mean\n",
      "Longitude        2697    -1.466     8.556     3.909\n",
      "Latitude         2697    56.676    59.717    58.058\n",
      "Depth            2697     0.000    30.000    15.000\n",
      "Temperature      2651     3.769     8.953     6.812\n",
      "\n"
     ]
    }
   ],
   "source": [
    "%%R\n",
    "db.stat.print(db0,funs=c(\"num\",\"mini\",\"maxi\",\"mean\"),\n",
    "              names=c(\"Longitude\",\"Latitude\",\"Depth\",\"Temperature\"))#,\"Conductivity\",\"Salinity\"))"
   ]
  },
  {
   "cell_type": "markdown",
   "metadata": {},
   "source": [
    "### Studying Temperature variable\n",
    "\n",
    "From this point, most of the calculations will be performed based on the **Temperature** variable.\n",
    "\n",
    "#### All Database\n",
    "\n",
    "We display all samples focusing on the variable in a 2D aerial view, reporting the country borders. For comparison, we define a common color scale, established on the global minimum and maximum values (**var_scale0**).\n",
    "Note that all samples from all years and all depths are displayed (slow operation)."
   ]
  },
  {
   "cell_type": "code",
   "execution_count": 87,
   "metadata": {
    "attributes": {
     "": "",
     "classes": [],
     "id": ""
    }
   },
   "outputs": [
    {
     "data": {
      "image/png": "[encoded data removed]"
     },
     "metadata": {},
     "output_type": "display_data"
    }
   ],
   "source": [
    "%%R\n",
    "colors.temp = rg.colors(rank=1)\n",
    "var_scale0 = get_db_limits_var(db0,var)\n",
    "display_var(db0, var = var, colors = colors.temp, title = var, filename = var)"
   ]
  },
  {
   "cell_type": "markdown",
   "metadata": {},
   "source": [
    "#### Year Campaign\n",
    "\n",
    "We display Temperature values for one year only."
   ]
  },
  {
   "cell_type": "code",
   "execution_count": 88,
   "metadata": {
    "attributes": {
     "": "",
     "classes": [],
     "id": ""
    }
   },
   "outputs": [
    {
     "data": {
      "image/png": "[encoded data removed]"
     },
     "metadata": {},
     "output_type": "display_data"
    }
   ],
   "source": [
    "%%R\n",
    "\n",
    "# Comment the following line if you want to to display all years\n",
    "subyears = years[1]\n",
    "\n",
    "# Loop on the years to be displayed\n",
    "for (year in subyears) \n",
    "{\n",
    "  date_lim  = create_limits_date(year)\n",
    "  db        = apply_sel(db0, date_lim=date_lim)\n",
    "  filename  = paste0(var,\"_Year_\",year)\n",
    "  title     = build_title(var, date_lim)\n",
    "  display_var(db, var, var_scale = var_scale0, colors = colors.temp, \n",
    "              title = title, filename = filename)\n",
    "}"
   ]
  },
  {
   "cell_type": "markdown",
   "metadata": {},
   "source": [
    "#### Year/Trimester at 5m Depth\n",
    "\n",
    "Display data for the first trimester of the year 1995 focusing on data one depth exactly."
   ]
  },
  {
   "cell_type": "code",
   "execution_count": 89,
   "metadata": {},
   "outputs": [
    {
     "name": "stdout",
     "output_type": "stream",
     "text": [
      "[1] 1 2 3 4\n"
     ]
    }
   ],
   "source": [
    "%%R\n",
    "trimesters"
   ]
  },
  {
   "cell_type": "code",
   "execution_count": 99,
   "metadata": {
    "attributes": {
     "": "",
     "classes": [],
     "id": ""
    }
   },
   "outputs": [
    {
     "data": {
      "image/png": "[encoded data removed]"
     },
     "metadata": {},
     "output_type": "display_data"
    }
   ],
   "source": [
    "%%R\n",
    "\n",
    "# Select samples at depth 20m and set the color scale\n",
    "db1       = apply_sel(db0, depth_lim=c(5,5), compress = TRUE)\n",
    "var_scale = get_db_limits_var(db1,var)\n",
    "\n",
    "# Comment the following lines if you want to to display all trimesters / years\n",
    "subyears = years[1]\n",
    "subtrims = trimesters[1]\n",
    "\n",
    "# Loop on the years / trimesters to be displayed\n",
    "for (year in subyears) \n",
    "  for (itri in subtrims)\n",
    "  {\n",
    "    date_lim  = create_limits_date(year, trimester=itri)\n",
    "    db        = apply_sel(db1,date_lim=date_lim)\n",
    "    filename  = paste0(var,\"_Trim_\",year,\"_T\",itri)\n",
    "    title     = build_title(var, date_lim)\n",
    "    display_var(db, var,  var_scale = var_scale, colors = colors.temp,\n",
    "                title = title, filename = filename)\n",
    "  }"
   ]
  },
  {
   "cell_type": "markdown",
   "metadata": {},
   "source": [
    "#### Block Average at 20m Depth\n",
    "\n",
    "The next display considers the variable averaged over the cells of a coarse grid (mesh of 1 degree)."
   ]
  },
  {
   "cell_type": "code",
   "execution_count": 100,
   "metadata": {
    "attributes": {
     "": "",
     "classes": [],
     "id": ""
    }
   },
   "outputs": [
    {
     "data": {
      "image/png": "[encoded data removed]"
     },
     "metadata": {},
     "output_type": "display_data"
    }
   ],
   "source": [
    "%%R\n",
    "var = \"Temperature\"\n",
    "\n",
    "# Select samples and set the color scale\n",
    "db1       = apply_sel(db0, depth_lim=c(depth1,depth2),compress = TRUE)\n",
    "var_scale = get_db_limits_var(db1,var)\n",
    "\n",
    "# Comment the following line if you want to to display all years\n",
    "subyears = years[1]\n",
    "\n",
    "# Loop on the years\n",
    "for (year in subyears) \n",
    "{\n",
    "  date_lim  = create_limits_date(year)\n",
    "  db        = apply_sel(db1, date_lim=date_lim)\n",
    "  filename  = paste0(var,\"_Mean_\",year)\n",
    "  title     = paste(\"Block Average for\", build_title(var, date_lim))\n",
    "  dbg       = stats_grid(db, var, fun = \"mean\", mesh = 1)\n",
    "  display_stats(dbg, var, var_scale = var_scale, colors = colors.temp,\n",
    "                title = title, filename = filename)\n",
    "}"
   ]
  },
  {
   "cell_type": "markdown",
   "metadata": {},
   "source": [
    "### Restriction of the area of interest\n",
    "\n",
    "In the next operations, we focus on a restricted area. The new Db will be called **dbloc**."
   ]
  },
  {
   "cell_type": "code",
   "execution_count": 101,
   "metadata": {},
   "outputs": [],
   "source": [
    "%%R\n",
    "# Focus to South West of Norway (new global environement) for OUR 2003 dataset\n",
    "long_lim = c(0,5)\n",
    "lat_lim  = c(55,60)\n",
    "dbloc    = apply_sel(db0, long_lim = long_lim, lat_lim = lat_lim, compress = TRUE)\n",
    "intaros.save.environ(long_lim = long_lim, lat_lim  = lat_lim)"
   ]
  },
  {
   "cell_type": "markdown",
   "metadata": {},
   "source": [
    "#### Histogram of Measurement Depths\n",
    "\n",
    "We also aggregate the values of all samples vertically from 0m to 100m by 10 steps of 10m.\n",
    "Then, we can double-check this regularization step by plotting the histogram of the initial depths and the histogram of the depths in the aggregated file."
   ]
  },
  {
   "cell_type": "code",
   "execution_count": 120,
   "metadata": {},
   "outputs": [
    {
     "name": "stdout",
     "output_type": "stream",
     "text": [
      "This function requires the definition of a CODE variable in 'db'\n",
      "\n",
      "The function is interrupted\n"
     ]
    },
    {
     "name": "stderr",
     "output_type": "stream",
     "text": [
      "R[write to console]: Error: Error in R_db_regularize\n",
      "\n"
     ]
    },
    {
     "name": "stdout",
     "output_type": "stream",
     "text": [
      "\n",
      "Error: Error in R_db_regularize\n"
     ]
    },
    {
     "ename": "RInterpreterError",
     "evalue": "Failed to parse and evaluate line '# Aggregate data along Depth axis, from 5 to 10 by steps of 1\\n# dbin:       input data grid\\n# depth0:     origin of depth values\\n# ddepth:     step along depth\\n# ndepth:     number of depth steps\\n\\n# OUR 2003 dataset\\ndbreg = aggregate_depth(dbloc, depth0 = 18, ddepth = 1, ndepth = 4, flag.center = TRUE)\\n\\n\\n# Histogram of depths\\nhist(dbloc[,\"Depth\"],breaks=100,xlab=\"Initial Depth\",main=\"\")\\nhist(dbreg[,\"Depth\"],breaks=100,xlab=\"Regular Depth\",main=\"\")\\n'.\nR error message: 'Error: Error in R_db_regularize'",
     "output_type": "error",
     "traceback": [
      "\u001b[0;31m---------------------------------------------------------------------------\u001b[0m",
      "\u001b[0;31mRRuntimeError\u001b[0m                             Traceback (most recent call last)",
      "\u001b[0;32m/srv/conda/envs/env_intaros/lib/python3.7/site-packages/rpy2/ipython/rmagic.py\u001b[0m in \u001b[0;36meval\u001b[0;34m(self, code)\u001b[0m\n\u001b[1;32m    267\u001b[0m                 \u001b[0;31m# Need the newline in case the last line in code is a comment.\u001b[0m\u001b[0;34m\u001b[0m\u001b[0;34m\u001b[0m\u001b[0;34m\u001b[0m\u001b[0m\n\u001b[0;32m--> 268\u001b[0;31m                 \u001b[0mvalue\u001b[0m\u001b[0;34m,\u001b[0m \u001b[0mvisible\u001b[0m \u001b[0;34m=\u001b[0m \u001b[0mro\u001b[0m\u001b[0;34m.\u001b[0m\u001b[0mr\u001b[0m\u001b[0;34m(\u001b[0m\u001b[0;34m\"withVisible({%s\\n})\"\u001b[0m \u001b[0;34m%\u001b[0m \u001b[0mcode\u001b[0m\u001b[0;34m)\u001b[0m\u001b[0;34m\u001b[0m\u001b[0;34m\u001b[0m\u001b[0m\n\u001b[0m\u001b[1;32m    269\u001b[0m             \u001b[0;32mexcept\u001b[0m \u001b[0;34m(\u001b[0m\u001b[0mri\u001b[0m\u001b[0;34m.\u001b[0m\u001b[0membedded\u001b[0m\u001b[0;34m.\u001b[0m\u001b[0mRRuntimeError\u001b[0m\u001b[0;34m,\u001b[0m \u001b[0mValueError\u001b[0m\u001b[0;34m)\u001b[0m \u001b[0;32mas\u001b[0m \u001b[0mexception\u001b[0m\u001b[0;34m:\u001b[0m\u001b[0;34m\u001b[0m\u001b[0;34m\u001b[0m\u001b[0m\n",
      "\u001b[0;32m/srv/conda/envs/env_intaros/lib/python3.7/site-packages/rpy2/robjects/__init__.py\u001b[0m in \u001b[0;36m__call__\u001b[0;34m(self, string)\u001b[0m\n\u001b[1;32m    437\u001b[0m         \u001b[0mp\u001b[0m \u001b[0;34m=\u001b[0m \u001b[0mrinterface\u001b[0m\u001b[0;34m.\u001b[0m\u001b[0mparse\u001b[0m\u001b[0;34m(\u001b[0m\u001b[0mstring\u001b[0m\u001b[0;34m)\u001b[0m\u001b[0;34m\u001b[0m\u001b[0;34m\u001b[0m\u001b[0m\n\u001b[0;32m--> 438\u001b[0;31m         \u001b[0mres\u001b[0m \u001b[0;34m=\u001b[0m \u001b[0mself\u001b[0m\u001b[0;34m.\u001b[0m\u001b[0meval\u001b[0m\u001b[0;34m(\u001b[0m\u001b[0mp\u001b[0m\u001b[0;34m)\u001b[0m\u001b[0;34m\u001b[0m\u001b[0;34m\u001b[0m\u001b[0m\n\u001b[0m\u001b[1;32m    439\u001b[0m         \u001b[0;32mreturn\u001b[0m \u001b[0mconversion\u001b[0m\u001b[0;34m.\u001b[0m\u001b[0mrpy2py\u001b[0m\u001b[0;34m(\u001b[0m\u001b[0mres\u001b[0m\u001b[0;34m)\u001b[0m\u001b[0;34m\u001b[0m\u001b[0;34m\u001b[0m\u001b[0m\n",
      "\u001b[0;32m/srv/conda/envs/env_intaros/lib/python3.7/site-packages/rpy2/robjects/functions.py\u001b[0m in \u001b[0;36m__call__\u001b[0;34m(self, *args, **kwargs)\u001b[0m\n\u001b[1;32m    198\u001b[0m         return (super(SignatureTranslatedFunction, self)\n\u001b[0;32m--> 199\u001b[0;31m                 .__call__(*args, **kwargs))\n\u001b[0m\u001b[1;32m    200\u001b[0m \u001b[0;34m\u001b[0m\u001b[0m\n",
      "\u001b[0;32m/srv/conda/envs/env_intaros/lib/python3.7/site-packages/rpy2/robjects/functions.py\u001b[0m in \u001b[0;36m__call__\u001b[0;34m(self, *args, **kwargs)\u001b[0m\n\u001b[1;32m    124\u001b[0m                 \u001b[0mnew_kwargs\u001b[0m\u001b[0;34m[\u001b[0m\u001b[0mk\u001b[0m\u001b[0;34m]\u001b[0m \u001b[0;34m=\u001b[0m \u001b[0mconversion\u001b[0m\u001b[0;34m.\u001b[0m\u001b[0mpy2rpy\u001b[0m\u001b[0;34m(\u001b[0m\u001b[0mv\u001b[0m\u001b[0;34m)\u001b[0m\u001b[0;34m\u001b[0m\u001b[0;34m\u001b[0m\u001b[0m\n\u001b[0;32m--> 125\u001b[0;31m         \u001b[0mres\u001b[0m \u001b[0;34m=\u001b[0m \u001b[0msuper\u001b[0m\u001b[0;34m(\u001b[0m\u001b[0mFunction\u001b[0m\u001b[0;34m,\u001b[0m \u001b[0mself\u001b[0m\u001b[0;34m)\u001b[0m\u001b[0;34m.\u001b[0m\u001b[0m__call__\u001b[0m\u001b[0;34m(\u001b[0m\u001b[0;34m*\u001b[0m\u001b[0mnew_args\u001b[0m\u001b[0;34m,\u001b[0m \u001b[0;34m**\u001b[0m\u001b[0mnew_kwargs\u001b[0m\u001b[0;34m)\u001b[0m\u001b[0;34m\u001b[0m\u001b[0;34m\u001b[0m\u001b[0m\n\u001b[0m\u001b[1;32m    126\u001b[0m         \u001b[0mres\u001b[0m \u001b[0;34m=\u001b[0m \u001b[0mconversion\u001b[0m\u001b[0;34m.\u001b[0m\u001b[0mrpy2py\u001b[0m\u001b[0;34m(\u001b[0m\u001b[0mres\u001b[0m\u001b[0;34m)\u001b[0m\u001b[0;34m\u001b[0m\u001b[0;34m\u001b[0m\u001b[0m\n",
      "\u001b[0;32m/srv/conda/envs/env_intaros/lib/python3.7/site-packages/rpy2/rinterface_lib/conversion.py\u001b[0m in \u001b[0;36m_\u001b[0;34m(*args, **kwargs)\u001b[0m\n\u001b[1;32m     44\u001b[0m     \u001b[0;32mdef\u001b[0m \u001b[0m_\u001b[0m\u001b[0;34m(\u001b[0m\u001b[0;34m*\u001b[0m\u001b[0margs\u001b[0m\u001b[0;34m,\u001b[0m \u001b[0;34m**\u001b[0m\u001b[0mkwargs\u001b[0m\u001b[0;34m)\u001b[0m\u001b[0;34m:\u001b[0m\u001b[0;34m\u001b[0m\u001b[0;34m\u001b[0m\u001b[0m\n\u001b[0;32m---> 45\u001b[0;31m         \u001b[0mcdata\u001b[0m \u001b[0;34m=\u001b[0m \u001b[0mfunction\u001b[0m\u001b[0;34m(\u001b[0m\u001b[0;34m*\u001b[0m\u001b[0margs\u001b[0m\u001b[0;34m,\u001b[0m \u001b[0;34m**\u001b[0m\u001b[0mkwargs\u001b[0m\u001b[0;34m)\u001b[0m\u001b[0;34m\u001b[0m\u001b[0;34m\u001b[0m\u001b[0m\n\u001b[0m\u001b[1;32m     46\u001b[0m         \u001b[0;31m# TODO: test cdata is of the expected CType\u001b[0m\u001b[0;34m\u001b[0m\u001b[0;34m\u001b[0m\u001b[0;34m\u001b[0m\u001b[0m\n",
      "\u001b[0;32m/srv/conda/envs/env_intaros/lib/python3.7/site-packages/rpy2/rinterface.py\u001b[0m in \u001b[0;36m__call__\u001b[0;34m(self, *args, **kwargs)\u001b[0m\n\u001b[1;32m    679\u001b[0m             \u001b[0;32mif\u001b[0m \u001b[0merror_occured\u001b[0m\u001b[0;34m[\u001b[0m\u001b[0;36m0\u001b[0m\u001b[0;34m]\u001b[0m\u001b[0;34m:\u001b[0m\u001b[0;34m\u001b[0m\u001b[0;34m\u001b[0m\u001b[0m\n\u001b[0;32m--> 680\u001b[0;31m                 \u001b[0;32mraise\u001b[0m \u001b[0membedded\u001b[0m\u001b[0;34m.\u001b[0m\u001b[0mRRuntimeError\u001b[0m\u001b[0;34m(\u001b[0m\u001b[0m_rinterface\u001b[0m\u001b[0;34m.\u001b[0m\u001b[0m_geterrmessage\u001b[0m\u001b[0;34m(\u001b[0m\u001b[0;34m)\u001b[0m\u001b[0;34m)\u001b[0m\u001b[0;34m\u001b[0m\u001b[0;34m\u001b[0m\u001b[0m\n\u001b[0m\u001b[1;32m    681\u001b[0m         \u001b[0;32mreturn\u001b[0m \u001b[0mres\u001b[0m\u001b[0;34m\u001b[0m\u001b[0;34m\u001b[0m\u001b[0m\n",
      "\u001b[0;31mRRuntimeError\u001b[0m: Error: Error in R_db_regularize\n",
      "\nDuring handling of the above exception, another exception occurred:\n",
      "\u001b[0;31mRInterpreterError\u001b[0m                         Traceback (most recent call last)",
      "\u001b[0;32m<ipython-input-120-e6b2a3a8bdf6>\u001b[0m in \u001b[0;36m<module>\u001b[0;34m\u001b[0m\n\u001b[0;32m----> 1\u001b[0;31m \u001b[0mget_ipython\u001b[0m\u001b[0;34m(\u001b[0m\u001b[0;34m)\u001b[0m\u001b[0;34m.\u001b[0m\u001b[0mrun_cell_magic\u001b[0m\u001b[0;34m(\u001b[0m\u001b[0;34m'R'\u001b[0m\u001b[0;34m,\u001b[0m \u001b[0;34m''\u001b[0m\u001b[0;34m,\u001b[0m \u001b[0;34m'# Aggregate data along Depth axis, from 5 to 10 by steps of 1\\n# dbin:       input data grid\\n# depth0:     origin of depth values\\n# ddepth:     step along depth\\n# ndepth:     number of depth steps\\n\\n# OUR 2003 dataset\\ndbreg = aggregate_depth(dbloc, depth0 = 18, ddepth = 1, ndepth = 4, flag.center = TRUE)\\n\\n\\n# Histogram of depths\\nhist(dbloc[,\"Depth\"],breaks=100,xlab=\"Initial Depth\",main=\"\")\\nhist(dbreg[,\"Depth\"],breaks=100,xlab=\"Regular Depth\",main=\"\")\\n'\u001b[0m\u001b[0;34m)\u001b[0m\u001b[0;34m\u001b[0m\u001b[0;34m\u001b[0m\u001b[0m\n\u001b[0m",
      "\u001b[0;32m/srv/conda/envs/env_intaros/lib/python3.7/site-packages/IPython/core/interactiveshell.py\u001b[0m in \u001b[0;36mrun_cell_magic\u001b[0;34m(self, magic_name, line, cell)\u001b[0m\n\u001b[1;32m   2401\u001b[0m             \u001b[0;32mwith\u001b[0m \u001b[0mself\u001b[0m\u001b[0;34m.\u001b[0m\u001b[0mbuiltin_trap\u001b[0m\u001b[0;34m:\u001b[0m\u001b[0;34m\u001b[0m\u001b[0;34m\u001b[0m\u001b[0m\n\u001b[1;32m   2402\u001b[0m                 \u001b[0margs\u001b[0m \u001b[0;34m=\u001b[0m \u001b[0;34m(\u001b[0m\u001b[0mmagic_arg_s\u001b[0m\u001b[0;34m,\u001b[0m \u001b[0mcell\u001b[0m\u001b[0;34m)\u001b[0m\u001b[0;34m\u001b[0m\u001b[0;34m\u001b[0m\u001b[0m\n\u001b[0;32m-> 2403\u001b[0;31m                 \u001b[0mresult\u001b[0m \u001b[0;34m=\u001b[0m \u001b[0mfn\u001b[0m\u001b[0;34m(\u001b[0m\u001b[0;34m*\u001b[0m\u001b[0margs\u001b[0m\u001b[0;34m,\u001b[0m \u001b[0;34m**\u001b[0m\u001b[0mkwargs\u001b[0m\u001b[0;34m)\u001b[0m\u001b[0;34m\u001b[0m\u001b[0;34m\u001b[0m\u001b[0m\n\u001b[0m\u001b[1;32m   2404\u001b[0m             \u001b[0;32mreturn\u001b[0m \u001b[0mresult\u001b[0m\u001b[0;34m\u001b[0m\u001b[0;34m\u001b[0m\u001b[0m\n\u001b[1;32m   2405\u001b[0m \u001b[0;34m\u001b[0m\u001b[0m\n",
      "\u001b[0;32m/srv/conda/envs/env_intaros/lib/python3.7/site-packages/decorator.py\u001b[0m in \u001b[0;36mfun\u001b[0;34m(*args, **kw)\u001b[0m\n\u001b[1;32m    230\u001b[0m             \u001b[0;32mif\u001b[0m \u001b[0;32mnot\u001b[0m \u001b[0mkwsyntax\u001b[0m\u001b[0;34m:\u001b[0m\u001b[0;34m\u001b[0m\u001b[0;34m\u001b[0m\u001b[0m\n\u001b[1;32m    231\u001b[0m                 \u001b[0margs\u001b[0m\u001b[0;34m,\u001b[0m \u001b[0mkw\u001b[0m \u001b[0;34m=\u001b[0m \u001b[0mfix\u001b[0m\u001b[0;34m(\u001b[0m\u001b[0margs\u001b[0m\u001b[0;34m,\u001b[0m \u001b[0mkw\u001b[0m\u001b[0;34m,\u001b[0m \u001b[0msig\u001b[0m\u001b[0;34m)\u001b[0m\u001b[0;34m\u001b[0m\u001b[0;34m\u001b[0m\u001b[0m\n\u001b[0;32m--> 232\u001b[0;31m             \u001b[0;32mreturn\u001b[0m \u001b[0mcaller\u001b[0m\u001b[0;34m(\u001b[0m\u001b[0mfunc\u001b[0m\u001b[0;34m,\u001b[0m \u001b[0;34m*\u001b[0m\u001b[0;34m(\u001b[0m\u001b[0mextras\u001b[0m \u001b[0;34m+\u001b[0m \u001b[0margs\u001b[0m\u001b[0;34m)\u001b[0m\u001b[0;34m,\u001b[0m \u001b[0;34m**\u001b[0m\u001b[0mkw\u001b[0m\u001b[0;34m)\u001b[0m\u001b[0;34m\u001b[0m\u001b[0;34m\u001b[0m\u001b[0m\n\u001b[0m\u001b[1;32m    233\u001b[0m     \u001b[0mfun\u001b[0m\u001b[0;34m.\u001b[0m\u001b[0m__name__\u001b[0m \u001b[0;34m=\u001b[0m \u001b[0mfunc\u001b[0m\u001b[0;34m.\u001b[0m\u001b[0m__name__\u001b[0m\u001b[0;34m\u001b[0m\u001b[0;34m\u001b[0m\u001b[0m\n\u001b[1;32m    234\u001b[0m     \u001b[0mfun\u001b[0m\u001b[0;34m.\u001b[0m\u001b[0m__doc__\u001b[0m \u001b[0;34m=\u001b[0m \u001b[0mfunc\u001b[0m\u001b[0;34m.\u001b[0m\u001b[0m__doc__\u001b[0m\u001b[0;34m\u001b[0m\u001b[0;34m\u001b[0m\u001b[0m\n",
      "\u001b[0;32m/srv/conda/envs/env_intaros/lib/python3.7/site-packages/IPython/core/magic.py\u001b[0m in \u001b[0;36m<lambda>\u001b[0;34m(f, *a, **k)\u001b[0m\n\u001b[1;32m    185\u001b[0m     \u001b[0;31m# but it's overkill for just that one bit of state.\u001b[0m\u001b[0;34m\u001b[0m\u001b[0;34m\u001b[0m\u001b[0;34m\u001b[0m\u001b[0m\n\u001b[1;32m    186\u001b[0m     \u001b[0;32mdef\u001b[0m \u001b[0mmagic_deco\u001b[0m\u001b[0;34m(\u001b[0m\u001b[0marg\u001b[0m\u001b[0;34m)\u001b[0m\u001b[0;34m:\u001b[0m\u001b[0;34m\u001b[0m\u001b[0;34m\u001b[0m\u001b[0m\n\u001b[0;32m--> 187\u001b[0;31m         \u001b[0mcall\u001b[0m \u001b[0;34m=\u001b[0m \u001b[0;32mlambda\u001b[0m \u001b[0mf\u001b[0m\u001b[0;34m,\u001b[0m \u001b[0;34m*\u001b[0m\u001b[0ma\u001b[0m\u001b[0;34m,\u001b[0m \u001b[0;34m**\u001b[0m\u001b[0mk\u001b[0m\u001b[0;34m:\u001b[0m \u001b[0mf\u001b[0m\u001b[0;34m(\u001b[0m\u001b[0;34m*\u001b[0m\u001b[0ma\u001b[0m\u001b[0;34m,\u001b[0m \u001b[0;34m**\u001b[0m\u001b[0mk\u001b[0m\u001b[0;34m)\u001b[0m\u001b[0;34m\u001b[0m\u001b[0;34m\u001b[0m\u001b[0m\n\u001b[0m\u001b[1;32m    188\u001b[0m \u001b[0;34m\u001b[0m\u001b[0m\n\u001b[1;32m    189\u001b[0m         \u001b[0;32mif\u001b[0m \u001b[0mcallable\u001b[0m\u001b[0;34m(\u001b[0m\u001b[0marg\u001b[0m\u001b[0;34m)\u001b[0m\u001b[0;34m:\u001b[0m\u001b[0;34m\u001b[0m\u001b[0;34m\u001b[0m\u001b[0m\n",
      "\u001b[0;32m/srv/conda/envs/env_intaros/lib/python3.7/site-packages/rpy2/ipython/rmagic.py\u001b[0m in \u001b[0;36mR\u001b[0;34m(self, line, cell, local_ns)\u001b[0m\n\u001b[1;32m    781\u001b[0m             \u001b[0;32mif\u001b[0m \u001b[0;32mnot\u001b[0m \u001b[0me\u001b[0m\u001b[0;34m.\u001b[0m\u001b[0mstdout\u001b[0m\u001b[0;34m.\u001b[0m\u001b[0mendswith\u001b[0m\u001b[0;34m(\u001b[0m\u001b[0me\u001b[0m\u001b[0;34m.\u001b[0m\u001b[0merr\u001b[0m\u001b[0;34m)\u001b[0m\u001b[0;34m:\u001b[0m\u001b[0;34m\u001b[0m\u001b[0;34m\u001b[0m\u001b[0m\n\u001b[1;32m    782\u001b[0m                 \u001b[0mprint\u001b[0m\u001b[0;34m(\u001b[0m\u001b[0me\u001b[0m\u001b[0;34m.\u001b[0m\u001b[0merr\u001b[0m\u001b[0;34m)\u001b[0m\u001b[0;34m\u001b[0m\u001b[0;34m\u001b[0m\u001b[0m\n\u001b[0;32m--> 783\u001b[0;31m             \u001b[0;32mraise\u001b[0m \u001b[0me\u001b[0m\u001b[0;34m\u001b[0m\u001b[0;34m\u001b[0m\u001b[0m\n\u001b[0m\u001b[1;32m    784\u001b[0m         \u001b[0;32mfinally\u001b[0m\u001b[0;34m:\u001b[0m\u001b[0;34m\u001b[0m\u001b[0;34m\u001b[0m\u001b[0m\n\u001b[1;32m    785\u001b[0m             \u001b[0;32mif\u001b[0m \u001b[0mself\u001b[0m\u001b[0;34m.\u001b[0m\u001b[0mdevice\u001b[0m \u001b[0;32min\u001b[0m \u001b[0;34m[\u001b[0m\u001b[0;34m'png'\u001b[0m\u001b[0;34m,\u001b[0m \u001b[0;34m'svg'\u001b[0m\u001b[0;34m]\u001b[0m\u001b[0;34m:\u001b[0m\u001b[0;34m\u001b[0m\u001b[0;34m\u001b[0m\u001b[0m\n",
      "\u001b[0;32m/srv/conda/envs/env_intaros/lib/python3.7/site-packages/rpy2/ipython/rmagic.py\u001b[0m in \u001b[0;36mR\u001b[0;34m(self, line, cell, local_ns)\u001b[0m\n\u001b[1;32m    761\u001b[0m                     \u001b[0mreturn_output\u001b[0m \u001b[0;34m=\u001b[0m \u001b[0;32mFalse\u001b[0m\u001b[0;34m\u001b[0m\u001b[0;34m\u001b[0m\u001b[0m\n\u001b[1;32m    762\u001b[0m             \u001b[0;32melse\u001b[0m\u001b[0;34m:\u001b[0m\u001b[0;34m\u001b[0m\u001b[0;34m\u001b[0m\u001b[0m\n\u001b[0;32m--> 763\u001b[0;31m                 \u001b[0mtext_result\u001b[0m\u001b[0;34m,\u001b[0m \u001b[0mresult\u001b[0m\u001b[0;34m,\u001b[0m \u001b[0mvisible\u001b[0m \u001b[0;34m=\u001b[0m \u001b[0mself\u001b[0m\u001b[0;34m.\u001b[0m\u001b[0meval\u001b[0m\u001b[0;34m(\u001b[0m\u001b[0mcode\u001b[0m\u001b[0;34m)\u001b[0m\u001b[0;34m\u001b[0m\u001b[0;34m\u001b[0m\u001b[0m\n\u001b[0m\u001b[1;32m    764\u001b[0m                 \u001b[0mtext_output\u001b[0m \u001b[0;34m+=\u001b[0m \u001b[0mtext_result\u001b[0m\u001b[0;34m\u001b[0m\u001b[0;34m\u001b[0m\u001b[0m\n\u001b[1;32m    765\u001b[0m                 \u001b[0;32mif\u001b[0m \u001b[0mvisible\u001b[0m\u001b[0;34m:\u001b[0m\u001b[0;34m\u001b[0m\u001b[0;34m\u001b[0m\u001b[0m\n",
      "\u001b[0;32m/srv/conda/envs/env_intaros/lib/python3.7/site-packages/rpy2/ipython/rmagic.py\u001b[0m in \u001b[0;36meval\u001b[0;34m(self, code)\u001b[0m\n\u001b[1;32m    271\u001b[0m                 \u001b[0mwarning_or_other_msg\u001b[0m \u001b[0;34m=\u001b[0m \u001b[0mself\u001b[0m\u001b[0;34m.\u001b[0m\u001b[0mflush\u001b[0m\u001b[0;34m(\u001b[0m\u001b[0;34m)\u001b[0m\u001b[0;34m\u001b[0m\u001b[0;34m\u001b[0m\u001b[0m\n\u001b[1;32m    272\u001b[0m                 raise RInterpreterError(code, str(exception),\n\u001b[0;32m--> 273\u001b[0;31m                                         warning_or_other_msg)\n\u001b[0m\u001b[1;32m    274\u001b[0m             \u001b[0mtext_output\u001b[0m \u001b[0;34m=\u001b[0m \u001b[0mself\u001b[0m\u001b[0;34m.\u001b[0m\u001b[0mflush\u001b[0m\u001b[0;34m(\u001b[0m\u001b[0;34m)\u001b[0m\u001b[0;34m\u001b[0m\u001b[0;34m\u001b[0m\u001b[0m\n\u001b[1;32m    275\u001b[0m             \u001b[0;32mreturn\u001b[0m \u001b[0mtext_output\u001b[0m\u001b[0;34m,\u001b[0m \u001b[0mvalue\u001b[0m\u001b[0;34m,\u001b[0m \u001b[0mvisible\u001b[0m\u001b[0;34m[\u001b[0m\u001b[0;36m0\u001b[0m\u001b[0;34m]\u001b[0m\u001b[0;34m\u001b[0m\u001b[0;34m\u001b[0m\u001b[0m\n",
      "\u001b[0;31mRInterpreterError\u001b[0m: Failed to parse and evaluate line '# Aggregate data along Depth axis, from 5 to 10 by steps of 1\\n# dbin:       input data grid\\n# depth0:     origin of depth values\\n# ddepth:     step along depth\\n# ndepth:     number of depth steps\\n\\n# OUR 2003 dataset\\ndbreg = aggregate_depth(dbloc, depth0 = 18, ddepth = 1, ndepth = 4, flag.center = TRUE)\\n\\n\\n# Histogram of depths\\nhist(dbloc[,\"Depth\"],breaks=100,xlab=\"Initial Depth\",main=\"\")\\nhist(dbreg[,\"Depth\"],breaks=100,xlab=\"Regular Depth\",main=\"\")\\n'.\nR error message: 'Error: Error in R_db_regularize'"
     ]
    }
   ],
   "source": [
    "%%R\n",
    "# Aggregate data along Depth axis, from 5 to 10 by steps of 1\n",
    "# dbin:       input data grid\n",
    "# depth0:     origin of depth values\n",
    "# ddepth:     step along depth\n",
    "# ndepth:     number of depth steps\n",
    "\n",
    "# OUR 2003 dataset\n",
    "dbreg = aggregate_depth(dbloc, depth0 = 18, ddepth = 1, ndepth = 4, flag.center = TRUE)\n",
    "\n",
    "\n",
    "# Histogram of depths\n",
    "hist(dbloc[,\"Depth\"],breaks=100,xlab=\"Initial Depth\",main=\"\")\n",
    "hist(dbreg[,\"Depth\"],breaks=100,xlab=\"Regular Depth\",main=\"\")"
   ]
  },
  {
   "cell_type": "markdown",
   "metadata": {},
   "source": [
    "## Statistics per Year\n",
    "\n",
    "Calculate the mean and the variance of the Temperature for each year, starting from the depth-aggregated data. We focus on the samples located at 25m depth. We can compare the mean and variance to the one calculated on the initial data (before aggregation)"
   ]
  },
  {
   "cell_type": "code",
   "execution_count": 105,
   "metadata": {},
   "outputs": [
    {
     "name": "stderr",
     "output_type": "stream",
     "text": [
      "R[write to console]: Error in attach(db[], warn.conflicts = FALSE) : object 'dbreg' not found\n",
      "\n",
      "R[write to console]: Error in detach(db[]) : invalid 'name' argument\n",
      "\n"
     ]
    },
    {
     "name": "stdout",
     "output_type": "stream",
     "text": [
      "\n",
      "Error in detach(db[]) : invalid 'name' argument\n"
     ]
    },
    {
     "ename": "RInterpreterError",
     "evalue": "Failed to parse and evaluate line '\\n# Focus at 25m depth exactly\\ndepth     = 25\\ndepth_lim = c(depth,depth)\\n\\ndbc       = apply_sel(dbloc, depth_lim = depth_lim, compress = TRUE)\\ndbr       = apply_sel(dbreg, depth_lim = depth_lim, compress = TRUE)\\n\\n# Average Temperature along time (by year) at 25m depth\\ncres      = average_time(dbc, var, years)\\nrres      = average_time(dbr, var, years)\\n\\n# Display means\\nplot (years,rres$means,type=\"b\",main=paste(\"Mean of\",var,\"at\",depth1,\"m\"),pch=15,lty=1,col=colyears)\\nlines(years,cres$means,type=\"b\",pch=19,lty=2,col=colyears)\\nlegend(\"topleft\",legend=c(\"Initial\",\"Aggregated\"),lty=c(2,1),pch=c(19,15))\\n\\n# Display variances\\nplot (years,rres$vars ,type=\"b\",main=paste(\"Variance of\",var,\"at\",depth2,\"m\"),pch=15,lty=1,col=colyears)\\nlines(years,cres$vars ,type=\"b\",pch=19,lty=2,col=colyears)\\nlegend(\"topleft\",legend=c(\"Initial\",\"Aggregated\"),lty=c(2,1),pch=c(19,15))\\n\\n# Store the maximum variance for further use\\nvarmax = 1.2 * max(rres$vars)\\n'.\nR error message: \"Error in detach(db[]) : invalid 'name' argument\"",
     "output_type": "error",
     "traceback": [
      "\u001b[0;31m---------------------------------------------------------------------------\u001b[0m",
      "\u001b[0;31mRRuntimeError\u001b[0m                             Traceback (most recent call last)",
      "\u001b[0;32m/srv/conda/envs/env_intaros/lib/python3.7/site-packages/rpy2/ipython/rmagic.py\u001b[0m in \u001b[0;36meval\u001b[0;34m(self, code)\u001b[0m\n\u001b[1;32m    267\u001b[0m                 \u001b[0;31m# Need the newline in case the last line in code is a comment.\u001b[0m\u001b[0;34m\u001b[0m\u001b[0;34m\u001b[0m\u001b[0;34m\u001b[0m\u001b[0m\n\u001b[0;32m--> 268\u001b[0;31m                 \u001b[0mvalue\u001b[0m\u001b[0;34m,\u001b[0m \u001b[0mvisible\u001b[0m \u001b[0;34m=\u001b[0m \u001b[0mro\u001b[0m\u001b[0;34m.\u001b[0m\u001b[0mr\u001b[0m\u001b[0;34m(\u001b[0m\u001b[0;34m\"withVisible({%s\\n})\"\u001b[0m \u001b[0;34m%\u001b[0m \u001b[0mcode\u001b[0m\u001b[0;34m)\u001b[0m\u001b[0;34m\u001b[0m\u001b[0;34m\u001b[0m\u001b[0m\n\u001b[0m\u001b[1;32m    269\u001b[0m             \u001b[0;32mexcept\u001b[0m \u001b[0;34m(\u001b[0m\u001b[0mri\u001b[0m\u001b[0;34m.\u001b[0m\u001b[0membedded\u001b[0m\u001b[0;34m.\u001b[0m\u001b[0mRRuntimeError\u001b[0m\u001b[0;34m,\u001b[0m \u001b[0mValueError\u001b[0m\u001b[0;34m)\u001b[0m \u001b[0;32mas\u001b[0m \u001b[0mexception\u001b[0m\u001b[0;34m:\u001b[0m\u001b[0;34m\u001b[0m\u001b[0;34m\u001b[0m\u001b[0m\n",
      "\u001b[0;32m/srv/conda/envs/env_intaros/lib/python3.7/site-packages/rpy2/robjects/__init__.py\u001b[0m in \u001b[0;36m__call__\u001b[0;34m(self, string)\u001b[0m\n\u001b[1;32m    437\u001b[0m         \u001b[0mp\u001b[0m \u001b[0;34m=\u001b[0m \u001b[0mrinterface\u001b[0m\u001b[0;34m.\u001b[0m\u001b[0mparse\u001b[0m\u001b[0;34m(\u001b[0m\u001b[0mstring\u001b[0m\u001b[0;34m)\u001b[0m\u001b[0;34m\u001b[0m\u001b[0;34m\u001b[0m\u001b[0m\n\u001b[0;32m--> 438\u001b[0;31m         \u001b[0mres\u001b[0m \u001b[0;34m=\u001b[0m \u001b[0mself\u001b[0m\u001b[0;34m.\u001b[0m\u001b[0meval\u001b[0m\u001b[0;34m(\u001b[0m\u001b[0mp\u001b[0m\u001b[0;34m)\u001b[0m\u001b[0;34m\u001b[0m\u001b[0;34m\u001b[0m\u001b[0m\n\u001b[0m\u001b[1;32m    439\u001b[0m         \u001b[0;32mreturn\u001b[0m \u001b[0mconversion\u001b[0m\u001b[0;34m.\u001b[0m\u001b[0mrpy2py\u001b[0m\u001b[0;34m(\u001b[0m\u001b[0mres\u001b[0m\u001b[0;34m)\u001b[0m\u001b[0;34m\u001b[0m\u001b[0;34m\u001b[0m\u001b[0m\n",
      "\u001b[0;32m/srv/conda/envs/env_intaros/lib/python3.7/site-packages/rpy2/robjects/functions.py\u001b[0m in \u001b[0;36m__call__\u001b[0;34m(self, *args, **kwargs)\u001b[0m\n\u001b[1;32m    198\u001b[0m         return (super(SignatureTranslatedFunction, self)\n\u001b[0;32m--> 199\u001b[0;31m                 .__call__(*args, **kwargs))\n\u001b[0m\u001b[1;32m    200\u001b[0m \u001b[0;34m\u001b[0m\u001b[0m\n",
      "\u001b[0;32m/srv/conda/envs/env_intaros/lib/python3.7/site-packages/rpy2/robjects/functions.py\u001b[0m in \u001b[0;36m__call__\u001b[0;34m(self, *args, **kwargs)\u001b[0m\n\u001b[1;32m    124\u001b[0m                 \u001b[0mnew_kwargs\u001b[0m\u001b[0;34m[\u001b[0m\u001b[0mk\u001b[0m\u001b[0;34m]\u001b[0m \u001b[0;34m=\u001b[0m \u001b[0mconversion\u001b[0m\u001b[0;34m.\u001b[0m\u001b[0mpy2rpy\u001b[0m\u001b[0;34m(\u001b[0m\u001b[0mv\u001b[0m\u001b[0;34m)\u001b[0m\u001b[0;34m\u001b[0m\u001b[0;34m\u001b[0m\u001b[0m\n\u001b[0;32m--> 125\u001b[0;31m         \u001b[0mres\u001b[0m \u001b[0;34m=\u001b[0m \u001b[0msuper\u001b[0m\u001b[0;34m(\u001b[0m\u001b[0mFunction\u001b[0m\u001b[0;34m,\u001b[0m \u001b[0mself\u001b[0m\u001b[0;34m)\u001b[0m\u001b[0;34m.\u001b[0m\u001b[0m__call__\u001b[0m\u001b[0;34m(\u001b[0m\u001b[0;34m*\u001b[0m\u001b[0mnew_args\u001b[0m\u001b[0;34m,\u001b[0m \u001b[0;34m**\u001b[0m\u001b[0mnew_kwargs\u001b[0m\u001b[0;34m)\u001b[0m\u001b[0;34m\u001b[0m\u001b[0;34m\u001b[0m\u001b[0m\n\u001b[0m\u001b[1;32m    126\u001b[0m         \u001b[0mres\u001b[0m \u001b[0;34m=\u001b[0m \u001b[0mconversion\u001b[0m\u001b[0;34m.\u001b[0m\u001b[0mrpy2py\u001b[0m\u001b[0;34m(\u001b[0m\u001b[0mres\u001b[0m\u001b[0;34m)\u001b[0m\u001b[0;34m\u001b[0m\u001b[0;34m\u001b[0m\u001b[0m\n",
      "\u001b[0;32m/srv/conda/envs/env_intaros/lib/python3.7/site-packages/rpy2/rinterface_lib/conversion.py\u001b[0m in \u001b[0;36m_\u001b[0;34m(*args, **kwargs)\u001b[0m\n\u001b[1;32m     44\u001b[0m     \u001b[0;32mdef\u001b[0m \u001b[0m_\u001b[0m\u001b[0;34m(\u001b[0m\u001b[0;34m*\u001b[0m\u001b[0margs\u001b[0m\u001b[0;34m,\u001b[0m \u001b[0;34m**\u001b[0m\u001b[0mkwargs\u001b[0m\u001b[0;34m)\u001b[0m\u001b[0;34m:\u001b[0m\u001b[0;34m\u001b[0m\u001b[0;34m\u001b[0m\u001b[0m\n\u001b[0;32m---> 45\u001b[0;31m         \u001b[0mcdata\u001b[0m \u001b[0;34m=\u001b[0m \u001b[0mfunction\u001b[0m\u001b[0;34m(\u001b[0m\u001b[0;34m*\u001b[0m\u001b[0margs\u001b[0m\u001b[0;34m,\u001b[0m \u001b[0;34m**\u001b[0m\u001b[0mkwargs\u001b[0m\u001b[0;34m)\u001b[0m\u001b[0;34m\u001b[0m\u001b[0;34m\u001b[0m\u001b[0m\n\u001b[0m\u001b[1;32m     46\u001b[0m         \u001b[0;31m# TODO: test cdata is of the expected CType\u001b[0m\u001b[0;34m\u001b[0m\u001b[0;34m\u001b[0m\u001b[0;34m\u001b[0m\u001b[0m\n",
      "\u001b[0;32m/srv/conda/envs/env_intaros/lib/python3.7/site-packages/rpy2/rinterface.py\u001b[0m in \u001b[0;36m__call__\u001b[0;34m(self, *args, **kwargs)\u001b[0m\n\u001b[1;32m    679\u001b[0m             \u001b[0;32mif\u001b[0m \u001b[0merror_occured\u001b[0m\u001b[0;34m[\u001b[0m\u001b[0;36m0\u001b[0m\u001b[0;34m]\u001b[0m\u001b[0;34m:\u001b[0m\u001b[0;34m\u001b[0m\u001b[0;34m\u001b[0m\u001b[0m\n\u001b[0;32m--> 680\u001b[0;31m                 \u001b[0;32mraise\u001b[0m \u001b[0membedded\u001b[0m\u001b[0;34m.\u001b[0m\u001b[0mRRuntimeError\u001b[0m\u001b[0;34m(\u001b[0m\u001b[0m_rinterface\u001b[0m\u001b[0;34m.\u001b[0m\u001b[0m_geterrmessage\u001b[0m\u001b[0;34m(\u001b[0m\u001b[0;34m)\u001b[0m\u001b[0;34m)\u001b[0m\u001b[0;34m\u001b[0m\u001b[0;34m\u001b[0m\u001b[0m\n\u001b[0m\u001b[1;32m    681\u001b[0m         \u001b[0;32mreturn\u001b[0m \u001b[0mres\u001b[0m\u001b[0;34m\u001b[0m\u001b[0;34m\u001b[0m\u001b[0m\n",
      "\u001b[0;31mRRuntimeError\u001b[0m: Error in detach(db[]) : invalid 'name' argument\n",
      "\nDuring handling of the above exception, another exception occurred:\n",
      "\u001b[0;31mRInterpreterError\u001b[0m                         Traceback (most recent call last)",
      "\u001b[0;32m<ipython-input-105-e7da5ffb73c4>\u001b[0m in \u001b[0;36m<module>\u001b[0;34m\u001b[0m\n\u001b[0;32m----> 1\u001b[0;31m \u001b[0mget_ipython\u001b[0m\u001b[0;34m(\u001b[0m\u001b[0;34m)\u001b[0m\u001b[0;34m.\u001b[0m\u001b[0mrun_cell_magic\u001b[0m\u001b[0;34m(\u001b[0m\u001b[0;34m'R'\u001b[0m\u001b[0;34m,\u001b[0m \u001b[0;34m''\u001b[0m\u001b[0;34m,\u001b[0m \u001b[0;34m'\\n# Focus at 25m depth exactly\\ndepth     = 25\\ndepth_lim = c(depth,depth)\\n\\ndbc       = apply_sel(dbloc, depth_lim = depth_lim, compress = TRUE)\\ndbr       = apply_sel(dbreg, depth_lim = depth_lim, compress = TRUE)\\n\\n# Average Temperature along time (by year) at 25m depth\\ncres      = average_time(dbc, var, years)\\nrres      = average_time(dbr, var, years)\\n\\n# Display means\\nplot (years,rres$means,type=\"b\",main=paste(\"Mean of\",var,\"at\",depth1,\"m\"),pch=15,lty=1,col=colyears)\\nlines(years,cres$means,type=\"b\",pch=19,lty=2,col=colyears)\\nlegend(\"topleft\",legend=c(\"Initial\",\"Aggregated\"),lty=c(2,1),pch=c(19,15))\\n\\n# Display variances\\nplot (years,rres$vars ,type=\"b\",main=paste(\"Variance of\",var,\"at\",depth2,\"m\"),pch=15,lty=1,col=colyears)\\nlines(years,cres$vars ,type=\"b\",pch=19,lty=2,col=colyears)\\nlegend(\"topleft\",legend=c(\"Initial\",\"Aggregated\"),lty=c(2,1),pch=c(19,15))\\n\\n# Store the maximum variance for further use\\nvarmax = 1.2 * max(rres$vars)\\n'\u001b[0m\u001b[0;34m)\u001b[0m\u001b[0;34m\u001b[0m\u001b[0;34m\u001b[0m\u001b[0m\n\u001b[0m",
      "\u001b[0;32m/srv/conda/envs/env_intaros/lib/python3.7/site-packages/IPython/core/interactiveshell.py\u001b[0m in \u001b[0;36mrun_cell_magic\u001b[0;34m(self, magic_name, line, cell)\u001b[0m\n\u001b[1;32m   2401\u001b[0m             \u001b[0;32mwith\u001b[0m \u001b[0mself\u001b[0m\u001b[0;34m.\u001b[0m\u001b[0mbuiltin_trap\u001b[0m\u001b[0;34m:\u001b[0m\u001b[0;34m\u001b[0m\u001b[0;34m\u001b[0m\u001b[0m\n\u001b[1;32m   2402\u001b[0m                 \u001b[0margs\u001b[0m \u001b[0;34m=\u001b[0m \u001b[0;34m(\u001b[0m\u001b[0mmagic_arg_s\u001b[0m\u001b[0;34m,\u001b[0m \u001b[0mcell\u001b[0m\u001b[0;34m)\u001b[0m\u001b[0;34m\u001b[0m\u001b[0;34m\u001b[0m\u001b[0m\n\u001b[0;32m-> 2403\u001b[0;31m                 \u001b[0mresult\u001b[0m \u001b[0;34m=\u001b[0m \u001b[0mfn\u001b[0m\u001b[0;34m(\u001b[0m\u001b[0;34m*\u001b[0m\u001b[0margs\u001b[0m\u001b[0;34m,\u001b[0m \u001b[0;34m**\u001b[0m\u001b[0mkwargs\u001b[0m\u001b[0;34m)\u001b[0m\u001b[0;34m\u001b[0m\u001b[0;34m\u001b[0m\u001b[0m\n\u001b[0m\u001b[1;32m   2404\u001b[0m             \u001b[0;32mreturn\u001b[0m \u001b[0mresult\u001b[0m\u001b[0;34m\u001b[0m\u001b[0;34m\u001b[0m\u001b[0m\n\u001b[1;32m   2405\u001b[0m \u001b[0;34m\u001b[0m\u001b[0m\n",
      "\u001b[0;32m/srv/conda/envs/env_intaros/lib/python3.7/site-packages/decorator.py\u001b[0m in \u001b[0;36mfun\u001b[0;34m(*args, **kw)\u001b[0m\n\u001b[1;32m    230\u001b[0m             \u001b[0;32mif\u001b[0m \u001b[0;32mnot\u001b[0m \u001b[0mkwsyntax\u001b[0m\u001b[0;34m:\u001b[0m\u001b[0;34m\u001b[0m\u001b[0;34m\u001b[0m\u001b[0m\n\u001b[1;32m    231\u001b[0m                 \u001b[0margs\u001b[0m\u001b[0;34m,\u001b[0m \u001b[0mkw\u001b[0m \u001b[0;34m=\u001b[0m \u001b[0mfix\u001b[0m\u001b[0;34m(\u001b[0m\u001b[0margs\u001b[0m\u001b[0;34m,\u001b[0m \u001b[0mkw\u001b[0m\u001b[0;34m,\u001b[0m \u001b[0msig\u001b[0m\u001b[0;34m)\u001b[0m\u001b[0;34m\u001b[0m\u001b[0;34m\u001b[0m\u001b[0m\n\u001b[0;32m--> 232\u001b[0;31m             \u001b[0;32mreturn\u001b[0m \u001b[0mcaller\u001b[0m\u001b[0;34m(\u001b[0m\u001b[0mfunc\u001b[0m\u001b[0;34m,\u001b[0m \u001b[0;34m*\u001b[0m\u001b[0;34m(\u001b[0m\u001b[0mextras\u001b[0m \u001b[0;34m+\u001b[0m \u001b[0margs\u001b[0m\u001b[0;34m)\u001b[0m\u001b[0;34m,\u001b[0m \u001b[0;34m**\u001b[0m\u001b[0mkw\u001b[0m\u001b[0;34m)\u001b[0m\u001b[0;34m\u001b[0m\u001b[0;34m\u001b[0m\u001b[0m\n\u001b[0m\u001b[1;32m    233\u001b[0m     \u001b[0mfun\u001b[0m\u001b[0;34m.\u001b[0m\u001b[0m__name__\u001b[0m \u001b[0;34m=\u001b[0m \u001b[0mfunc\u001b[0m\u001b[0;34m.\u001b[0m\u001b[0m__name__\u001b[0m\u001b[0;34m\u001b[0m\u001b[0;34m\u001b[0m\u001b[0m\n\u001b[1;32m    234\u001b[0m     \u001b[0mfun\u001b[0m\u001b[0;34m.\u001b[0m\u001b[0m__doc__\u001b[0m \u001b[0;34m=\u001b[0m \u001b[0mfunc\u001b[0m\u001b[0;34m.\u001b[0m\u001b[0m__doc__\u001b[0m\u001b[0;34m\u001b[0m\u001b[0;34m\u001b[0m\u001b[0m\n",
      "\u001b[0;32m/srv/conda/envs/env_intaros/lib/python3.7/site-packages/IPython/core/magic.py\u001b[0m in \u001b[0;36m<lambda>\u001b[0;34m(f, *a, **k)\u001b[0m\n\u001b[1;32m    185\u001b[0m     \u001b[0;31m# but it's overkill for just that one bit of state.\u001b[0m\u001b[0;34m\u001b[0m\u001b[0;34m\u001b[0m\u001b[0;34m\u001b[0m\u001b[0m\n\u001b[1;32m    186\u001b[0m     \u001b[0;32mdef\u001b[0m \u001b[0mmagic_deco\u001b[0m\u001b[0;34m(\u001b[0m\u001b[0marg\u001b[0m\u001b[0;34m)\u001b[0m\u001b[0;34m:\u001b[0m\u001b[0;34m\u001b[0m\u001b[0;34m\u001b[0m\u001b[0m\n\u001b[0;32m--> 187\u001b[0;31m         \u001b[0mcall\u001b[0m \u001b[0;34m=\u001b[0m \u001b[0;32mlambda\u001b[0m \u001b[0mf\u001b[0m\u001b[0;34m,\u001b[0m \u001b[0;34m*\u001b[0m\u001b[0ma\u001b[0m\u001b[0;34m,\u001b[0m \u001b[0;34m**\u001b[0m\u001b[0mk\u001b[0m\u001b[0;34m:\u001b[0m \u001b[0mf\u001b[0m\u001b[0;34m(\u001b[0m\u001b[0;34m*\u001b[0m\u001b[0ma\u001b[0m\u001b[0;34m,\u001b[0m \u001b[0;34m**\u001b[0m\u001b[0mk\u001b[0m\u001b[0;34m)\u001b[0m\u001b[0;34m\u001b[0m\u001b[0;34m\u001b[0m\u001b[0m\n\u001b[0m\u001b[1;32m    188\u001b[0m \u001b[0;34m\u001b[0m\u001b[0m\n\u001b[1;32m    189\u001b[0m         \u001b[0;32mif\u001b[0m \u001b[0mcallable\u001b[0m\u001b[0;34m(\u001b[0m\u001b[0marg\u001b[0m\u001b[0;34m)\u001b[0m\u001b[0;34m:\u001b[0m\u001b[0;34m\u001b[0m\u001b[0;34m\u001b[0m\u001b[0m\n",
      "\u001b[0;32m/srv/conda/envs/env_intaros/lib/python3.7/site-packages/rpy2/ipython/rmagic.py\u001b[0m in \u001b[0;36mR\u001b[0;34m(self, line, cell, local_ns)\u001b[0m\n\u001b[1;32m    781\u001b[0m             \u001b[0;32mif\u001b[0m \u001b[0;32mnot\u001b[0m \u001b[0me\u001b[0m\u001b[0;34m.\u001b[0m\u001b[0mstdout\u001b[0m\u001b[0;34m.\u001b[0m\u001b[0mendswith\u001b[0m\u001b[0;34m(\u001b[0m\u001b[0me\u001b[0m\u001b[0;34m.\u001b[0m\u001b[0merr\u001b[0m\u001b[0;34m)\u001b[0m\u001b[0;34m:\u001b[0m\u001b[0;34m\u001b[0m\u001b[0;34m\u001b[0m\u001b[0m\n\u001b[1;32m    782\u001b[0m                 \u001b[0mprint\u001b[0m\u001b[0;34m(\u001b[0m\u001b[0me\u001b[0m\u001b[0;34m.\u001b[0m\u001b[0merr\u001b[0m\u001b[0;34m)\u001b[0m\u001b[0;34m\u001b[0m\u001b[0;34m\u001b[0m\u001b[0m\n\u001b[0;32m--> 783\u001b[0;31m             \u001b[0;32mraise\u001b[0m \u001b[0me\u001b[0m\u001b[0;34m\u001b[0m\u001b[0;34m\u001b[0m\u001b[0m\n\u001b[0m\u001b[1;32m    784\u001b[0m         \u001b[0;32mfinally\u001b[0m\u001b[0;34m:\u001b[0m\u001b[0;34m\u001b[0m\u001b[0;34m\u001b[0m\u001b[0m\n\u001b[1;32m    785\u001b[0m             \u001b[0;32mif\u001b[0m \u001b[0mself\u001b[0m\u001b[0;34m.\u001b[0m\u001b[0mdevice\u001b[0m \u001b[0;32min\u001b[0m \u001b[0;34m[\u001b[0m\u001b[0;34m'png'\u001b[0m\u001b[0;34m,\u001b[0m \u001b[0;34m'svg'\u001b[0m\u001b[0;34m]\u001b[0m\u001b[0;34m:\u001b[0m\u001b[0;34m\u001b[0m\u001b[0;34m\u001b[0m\u001b[0m\n",
      "\u001b[0;32m/srv/conda/envs/env_intaros/lib/python3.7/site-packages/rpy2/ipython/rmagic.py\u001b[0m in \u001b[0;36mR\u001b[0;34m(self, line, cell, local_ns)\u001b[0m\n\u001b[1;32m    761\u001b[0m                     \u001b[0mreturn_output\u001b[0m \u001b[0;34m=\u001b[0m \u001b[0;32mFalse\u001b[0m\u001b[0;34m\u001b[0m\u001b[0;34m\u001b[0m\u001b[0m\n\u001b[1;32m    762\u001b[0m             \u001b[0;32melse\u001b[0m\u001b[0;34m:\u001b[0m\u001b[0;34m\u001b[0m\u001b[0;34m\u001b[0m\u001b[0m\n\u001b[0;32m--> 763\u001b[0;31m                 \u001b[0mtext_result\u001b[0m\u001b[0;34m,\u001b[0m \u001b[0mresult\u001b[0m\u001b[0;34m,\u001b[0m \u001b[0mvisible\u001b[0m \u001b[0;34m=\u001b[0m \u001b[0mself\u001b[0m\u001b[0;34m.\u001b[0m\u001b[0meval\u001b[0m\u001b[0;34m(\u001b[0m\u001b[0mcode\u001b[0m\u001b[0;34m)\u001b[0m\u001b[0;34m\u001b[0m\u001b[0;34m\u001b[0m\u001b[0m\n\u001b[0m\u001b[1;32m    764\u001b[0m                 \u001b[0mtext_output\u001b[0m \u001b[0;34m+=\u001b[0m \u001b[0mtext_result\u001b[0m\u001b[0;34m\u001b[0m\u001b[0;34m\u001b[0m\u001b[0m\n\u001b[1;32m    765\u001b[0m                 \u001b[0;32mif\u001b[0m \u001b[0mvisible\u001b[0m\u001b[0;34m:\u001b[0m\u001b[0;34m\u001b[0m\u001b[0;34m\u001b[0m\u001b[0m\n",
      "\u001b[0;32m/srv/conda/envs/env_intaros/lib/python3.7/site-packages/rpy2/ipython/rmagic.py\u001b[0m in \u001b[0;36meval\u001b[0;34m(self, code)\u001b[0m\n\u001b[1;32m    271\u001b[0m                 \u001b[0mwarning_or_other_msg\u001b[0m \u001b[0;34m=\u001b[0m \u001b[0mself\u001b[0m\u001b[0;34m.\u001b[0m\u001b[0mflush\u001b[0m\u001b[0;34m(\u001b[0m\u001b[0;34m)\u001b[0m\u001b[0;34m\u001b[0m\u001b[0;34m\u001b[0m\u001b[0m\n\u001b[1;32m    272\u001b[0m                 raise RInterpreterError(code, str(exception),\n\u001b[0;32m--> 273\u001b[0;31m                                         warning_or_other_msg)\n\u001b[0m\u001b[1;32m    274\u001b[0m             \u001b[0mtext_output\u001b[0m \u001b[0;34m=\u001b[0m \u001b[0mself\u001b[0m\u001b[0;34m.\u001b[0m\u001b[0mflush\u001b[0m\u001b[0;34m(\u001b[0m\u001b[0;34m)\u001b[0m\u001b[0;34m\u001b[0m\u001b[0;34m\u001b[0m\u001b[0m\n\u001b[1;32m    275\u001b[0m             \u001b[0;32mreturn\u001b[0m \u001b[0mtext_output\u001b[0m\u001b[0;34m,\u001b[0m \u001b[0mvalue\u001b[0m\u001b[0;34m,\u001b[0m \u001b[0mvisible\u001b[0m\u001b[0;34m[\u001b[0m\u001b[0;36m0\u001b[0m\u001b[0;34m]\u001b[0m\u001b[0;34m\u001b[0m\u001b[0;34m\u001b[0m\u001b[0m\n",
      "\u001b[0;31mRInterpreterError\u001b[0m: Failed to parse and evaluate line '\\n# Focus at 25m depth exactly\\ndepth     = 25\\ndepth_lim = c(depth,depth)\\n\\ndbc       = apply_sel(dbloc, depth_lim = depth_lim, compress = TRUE)\\ndbr       = apply_sel(dbreg, depth_lim = depth_lim, compress = TRUE)\\n\\n# Average Temperature along time (by year) at 25m depth\\ncres      = average_time(dbc, var, years)\\nrres      = average_time(dbr, var, years)\\n\\n# Display means\\nplot (years,rres$means,type=\"b\",main=paste(\"Mean of\",var,\"at\",depth1,\"m\"),pch=15,lty=1,col=colyears)\\nlines(years,cres$means,type=\"b\",pch=19,lty=2,col=colyears)\\nlegend(\"topleft\",legend=c(\"Initial\",\"Aggregated\"),lty=c(2,1),pch=c(19,15))\\n\\n# Display variances\\nplot (years,rres$vars ,type=\"b\",main=paste(\"Variance of\",var,\"at\",depth2,\"m\"),pch=15,lty=1,col=colyears)\\nlines(years,cres$vars ,type=\"b\",pch=19,lty=2,col=colyears)\\nlegend(\"topleft\",legend=c(\"Initial\",\"Aggregated\"),lty=c(2,1),pch=c(19,15))\\n\\n# Store the maximum variance for further use\\nvarmax = 1.2 * max(rres$vars)\\n'.\nR error message: \"Error in detach(db[]) : invalid 'name' argument\""
     ]
    }
   ],
   "source": [
    "%%R \n",
    "\n",
    "# Focus at 25m depth exactly\n",
    "depth     = 25\n",
    "depth_lim = c(depth,depth)\n",
    "\n",
    "dbc       = apply_sel(dbloc, depth_lim = depth_lim, compress = TRUE)\n",
    "dbr       = apply_sel(dbreg, depth_lim = depth_lim, compress = TRUE)\n",
    "\n",
    "# Average Temperature along time (by year) at 25m depth\n",
    "cres      = average_time(dbc, var, years)\n",
    "rres      = average_time(dbr, var, years)\n",
    "\n",
    "# Display means\n",
    "plot (years,rres$means,type=\"b\",main=paste(\"Mean of\",var,\"at\",depth1,\"m\"),pch=15,lty=1,col=colyears)\n",
    "lines(years,cres$means,type=\"b\",pch=19,lty=2,col=colyears)\n",
    "legend(\"topleft\",legend=c(\"Initial\",\"Aggregated\"),lty=c(2,1),pch=c(19,15))\n",
    "\n",
    "# Display variances\n",
    "plot (years,rres$vars ,type=\"b\",main=paste(\"Variance of\",var,\"at\",depth2,\"m\"),pch=15,lty=1,col=colyears)\n",
    "lines(years,cres$vars ,type=\"b\",pch=19,lty=2,col=colyears)\n",
    "legend(\"topleft\",legend=c(\"Initial\",\"Aggregated\"),lty=c(2,1),pch=c(19,15))\n",
    "\n",
    "# Store the maximum variance for further use\n",
    "varmax = 1.2 * max(rres$vars)"
   ]
  },
  {
   "cell_type": "markdown",
   "metadata": {},
   "source": [
    "## Statistics per Depth \n",
    "\n",
    "Consider one year, and evaluate the mean and variance of the Temperature per depth level (every 1m). Calculations are performed starting from the initial data set."
   ]
  },
  {
   "cell_type": "code",
   "execution_count": 113,
   "metadata": {},
   "outputs": [
    {
     "name": "stdout",
     "output_type": "stream",
     "text": [
      "$count\n",
      " [1] 53  0  0  0  0  0  0  0  0  0\n",
      "\n",
      "$means\n",
      " [1] 7.178906      NaN      NaN      NaN      NaN      NaN      NaN      NaN\n",
      " [9]      NaN      NaN\n",
      "\n",
      "$vars\n",
      " [1] 0.5195611        NA        NA        NA        NA        NA        NA\n",
      " [8]        NA        NA        NA\n",
      "\n",
      "$depths\n",
      " [1]  40  60  80 100 120 140 160 180 200 220\n",
      "\n"
     ]
    }
   ],
   "source": [
    "%%R\n",
    "res"
   ]
  },
  {
   "cell_type": "code",
   "execution_count": 109,
   "metadata": {},
   "outputs": [
    {
     "data": {
      "image/png": "[encoded data removed]"
     },
     "metadata": {},
     "output_type": "display_data"
    },
    {
     "data": {
      "image/png": "[encoded data removed]"
     },
     "metadata": {},
     "output_type": "display_data"
    },
    {
     "data": {
      "image/png": "[encoded data removed]"
     },
     "metadata": {},
     "output_type": "display_data"
    }
   ],
   "source": [
    "%%R\n",
    "# Average Temperature by depth\n",
    "date_lim  = create_limits_date(year)\n",
    "db1       = apply_sel(dbloc, date_lim = date_lim, compress = TRUE)\n",
    "res       = average_depth(db1, var, depth0 = depth1, ddepth = depth2, ndepth = 10)\n",
    "\n",
    "# Display statistics\n",
    "plot(res$count,res$depths,type=\"b\",main=paste(\"Number of samples for\",var),pch=19,\n",
    "     xlab=\"Count of Samples\", ylab=\"Depth\", ylim=rev(range(res$depths)))\n",
    "plot(res$means,res$depths,type=\"b\",main=paste(\"Mean for\",var),pch=19,\n",
    "     xlab=\"Mean\", ylab=\"Depth\", ylim=rev(range(res$depths)))\n",
    "plot(res$vars ,res$depths,type=\"b\",main=paste(\"Variance for\",var),pch=19,\n",
    "     xlab=\"Variance\", ylab=\"Depth\", ylim=rev(range(res$depths)))"
   ]
  },
  {
   "cell_type": "markdown",
   "metadata": {},
   "source": [
    "## Regularization along Time\n",
    "\n",
    "Starting from the initial data base, regularize the Temperature every 30 days by calcuting its mean for each interval"
   ]
  },
  {
   "cell_type": "code",
   "execution_count": 116,
   "metadata": {
    "attributes": {
     "": "",
     "classes": [],
     "id": ""
    }
   },
   "outputs": [
    {
     "data": {
      "image/png": "[encoded data removed]"
     },
     "metadata": {},
     "output_type": "display_data"
    }
   ],
   "source": [
    "%%R\n",
    "# Regularize Temperature along Time\n",
    "dbg = regular_time(dbloc, var, time_step = 30)\n",
    "\n",
    "# Display regularized 1-D database along time\n",
    "plot(dbg, title = build_title_db_time(dbg,var), xlab = \"Time\", ylab = var)"
   ]
  },
  {
   "cell_type": "markdown",
   "metadata": {},
   "source": [
    "## Regularization along Depth\n",
    "\n",
    "Starting from the initial data base, regularize the Temperature every 2m depth"
   ]
  },
  {
   "cell_type": "code",
   "execution_count": 117,
   "metadata": {
    "attributes": {
     "": "",
     "classes": [],
     "id": ""
    }
   },
   "outputs": [
    {
     "data": {
      "image/png": "[encoded data removed]"
     },
     "metadata": {},
     "output_type": "display_data"
    }
   ],
   "source": [
    "%%R \n",
    "# Regularize Temperature along Depth\n",
    "dbg = regular_depth(dbloc, var, depth_step = 2)\n",
    "\n",
    "# Display regularized 1-D database along depth\n",
    "plot(dbg, title=build_title_db_depth(dbg,var), xlab=\"Depth\", ylab = var)"
   ]
  },
  {
   "cell_type": "markdown",
   "metadata": {},
   "source": [
    "## Horizontal Variogram per Year\n",
    "\n",
    "Review the horizontal variograms for different years at 25m depth, calculated from the aggregated data set."
   ]
  },
  {
   "cell_type": "code",
   "execution_count": 118,
   "metadata": {},
   "outputs": [
    {
     "name": "stderr",
     "output_type": "stream",
     "text": [
      "R[write to console]: Error in attach(db[], warn.conflicts = FALSE) : object 'dbreg' not found\n",
      "\n",
      "R[write to console]: Error in detach(db[]) : invalid 'name' argument\n",
      "\n"
     ]
    },
    {
     "name": "stdout",
     "output_type": "stream",
     "text": [
      "\n",
      "Error in detach(db[]) : invalid 'name' argument\n"
     ]
    },
    {
     "ename": "RInterpreterError",
     "evalue": "Failed to parse and evaluate line '# Define the active samples\\ndepth_lim = c(depth1,depth2)\\ndbr       = apply_sel(dbreg, depth_lim = depth_lim, compress = TRUE)\\ndbr       = db.locate(dbr,var,\"z\")\\n\\n# Variogram parameters\\nvario_lag  = 1\\nvario_nlag = 20\\n\\n# Loop on the years\\necr = 1\\nadd = FALSE\\nfor (year in years) \\n{\\n  date_lim = create_limits_date(year)\\n  dbr = remove_sel(dbr)\\n  dbr = apply_sel(dbr, date_lim = date_lim)\\n\\n  vario = prepar_vario(dbr, dirvect=NA, \\n                       vario_lag = vario_lag, vario_nlag = vario_nlag, draw.vario=TRUE,\\n                       add=add, ylim=c(0,varmax), col=colyears[ecr], lwd=1,\\n                       varline=FALSE, npairdw=TRUE)\\n\\n  ecr = ecr + 1\\n  add = TRUE\\n}\\nlegend(\"right\",legend=years,col=colyears,lty=1,lwd=2,cex=0.8)\\n'.\nR error message: \"Error in detach(db[]) : invalid 'name' argument\"",
     "output_type": "error",
     "traceback": [
      "\u001b[0;31m---------------------------------------------------------------------------\u001b[0m",
      "\u001b[0;31mRRuntimeError\u001b[0m                             Traceback (most recent call last)",
      "\u001b[0;32m/srv/conda/envs/env_intaros/lib/python3.7/site-packages/rpy2/ipython/rmagic.py\u001b[0m in \u001b[0;36meval\u001b[0;34m(self, code)\u001b[0m\n\u001b[1;32m    267\u001b[0m                 \u001b[0;31m# Need the newline in case the last line in code is a comment.\u001b[0m\u001b[0;34m\u001b[0m\u001b[0;34m\u001b[0m\u001b[0;34m\u001b[0m\u001b[0m\n\u001b[0;32m--> 268\u001b[0;31m                 \u001b[0mvalue\u001b[0m\u001b[0;34m,\u001b[0m \u001b[0mvisible\u001b[0m \u001b[0;34m=\u001b[0m \u001b[0mro\u001b[0m\u001b[0;34m.\u001b[0m\u001b[0mr\u001b[0m\u001b[0;34m(\u001b[0m\u001b[0;34m\"withVisible({%s\\n})\"\u001b[0m \u001b[0;34m%\u001b[0m \u001b[0mcode\u001b[0m\u001b[0;34m)\u001b[0m\u001b[0;34m\u001b[0m\u001b[0;34m\u001b[0m\u001b[0m\n\u001b[0m\u001b[1;32m    269\u001b[0m             \u001b[0;32mexcept\u001b[0m \u001b[0;34m(\u001b[0m\u001b[0mri\u001b[0m\u001b[0;34m.\u001b[0m\u001b[0membedded\u001b[0m\u001b[0;34m.\u001b[0m\u001b[0mRRuntimeError\u001b[0m\u001b[0;34m,\u001b[0m \u001b[0mValueError\u001b[0m\u001b[0;34m)\u001b[0m \u001b[0;32mas\u001b[0m \u001b[0mexception\u001b[0m\u001b[0;34m:\u001b[0m\u001b[0;34m\u001b[0m\u001b[0;34m\u001b[0m\u001b[0m\n",
      "\u001b[0;32m/srv/conda/envs/env_intaros/lib/python3.7/site-packages/rpy2/robjects/__init__.py\u001b[0m in \u001b[0;36m__call__\u001b[0;34m(self, string)\u001b[0m\n\u001b[1;32m    437\u001b[0m         \u001b[0mp\u001b[0m \u001b[0;34m=\u001b[0m \u001b[0mrinterface\u001b[0m\u001b[0;34m.\u001b[0m\u001b[0mparse\u001b[0m\u001b[0;34m(\u001b[0m\u001b[0mstring\u001b[0m\u001b[0;34m)\u001b[0m\u001b[0;34m\u001b[0m\u001b[0;34m\u001b[0m\u001b[0m\n\u001b[0;32m--> 438\u001b[0;31m         \u001b[0mres\u001b[0m \u001b[0;34m=\u001b[0m \u001b[0mself\u001b[0m\u001b[0;34m.\u001b[0m\u001b[0meval\u001b[0m\u001b[0;34m(\u001b[0m\u001b[0mp\u001b[0m\u001b[0;34m)\u001b[0m\u001b[0;34m\u001b[0m\u001b[0;34m\u001b[0m\u001b[0m\n\u001b[0m\u001b[1;32m    439\u001b[0m         \u001b[0;32mreturn\u001b[0m \u001b[0mconversion\u001b[0m\u001b[0;34m.\u001b[0m\u001b[0mrpy2py\u001b[0m\u001b[0;34m(\u001b[0m\u001b[0mres\u001b[0m\u001b[0;34m)\u001b[0m\u001b[0;34m\u001b[0m\u001b[0;34m\u001b[0m\u001b[0m\n",
      "\u001b[0;32m/srv/conda/envs/env_intaros/lib/python3.7/site-packages/rpy2/robjects/functions.py\u001b[0m in \u001b[0;36m__call__\u001b[0;34m(self, *args, **kwargs)\u001b[0m\n\u001b[1;32m    198\u001b[0m         return (super(SignatureTranslatedFunction, self)\n\u001b[0;32m--> 199\u001b[0;31m                 .__call__(*args, **kwargs))\n\u001b[0m\u001b[1;32m    200\u001b[0m \u001b[0;34m\u001b[0m\u001b[0m\n",
      "\u001b[0;32m/srv/conda/envs/env_intaros/lib/python3.7/site-packages/rpy2/robjects/functions.py\u001b[0m in \u001b[0;36m__call__\u001b[0;34m(self, *args, **kwargs)\u001b[0m\n\u001b[1;32m    124\u001b[0m                 \u001b[0mnew_kwargs\u001b[0m\u001b[0;34m[\u001b[0m\u001b[0mk\u001b[0m\u001b[0;34m]\u001b[0m \u001b[0;34m=\u001b[0m \u001b[0mconversion\u001b[0m\u001b[0;34m.\u001b[0m\u001b[0mpy2rpy\u001b[0m\u001b[0;34m(\u001b[0m\u001b[0mv\u001b[0m\u001b[0;34m)\u001b[0m\u001b[0;34m\u001b[0m\u001b[0;34m\u001b[0m\u001b[0m\n\u001b[0;32m--> 125\u001b[0;31m         \u001b[0mres\u001b[0m \u001b[0;34m=\u001b[0m \u001b[0msuper\u001b[0m\u001b[0;34m(\u001b[0m\u001b[0mFunction\u001b[0m\u001b[0;34m,\u001b[0m \u001b[0mself\u001b[0m\u001b[0;34m)\u001b[0m\u001b[0;34m.\u001b[0m\u001b[0m__call__\u001b[0m\u001b[0;34m(\u001b[0m\u001b[0;34m*\u001b[0m\u001b[0mnew_args\u001b[0m\u001b[0;34m,\u001b[0m \u001b[0;34m**\u001b[0m\u001b[0mnew_kwargs\u001b[0m\u001b[0;34m)\u001b[0m\u001b[0;34m\u001b[0m\u001b[0;34m\u001b[0m\u001b[0m\n\u001b[0m\u001b[1;32m    126\u001b[0m         \u001b[0mres\u001b[0m \u001b[0;34m=\u001b[0m \u001b[0mconversion\u001b[0m\u001b[0;34m.\u001b[0m\u001b[0mrpy2py\u001b[0m\u001b[0;34m(\u001b[0m\u001b[0mres\u001b[0m\u001b[0;34m)\u001b[0m\u001b[0;34m\u001b[0m\u001b[0;34m\u001b[0m\u001b[0m\n",
      "\u001b[0;32m/srv/conda/envs/env_intaros/lib/python3.7/site-packages/rpy2/rinterface_lib/conversion.py\u001b[0m in \u001b[0;36m_\u001b[0;34m(*args, **kwargs)\u001b[0m\n\u001b[1;32m     44\u001b[0m     \u001b[0;32mdef\u001b[0m \u001b[0m_\u001b[0m\u001b[0;34m(\u001b[0m\u001b[0;34m*\u001b[0m\u001b[0margs\u001b[0m\u001b[0;34m,\u001b[0m \u001b[0;34m**\u001b[0m\u001b[0mkwargs\u001b[0m\u001b[0;34m)\u001b[0m\u001b[0;34m:\u001b[0m\u001b[0;34m\u001b[0m\u001b[0;34m\u001b[0m\u001b[0m\n\u001b[0;32m---> 45\u001b[0;31m         \u001b[0mcdata\u001b[0m \u001b[0;34m=\u001b[0m \u001b[0mfunction\u001b[0m\u001b[0;34m(\u001b[0m\u001b[0;34m*\u001b[0m\u001b[0margs\u001b[0m\u001b[0;34m,\u001b[0m \u001b[0;34m**\u001b[0m\u001b[0mkwargs\u001b[0m\u001b[0;34m)\u001b[0m\u001b[0;34m\u001b[0m\u001b[0;34m\u001b[0m\u001b[0m\n\u001b[0m\u001b[1;32m     46\u001b[0m         \u001b[0;31m# TODO: test cdata is of the expected CType\u001b[0m\u001b[0;34m\u001b[0m\u001b[0;34m\u001b[0m\u001b[0;34m\u001b[0m\u001b[0m\n",
      "\u001b[0;32m/srv/conda/envs/env_intaros/lib/python3.7/site-packages/rpy2/rinterface.py\u001b[0m in \u001b[0;36m__call__\u001b[0;34m(self, *args, **kwargs)\u001b[0m\n\u001b[1;32m    679\u001b[0m             \u001b[0;32mif\u001b[0m \u001b[0merror_occured\u001b[0m\u001b[0;34m[\u001b[0m\u001b[0;36m0\u001b[0m\u001b[0;34m]\u001b[0m\u001b[0;34m:\u001b[0m\u001b[0;34m\u001b[0m\u001b[0;34m\u001b[0m\u001b[0m\n\u001b[0;32m--> 680\u001b[0;31m                 \u001b[0;32mraise\u001b[0m \u001b[0membedded\u001b[0m\u001b[0;34m.\u001b[0m\u001b[0mRRuntimeError\u001b[0m\u001b[0;34m(\u001b[0m\u001b[0m_rinterface\u001b[0m\u001b[0;34m.\u001b[0m\u001b[0m_geterrmessage\u001b[0m\u001b[0;34m(\u001b[0m\u001b[0;34m)\u001b[0m\u001b[0;34m)\u001b[0m\u001b[0;34m\u001b[0m\u001b[0;34m\u001b[0m\u001b[0m\n\u001b[0m\u001b[1;32m    681\u001b[0m         \u001b[0;32mreturn\u001b[0m \u001b[0mres\u001b[0m\u001b[0;34m\u001b[0m\u001b[0;34m\u001b[0m\u001b[0m\n",
      "\u001b[0;31mRRuntimeError\u001b[0m: Error in detach(db[]) : invalid 'name' argument\n",
      "\nDuring handling of the above exception, another exception occurred:\n",
      "\u001b[0;31mRInterpreterError\u001b[0m                         Traceback (most recent call last)",
      "\u001b[0;32m<ipython-input-118-53df48092f42>\u001b[0m in \u001b[0;36m<module>\u001b[0;34m\u001b[0m\n\u001b[0;32m----> 1\u001b[0;31m \u001b[0mget_ipython\u001b[0m\u001b[0;34m(\u001b[0m\u001b[0;34m)\u001b[0m\u001b[0;34m.\u001b[0m\u001b[0mrun_cell_magic\u001b[0m\u001b[0;34m(\u001b[0m\u001b[0;34m'R'\u001b[0m\u001b[0;34m,\u001b[0m \u001b[0;34m''\u001b[0m\u001b[0;34m,\u001b[0m \u001b[0;34m'# Define the active samples\\ndepth_lim = c(depth1,depth2)\\ndbr       = apply_sel(dbreg, depth_lim = depth_lim, compress = TRUE)\\ndbr       = db.locate(dbr,var,\"z\")\\n\\n# Variogram parameters\\nvario_lag  = 1\\nvario_nlag = 20\\n\\n# Loop on the years\\necr = 1\\nadd = FALSE\\nfor (year in years) \\n{\\n  date_lim = create_limits_date(year)\\n  dbr = remove_sel(dbr)\\n  dbr = apply_sel(dbr, date_lim = date_lim)\\n\\n  vario = prepar_vario(dbr, dirvect=NA, \\n                       vario_lag = vario_lag, vario_nlag = vario_nlag, draw.vario=TRUE,\\n                       add=add, ylim=c(0,varmax), col=colyears[ecr], lwd=1,\\n                       varline=FALSE, npairdw=TRUE)\\n\\n  ecr = ecr + 1\\n  add = TRUE\\n}\\nlegend(\"right\",legend=years,col=colyears,lty=1,lwd=2,cex=0.8)\\n'\u001b[0m\u001b[0;34m)\u001b[0m\u001b[0;34m\u001b[0m\u001b[0;34m\u001b[0m\u001b[0m\n\u001b[0m",
      "\u001b[0;32m/srv/conda/envs/env_intaros/lib/python3.7/site-packages/IPython/core/interactiveshell.py\u001b[0m in \u001b[0;36mrun_cell_magic\u001b[0;34m(self, magic_name, line, cell)\u001b[0m\n\u001b[1;32m   2401\u001b[0m             \u001b[0;32mwith\u001b[0m \u001b[0mself\u001b[0m\u001b[0;34m.\u001b[0m\u001b[0mbuiltin_trap\u001b[0m\u001b[0;34m:\u001b[0m\u001b[0;34m\u001b[0m\u001b[0;34m\u001b[0m\u001b[0m\n\u001b[1;32m   2402\u001b[0m                 \u001b[0margs\u001b[0m \u001b[0;34m=\u001b[0m \u001b[0;34m(\u001b[0m\u001b[0mmagic_arg_s\u001b[0m\u001b[0;34m,\u001b[0m \u001b[0mcell\u001b[0m\u001b[0;34m)\u001b[0m\u001b[0;34m\u001b[0m\u001b[0;34m\u001b[0m\u001b[0m\n\u001b[0;32m-> 2403\u001b[0;31m                 \u001b[0mresult\u001b[0m \u001b[0;34m=\u001b[0m \u001b[0mfn\u001b[0m\u001b[0;34m(\u001b[0m\u001b[0;34m*\u001b[0m\u001b[0margs\u001b[0m\u001b[0;34m,\u001b[0m \u001b[0;34m**\u001b[0m\u001b[0mkwargs\u001b[0m\u001b[0;34m)\u001b[0m\u001b[0;34m\u001b[0m\u001b[0;34m\u001b[0m\u001b[0m\n\u001b[0m\u001b[1;32m   2404\u001b[0m             \u001b[0;32mreturn\u001b[0m \u001b[0mresult\u001b[0m\u001b[0;34m\u001b[0m\u001b[0;34m\u001b[0m\u001b[0m\n\u001b[1;32m   2405\u001b[0m \u001b[0;34m\u001b[0m\u001b[0m\n",
      "\u001b[0;32m/srv/conda/envs/env_intaros/lib/python3.7/site-packages/decorator.py\u001b[0m in \u001b[0;36mfun\u001b[0;34m(*args, **kw)\u001b[0m\n\u001b[1;32m    230\u001b[0m             \u001b[0;32mif\u001b[0m \u001b[0;32mnot\u001b[0m \u001b[0mkwsyntax\u001b[0m\u001b[0;34m:\u001b[0m\u001b[0;34m\u001b[0m\u001b[0;34m\u001b[0m\u001b[0m\n\u001b[1;32m    231\u001b[0m                 \u001b[0margs\u001b[0m\u001b[0;34m,\u001b[0m \u001b[0mkw\u001b[0m \u001b[0;34m=\u001b[0m \u001b[0mfix\u001b[0m\u001b[0;34m(\u001b[0m\u001b[0margs\u001b[0m\u001b[0;34m,\u001b[0m \u001b[0mkw\u001b[0m\u001b[0;34m,\u001b[0m \u001b[0msig\u001b[0m\u001b[0;34m)\u001b[0m\u001b[0;34m\u001b[0m\u001b[0;34m\u001b[0m\u001b[0m\n\u001b[0;32m--> 232\u001b[0;31m             \u001b[0;32mreturn\u001b[0m \u001b[0mcaller\u001b[0m\u001b[0;34m(\u001b[0m\u001b[0mfunc\u001b[0m\u001b[0;34m,\u001b[0m \u001b[0;34m*\u001b[0m\u001b[0;34m(\u001b[0m\u001b[0mextras\u001b[0m \u001b[0;34m+\u001b[0m \u001b[0margs\u001b[0m\u001b[0;34m)\u001b[0m\u001b[0;34m,\u001b[0m \u001b[0;34m**\u001b[0m\u001b[0mkw\u001b[0m\u001b[0;34m)\u001b[0m\u001b[0;34m\u001b[0m\u001b[0;34m\u001b[0m\u001b[0m\n\u001b[0m\u001b[1;32m    233\u001b[0m     \u001b[0mfun\u001b[0m\u001b[0;34m.\u001b[0m\u001b[0m__name__\u001b[0m \u001b[0;34m=\u001b[0m \u001b[0mfunc\u001b[0m\u001b[0;34m.\u001b[0m\u001b[0m__name__\u001b[0m\u001b[0;34m\u001b[0m\u001b[0;34m\u001b[0m\u001b[0m\n\u001b[1;32m    234\u001b[0m     \u001b[0mfun\u001b[0m\u001b[0;34m.\u001b[0m\u001b[0m__doc__\u001b[0m \u001b[0;34m=\u001b[0m \u001b[0mfunc\u001b[0m\u001b[0;34m.\u001b[0m\u001b[0m__doc__\u001b[0m\u001b[0;34m\u001b[0m\u001b[0;34m\u001b[0m\u001b[0m\n",
      "\u001b[0;32m/srv/conda/envs/env_intaros/lib/python3.7/site-packages/IPython/core/magic.py\u001b[0m in \u001b[0;36m<lambda>\u001b[0;34m(f, *a, **k)\u001b[0m\n\u001b[1;32m    185\u001b[0m     \u001b[0;31m# but it's overkill for just that one bit of state.\u001b[0m\u001b[0;34m\u001b[0m\u001b[0;34m\u001b[0m\u001b[0;34m\u001b[0m\u001b[0m\n\u001b[1;32m    186\u001b[0m     \u001b[0;32mdef\u001b[0m \u001b[0mmagic_deco\u001b[0m\u001b[0;34m(\u001b[0m\u001b[0marg\u001b[0m\u001b[0;34m)\u001b[0m\u001b[0;34m:\u001b[0m\u001b[0;34m\u001b[0m\u001b[0;34m\u001b[0m\u001b[0m\n\u001b[0;32m--> 187\u001b[0;31m         \u001b[0mcall\u001b[0m \u001b[0;34m=\u001b[0m \u001b[0;32mlambda\u001b[0m \u001b[0mf\u001b[0m\u001b[0;34m,\u001b[0m \u001b[0;34m*\u001b[0m\u001b[0ma\u001b[0m\u001b[0;34m,\u001b[0m \u001b[0;34m**\u001b[0m\u001b[0mk\u001b[0m\u001b[0;34m:\u001b[0m \u001b[0mf\u001b[0m\u001b[0;34m(\u001b[0m\u001b[0;34m*\u001b[0m\u001b[0ma\u001b[0m\u001b[0;34m,\u001b[0m \u001b[0;34m**\u001b[0m\u001b[0mk\u001b[0m\u001b[0;34m)\u001b[0m\u001b[0;34m\u001b[0m\u001b[0;34m\u001b[0m\u001b[0m\n\u001b[0m\u001b[1;32m    188\u001b[0m \u001b[0;34m\u001b[0m\u001b[0m\n\u001b[1;32m    189\u001b[0m         \u001b[0;32mif\u001b[0m \u001b[0mcallable\u001b[0m\u001b[0;34m(\u001b[0m\u001b[0marg\u001b[0m\u001b[0;34m)\u001b[0m\u001b[0;34m:\u001b[0m\u001b[0;34m\u001b[0m\u001b[0;34m\u001b[0m\u001b[0m\n",
      "\u001b[0;32m/srv/conda/envs/env_intaros/lib/python3.7/site-packages/rpy2/ipython/rmagic.py\u001b[0m in \u001b[0;36mR\u001b[0;34m(self, line, cell, local_ns)\u001b[0m\n\u001b[1;32m    781\u001b[0m             \u001b[0;32mif\u001b[0m \u001b[0;32mnot\u001b[0m \u001b[0me\u001b[0m\u001b[0;34m.\u001b[0m\u001b[0mstdout\u001b[0m\u001b[0;34m.\u001b[0m\u001b[0mendswith\u001b[0m\u001b[0;34m(\u001b[0m\u001b[0me\u001b[0m\u001b[0;34m.\u001b[0m\u001b[0merr\u001b[0m\u001b[0;34m)\u001b[0m\u001b[0;34m:\u001b[0m\u001b[0;34m\u001b[0m\u001b[0;34m\u001b[0m\u001b[0m\n\u001b[1;32m    782\u001b[0m                 \u001b[0mprint\u001b[0m\u001b[0;34m(\u001b[0m\u001b[0me\u001b[0m\u001b[0;34m.\u001b[0m\u001b[0merr\u001b[0m\u001b[0;34m)\u001b[0m\u001b[0;34m\u001b[0m\u001b[0;34m\u001b[0m\u001b[0m\n\u001b[0;32m--> 783\u001b[0;31m             \u001b[0;32mraise\u001b[0m \u001b[0me\u001b[0m\u001b[0;34m\u001b[0m\u001b[0;34m\u001b[0m\u001b[0m\n\u001b[0m\u001b[1;32m    784\u001b[0m         \u001b[0;32mfinally\u001b[0m\u001b[0;34m:\u001b[0m\u001b[0;34m\u001b[0m\u001b[0;34m\u001b[0m\u001b[0m\n\u001b[1;32m    785\u001b[0m             \u001b[0;32mif\u001b[0m \u001b[0mself\u001b[0m\u001b[0;34m.\u001b[0m\u001b[0mdevice\u001b[0m \u001b[0;32min\u001b[0m \u001b[0;34m[\u001b[0m\u001b[0;34m'png'\u001b[0m\u001b[0;34m,\u001b[0m \u001b[0;34m'svg'\u001b[0m\u001b[0;34m]\u001b[0m\u001b[0;34m:\u001b[0m\u001b[0;34m\u001b[0m\u001b[0;34m\u001b[0m\u001b[0m\n",
      "\u001b[0;32m/srv/conda/envs/env_intaros/lib/python3.7/site-packages/rpy2/ipython/rmagic.py\u001b[0m in \u001b[0;36mR\u001b[0;34m(self, line, cell, local_ns)\u001b[0m\n\u001b[1;32m    761\u001b[0m                     \u001b[0mreturn_output\u001b[0m \u001b[0;34m=\u001b[0m \u001b[0;32mFalse\u001b[0m\u001b[0;34m\u001b[0m\u001b[0;34m\u001b[0m\u001b[0m\n\u001b[1;32m    762\u001b[0m             \u001b[0;32melse\u001b[0m\u001b[0;34m:\u001b[0m\u001b[0;34m\u001b[0m\u001b[0;34m\u001b[0m\u001b[0m\n\u001b[0;32m--> 763\u001b[0;31m                 \u001b[0mtext_result\u001b[0m\u001b[0;34m,\u001b[0m \u001b[0mresult\u001b[0m\u001b[0;34m,\u001b[0m \u001b[0mvisible\u001b[0m \u001b[0;34m=\u001b[0m \u001b[0mself\u001b[0m\u001b[0;34m.\u001b[0m\u001b[0meval\u001b[0m\u001b[0;34m(\u001b[0m\u001b[0mcode\u001b[0m\u001b[0;34m)\u001b[0m\u001b[0;34m\u001b[0m\u001b[0;34m\u001b[0m\u001b[0m\n\u001b[0m\u001b[1;32m    764\u001b[0m                 \u001b[0mtext_output\u001b[0m \u001b[0;34m+=\u001b[0m \u001b[0mtext_result\u001b[0m\u001b[0;34m\u001b[0m\u001b[0;34m\u001b[0m\u001b[0m\n\u001b[1;32m    765\u001b[0m                 \u001b[0;32mif\u001b[0m \u001b[0mvisible\u001b[0m\u001b[0;34m:\u001b[0m\u001b[0;34m\u001b[0m\u001b[0;34m\u001b[0m\u001b[0m\n",
      "\u001b[0;32m/srv/conda/envs/env_intaros/lib/python3.7/site-packages/rpy2/ipython/rmagic.py\u001b[0m in \u001b[0;36meval\u001b[0;34m(self, code)\u001b[0m\n\u001b[1;32m    271\u001b[0m                 \u001b[0mwarning_or_other_msg\u001b[0m \u001b[0;34m=\u001b[0m \u001b[0mself\u001b[0m\u001b[0;34m.\u001b[0m\u001b[0mflush\u001b[0m\u001b[0;34m(\u001b[0m\u001b[0;34m)\u001b[0m\u001b[0;34m\u001b[0m\u001b[0;34m\u001b[0m\u001b[0m\n\u001b[1;32m    272\u001b[0m                 raise RInterpreterError(code, str(exception),\n\u001b[0;32m--> 273\u001b[0;31m                                         warning_or_other_msg)\n\u001b[0m\u001b[1;32m    274\u001b[0m             \u001b[0mtext_output\u001b[0m \u001b[0;34m=\u001b[0m \u001b[0mself\u001b[0m\u001b[0;34m.\u001b[0m\u001b[0mflush\u001b[0m\u001b[0;34m(\u001b[0m\u001b[0;34m)\u001b[0m\u001b[0;34m\u001b[0m\u001b[0;34m\u001b[0m\u001b[0m\n\u001b[1;32m    275\u001b[0m             \u001b[0;32mreturn\u001b[0m \u001b[0mtext_output\u001b[0m\u001b[0;34m,\u001b[0m \u001b[0mvalue\u001b[0m\u001b[0;34m,\u001b[0m \u001b[0mvisible\u001b[0m\u001b[0;34m[\u001b[0m\u001b[0;36m0\u001b[0m\u001b[0;34m]\u001b[0m\u001b[0;34m\u001b[0m\u001b[0;34m\u001b[0m\u001b[0m\n",
      "\u001b[0;31mRInterpreterError\u001b[0m: Failed to parse and evaluate line '# Define the active samples\\ndepth_lim = c(depth1,depth2)\\ndbr       = apply_sel(dbreg, depth_lim = depth_lim, compress = TRUE)\\ndbr       = db.locate(dbr,var,\"z\")\\n\\n# Variogram parameters\\nvario_lag  = 1\\nvario_nlag = 20\\n\\n# Loop on the years\\necr = 1\\nadd = FALSE\\nfor (year in years) \\n{\\n  date_lim = create_limits_date(year)\\n  dbr = remove_sel(dbr)\\n  dbr = apply_sel(dbr, date_lim = date_lim)\\n\\n  vario = prepar_vario(dbr, dirvect=NA, \\n                       vario_lag = vario_lag, vario_nlag = vario_nlag, draw.vario=TRUE,\\n                       add=add, ylim=c(0,varmax), col=colyears[ecr], lwd=1,\\n                       varline=FALSE, npairdw=TRUE)\\n\\n  ecr = ecr + 1\\n  add = TRUE\\n}\\nlegend(\"right\",legend=years,col=colyears,lty=1,lwd=2,cex=0.8)\\n'.\nR error message: \"Error in detach(db[]) : invalid 'name' argument\""
     ]
    }
   ],
   "source": [
    "%%R\n",
    "# Define the active samples\n",
    "depth_lim = c(depth1,depth2)\n",
    "dbr       = apply_sel(dbreg, depth_lim = depth_lim, compress = TRUE)\n",
    "dbr       = db.locate(dbr,var,\"z\")\n",
    "\n",
    "# Variogram parameters\n",
    "vario_lag  = 1\n",
    "vario_nlag = 20\n",
    "\n",
    "# Loop on the years\n",
    "ecr = 1\n",
    "add = FALSE\n",
    "for (year in years) \n",
    "{\n",
    "  date_lim = create_limits_date(year)\n",
    "  dbr = remove_sel(dbr)\n",
    "  dbr = apply_sel(dbr, date_lim = date_lim)\n",
    "\n",
    "  vario = prepar_vario(dbr, dirvect=NA, \n",
    "                       vario_lag = vario_lag, vario_nlag = vario_nlag, draw.vario=TRUE,\n",
    "                       add=add, ylim=c(0,varmax), col=colyears[ecr], lwd=1,\n",
    "                       varline=FALSE, npairdw=TRUE)\n",
    "\n",
    "  ecr = ecr + 1\n",
    "  add = TRUE\n",
    "}\n",
    "legend(\"right\",legend=years,col=colyears,lty=1,lwd=2,cex=0.8)"
   ]
  },
  {
   "cell_type": "markdown",
   "metadata": {},
   "source": [
    "## Cross-Validation\n",
    "\n",
    "We first perform a cross-validation step"
   ]
  },
  {
   "cell_type": "code",
   "execution_count": 119,
   "metadata": {
    "attributes": {
     "": "",
     "classes": [],
     "id": ""
    }
   },
   "outputs": [
    {
     "name": "stderr",
     "output_type": "stream",
     "text": [
      "R[write to console]: Error in attach(db[], warn.conflicts = FALSE) : object 'dbreg' not found\n",
      "\n",
      "R[write to console]: Error in detach(db[]) : invalid 'name' argument\n",
      "\n"
     ]
    },
    {
     "name": "stdout",
     "output_type": "stream",
     "text": [
      "\n",
      "Error in detach(db[]) : invalid 'name' argument\n"
     ]
    },
    {
     "ename": "RInterpreterError",
     "evalue": "Failed to parse and evaluate line '# Define the active samples\\ndepth_lim = c(depth1,depth2)\\ndate_lim  = create_limits_date(year, trimester=2)\\ndbr       = apply_sel(dbreg, depth_lim = depth_lim, date_lim = date_lim, compress = TRUE)\\n\\n# Variogram parameters\\nvario_lag  = 1\\nvario_nlag = 20\\n\\n# Perform the Cross-validation (includes Variogram calculation and Model fitting)\\ndbp = xvalid_2D(dbr, var,  \\n                vario_lag = vario_lag, vario_nlag = vario_nlag, struct = c(1,3,5,12), \\n                dirvect = NA, draw.model=TRUE, radix=\"Xvalid\")\\ndb.stat.print(dbp,names=\"Xvalid*\",funs=c(\"num\",\"mean\",\"var\"),title=\"Cross-Validation Scores\")\\n\\n# Display the results\\nfilename  = paste0(\"Xvalid_\",var)\\ndisplay_var(dbp, var = \"*stderr\", flag.xvalid = TRUE, colors = rainbow(100),\\n            title = var, filename = filename, pos.legend=7)\\n'.\nR error message: \"Error in detach(db[]) : invalid 'name' argument\"",
     "output_type": "error",
     "traceback": [
      "\u001b[0;31m---------------------------------------------------------------------------\u001b[0m",
      "\u001b[0;31mRRuntimeError\u001b[0m                             Traceback (most recent call last)",
      "\u001b[0;32m/srv/conda/envs/env_intaros/lib/python3.7/site-packages/rpy2/ipython/rmagic.py\u001b[0m in \u001b[0;36meval\u001b[0;34m(self, code)\u001b[0m\n\u001b[1;32m    267\u001b[0m                 \u001b[0;31m# Need the newline in case the last line in code is a comment.\u001b[0m\u001b[0;34m\u001b[0m\u001b[0;34m\u001b[0m\u001b[0;34m\u001b[0m\u001b[0m\n\u001b[0;32m--> 268\u001b[0;31m                 \u001b[0mvalue\u001b[0m\u001b[0;34m,\u001b[0m \u001b[0mvisible\u001b[0m \u001b[0;34m=\u001b[0m \u001b[0mro\u001b[0m\u001b[0;34m.\u001b[0m\u001b[0mr\u001b[0m\u001b[0;34m(\u001b[0m\u001b[0;34m\"withVisible({%s\\n})\"\u001b[0m \u001b[0;34m%\u001b[0m \u001b[0mcode\u001b[0m\u001b[0;34m)\u001b[0m\u001b[0;34m\u001b[0m\u001b[0;34m\u001b[0m\u001b[0m\n\u001b[0m\u001b[1;32m    269\u001b[0m             \u001b[0;32mexcept\u001b[0m \u001b[0;34m(\u001b[0m\u001b[0mri\u001b[0m\u001b[0;34m.\u001b[0m\u001b[0membedded\u001b[0m\u001b[0;34m.\u001b[0m\u001b[0mRRuntimeError\u001b[0m\u001b[0;34m,\u001b[0m \u001b[0mValueError\u001b[0m\u001b[0;34m)\u001b[0m \u001b[0;32mas\u001b[0m \u001b[0mexception\u001b[0m\u001b[0;34m:\u001b[0m\u001b[0;34m\u001b[0m\u001b[0;34m\u001b[0m\u001b[0m\n",
      "\u001b[0;32m/srv/conda/envs/env_intaros/lib/python3.7/site-packages/rpy2/robjects/__init__.py\u001b[0m in \u001b[0;36m__call__\u001b[0;34m(self, string)\u001b[0m\n\u001b[1;32m    437\u001b[0m         \u001b[0mp\u001b[0m \u001b[0;34m=\u001b[0m \u001b[0mrinterface\u001b[0m\u001b[0;34m.\u001b[0m\u001b[0mparse\u001b[0m\u001b[0;34m(\u001b[0m\u001b[0mstring\u001b[0m\u001b[0;34m)\u001b[0m\u001b[0;34m\u001b[0m\u001b[0;34m\u001b[0m\u001b[0m\n\u001b[0;32m--> 438\u001b[0;31m         \u001b[0mres\u001b[0m \u001b[0;34m=\u001b[0m \u001b[0mself\u001b[0m\u001b[0;34m.\u001b[0m\u001b[0meval\u001b[0m\u001b[0;34m(\u001b[0m\u001b[0mp\u001b[0m\u001b[0;34m)\u001b[0m\u001b[0;34m\u001b[0m\u001b[0;34m\u001b[0m\u001b[0m\n\u001b[0m\u001b[1;32m    439\u001b[0m         \u001b[0;32mreturn\u001b[0m \u001b[0mconversion\u001b[0m\u001b[0;34m.\u001b[0m\u001b[0mrpy2py\u001b[0m\u001b[0;34m(\u001b[0m\u001b[0mres\u001b[0m\u001b[0;34m)\u001b[0m\u001b[0;34m\u001b[0m\u001b[0;34m\u001b[0m\u001b[0m\n",
      "\u001b[0;32m/srv/conda/envs/env_intaros/lib/python3.7/site-packages/rpy2/robjects/functions.py\u001b[0m in \u001b[0;36m__call__\u001b[0;34m(self, *args, **kwargs)\u001b[0m\n\u001b[1;32m    198\u001b[0m         return (super(SignatureTranslatedFunction, self)\n\u001b[0;32m--> 199\u001b[0;31m                 .__call__(*args, **kwargs))\n\u001b[0m\u001b[1;32m    200\u001b[0m \u001b[0;34m\u001b[0m\u001b[0m\n",
      "\u001b[0;32m/srv/conda/envs/env_intaros/lib/python3.7/site-packages/rpy2/robjects/functions.py\u001b[0m in \u001b[0;36m__call__\u001b[0;34m(self, *args, **kwargs)\u001b[0m\n\u001b[1;32m    124\u001b[0m                 \u001b[0mnew_kwargs\u001b[0m\u001b[0;34m[\u001b[0m\u001b[0mk\u001b[0m\u001b[0;34m]\u001b[0m \u001b[0;34m=\u001b[0m \u001b[0mconversion\u001b[0m\u001b[0;34m.\u001b[0m\u001b[0mpy2rpy\u001b[0m\u001b[0;34m(\u001b[0m\u001b[0mv\u001b[0m\u001b[0;34m)\u001b[0m\u001b[0;34m\u001b[0m\u001b[0;34m\u001b[0m\u001b[0m\n\u001b[0;32m--> 125\u001b[0;31m         \u001b[0mres\u001b[0m \u001b[0;34m=\u001b[0m \u001b[0msuper\u001b[0m\u001b[0;34m(\u001b[0m\u001b[0mFunction\u001b[0m\u001b[0;34m,\u001b[0m \u001b[0mself\u001b[0m\u001b[0;34m)\u001b[0m\u001b[0;34m.\u001b[0m\u001b[0m__call__\u001b[0m\u001b[0;34m(\u001b[0m\u001b[0;34m*\u001b[0m\u001b[0mnew_args\u001b[0m\u001b[0;34m,\u001b[0m \u001b[0;34m**\u001b[0m\u001b[0mnew_kwargs\u001b[0m\u001b[0;34m)\u001b[0m\u001b[0;34m\u001b[0m\u001b[0;34m\u001b[0m\u001b[0m\n\u001b[0m\u001b[1;32m    126\u001b[0m         \u001b[0mres\u001b[0m \u001b[0;34m=\u001b[0m \u001b[0mconversion\u001b[0m\u001b[0;34m.\u001b[0m\u001b[0mrpy2py\u001b[0m\u001b[0;34m(\u001b[0m\u001b[0mres\u001b[0m\u001b[0;34m)\u001b[0m\u001b[0;34m\u001b[0m\u001b[0;34m\u001b[0m\u001b[0m\n",
      "\u001b[0;32m/srv/conda/envs/env_intaros/lib/python3.7/site-packages/rpy2/rinterface_lib/conversion.py\u001b[0m in \u001b[0;36m_\u001b[0;34m(*args, **kwargs)\u001b[0m\n\u001b[1;32m     44\u001b[0m     \u001b[0;32mdef\u001b[0m \u001b[0m_\u001b[0m\u001b[0;34m(\u001b[0m\u001b[0;34m*\u001b[0m\u001b[0margs\u001b[0m\u001b[0;34m,\u001b[0m \u001b[0;34m**\u001b[0m\u001b[0mkwargs\u001b[0m\u001b[0;34m)\u001b[0m\u001b[0;34m:\u001b[0m\u001b[0;34m\u001b[0m\u001b[0;34m\u001b[0m\u001b[0m\n\u001b[0;32m---> 45\u001b[0;31m         \u001b[0mcdata\u001b[0m \u001b[0;34m=\u001b[0m \u001b[0mfunction\u001b[0m\u001b[0;34m(\u001b[0m\u001b[0;34m*\u001b[0m\u001b[0margs\u001b[0m\u001b[0;34m,\u001b[0m \u001b[0;34m**\u001b[0m\u001b[0mkwargs\u001b[0m\u001b[0;34m)\u001b[0m\u001b[0;34m\u001b[0m\u001b[0;34m\u001b[0m\u001b[0m\n\u001b[0m\u001b[1;32m     46\u001b[0m         \u001b[0;31m# TODO: test cdata is of the expected CType\u001b[0m\u001b[0;34m\u001b[0m\u001b[0;34m\u001b[0m\u001b[0;34m\u001b[0m\u001b[0m\n",
      "\u001b[0;32m/srv/conda/envs/env_intaros/lib/python3.7/site-packages/rpy2/rinterface.py\u001b[0m in \u001b[0;36m__call__\u001b[0;34m(self, *args, **kwargs)\u001b[0m\n\u001b[1;32m    679\u001b[0m             \u001b[0;32mif\u001b[0m \u001b[0merror_occured\u001b[0m\u001b[0;34m[\u001b[0m\u001b[0;36m0\u001b[0m\u001b[0;34m]\u001b[0m\u001b[0;34m:\u001b[0m\u001b[0;34m\u001b[0m\u001b[0;34m\u001b[0m\u001b[0m\n\u001b[0;32m--> 680\u001b[0;31m                 \u001b[0;32mraise\u001b[0m \u001b[0membedded\u001b[0m\u001b[0;34m.\u001b[0m\u001b[0mRRuntimeError\u001b[0m\u001b[0;34m(\u001b[0m\u001b[0m_rinterface\u001b[0m\u001b[0;34m.\u001b[0m\u001b[0m_geterrmessage\u001b[0m\u001b[0;34m(\u001b[0m\u001b[0;34m)\u001b[0m\u001b[0;34m)\u001b[0m\u001b[0;34m\u001b[0m\u001b[0;34m\u001b[0m\u001b[0m\n\u001b[0m\u001b[1;32m    681\u001b[0m         \u001b[0;32mreturn\u001b[0m \u001b[0mres\u001b[0m\u001b[0;34m\u001b[0m\u001b[0;34m\u001b[0m\u001b[0m\n",
      "\u001b[0;31mRRuntimeError\u001b[0m: Error in detach(db[]) : invalid 'name' argument\n",
      "\nDuring handling of the above exception, another exception occurred:\n",
      "\u001b[0;31mRInterpreterError\u001b[0m                         Traceback (most recent call last)",
      "\u001b[0;32m<ipython-input-119-634b640055a2>\u001b[0m in \u001b[0;36m<module>\u001b[0;34m\u001b[0m\n\u001b[0;32m----> 1\u001b[0;31m \u001b[0mget_ipython\u001b[0m\u001b[0;34m(\u001b[0m\u001b[0;34m)\u001b[0m\u001b[0;34m.\u001b[0m\u001b[0mrun_cell_magic\u001b[0m\u001b[0;34m(\u001b[0m\u001b[0;34m'R'\u001b[0m\u001b[0;34m,\u001b[0m \u001b[0;34m''\u001b[0m\u001b[0;34m,\u001b[0m \u001b[0;34m'# Define the active samples\\ndepth_lim = c(depth1,depth2)\\ndate_lim  = create_limits_date(year, trimester=2)\\ndbr       = apply_sel(dbreg, depth_lim = depth_lim, date_lim = date_lim, compress = TRUE)\\n\\n# Variogram parameters\\nvario_lag  = 1\\nvario_nlag = 20\\n\\n# Perform the Cross-validation (includes Variogram calculation and Model fitting)\\ndbp = xvalid_2D(dbr, var,  \\n                vario_lag = vario_lag, vario_nlag = vario_nlag, struct = c(1,3,5,12), \\n                dirvect = NA, draw.model=TRUE, radix=\"Xvalid\")\\ndb.stat.print(dbp,names=\"Xvalid*\",funs=c(\"num\",\"mean\",\"var\"),title=\"Cross-Validation Scores\")\\n\\n# Display the results\\nfilename  = paste0(\"Xvalid_\",var)\\ndisplay_var(dbp, var = \"*stderr\", flag.xvalid = TRUE, colors = rainbow(100),\\n            title = var, filename = filename, pos.legend=7)\\n'\u001b[0m\u001b[0;34m)\u001b[0m\u001b[0;34m\u001b[0m\u001b[0;34m\u001b[0m\u001b[0m\n\u001b[0m",
      "\u001b[0;32m/srv/conda/envs/env_intaros/lib/python3.7/site-packages/IPython/core/interactiveshell.py\u001b[0m in \u001b[0;36mrun_cell_magic\u001b[0;34m(self, magic_name, line, cell)\u001b[0m\n\u001b[1;32m   2401\u001b[0m             \u001b[0;32mwith\u001b[0m \u001b[0mself\u001b[0m\u001b[0;34m.\u001b[0m\u001b[0mbuiltin_trap\u001b[0m\u001b[0;34m:\u001b[0m\u001b[0;34m\u001b[0m\u001b[0;34m\u001b[0m\u001b[0m\n\u001b[1;32m   2402\u001b[0m                 \u001b[0margs\u001b[0m \u001b[0;34m=\u001b[0m \u001b[0;34m(\u001b[0m\u001b[0mmagic_arg_s\u001b[0m\u001b[0;34m,\u001b[0m \u001b[0mcell\u001b[0m\u001b[0;34m)\u001b[0m\u001b[0;34m\u001b[0m\u001b[0;34m\u001b[0m\u001b[0m\n\u001b[0;32m-> 2403\u001b[0;31m                 \u001b[0mresult\u001b[0m \u001b[0;34m=\u001b[0m \u001b[0mfn\u001b[0m\u001b[0;34m(\u001b[0m\u001b[0;34m*\u001b[0m\u001b[0margs\u001b[0m\u001b[0;34m,\u001b[0m \u001b[0;34m**\u001b[0m\u001b[0mkwargs\u001b[0m\u001b[0;34m)\u001b[0m\u001b[0;34m\u001b[0m\u001b[0;34m\u001b[0m\u001b[0m\n\u001b[0m\u001b[1;32m   2404\u001b[0m             \u001b[0;32mreturn\u001b[0m \u001b[0mresult\u001b[0m\u001b[0;34m\u001b[0m\u001b[0;34m\u001b[0m\u001b[0m\n\u001b[1;32m   2405\u001b[0m \u001b[0;34m\u001b[0m\u001b[0m\n",
      "\u001b[0;32m/srv/conda/envs/env_intaros/lib/python3.7/site-packages/decorator.py\u001b[0m in \u001b[0;36mfun\u001b[0;34m(*args, **kw)\u001b[0m\n\u001b[1;32m    230\u001b[0m             \u001b[0;32mif\u001b[0m \u001b[0;32mnot\u001b[0m \u001b[0mkwsyntax\u001b[0m\u001b[0;34m:\u001b[0m\u001b[0;34m\u001b[0m\u001b[0;34m\u001b[0m\u001b[0m\n\u001b[1;32m    231\u001b[0m                 \u001b[0margs\u001b[0m\u001b[0;34m,\u001b[0m \u001b[0mkw\u001b[0m \u001b[0;34m=\u001b[0m \u001b[0mfix\u001b[0m\u001b[0;34m(\u001b[0m\u001b[0margs\u001b[0m\u001b[0;34m,\u001b[0m \u001b[0mkw\u001b[0m\u001b[0;34m,\u001b[0m \u001b[0msig\u001b[0m\u001b[0;34m)\u001b[0m\u001b[0;34m\u001b[0m\u001b[0;34m\u001b[0m\u001b[0m\n\u001b[0;32m--> 232\u001b[0;31m             \u001b[0;32mreturn\u001b[0m \u001b[0mcaller\u001b[0m\u001b[0;34m(\u001b[0m\u001b[0mfunc\u001b[0m\u001b[0;34m,\u001b[0m \u001b[0;34m*\u001b[0m\u001b[0;34m(\u001b[0m\u001b[0mextras\u001b[0m \u001b[0;34m+\u001b[0m \u001b[0margs\u001b[0m\u001b[0;34m)\u001b[0m\u001b[0;34m,\u001b[0m \u001b[0;34m**\u001b[0m\u001b[0mkw\u001b[0m\u001b[0;34m)\u001b[0m\u001b[0;34m\u001b[0m\u001b[0;34m\u001b[0m\u001b[0m\n\u001b[0m\u001b[1;32m    233\u001b[0m     \u001b[0mfun\u001b[0m\u001b[0;34m.\u001b[0m\u001b[0m__name__\u001b[0m \u001b[0;34m=\u001b[0m \u001b[0mfunc\u001b[0m\u001b[0;34m.\u001b[0m\u001b[0m__name__\u001b[0m\u001b[0;34m\u001b[0m\u001b[0;34m\u001b[0m\u001b[0m\n\u001b[1;32m    234\u001b[0m     \u001b[0mfun\u001b[0m\u001b[0;34m.\u001b[0m\u001b[0m__doc__\u001b[0m \u001b[0;34m=\u001b[0m \u001b[0mfunc\u001b[0m\u001b[0;34m.\u001b[0m\u001b[0m__doc__\u001b[0m\u001b[0;34m\u001b[0m\u001b[0;34m\u001b[0m\u001b[0m\n",
      "\u001b[0;32m/srv/conda/envs/env_intaros/lib/python3.7/site-packages/IPython/core/magic.py\u001b[0m in \u001b[0;36m<lambda>\u001b[0;34m(f, *a, **k)\u001b[0m\n\u001b[1;32m    185\u001b[0m     \u001b[0;31m# but it's overkill for just that one bit of state.\u001b[0m\u001b[0;34m\u001b[0m\u001b[0;34m\u001b[0m\u001b[0;34m\u001b[0m\u001b[0m\n\u001b[1;32m    186\u001b[0m     \u001b[0;32mdef\u001b[0m \u001b[0mmagic_deco\u001b[0m\u001b[0;34m(\u001b[0m\u001b[0marg\u001b[0m\u001b[0;34m)\u001b[0m\u001b[0;34m:\u001b[0m\u001b[0;34m\u001b[0m\u001b[0;34m\u001b[0m\u001b[0m\n\u001b[0;32m--> 187\u001b[0;31m         \u001b[0mcall\u001b[0m \u001b[0;34m=\u001b[0m \u001b[0;32mlambda\u001b[0m \u001b[0mf\u001b[0m\u001b[0;34m,\u001b[0m \u001b[0;34m*\u001b[0m\u001b[0ma\u001b[0m\u001b[0;34m,\u001b[0m \u001b[0;34m**\u001b[0m\u001b[0mk\u001b[0m\u001b[0;34m:\u001b[0m \u001b[0mf\u001b[0m\u001b[0;34m(\u001b[0m\u001b[0;34m*\u001b[0m\u001b[0ma\u001b[0m\u001b[0;34m,\u001b[0m \u001b[0;34m**\u001b[0m\u001b[0mk\u001b[0m\u001b[0;34m)\u001b[0m\u001b[0;34m\u001b[0m\u001b[0;34m\u001b[0m\u001b[0m\n\u001b[0m\u001b[1;32m    188\u001b[0m \u001b[0;34m\u001b[0m\u001b[0m\n\u001b[1;32m    189\u001b[0m         \u001b[0;32mif\u001b[0m \u001b[0mcallable\u001b[0m\u001b[0;34m(\u001b[0m\u001b[0marg\u001b[0m\u001b[0;34m)\u001b[0m\u001b[0;34m:\u001b[0m\u001b[0;34m\u001b[0m\u001b[0;34m\u001b[0m\u001b[0m\n",
      "\u001b[0;32m/srv/conda/envs/env_intaros/lib/python3.7/site-packages/rpy2/ipython/rmagic.py\u001b[0m in \u001b[0;36mR\u001b[0;34m(self, line, cell, local_ns)\u001b[0m\n\u001b[1;32m    781\u001b[0m             \u001b[0;32mif\u001b[0m \u001b[0;32mnot\u001b[0m \u001b[0me\u001b[0m\u001b[0;34m.\u001b[0m\u001b[0mstdout\u001b[0m\u001b[0;34m.\u001b[0m\u001b[0mendswith\u001b[0m\u001b[0;34m(\u001b[0m\u001b[0me\u001b[0m\u001b[0;34m.\u001b[0m\u001b[0merr\u001b[0m\u001b[0;34m)\u001b[0m\u001b[0;34m:\u001b[0m\u001b[0;34m\u001b[0m\u001b[0;34m\u001b[0m\u001b[0m\n\u001b[1;32m    782\u001b[0m                 \u001b[0mprint\u001b[0m\u001b[0;34m(\u001b[0m\u001b[0me\u001b[0m\u001b[0;34m.\u001b[0m\u001b[0merr\u001b[0m\u001b[0;34m)\u001b[0m\u001b[0;34m\u001b[0m\u001b[0;34m\u001b[0m\u001b[0m\n\u001b[0;32m--> 783\u001b[0;31m             \u001b[0;32mraise\u001b[0m \u001b[0me\u001b[0m\u001b[0;34m\u001b[0m\u001b[0;34m\u001b[0m\u001b[0m\n\u001b[0m\u001b[1;32m    784\u001b[0m         \u001b[0;32mfinally\u001b[0m\u001b[0;34m:\u001b[0m\u001b[0;34m\u001b[0m\u001b[0;34m\u001b[0m\u001b[0m\n\u001b[1;32m    785\u001b[0m             \u001b[0;32mif\u001b[0m \u001b[0mself\u001b[0m\u001b[0;34m.\u001b[0m\u001b[0mdevice\u001b[0m \u001b[0;32min\u001b[0m \u001b[0;34m[\u001b[0m\u001b[0;34m'png'\u001b[0m\u001b[0;34m,\u001b[0m \u001b[0;34m'svg'\u001b[0m\u001b[0;34m]\u001b[0m\u001b[0;34m:\u001b[0m\u001b[0;34m\u001b[0m\u001b[0;34m\u001b[0m\u001b[0m\n",
      "\u001b[0;32m/srv/conda/envs/env_intaros/lib/python3.7/site-packages/rpy2/ipython/rmagic.py\u001b[0m in \u001b[0;36mR\u001b[0;34m(self, line, cell, local_ns)\u001b[0m\n\u001b[1;32m    761\u001b[0m                     \u001b[0mreturn_output\u001b[0m \u001b[0;34m=\u001b[0m \u001b[0;32mFalse\u001b[0m\u001b[0;34m\u001b[0m\u001b[0;34m\u001b[0m\u001b[0m\n\u001b[1;32m    762\u001b[0m             \u001b[0;32melse\u001b[0m\u001b[0;34m:\u001b[0m\u001b[0;34m\u001b[0m\u001b[0;34m\u001b[0m\u001b[0m\n\u001b[0;32m--> 763\u001b[0;31m                 \u001b[0mtext_result\u001b[0m\u001b[0;34m,\u001b[0m \u001b[0mresult\u001b[0m\u001b[0;34m,\u001b[0m \u001b[0mvisible\u001b[0m \u001b[0;34m=\u001b[0m \u001b[0mself\u001b[0m\u001b[0;34m.\u001b[0m\u001b[0meval\u001b[0m\u001b[0;34m(\u001b[0m\u001b[0mcode\u001b[0m\u001b[0;34m)\u001b[0m\u001b[0;34m\u001b[0m\u001b[0;34m\u001b[0m\u001b[0m\n\u001b[0m\u001b[1;32m    764\u001b[0m                 \u001b[0mtext_output\u001b[0m \u001b[0;34m+=\u001b[0m \u001b[0mtext_result\u001b[0m\u001b[0;34m\u001b[0m\u001b[0;34m\u001b[0m\u001b[0m\n\u001b[1;32m    765\u001b[0m                 \u001b[0;32mif\u001b[0m \u001b[0mvisible\u001b[0m\u001b[0;34m:\u001b[0m\u001b[0;34m\u001b[0m\u001b[0;34m\u001b[0m\u001b[0m\n",
      "\u001b[0;32m/srv/conda/envs/env_intaros/lib/python3.7/site-packages/rpy2/ipython/rmagic.py\u001b[0m in \u001b[0;36meval\u001b[0;34m(self, code)\u001b[0m\n\u001b[1;32m    271\u001b[0m                 \u001b[0mwarning_or_other_msg\u001b[0m \u001b[0;34m=\u001b[0m \u001b[0mself\u001b[0m\u001b[0;34m.\u001b[0m\u001b[0mflush\u001b[0m\u001b[0;34m(\u001b[0m\u001b[0;34m)\u001b[0m\u001b[0;34m\u001b[0m\u001b[0;34m\u001b[0m\u001b[0m\n\u001b[1;32m    272\u001b[0m                 raise RInterpreterError(code, str(exception),\n\u001b[0;32m--> 273\u001b[0;31m                                         warning_or_other_msg)\n\u001b[0m\u001b[1;32m    274\u001b[0m             \u001b[0mtext_output\u001b[0m \u001b[0;34m=\u001b[0m \u001b[0mself\u001b[0m\u001b[0;34m.\u001b[0m\u001b[0mflush\u001b[0m\u001b[0;34m(\u001b[0m\u001b[0;34m)\u001b[0m\u001b[0;34m\u001b[0m\u001b[0;34m\u001b[0m\u001b[0m\n\u001b[1;32m    275\u001b[0m             \u001b[0;32mreturn\u001b[0m \u001b[0mtext_output\u001b[0m\u001b[0;34m,\u001b[0m \u001b[0mvalue\u001b[0m\u001b[0;34m,\u001b[0m \u001b[0mvisible\u001b[0m\u001b[0;34m[\u001b[0m\u001b[0;36m0\u001b[0m\u001b[0;34m]\u001b[0m\u001b[0;34m\u001b[0m\u001b[0;34m\u001b[0m\u001b[0m\n",
      "\u001b[0;31mRInterpreterError\u001b[0m: Failed to parse and evaluate line '# Define the active samples\\ndepth_lim = c(depth1,depth2)\\ndate_lim  = create_limits_date(year, trimester=2)\\ndbr       = apply_sel(dbreg, depth_lim = depth_lim, date_lim = date_lim, compress = TRUE)\\n\\n# Variogram parameters\\nvario_lag  = 1\\nvario_nlag = 20\\n\\n# Perform the Cross-validation (includes Variogram calculation and Model fitting)\\ndbp = xvalid_2D(dbr, var,  \\n                vario_lag = vario_lag, vario_nlag = vario_nlag, struct = c(1,3,5,12), \\n                dirvect = NA, draw.model=TRUE, radix=\"Xvalid\")\\ndb.stat.print(dbp,names=\"Xvalid*\",funs=c(\"num\",\"mean\",\"var\"),title=\"Cross-Validation Scores\")\\n\\n# Display the results\\nfilename  = paste0(\"Xvalid_\",var)\\ndisplay_var(dbp, var = \"*stderr\", flag.xvalid = TRUE, colors = rainbow(100),\\n            title = var, filename = filename, pos.legend=7)\\n'.\nR error message: \"Error in detach(db[]) : invalid 'name' argument\""
     ]
    }
   ],
   "source": [
    "%%R \n",
    "# Define the active samples\n",
    "depth_lim = c(depth1,depth2)\n",
    "date_lim  = create_limits_date(year, trimester=2)\n",
    "dbr       = apply_sel(dbreg, depth_lim = depth_lim, date_lim = date_lim, compress = TRUE)\n",
    "\n",
    "# Variogram parameters\n",
    "vario_lag  = 1\n",
    "vario_nlag = 20\n",
    "\n",
    "# Perform the Cross-validation (includes Variogram calculation and Model fitting)\n",
    "dbp = xvalid_2D(dbr, var,  \n",
    "                vario_lag = vario_lag, vario_nlag = vario_nlag, struct = c(1,3,5,12), \n",
    "                dirvect = NA, draw.model=TRUE, radix=\"Xvalid\")\n",
    "db.stat.print(dbp,names=\"Xvalid*\",funs=c(\"num\",\"mean\",\"var\"),title=\"Cross-Validation Scores\")\n",
    "\n",
    "# Display the results\n",
    "filename  = paste0(\"Xvalid_\",var)\n",
    "display_var(dbp, var = \"*stderr\", flag.xvalid = TRUE, colors = rainbow(100),\n",
    "            title = var, filename = filename, pos.legend=7)"
   ]
  },
  {
   "cell_type": "markdown",
   "metadata": {},
   "source": [
    "## 2-D Estimation of Temperature\n",
    "\n",
    "We interpolate the Temperature for the second trimester of year 2008, at the depth of 25m. This interpolation starts from the aggregated data."
   ]
  },
  {
   "cell_type": "code",
   "execution_count": null,
   "metadata": {
    "attributes": {
     "": "",
     "classes": [],
     "id": ""
    }
   },
   "outputs": [],
   "source": [
    "%%R \n",
    "# Select the active samples\n",
    "depth = 7\n",
    "\n",
    "depth_lim = c(depth1,depth2)\n",
    "date_lim  = create_limits_date(year, trimester=2)\n",
    "dbr       = apply_sel(dbreg, depth_lim = depth_lim, date_lim = date_lim, compress = TRUE)\n",
    "\n",
    "# Variogram parameters\n",
    "vario_lag  = 1\n",
    "vario_nlag = 20\n",
    "\n",
    "# Perform the interpolation (includes Variogram calculation and Model fitting)\n",
    "dbg = interpolate_2D(dbr, var, mesh = 0.1, \n",
    "                     vario_lag = vario_lag, vario_nlag = vario_nlag, struct = c(1,3,5,12), \n",
    "                     dirvect = NA, draw.model=TRUE, pos.legend=1)\n",
    "\n",
    "# Display the results\n",
    "filename  = paste0(var,\".Estim2D_Year_\",year)\n",
    "display_result(dbr, dbg, var = var, depth = depth, flag.estim = TRUE, \n",
    "               colors = colors.temp, filename = filename, pos.legend=7)"
   ]
  },
  {
   "cell_type": "markdown",
   "metadata": {},
   "source": [
    "## Moving Neighborhood\n",
    "\n",
    "Using the moving neighborhood instead (same environment)"
   ]
  },
  {
   "cell_type": "code",
   "execution_count": null,
   "metadata": {
    "attributes": {
     "": "",
     "classes": [],
     "id": ""
    }
   },
   "outputs": [],
   "source": [
    "%%R \n",
    "depth = 7\n",
    "\n",
    "# Select the active samples\n",
    "depth_lim = c(depth,depth)\n",
    "date_lim  = create_limits_date(year, trimester=2)\n",
    "dbr       = apply_sel(dbreg, depth_lim = depth_lim, date_lim = date_lim, compress = TRUE)\n",
    "\n",
    "# Variogram parameters\n",
    "vario_lag  = 1\n",
    "vario_nlag = 20\n",
    "\n",
    "# Perform the interpolation (includes Variogram calculation and Model fitting)\n",
    "dbg = interpolate_2D(dbr, var, mesh = 0.1, moving = TRUE,\n",
    "                     vario_lag = vario_lag, vario_nlag = vario_nlag, struct = c(1,3,5,12), \n",
    "                     dirvect = NA, draw.model=TRUE, pos.legend=1)\n",
    "\n",
    "# Display the results\n",
    "filename  = paste0(var,\".Estim2D_M_Year_\",year)\n",
    "display_result(dbr, dbg, var = var, depth = depth, flag.estim = TRUE, \n",
    "               colors = colors.temp, filename = filename, pos.legend=7)"
   ]
  },
  {
   "cell_type": "markdown",
   "metadata": {},
   "source": [
    "# Studying Salinity variable"
   ]
  },
  {
   "cell_type": "code",
   "execution_count": null,
   "metadata": {},
   "outputs": [],
   "source": []
  }
 ],
 "metadata": {
  "kernelspec": {
   "display_name": "Python [conda env:env_intaros]",
   "language": "python",
   "name": "conda-env-env_intaros-py"
  },
  "language_info": {
   "codemirror_mode": {
    "name": "ipython",
    "version": 3
   },
   "file_extension": ".py",
   "mimetype": "text/x-python",
   "name": "python",
   "nbconvert_exporter": "python",
   "pygments_lexer": "ipython3",
   "version": "3.7.10"
  }
 },
 "nbformat": 4,
 "nbformat_minor": 4
}
