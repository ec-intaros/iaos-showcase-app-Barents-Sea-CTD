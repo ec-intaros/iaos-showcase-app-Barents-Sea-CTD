{
 "cells": [
  {
   "cell_type": "markdown",
   "metadata": {},
   "source": [
    "INTAROS - IMR Dataset - Case Study\n",
    "============================\n",
    "\n",
    "**authors**: D. Renard, F. Ors\n",
    "\n",
    "**date**: January 22nd 2019\n",
    "\n",
    "# Introduction\n",
    "\n",
    "This paper is meant to demonstrate how to use a simple **Kriging interpolation** from the **RGeostats** package applied to the **Annual CTD datasets** from Norwegian Institute of Marine Research (IMR).\n",
    "\n",
    "This notebook has been obtained by running the following command:\n",
    "\n",
    "<pre>notedown rmd/imr_case_study.Rmd --rmagic > imr_case_study.ipynb</pre>\n",
    "\n",
    "The data set are NetCDF files (\\*.nc) with following variables:\n",
    "* LATITUDE: Latitude (degrees) of the vessel position. 1D size = {Nb Positions}\n",
    "* LONGITUDE: Longitude (degrees) of the vessel position. 1D size = {Nb Positions}\n",
    "* TIME: Time of the position (number of days since January 1st, 1950). 1D size = {Nb Positions}\n",
    "* DEPH: Depth of each measure (m). 2D size = {Nb Positions, Nb Measures}\n",
    "* TEMP: Temperature (°C). 2D size = {Nb Positions, Nb Measures}\n",
    "* CNDC: Electrical conductivity (S m-1). 2D size = {Nb Positions, Nb Measures}\n",
    "* PSAL: Sea water practical salinity (0.001). 2D size = {Nb Positions, Nb Measures}\n",
    "\n",
    "## Definition of the environment\n",
    "\n",
    "The next cells have specific contents that the user must choose to run or to skip. Their order is important.\n",
    "\n",
    "- Loading the library **Intaros**"
   ]
  },
  {
   "cell_type": "code",
   "execution_count": 5,
   "metadata": {
    "attributes": {
     "classes": [],
     "id": "",
     "message": "FALSE,",
     "warning": "FALSE"
    }
   },
   "outputs": [],
   "source": [
    "suppressWarnings(suppressPackageStartupMessages(library(RIntaros)))"
   ]
  },
  {
   "cell_type": "markdown",
   "metadata": {},
   "source": [
    "- Cleaning the workspace: this paragraph is not systematically performed."
   ]
  },
  {
   "cell_type": "code",
   "execution_count": 6,
   "metadata": {
    "attributes": {
     "classes": [],
     "eval": "FALSE",
     "id": ""
    }
   },
   "outputs": [],
   "source": [
    "rm(list=ls())"
   ]
  },
  {
   "cell_type": "markdown",
   "metadata": {},
   "source": [
    "- Defining if the data set must be read or not from the CSV (**flag.read**)"
   ]
  },
  {
   "cell_type": "code",
   "execution_count": 7,
   "metadata": {},
   "outputs": [],
   "source": [
    "flag.read = FALSE"
   ]
  },
  {
   "cell_type": "markdown",
   "metadata": {},
   "source": [
    "## Loading Data\n",
    "\n",
    "First of all, we setup some environment variables (data file name and bounding box).\n",
    "The **flag_file** allows the user to store each generated graphic file as a **PNG** file in the **image_name** directory, instead of plotting them."
   ]
  },
  {
   "cell_type": "code",
   "execution_count": 35,
   "metadata": {
    "attributes": {
     "": "",
     "classes": [],
     "id": ""
    }
   },
   "outputs": [],
   "source": [
    "# Setup environment\n",
    "dir.name   = \"/workspace/INTAROS/iaos-showcase-app-Barents-Sea-CTD\" #getwd()\n",
    "file.name  = \"imr_data_0_to_100m.csv\"\n",
    "data.name  = \"data\"\n",
    "image.name = \"images\"\n",
    "long_lim   = c(-20,60)\n",
    "lat_lim    = c(52,83)\n",
    "intaros.save.environ(long_lim = long_lim, lat_lim = lat_lim,\n",
    "                     flag_file = FALSE) #,image_name = file.path(dir.name,image.name))"
   ]
  },
  {
   "cell_type": "markdown",
   "metadata": {},
   "source": [
    "Then we read the **CSV** file (taking the header line into account) and create the RGeostats Db. Finally we show the contents of the newly created Db (named **db0**)."
   ]
  },
  {
   "cell_type": "code",
   "execution_count": null,
   "metadata": {},
   "outputs": [],
   "source": [
    "if (flag.read || ! exists(\"db0\")) db0 = imr_read_csv(file.path(dir.name,data.name,file.name))\n",
    "db0"
   ]
  },
  {
   "cell_type": "markdown",
   "metadata": {},
   "source": [
    "## Dataset global statistics\n",
    "\n",
    "We first establish the time amplitude of the dataset, as well as a set of colors assigned to each year."
   ]
  },
  {
   "cell_type": "code",
   "execution_count": null,
   "metadata": {
    "attributes": {
     "": "",
     "classes": [],
     "id": ""
    }
   },
   "outputs": [],
   "source": [
    "years      = subyears = get_db_limits_year(db0)\n",
    "trimesters = subtrims = seq(1,4)\n",
    "colyears   = rg.colors(length(years))\n",
    "cat(build_title(\"The dataset period is:\",time2date(get_db_limits_time(db0))))"
   ]
  },
  {
   "cell_type": "markdown",
   "metadata": {},
   "source": [
    "Let us get some statistics on the information available"
   ]
  },
  {
   "cell_type": "code",
   "execution_count": null,
   "metadata": {},
   "outputs": [],
   "source": [
    "db.stat.print(db0,funs=c(\"num\",\"mini\",\"maxi\",\"mean\"),\n",
    "              names=c(\"Longitude\",\"Latitude\",\"Depth\",\"Temperature\",\"Conductivity\",\"Salinity\"))"
   ]
  },
  {
   "cell_type": "markdown",
   "metadata": {},
   "source": [
    "# Studying Temperature variable\n",
    "\n",
    "From this point, most of the calculations will be performed based on the **Temperature** variable.\n",
    "\n",
    "## All Database\n",
    "\n",
    "We display all samples focusing on the variable in a 2D aerial view, reporting the country borders. For comparison, we define a common color scale, established on the global minimum and maximum values (**var_scale0**).\n",
    "Note that all samples from all years and all depths are displayed (slow operation)."
   ]
  },
  {
   "cell_type": "code",
   "execution_count": null,
   "metadata": {
    "attributes": {
     "": "",
     "classes": [],
     "id": ""
    }
   },
   "outputs": [],
   "source": [
    "var = \"Temperature\"\n",
    "colors.temp = rg.colors(rank=1)\n",
    "var_scale0 = get_db_limits_var(db0,var)\n",
    "display_var(db0, var = var, colors = colors.temp, title = var, filename = var)"
   ]
  },
  {
   "cell_type": "markdown",
   "metadata": {},
   "source": [
    "## Different Projections\n",
    "\n",
    "We can also benefit from different projections as demonstrated next."
   ]
  },
  {
   "cell_type": "code",
   "execution_count": null,
   "metadata": {},
   "outputs": [],
   "source": [
    "var = \"Temperature\"\n",
    "filename = paste0(var,\" - Projection Gnomonic\")\n",
    "projec.define(projection=\"gnomonic\")\n",
    "display_var(db0, var = var, colors = colors.temp, title = filename, filename = filename)\n",
    "filename = paste0(var,\" - Projection Mecca[10]\")\n",
    "projec.define(projection=\"mecca\",parameters=10)\n",
    "display_var(db0, var = var, colors = colors.temp, title = filename, filename = filename)\n",
    "projec.toggle(0)"
   ]
  },
  {
   "cell_type": "markdown",
   "metadata": {},
   "source": [
    "## Year Campaign\n",
    "\n",
    "We display Temperature values for the year 1995 only."
   ]
  },
  {
   "cell_type": "code",
   "execution_count": null,
   "metadata": {
    "attributes": {
     "": "",
     "classes": [],
     "id": ""
    }
   },
   "outputs": [],
   "source": [
    "var = \"Temperature\"\n",
    "\n",
    "# Comment the following line if you want to to display all years\n",
    "subyears = years[1]\n",
    "\n",
    "# Loop on the years to be displayed\n",
    "for (year in subyears) \n",
    "{\n",
    "  date_lim  = create_limits_date(year)\n",
    "  db        = apply_sel(db0, date_lim=date_lim)\n",
    "  filename  = paste0(var,\"_Year_\",year)\n",
    "  title     = build_title(var, date_lim)\n",
    "  display_var(db, var, var_scale = var_scale0, colors = colors.temp, \n",
    "              title = title, filename = filename)\n",
    "}"
   ]
  },
  {
   "cell_type": "markdown",
   "metadata": {},
   "source": [
    "## Year/Trimester at 20m Depth\n",
    "\n",
    "Display data for the first trimester of the year 1995 focusing on data at 20m depth exactly."
   ]
  },
  {
   "cell_type": "code",
   "execution_count": null,
   "metadata": {
    "attributes": {
     "": "",
     "classes": [],
     "id": ""
    }
   },
   "outputs": [],
   "source": [
    "var = \"Temperature\"\n",
    "\n",
    "# Select samples at depth 20m and set the color scale\n",
    "db1       = apply_sel(db0, depth_lim=c(20,20), compress = TRUE)\n",
    "var_scale = get_db_limits_var(db1,var)\n",
    "\n",
    "# Comment the following lines if you want to to display all trimesters / years\n",
    "subyears = years[1]\n",
    "subtrims = trimesters[1]\n",
    "\n",
    "# Loop on the years / trimesters to be displayed\n",
    "for (year in subyears) \n",
    "  for (itri in subtrims)\n",
    "  {\n",
    "    date_lim  = create_limits_date(year, trimester=itri)\n",
    "    db        = apply_sel(db1,date_lim=date_lim)\n",
    "    filename  = paste0(var,\"_Trim_\",year,\"_T\",itri)\n",
    "    title     = build_title(var, date_lim)\n",
    "    display_var(db, var,  var_scale = var_scale, colors = colors.temp,\n",
    "                title = title, filename = filename)\n",
    "  }"
   ]
  },
  {
   "cell_type": "markdown",
   "metadata": {},
   "source": [
    "## Block Average at 20m Depth\n",
    "\n",
    "The next display considers the variable (at 20m depth exactly) averaged over the cells of a coarse grid (mesh of 1 degree)."
   ]
  },
  {
   "cell_type": "code",
   "execution_count": null,
   "metadata": {
    "attributes": {
     "": "",
     "classes": [],
     "id": ""
    }
   },
   "outputs": [],
   "source": [
    "var = \"Temperature\"\n",
    "\n",
    "# Select samples at depth 20m and set the color scale\n",
    "db1       = apply_sel(db0, depth_lim=c(20,20),compress = TRUE)\n",
    "var_scale = get_db_limits_var(db1,var)\n",
    "\n",
    "# Comment the following line if you want to to display all years\n",
    "subyears = years[1]\n",
    "\n",
    "# Loop on the years\n",
    "for (year in subyears) \n",
    "{\n",
    "  date_lim  = create_limits_date(year)\n",
    "  db        = apply_sel(db1, date_lim=date_lim)\n",
    "  filename  = paste0(var,\"_Mean_\",year)\n",
    "  title     = paste(\"Block Average for\", build_title(var, date_lim))\n",
    "  dbg       = stats_grid(db, var, fun = \"mean\", mesh = 1)\n",
    "  display_stats(dbg, var, var_scale = var_scale, colors = colors.temp,\n",
    "                title = title, filename = filename)\n",
    "}"
   ]
  },
  {
   "cell_type": "markdown",
   "metadata": {},
   "source": [
    "# Restriction of the area of interest\n",
    "\n",
    "In the next operations, we focus on a restricted area located in the South West of Norway. The new Db will be called **dbloc**."
   ]
  },
  {
   "cell_type": "code",
   "execution_count": null,
   "metadata": {},
   "outputs": [],
   "source": [
    "# Focus to South West of Norway (new global environement)\n",
    "long_lim = c(-2,10)\n",
    "lat_lim  = c(56,62)\n",
    "dbloc    = apply_sel(db0, long_lim = long_lim, lat_lim = lat_lim, compress = TRUE)\n",
    "intaros.save.environ(long_lim = long_lim, lat_lim  = lat_lim)"
   ]
  },
  {
   "cell_type": "markdown",
   "metadata": {},
   "source": [
    "## Histogram of Measurement Depths\n",
    "\n",
    "We also aggregate the values of all samples vertically from 0m by 10 steps of 10m.\n",
    "Then, we can double-check this regularization step by plotting the histogram of the initial depths and the histogram of the depths in the aggregated file."
   ]
  },
  {
   "cell_type": "code",
   "execution_count": null,
   "metadata": {},
   "outputs": [],
   "source": [
    "# Aggregate along depth from 0 to 100m, by steps of 10m\n",
    "dbreg = aggregate_depth(dbloc, depth0 = 0, ddepth = 10, ndepth = 10, flag.center = TRUE)\n",
    "\n",
    "# Histogram of depths\n",
    "hist(dbloc[,\"Depth\"],breaks=100,xlab=\"Initial Depth\",main=\"\")\n",
    "hist(dbreg[,\"Depth\"],breaks=100,xlab=\"Regular Depth\",main=\"\")"
   ]
  },
  {
   "cell_type": "markdown",
   "metadata": {},
   "source": [
    "## Statistics per Year\n",
    "\n",
    "Calculate the mean and the variance of the Temperature for each year, starting from the depth-aggregated data. We focus on the samples located at 25m depth. We can compare the mean and variance to the one calculated on the initial data (before aggregation)"
   ]
  },
  {
   "cell_type": "code",
   "execution_count": null,
   "metadata": {},
   "outputs": [],
   "source": [
    "var       = \"Temperature\"\n",
    "depth     = 25\n",
    "\n",
    "# Focus at 25m depth exactly\n",
    "depth_lim = c(depth,depth)\n",
    "dbc       = apply_sel(dbloc, depth_lim = depth_lim, compress = TRUE)\n",
    "dbr       = apply_sel(dbreg, depth_lim = depth_lim, compress = TRUE)\n",
    "\n",
    "# Average Temperature along time (by year) at 25m depth\n",
    "cres      = average_time(dbc, var, years)\n",
    "rres      = average_time(dbr, var, years)\n",
    "\n",
    "# Display means\n",
    "plot (years,rres$means,type=\"b\",main=paste(\"Mean of\",var,\"at\",depth,\"m\"),pch=15,lty=1,col=colyears)\n",
    "lines(years,cres$means,type=\"b\",pch=19,lty=2,col=colyears)\n",
    "legend(\"topleft\",legend=c(\"Initial\",\"Aggregated\"),lty=c(2,1),pch=c(19,15))\n",
    "\n",
    "# Display variances\n",
    "plot (years,rres$vars ,type=\"b\",main=paste(\"Variance of\",var,\"at\",depth,\"m\"),pch=15,lty=1,col=colyears)\n",
    "lines(years,cres$vars ,type=\"b\",pch=19,lty=2,col=colyears)\n",
    "legend(\"topleft\",legend=c(\"Initial\",\"Aggregated\"),lty=c(2,1),pch=c(19,15))\n",
    "\n",
    "# Store the maximum variance for further use\n",
    "varmax = 1.2 * max(rres$vars)"
   ]
  },
  {
   "cell_type": "markdown",
   "metadata": {},
   "source": [
    "## Statistics per Depth \n",
    "\n",
    "Consider year 2008 and evaluate the mean and variance of the Temperature per depth level (every 10m). Calculations are performed starting from the initial data set."
   ]
  },
  {
   "cell_type": "code",
   "execution_count": null,
   "metadata": {},
   "outputs": [],
   "source": [
    "var       = \"Temperature\"\n",
    "year      = 2008\n",
    "\n",
    "# Average Temperature by depth\n",
    "date_lim  = create_limits_date(year)\n",
    "db1       = apply_sel(dbloc, date_lim = date_lim, compress = TRUE)\n",
    "res       = average_depth(db1, var, depth0 = 0, ddepth = 10, ndepth = 10)\n",
    "\n",
    "# Display statistics\n",
    "plot(res$count,res$depths,type=\"b\",main=paste(\"Number of samples for\",var),pch=19,\n",
    "     xlab=\"Count of Samples\", ylab=\"Depth\", ylim=rev(range(res$depths)))\n",
    "plot(res$means,res$depths,type=\"b\",main=paste(\"Mean for\",var),pch=19,\n",
    "     xlab=\"Mean\", ylab=\"Depth\", ylim=rev(range(res$depths)))\n",
    "plot(res$vars ,res$depths,type=\"b\",main=paste(\"Variance for\",var),pch=19,\n",
    "     xlab=\"Variance\", ylab=\"Depth\", ylim=rev(range(res$depths)))"
   ]
  },
  {
   "cell_type": "markdown",
   "metadata": {},
   "source": [
    "## Regularization along Time\n",
    "\n",
    "Starting from the initial data base, regularize the Temperature every 30 days by calcuting its mean for each interval"
   ]
  },
  {
   "cell_type": "code",
   "execution_count": null,
   "metadata": {
    "attributes": {
     "": "",
     "classes": [],
     "id": ""
    }
   },
   "outputs": [],
   "source": [
    "var = \"Temperature\"\n",
    "\n",
    "# Regularize Temperature along Time\n",
    "dbg = regular_time(dbloc, var, time_step = 30)\n",
    "\n",
    "# Display regularized 1-D database along time\n",
    "plot(dbg, title = build_title_db_time(dbg,var), xlab = \"Time\", ylab = var)"
   ]
  },
  {
   "cell_type": "markdown",
   "metadata": {},
   "source": [
    "## Regularization along Depth\n",
    "\n",
    "Starting from the initial data base, regularize the Temperature every 2m depth"
   ]
  },
  {
   "cell_type": "code",
   "execution_count": null,
   "metadata": {
    "attributes": {
     "": "",
     "classes": [],
     "id": ""
    }
   },
   "outputs": [],
   "source": [
    "var = \"Temperature\"\n",
    "\n",
    "# Regularize Temperature along Depth\n",
    "dbg = regular_depth(dbloc, var, depth_step = 2)\n",
    "\n",
    "# Display regularized 1-D database along depth\n",
    "plot(dbg, title=build_title_db_depth(dbg,var), xlab=\"Depth\", ylab = var)"
   ]
  },
  {
   "cell_type": "markdown",
   "metadata": {},
   "source": [
    "## Horizontal Variogram per Year\n",
    "\n",
    "Review the horizontal variograms for different years at 25m depth, calculated from the aggregated data set."
   ]
  },
  {
   "cell_type": "code",
   "execution_count": null,
   "metadata": {},
   "outputs": [],
   "source": [
    "var       = \"Temperature\"\n",
    "depth     = 25\n",
    "\n",
    "# Define the active samples\n",
    "depth_lim = c(depth,depth)\n",
    "dbr       = apply_sel(dbreg, depth_lim = depth_lim, compress = TRUE)\n",
    "dbr       = db.locate(dbr,var,\"z\")\n",
    "\n",
    "# Variogram parameters\n",
    "vario_lag  = 1\n",
    "vario_nlag = 20\n",
    "\n",
    "# Loop on the years\n",
    "ecr = 1\n",
    "add = FALSE\n",
    "for (year in years) \n",
    "{\n",
    "  date_lim = create_limits_date(year)\n",
    "  dbr = remove_sel(dbr)\n",
    "  dbr = apply_sel(dbr, date_lim = date_lim)\n",
    "\n",
    "  vario = prepar_vario(dbr, dirvect=NA, \n",
    "                       vario_lag = vario_lag, vario_nlag = vario_nlag, draw.vario=TRUE,\n",
    "                       add=add, ylim=c(0,varmax), col=colyears[ecr], lwd=1,\n",
    "                       varline=FALSE, npairdw=TRUE)\n",
    "\n",
    "  ecr = ecr + 1\n",
    "  add = TRUE\n",
    "}\n",
    "legend(\"right\",legend=years,col=colyears,lty=1,lwd=2,cex=0.8)"
   ]
  },
  {
   "cell_type": "markdown",
   "metadata": {},
   "source": [
    "## Cross-Validation\n",
    "\n",
    "We first perform a cross-validation step"
   ]
  },
  {
   "cell_type": "code",
   "execution_count": null,
   "metadata": {
    "attributes": {
     "": "",
     "classes": [],
     "id": ""
    }
   },
   "outputs": [],
   "source": [
    "var       = \"Temperature\"\n",
    "year      = 2008\n",
    "depth     = 25\n",
    "\n",
    "# Define the active samples\n",
    "depth_lim = c(depth,depth)\n",
    "date_lim  = create_limits_date(year, trimester=2)\n",
    "dbr       = apply_sel(dbreg, depth_lim = depth_lim, date_lim = date_lim, compress = TRUE)\n",
    "\n",
    "# Variogram parameters\n",
    "vario_lag  = 1\n",
    "vario_nlag = 20\n",
    "\n",
    "# Perform the Cross-validation (includes Variogram calculation and Model fitting)\n",
    "dbp = xvalid_2D(dbr, var,  \n",
    "                vario_lag = vario_lag, vario_nlag = vario_nlag, struct = c(1,3,5,12), \n",
    "                dirvect = NA, draw.model=TRUE, radix=\"Xvalid\")\n",
    "db.stat.print(dbp,names=\"Xvalid*\",funs=c(\"num\",\"mean\",\"var\"),title=\"Cross-Validation Scores\")\n",
    "\n",
    "# Display the results\n",
    "filename  = paste0(\"Xvalid_\",var)\n",
    "display_var(dbp, var = \"*stderr\", flag.xvalid = TRUE, colors = rainbow(100),\n",
    "            title = var, filename = filename, pos.legend=7)"
   ]
  },
  {
   "cell_type": "markdown",
   "metadata": {},
   "source": [
    "## 2-D Estimation of Temperature\n",
    "\n",
    "We interpolate the Temperature for the second trimester of year 2008, at the depth of 25m. This interpolation starts from the aggregated data."
   ]
  },
  {
   "cell_type": "code",
   "execution_count": null,
   "metadata": {
    "attributes": {
     "": "",
     "classes": [],
     "id": ""
    }
   },
   "outputs": [],
   "source": [
    "var       = \"Temperature\"\n",
    "year      = 2008\n",
    "depth     = 25\n",
    "\n",
    "# Select the active samples\n",
    "depth_lim = c(depth,depth)\n",
    "date_lim  = create_limits_date(year, trimester=2)\n",
    "dbr       = apply_sel(dbreg, depth_lim = depth_lim, date_lim = date_lim, compress = TRUE)\n",
    "\n",
    "# Variogram parameters\n",
    "vario_lag  = 1\n",
    "vario_nlag = 20\n",
    "\n",
    "# Perform the interpolation (includes Variogram calculation and Model fitting)\n",
    "dbg = interpolate_2D(dbr, var, mesh = 0.1, \n",
    "                     vario_lag = vario_lag, vario_nlag = vario_nlag, struct = c(1,3,5,12), \n",
    "                     dirvect = NA, draw.model=TRUE, pos.legend=1)\n",
    "\n",
    "# Display the results\n",
    "filename  = paste0(var,\".Estim2D_Year_\",year)\n",
    "display_result(dbr, dbg, var = var, depth = depth, flag.estim = TRUE, \n",
    "               colors = colors.temp, filename = filename, pos.legend=7)"
   ]
  },
  {
   "cell_type": "markdown",
   "metadata": {},
   "source": [
    "## Moving Neighborhood\n",
    "\n",
    "Using the moving neighborhood instead (same environment)"
   ]
  },
  {
   "cell_type": "code",
   "execution_count": null,
   "metadata": {
    "attributes": {
     "": "",
     "classes": [],
     "id": ""
    }
   },
   "outputs": [],
   "source": [
    "var       = \"Temperature\"\n",
    "year      = 2008\n",
    "depth     = 25\n",
    "\n",
    "# Select the active samples\n",
    "depth_lim = c(depth,depth)\n",
    "date_lim  = create_limits_date(year, trimester=2)\n",
    "dbr       = apply_sel(dbreg, depth_lim = depth_lim, date_lim = date_lim, compress = TRUE)\n",
    "\n",
    "# Variogram parameters\n",
    "vario_lag  = 1\n",
    "vario_nlag = 20\n",
    "\n",
    "# Perform the interpolation (includes Variogram calculation and Model fitting)\n",
    "dbg = interpolate_2D(dbr, var, mesh = 0.1, moving = TRUE,\n",
    "                     vario_lag = vario_lag, vario_nlag = vario_nlag, struct = c(1,3,5,12), \n",
    "                     dirvect = NA, draw.model=TRUE, pos.legend=1)\n",
    "\n",
    "# Display the results\n",
    "filename  = paste0(var,\".Estim2D_M_Year_\",year)\n",
    "display_result(dbr, dbg, var = var, depth = depth, flag.estim = TRUE, \n",
    "               colors = colors.temp, filename = filename, pos.legend=7)"
   ]
  },
  {
   "cell_type": "markdown",
   "metadata": {},
   "source": [
    "# Studying Salinity variable"
   ]
  },
  {
   "cell_type": "code",
   "execution_count": null,
   "metadata": {},
   "outputs": [],
   "source": [
    "var   = \"Salinity\"\n",
    "colors.sal = rg.colors(rank=2)\n",
    "dbreg = db.locate(dbreg,var,\"z\")"
   ]
  },
  {
   "cell_type": "markdown",
   "metadata": {},
   "source": [
    "## Salinity statistics\n",
    "\n",
    "We now focus on the **Salinity** variable and consider year 2008 and evaluate the mean and variance per depth level (every 10m)."
   ]
  },
  {
   "cell_type": "code",
   "execution_count": null,
   "metadata": {},
   "outputs": [],
   "source": [
    "var       = \"Salinity\"\n",
    "year      = 2008\n",
    "\n",
    "# Select the active samples\n",
    "date_lim  = create_limits_date(year)\n",
    "dbr       = apply_sel(dbreg, date_lim = date_lim, compress = TRUE)\n",
    "res       = average_depth(dbr, var, depth0=0, ddepth=10, ndepth=10)\n",
    "\n",
    "plot(res$count,res$depths,type=\"b\",main=paste(\"Number of samples for\",var),pch=19,\n",
    "     xlab=\"Count of Samples\", ylab=\"Depth\", ylim=rev(range(res$depths)))\n",
    "plot(res$means,res$depths,type=\"b\",main=paste(\"Mean for\",var),pch=19,\n",
    "     xlab=\"Mean\", ylab=\"Depth\", ylim=rev(range(res$depths)))\n",
    "plot(res$vars ,res$depths,type=\"b\",main=paste(\"Variance for\",var),pch=19,\n",
    "     xlab=\"Variance\", ylab=\"Depth\", ylim=rev(range(res$depths)))"
   ]
  },
  {
   "cell_type": "markdown",
   "metadata": {},
   "source": [
    "## 2-D Estimation of Salinity\n",
    "\n",
    "We focus on the second trimester of year 2008 and perform the interpolation at 25m depth. Now we can perform the estimation on a regular grid."
   ]
  },
  {
   "cell_type": "code",
   "execution_count": null,
   "metadata": {
    "attributes": {
     "": "",
     "classes": [],
     "id": ""
    }
   },
   "outputs": [],
   "source": [
    "var       = \"Salinity\"\n",
    "year      = 2008\n",
    "depth     = 25\n",
    "\n",
    "# Select the active samples\n",
    "depth_lim = c(depth,depth)\n",
    "date_lim  = create_limits_date(year, trimester=2)\n",
    "dbr       = apply_sel(dbreg, depth_lim = depth_lim, date_lim = date_lim, compress = TRUE)\n",
    "\n",
    "# Perform the interpolation\n",
    "dbg = interpolate_2D(dbr, var, mesh = 0.1, \n",
    "                     vario_lag = vario_lag, vario_nlag = vario_nlag, struct = c(1,3,5,12), \n",
    "                     dirvect = NA, draw.model=TRUE, pos.legend=1)\n",
    "\n",
    "# Display the results\n",
    "filename  = paste0(var,\".Estim2D_Year_\",year)\n",
    "display_result(dbr, dbg, var = var, depth = depth, flag.estim = TRUE, \n",
    "               colors = colors.sal, filename = filename, pos.legend=7)"
   ]
  },
  {
   "cell_type": "markdown",
   "metadata": {},
   "source": [
    "# Bivariate Approach: Temperature & Salinity\n",
    "\n",
    "We now consider the set of two variables: Temperature and Salinity."
   ]
  },
  {
   "cell_type": "code",
   "execution_count": null,
   "metadata": {},
   "outputs": [],
   "source": [
    "# Define new variables of interest\n",
    "var1  = \"Temperature\"\n",
    "var2  = \"Salinity\"\n",
    "dbreg = db.locate(dbreg,c(var1,var2),\"z\")"
   ]
  },
  {
   "cell_type": "markdown",
   "metadata": {},
   "source": [
    "## Correlation\n",
    "\n",
    "Let us now have a look on the dependency between Temperature and Salinity in the same restricted area of interest. We check that the correlation is not very strong."
   ]
  },
  {
   "cell_type": "code",
   "execution_count": null,
   "metadata": {},
   "outputs": [],
   "source": [
    "var1  = \"Temperature\"\n",
    "var2  = \"Salinity\"\n",
    "\n",
    "db.stat.print(dbreg,names=c(var1,var2),funs=c(\"num\",\"mean\",\"var\"))\n",
    "correlation(dbloc,var1,var2,flag.regr=TRUE,reg.col=\"orange\",reg.lwd=2)"
   ]
  },
  {
   "cell_type": "markdown",
   "metadata": {},
   "source": [
    "## 2-D Bivariate Variogram\n",
    "\n",
    "Check the bivariate variogram between Temperature and Salinity and realize the estimation by a cokriging"
   ]
  },
  {
   "cell_type": "code",
   "execution_count": null,
   "metadata": {},
   "outputs": [],
   "source": [
    "var1      = \"Temperature\"\n",
    "var2      = \"Salinity\"\n",
    "year      = 2008\n",
    "depth     = 25\n",
    "\n",
    "# Select the active samples\n",
    "depth_lim = c(depth,depth)\n",
    "date_lim  = create_limits_date(year, trimester=2)\n",
    "dbr       = apply_sel(dbreg, depth_lim = depth_lim, date_lim = date_lim, compress = TRUE)\n",
    "\n",
    "# Perform the interpolation\n",
    "dbg = interpolate_2D(dbr, var=c(var1,var2), mesh = 0.1, \n",
    "                     vario_lag = vario_lag, vario_nlag = vario_nlag, struct = c(1,3,5,12), \n",
    "                    dirvect = NA, draw.model=TRUE, pos.legend=1)\n",
    "\n",
    "# Displaying the results\n",
    "filename  = paste0(var1,\".Estim2D_Year_\",year)\n",
    "display_result(dbr, dbg, var = var1, depth = depth, flag.estim = TRUE, \n",
    "               colors = colors.temp, filename = filename, pos.legend=7)\n",
    "filename  = paste0(var2,\".Estim2D_Year_\",year)\n",
    "display_result(dbr, dbg, var = var2, depth = depth, flag.estim = TRUE, \n",
    "               colors = colors.sal, filename = filename, pos.legend=7)"
   ]
  },
  {
   "cell_type": "markdown",
   "metadata": {},
   "source": [
    "# 3-D Processing of Salinity\n",
    "\n",
    "Define **Salinity** as the unique target variable."
   ]
  },
  {
   "cell_type": "code",
   "execution_count": null,
   "metadata": {
    "attributes": {
     "": "",
     "classes": [],
     "id": ""
    }
   },
   "outputs": [],
   "source": [
    "var   = \"Salinity\"\n",
    "dbreg = db.locerase(dbreg,\"z\")\n",
    "dbreg = db.locate(dbreg,var,\"z\")"
   ]
  },
  {
   "cell_type": "markdown",
   "metadata": {},
   "source": [
    "## 3-D Estimation\n",
    "\n",
    "We interpolate the salinity (of the second trimester of 2008) for each one of the horizontal levels (starting from 25m, up to 15 steps of 5m)."
   ]
  },
  {
   "cell_type": "code",
   "execution_count": null,
   "metadata": {
    "attributes": {
     "": "",
     "classes": [],
     "id": ""
    }
   },
   "outputs": [],
   "source": [
    "var       = \"Salinity\"\n",
    "year      = 2008\n",
    "\n",
    "# Selecting the active samples\n",
    "date_lim  = create_limits_date(year, trimester=2)\n",
    "dbr       = apply_sel(dbreg, date_lim = date_lim, compress = TRUE)\n",
    "\n",
    "# 3-D Parameters\n",
    "depth0 = 5\n",
    "ddepth = 10\n",
    "\n",
    "# Interpolate in 3-D\n",
    "dbg = interpolate_3D(dbr, var, mesh = 0.1, depth0 = depth0, ndepth = 10, ddepth = ddepth,\n",
    "                     vario_lag = vario_lag, vario_nlag = vario_nlag, struct = c(1,3,5,12), \n",
    "                     dirvect = NA, verbose=FALSE, draw.model=TRUE, pos.legend=1)\n",
    "\n",
    "# Display 3 levels\n",
    "level = 1\n",
    "depth = depth0 + (level - 1) * ddepth\n",
    "filename  = paste0(var1,\".Estim3D_Year_\",year,\"_L_\",level)\n",
    "display_result(dbr, dbg, var = var, depth = depth, flag.estim = TRUE, ref=c(0,0,level), \n",
    "               colors = colors.sal, filename=filename, pos.legend=7)\n",
    "level = 4\n",
    "depth = depth0 + (level - 1) * ddepth\n",
    "filename  = paste0(var1,\".Estim3D_Year_\",year,\"_L_\",level)\n",
    "display_result(dbr, dbg, var = var, depth = depth, flag.estim = TRUE, ref=c(0,0,level), \n",
    "               colors = colors.sal, filename=filename, pos.legend=7)\n",
    "level = 9\n",
    "depth = depth0 + (level - 1) * ddepth\n",
    "filename  = paste0(var1,\".Estim3D_Year_\",year,\"_L_\",level)\n",
    "display_result(dbr, dbg, var = var, depth = depth, flag.estim = TRUE, ref=c(0,0,level), \n",
    "               colors = colors.sal, filename=filename, pos.legend=7)"
   ]
  }
 ],
 "metadata": {
  "kernelspec": {
   "display_name": "R",
   "language": "R",
   "name": "ir"
  },
  "language_info": {
   "codemirror_mode": "r",
   "file_extension": ".r",
   "mimetype": "text/x-r-source",
   "name": "R",
   "pygments_lexer": "r",
   "version": "3.5.1"
  }
 },
 "nbformat": 4,
 "nbformat_minor": 4
}
